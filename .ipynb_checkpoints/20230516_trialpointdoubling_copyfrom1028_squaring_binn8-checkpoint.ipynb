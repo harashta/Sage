{
 "cells": [
  {
   "cell_type": "markdown",
   "metadata": {},
   "source": [
    "# FINITE FIELD ARITHMETIC \n",
    "Paling dasar, sebelum group operation (point addition/point doubling)\n",
    "Mau bikin LUP decomposition (agak kebayang skrg!!)"
   ]
  },
  {
   "cell_type": "markdown",
   "metadata": {},
   "source": [
    "# Coba Example 3.6 Hankerson Guide to ECC"
   ]
  },
  {
   "cell_type": "markdown",
   "metadata": {},
   "source": [
    "https://doc.sagemath.org/html/en/reference/arithmetic_curves/sage/schemes/elliptic_curves/constructor.html"
   ]
  },
  {
   "cell_type": "code",
   "execution_count": 1,
   "metadata": {},
   "outputs": [],
   "source": [
    "_.<Z> = GF(2)[]\n",
    "F.<z> = GF(2^4, modulus=Z^4+Z+1)"
   ]
  },
  {
   "cell_type": "code",
   "execution_count": 2,
   "metadata": {},
   "outputs": [
    {
     "name": "stdout",
     "output_type": "stream",
     "text": [
      "Defining z\n"
     ]
    }
   ],
   "source": [
    "F.inject_variables()"
   ]
  },
  {
   "cell_type": "code",
   "execution_count": 3,
   "metadata": {},
   "outputs": [
    {
     "data": {
      "text/plain": [
       "Multivariate Polynomial Ring in x, y over Finite Field in z of size 2^4"
      ]
     },
     "execution_count": 3,
     "metadata": {},
     "output_type": "execute_result"
    }
   ],
   "source": [
    "R.<x,y> = F[]; R #ga nyambung ke yg setelahnya atau ke yg sebeluumnya sih? --> NYAMBUNG! Ini men define real numbers etc buat si EC!\n",
    "#kl ga pake ini, y undefined!"
   ]
  },
  {
   "cell_type": "code",
   "execution_count": 24,
   "metadata": {},
   "outputs": [],
   "source": [
    "# C = EllipticCurve(y^2+x*y-x^3-z^4*x^2-1) ; C"
   ]
  },
  {
   "cell_type": "code",
   "execution_count": 5,
   "metadata": {},
   "outputs": [
    {
     "data": {
      "text/plain": [
       "Elliptic Curve defined by y^2 + x*y = x^3 + z^3*x^2 + (z^3+1) over Finite Field in z of size 2^4"
      ]
     },
     "execution_count": 5,
     "metadata": {},
     "output_type": "execute_result"
    }
   ],
   "source": [
    "a = z^3\n",
    "b = z^3 + 1\n",
    "C = EllipticCurve(y^2+x*y-x^3-a*x^2-b) ; C"
   ]
  },
  {
   "cell_type": "code",
   "execution_count": 6,
   "metadata": {},
   "outputs": [
    {
     "data": {
      "text/plain": [
       "[(0 : 1 : 0), (0 : z^3 + z + 1 : 1), (1 : 0 : 1), (1 : 1 : 1), (z : z^3 + z^2 + 1 : 1), (z : z^3 + z^2 + z + 1 : 1), (z + 1 : z^3 + z^2 : 1), (z + 1 : z^3 + z^2 + z + 1 : 1), (z^2 + 1 : 0 : 1), (z^2 + 1 : z^2 + 1 : 1), (z^2 + z + 1 : z^3 + z + 1 : 1), (z^2 + z + 1 : z^3 + z^2 : 1), (z^3 : 1 : 1), (z^3 : z^3 + 1 : 1), (z^3 + 1 : z^2 + z : 1), (z^3 + 1 : z^3 + z^2 + z + 1 : 1), (z^3 + z + 1 : z : 1), (z^3 + z + 1 : z^3 + 1 : 1), (z^3 + z^2 : 0 : 1), (z^3 + z^2 : z^3 + z^2 : 1), (z^3 + z^2 + z + 1 : z^2 : 1), (z^3 + z^2 + z + 1 : z^3 + z + 1 : 1)]"
      ]
     },
     "execution_count": 6,
     "metadata": {},
     "output_type": "execute_result"
    }
   ],
   "source": [
    "C.points()"
   ]
  },
  {
   "cell_type": "code",
   "execution_count": 7,
   "metadata": {},
   "outputs": [
    {
     "data": {
      "text/plain": [
       "22"
      ]
     },
     "execution_count": 7,
     "metadata": {},
     "output_type": "execute_result"
    }
   ],
   "source": [
    "C.order()"
   ]
  },
  {
   "cell_type": "code",
   "execution_count": 58,
   "metadata": {},
   "outputs": [
    {
     "data": {
      "text/plain": [
       "[(0 : 1 : 0),\n",
       " (0 : z^3 + z + 1 : 1),\n",
       " (1 : 0 : 1),\n",
       " (1 : 1 : 1),\n",
       " (z : z^3 + z^2 + 1 : 1),\n",
       " (z : z^3 + z^2 + z + 1 : 1),\n",
       " (z + 1 : z^3 + z^2 : 1),\n",
       " (z + 1 : z^3 + z^2 + z + 1 : 1),\n",
       " (z^2 + 1 : 0 : 1),\n",
       " (z^2 + 1 : z^2 + 1 : 1),\n",
       " (z^2 + z + 1 : z^3 + z + 1 : 1),\n",
       " (z^2 + z + 1 : z^3 + z^2 : 1),\n",
       " (z^3 : 1 : 1),\n",
       " (z^3 : z^3 + 1 : 1),\n",
       " (z^3 + 1 : z^2 + z : 1),\n",
       " (z^3 + 1 : z^3 + z^2 + z + 1 : 1),\n",
       " (z^3 + z + 1 : z : 1),\n",
       " (z^3 + z + 1 : z^3 + 1 : 1),\n",
       " (z^3 + z^2 : 0 : 1),\n",
       " (z^3 + z^2 : z^3 + z^2 : 1),\n",
       " (z^3 + z^2 + z + 1 : z^2 : 1),\n",
       " (z^3 + z^2 + z + 1 : z^3 + z + 1 : 1)]"
      ]
     },
     "execution_count": 58,
     "metadata": {},
     "output_type": "execute_result"
    }
   ],
   "source": [
    "P = [p for p in C.points()] #AAAh ada 16 sedangkan di certicom 15, karena 1nya (pts[0]) itu point at infinity!!\n",
    "P"
   ]
  },
  {
   "cell_type": "code",
   "execution_count": 10,
   "metadata": {},
   "outputs": [
    {
     "data": {
      "text/plain": [
       "((z + 1 : z^3 + z^2 : 1),)"
      ]
     },
     "execution_count": 10,
     "metadata": {},
     "output_type": "execute_result"
    }
   ],
   "source": [
    "C.gens() #For extension fields, the generator is obtained with the .gen() function. \n",
    "#nilai ini ga berubah2, artinya memang dia ya yg memenuhi? 1 doang?"
   ]
  },
  {
   "cell_type": "code",
   "execution_count": 14,
   "metadata": {},
   "outputs": [
    {
     "data": {
      "text/plain": [
       "(0 : z^3 + z + 1 : 1)"
      ]
     },
     "execution_count": 14,
     "metadata": {},
     "output_type": "execute_result"
    }
   ],
   "source": [
    "P[1]"
   ]
  },
  {
   "cell_type": "code",
   "execution_count": 16,
   "metadata": {},
   "outputs": [
    {
     "data": {
      "text/plain": [
       "(1 : 0 : 1)"
      ]
     },
     "execution_count": 16,
     "metadata": {},
     "output_type": "execute_result"
    }
   ],
   "source": [
    "P[2]"
   ]
  },
  {
   "cell_type": "code",
   "execution_count": 17,
   "metadata": {},
   "outputs": [
    {
     "data": {
      "text/plain": [
       "(1 : 1 : 1)"
      ]
     },
     "execution_count": 17,
     "metadata": {},
     "output_type": "execute_result"
    }
   ],
   "source": [
    "P[3]"
   ]
  },
  {
   "cell_type": "code",
   "execution_count": 20,
   "metadata": {},
   "outputs": [
    {
     "data": {
      "text/plain": [
       "(z^3 + z + 1 : z^3 + 1 : 1)"
      ]
     },
     "execution_count": 20,
     "metadata": {},
     "output_type": "execute_result"
    }
   ],
   "source": [
    "P[1] + P[2]"
   ]
  },
  {
   "cell_type": "code",
   "execution_count": 21,
   "metadata": {},
   "outputs": [
    {
     "data": {
      "text/plain": [
       "(z^3 + z + 1 : z : 1)"
      ]
     },
     "execution_count": 21,
     "metadata": {},
     "output_type": "execute_result"
    }
   ],
   "source": [
    "P[5]+P[5] #point addition"
   ]
  },
  {
   "cell_type": "code",
   "execution_count": 22,
   "metadata": {},
   "outputs": [
    {
     "data": {
      "text/plain": [
       "(z^3 + z + 1 : z : 1)"
      ]
     },
     "execution_count": 22,
     "metadata": {},
     "output_type": "execute_result"
    }
   ],
   "source": [
    "2*(P[5]) #doubling"
   ]
  },
  {
   "cell_type": "code",
   "execution_count": 43,
   "metadata": {},
   "outputs": [
    {
     "data": {
      "text/plain": [
       "(z : z^3 + z^2 + z + 1 : 1)"
      ]
     },
     "execution_count": 43,
     "metadata": {},
     "output_type": "execute_result"
    }
   ],
   "source": [
    "#hankerson example\n",
    "#aku blm tau cara nge assign point, jadi manual ambil dr list of points\n",
    "P[5] #yg di contoh 3.6 pts[5] (z:z^3+z^2+z+1:1), pts[-3] (z^3 + z^2 : z^3 + z^2 : 1)"
   ]
  },
  {
   "cell_type": "code",
   "execution_count": 44,
   "metadata": {},
   "outputs": [
    {
     "data": {
      "text/plain": [
       "(z^3 + z^2 : z^3 + z^2 : 1)"
      ]
     },
     "execution_count": 44,
     "metadata": {},
     "output_type": "execute_result"
    }
   ],
   "source": [
    "P[-3]"
   ]
  },
  {
   "cell_type": "code",
   "execution_count": 45,
   "metadata": {},
   "outputs": [
    {
     "data": {
      "text/plain": [
       "(1 : 1 : 1)"
      ]
     },
     "execution_count": 45,
     "metadata": {},
     "output_type": "execute_result"
    }
   ],
   "source": [
    "P[5]+P[-3] #correct"
   ]
  },
  {
   "cell_type": "code",
   "execution_count": 59,
   "metadata": {},
   "outputs": [
    {
     "data": {
      "text/plain": [
       "(z^3 + z + 1 : z : 1)"
      ]
     },
     "execution_count": 59,
     "metadata": {},
     "output_type": "execute_result"
    }
   ],
   "source": [
    "2*P[5] #correct"
   ]
  },
  {
   "cell_type": "code",
   "execution_count": 61,
   "metadata": {},
   "outputs": [],
   "source": [
    "?"
   ]
  },
  {
   "cell_type": "code",
   "execution_count": 64,
   "metadata": {},
   "outputs": [
    {
     "data": {
      "text/plain": [
       "<class 'sage.rings.polynomial.multi_polynomial_libsingular.MPolynomial_libsingular'>"
      ]
     },
     "execution_count": 64,
     "metadata": {},
     "output_type": "execute_result"
    }
   ],
   "source": [
    "type(x)"
   ]
  },
  {
   "cell_type": "markdown",
   "metadata": {},
   "source": [
    "#skrg coba lambda di point doubling? cek correctness"
   ]
  },
  {
   "cell_type": "code",
   "execution_count": 66,
   "metadata": {},
   "outputs": [
    {
     "data": {
      "text/plain": [
       "z^3 + z^2"
      ]
     },
     "execution_count": 66,
     "metadata": {},
     "output_type": "execute_result"
    }
   ],
   "source": [
    "#gmn cara specify points automatically?\n",
    "#P[5] (z : z^3 + z^2 + z + 1 : 1)\n",
    "x1 = z\n",
    "y1 = z^3 + z^2 + z + 1 \n",
    "gradient1 = x1 + (y1/x1)\n",
    "gradient1"
   ]
  },
  {
   "cell_type": "code",
   "execution_count": 68,
   "metadata": {},
   "outputs": [
    {
     "data": {
      "text/plain": [
       "1"
      ]
     },
     "execution_count": 68,
     "metadata": {},
     "output_type": "execute_result"
    }
   ],
   "source": [
    "#PD thd P[5] menghasilkan (z^3 + z + 1 : z : 1).. let's check the gradient!\n",
    "x3 = z^3 + z + 1\n",
    "y3 =  z\n",
    "gradient2 = x3 + (y3/x3)\n",
    "gradient2"
   ]
  },
  {
   "cell_type": "markdown",
   "metadata": {},
   "source": [
    "*PROVEN* gradiennya beda!\n",
    "\n",
    "nanti next investigasi mah ya..apakah lambda si Proos RNSL dkk bener wkwk (bener sih sepertinya)\n",
    "\n",
    "Agak beda krn mereka bisa di negatifin (-) sedangkan binary mah ga ngaruh add/subtract\n",
    "\n",
    "Etapi banegas kan gitu?? --> cek lambda mereka"
   ]
  },
  {
   "cell_type": "markdown",
   "metadata": {},
   "source": [
    "# OLD:\n"
   ]
  },
  {
   "cell_type": "markdown",
   "metadata": {},
   "source": [
    "# SQUARING"
   ]
  },
  {
   "cell_type": "code",
   "execution_count": 4,
   "metadata": {},
   "outputs": [
    {
     "data": {
      "text/plain": [
       "[0,\n",
       " z + 1,\n",
       " z^2 + 1,\n",
       " z^3 + z^2 + z + 1,\n",
       " z^4 + 1,\n",
       " z^5 + z^4 + z + 1,\n",
       " z^6 + z^4 + z^2 + 1,\n",
       " z^7 + z^6 + z^5 + z^4 + z^3 + z^2 + z + 1,\n",
       " z^4 + z^3 + z,\n",
       " z^5 + z^3 + z^2 + z,\n",
       " z^6 + z^5 + z^4 + z,\n",
       " z^7 + z^4 + z^2 + z,\n",
       " z^7 + z^5 + 1,\n",
       " z^7 + z^6 + z^5 + z^4 + z^3,\n",
       " z^4 + z + 1,\n",
       " z^5 + z^4 + z^2 + 1,\n",
       " z^6 + z^4 + z^3 + z^2 + z + 1,\n",
       " z^7 + z^6 + z^5 + 1,\n",
       " z^5 + z^4 + z^3,\n",
       " z^6 + z^3,\n",
       " z^7 + z^6 + z^4 + z^3,\n",
       " z^6 + z^5 + z^4 + z + 1,\n",
       " z^7 + z^4 + z^2 + 1,\n",
       " z^7 + z^5 + z^2,\n",
       " z^7 + z^6 + z^5 + z^4 + z^2 + z + 1,\n",
       " z,\n",
       " z^2 + z,\n",
       " z^3 + z,\n",
       " z^4 + z^3 + z^2 + z,\n",
       " z^5 + z,\n",
       " z^6 + z^5 + z^2 + z,\n",
       " z^7 + z^5 + z^3 + z,\n",
       " z^7 + z^6 + z^5 + z^2 + 1,\n",
       " z^5 + z^4 + z^2,\n",
       " z^6 + z^4 + z^3 + z^2,\n",
       " z^7 + z^6 + z^5 + z^2,\n",
       " z^5 + z^4 + z^2 + z + 1,\n",
       " z^6 + z^4 + z^3 + 1,\n",
       " z^7 + z^6 + z^5 + z^3 + z + 1,\n",
       " z^5 + z^2 + z,\n",
       " z^6 + z^5 + z^3 + z,\n",
       " z^7 + z^5 + z^4 + z^3 + z^2 + z,\n",
       " z^7 + z^6 + z^4 + z^3 + 1,\n",
       " z^6 + z^5 + z^4,\n",
       " z^7 + z^4,\n",
       " z^7 + z^5 + z^3 + z + 1,\n",
       " z^7 + z^6 + z^5 + z^2 + z,\n",
       " z^5 + z^4 + 1,\n",
       " z^6 + z^4 + z + 1,\n",
       " z^7 + z^6 + z^5 + z^4 + z^2 + 1,\n",
       " z^2,\n",
       " z^3 + z^2,\n",
       " z^4 + z^2,\n",
       " z^5 + z^4 + z^3 + z^2,\n",
       " z^6 + z^2,\n",
       " z^7 + z^6 + z^3 + z^2,\n",
       " z^6 + z^3 + z^2 + z + 1,\n",
       " z^7 + z^6 + z^4 + 1,\n",
       " z^6 + z^5 + z^3,\n",
       " z^7 + z^5 + z^4 + z^3,\n",
       " z^7 + z^6 + z^4 + z + 1,\n",
       " z^6 + z^5 + z^3 + z^2 + z,\n",
       " z^7 + z^5 + z^4 + z,\n",
       " z^7 + z^6 + z^3 + z^2 + 1,\n",
       " z^6 + z^3 + z^2,\n",
       " z^7 + z^6 + z^4 + z^2,\n",
       " z^6 + z^5 + z^2 + z + 1,\n",
       " z^7 + z^5 + z^3 + 1,\n",
       " z^7 + z^6 + z^5,\n",
       " z^5 + z^4 + z^3 + z + 1,\n",
       " z^6 + z^3 + z^2 + 1,\n",
       " z^7 + z^6 + z^4 + z^2 + z + 1,\n",
       " z^6 + z^5 + z,\n",
       " z^7 + z^5 + z^2 + z,\n",
       " z^7 + z^6 + z^5 + z^4 + 1,\n",
       " z^3,\n",
       " z^4 + z^3,\n",
       " z^5 + z^3,\n",
       " z^6 + z^5 + z^4 + z^3,\n",
       " z^7 + z^3,\n",
       " z^7 + z + 1,\n",
       " z^7 + z^4 + z^3 + z^2 + z,\n",
       " z^7 + z^5 + z^4 + z^3 + 1,\n",
       " z^7 + z^6 + z^4,\n",
       " z^6 + z^5 + z^3 + z + 1,\n",
       " z^7 + z^5 + z^4 + z^3 + z^2 + 1,\n",
       " z^7 + z^6 + z^4 + z^3 + z^2,\n",
       " z^6 + z^5 + z^4 + z^3 + z^2 + z + 1,\n",
       " z^7 + 1,\n",
       " z^7 + z^4 + z^3,\n",
       " z^7 + z^5 + z^4 + z + 1,\n",
       " z^7 + z^6 + z^3 + z^2 + z,\n",
       " z^6 + z^3 + 1,\n",
       " z^7 + z^6 + z^4 + z^3 + z + 1,\n",
       " z^6 + z^5 + z^4 + z^2 + z,\n",
       " z^7 + z^4 + z^3 + z,\n",
       " z^7 + z^5 + z^4 + z^2 + 1,\n",
       " z^7 + z^6 + z^2,\n",
       " z^6 + z^4 + z^2 + z + 1,\n",
       " z^7 + z^6 + z^5 + z^4 + z^3 + 1,\n",
       " z^4,\n",
       " z^5 + z^4,\n",
       " z^6 + z^4,\n",
       " z^7 + z^6 + z^5 + z^4,\n",
       " z^3 + z + 1,\n",
       " z^4 + z^3 + z^2 + 1,\n",
       " z^5 + z^2 + z + 1,\n",
       " z^6 + z^5 + z^3 + 1,\n",
       " z^7 + z^5 + z^4 + z^3 + z + 1,\n",
       " z^7 + z^6 + z^4 + z^2 + z,\n",
       " z^6 + z^5 + 1,\n",
       " z^7 + z^5 + z + 1,\n",
       " z^7 + z^6 + z^5 + z^4 + z^3 + z^2 + z,\n",
       " z^4 + z^3 + 1,\n",
       " z^5 + z^3 + z + 1,\n",
       " z^6 + z^5 + z^4 + z^3 + z^2 + 1,\n",
       " z^7 + z^2 + z + 1,\n",
       " z^7 + z^4 + z,\n",
       " z^7 + z^5 + z^3 + z^2 + 1,\n",
       " z^7 + z^6 + z^5 + z^3 + z^2,\n",
       " z^5 + z^3 + z^2 + z + 1,\n",
       " z^6 + z^5 + z^4 + 1,\n",
       " z^7 + z^4 + z + 1,\n",
       " z^7 + z^5 + z^3 + z^2 + z,\n",
       " z^7 + z^6 + z^5 + z^3 + 1,\n",
       " z^5,\n",
       " z^6 + z^5,\n",
       " z^7 + z^5,\n",
       " z^7 + z^6 + z^5 + z^4 + z^3 + z + 1,\n",
       " z^4 + z^2 + z,\n",
       " z^5 + z^4 + z^3 + z,\n",
       " z^6 + z^3 + z^2 + z,\n",
       " z^7 + z^6 + z^4 + z,\n",
       " z^6 + z^5 + z^3 + z^2 + 1,\n",
       " z^7 + z^5 + z^4 + z^2 + z + 1,\n",
       " z^7 + z^6 + z,\n",
       " z^6 + z^4 + z^3 + z^2 + 1,\n",
       " z^7 + z^6 + z^5 + z^2 + z + 1,\n",
       " z^5 + z^4 + z,\n",
       " z^6 + z^4 + z^2 + z,\n",
       " z^7 + z^6 + z^5 + z^4 + z^3 + z,\n",
       " z^4 + z^2 + 1,\n",
       " z^5 + z^4 + z^3 + z^2 + z + 1,\n",
       " z^6 + 1,\n",
       " z^7 + z^6 + z + 1,\n",
       " z^6 + z^4 + z^3 + z^2 + z,\n",
       " z^7 + z^6 + z^5 + z,\n",
       " z^5 + z^4 + z^3 + z^2 + 1,\n",
       " z^6 + z^2 + z + 1,\n",
       " z^7 + z^6 + z^3 + 1,\n",
       " z^6,\n",
       " z^7 + z^6,\n",
       " z^6 + z^4 + z^3 + z + 1,\n",
       " z^7 + z^6 + z^5 + z^3 + z^2 + 1,\n",
       " z^5 + z^3 + z^2,\n",
       " z^6 + z^5 + z^4 + z^2,\n",
       " z^7 + z^4 + z^3 + z^2,\n",
       " z^7 + z^5 + z^4 + z^3 + z^2 + z + 1,\n",
       " z^7 + z^6 + z^4 + z^3 + z,\n",
       " z^6 + z^5 + z^4 + z^2 + 1,\n",
       " z^7 + z^4 + z^3 + z^2 + z + 1,\n",
       " z^7 + z^5 + z^4 + z^3 + z,\n",
       " z^7 + z^6 + z^4 + z^2 + 1,\n",
       " z^6 + z^5 + z^2,\n",
       " z^7 + z^5 + z^3 + z^2,\n",
       " z^7 + z^6 + z^5 + z^3 + z^2 + z + 1,\n",
       " z^5 + z^3 + z,\n",
       " z^6 + z^5 + z^4 + z^3 + z^2 + z,\n",
       " z^7 + z,\n",
       " z^7 + z^4 + z^3 + z^2 + 1,\n",
       " z^7 + z^5 + z^4 + z^3 + z^2,\n",
       " z^7 + z^6 + z^4 + z^3 + z^2 + z + 1,\n",
       " z^6 + z^5 + z^4 + z^3 + z,\n",
       " z^7 + z^3 + z^2 + z,\n",
       " z^7 + z^3 + 1,\n",
       " z^7,\n",
       " z^7 + z^4 + z^3 + z + 1,\n",
       " z^7 + z^5 + z^4 + z^2 + z,\n",
       " z^7 + z^6 + 1,\n",
       " z^6 + z^4 + z^3,\n",
       " z^7 + z^6 + z^5 + z^3,\n",
       " z^5 + z + 1,\n",
       " z^6 + z^5 + z^2 + 1,\n",
       " z^7 + z^5 + z^3 + z^2 + z + 1,\n",
       " z^7 + z^6 + z^5 + z^3 + z,\n",
       " z^5 + z^2 + 1,\n",
       " z^6 + z^5 + z^3 + z^2 + z + 1,\n",
       " z^7 + z^5 + z^4 + 1,\n",
       " z^7 + z^6 + z^3,\n",
       " z^6 + z + 1,\n",
       " z^7 + z^6 + z^2 + 1,\n",
       " z^6 + z^4 + z^2,\n",
       " z^7 + z^6 + z^5 + z^4 + z^3 + z^2,\n",
       " z^4 + z^3 + z^2 + z + 1,\n",
       " z^5 + 1,\n",
       " z^6 + z^5 + z + 1,\n",
       " z^7 + z^5 + z^2 + 1,\n",
       " z^7 + z^6 + z^5 + z^4 + z^2,\n",
       " z^2 + z + 1,\n",
       " z^3 + 1,\n",
       " z^4 + z^3 + z + 1,\n",
       " z^5 + z^3 + z^2 + 1,\n",
       " z^6 + z^5 + z^4 + z^2 + z + 1,\n",
       " z^7 + z^4 + z^3 + 1,\n",
       " z^7 + z^5 + z^4,\n",
       " z^7 + z^6 + z^3 + z + 1,\n",
       " z^6 + z^2 + z,\n",
       " z^7 + z^6 + z^3 + z,\n",
       " z^6 + z^2 + 1,\n",
       " z^7 + z^6 + z^3 + z^2 + z + 1,\n",
       " z^6 + z^3 + z,\n",
       " z^7 + z^6 + z^4 + z^3 + z^2 + z,\n",
       " z^6 + z^5 + z^4 + z^3 + 1,\n",
       " z^7 + z^3 + z + 1,\n",
       " z^7 + z^2 + z,\n",
       " z^7 + z^4 + 1,\n",
       " z^7 + z^5 + z^3,\n",
       " z^7 + z^6 + z^5 + z + 1,\n",
       " z^5 + z^4 + z^3 + z^2 + z,\n",
       " z^6 + z,\n",
       " z^7 + z^6 + z^2 + z,\n",
       " z^6 + z^4 + 1,\n",
       " z^7 + z^6 + z^5 + z^4 + z + 1,\n",
       " z^3 + z^2 + z,\n",
       " z^4 + z,\n",
       " z^5 + z^4 + z^2 + z,\n",
       " z^6 + z^4 + z^3 + z,\n",
       " z^7 + z^6 + z^5 + z^3 + z^2 + z,\n",
       " z^5 + z^3 + 1,\n",
       " z^6 + z^5 + z^4 + z^3 + z + 1,\n",
       " z^7 + z^3 + z^2 + 1,\n",
       " z^7 + z^3 + z^2,\n",
       " z^7 + z^3 + z^2 + z + 1,\n",
       " z^7 + z^3 + z,\n",
       " z^7 + z^2 + 1,\n",
       " z^7 + z^4 + z^2,\n",
       " z^7 + z^5 + z^2 + z + 1,\n",
       " z^7 + z^6 + z^5 + z^4 + z,\n",
       " z^3 + z^2 + 1,\n",
       " z^4 + z^2 + z + 1,\n",
       " z^5 + z^4 + z^3 + 1,\n",
       " z^6 + z^3 + z + 1,\n",
       " z^7 + z^6 + z^4 + z^3 + z^2 + 1,\n",
       " z^6 + z^5 + z^4 + z^3 + z^2,\n",
       " z^7 + z^2,\n",
       " z^7 + z^4 + z^2 + z + 1,\n",
       " z^7 + z^5 + z,\n",
       " z^7 + z^6 + z^5 + z^4 + z^3 + z^2 + 1,\n",
       " z^4 + z^3 + z^2,\n",
       " z^5 + z^2,\n",
       " z^6 + z^5 + z^3 + z^2,\n",
       " z^7 + z^5 + z^4 + z^2,\n",
       " z^7 + z^6 + z^2 + z + 1,\n",
       " z^6 + z^4 + z,\n",
       " z^7 + z^6 + z^5 + z^4 + z^2 + z,\n",
       " 1]"
      ]
     },
     "execution_count": 4,
     "metadata": {},
     "output_type": "execute_result"
    }
   ],
   "source": [
    "F.list()"
   ]
  },
  {
   "cell_type": "code",
   "execution_count": null,
   "metadata": {},
   "outputs": [],
   "source": []
  },
  {
   "cell_type": "code",
   "execution_count": 9,
   "metadata": {},
   "outputs": [
    {
     "data": {
      "text/plain": [
       "1"
      ]
     },
     "execution_count": 9,
     "metadata": {},
     "output_type": "execute_result"
    }
   ],
   "source": [
    "A = 1\n",
    "\n",
    "#squaring == A*A! #== A^2\n",
    "A^2"
   ]
  },
  {
   "cell_type": "code",
   "execution_count": 10,
   "metadata": {},
   "outputs": [
    {
     "data": {
      "text/plain": [
       "z^2"
      ]
     },
     "execution_count": 10,
     "metadata": {},
     "output_type": "execute_result"
    }
   ],
   "source": [
    "A = z\n",
    "\n",
    "#squaring == A*A! #== A^2\n",
    "A^2"
   ]
  },
  {
   "cell_type": "code",
   "execution_count": 11,
   "metadata": {},
   "outputs": [
    {
     "data": {
      "text/plain": [
       "z^4"
      ]
     },
     "execution_count": 11,
     "metadata": {},
     "output_type": "execute_result"
    }
   ],
   "source": [
    "A = z^2\n",
    "\n",
    "#squaring == A*A! #== A^2\n",
    "A^2"
   ]
  },
  {
   "cell_type": "code",
   "execution_count": 16,
   "metadata": {},
   "outputs": [
    {
     "data": {
      "text/plain": [
       "z^6"
      ]
     },
     "execution_count": 16,
     "metadata": {},
     "output_type": "execute_result"
    }
   ],
   "source": [
    "A = z^3\n",
    "\n",
    "#squaring == A*A! #== A^2\n",
    "A^2"
   ]
  },
  {
   "cell_type": "code",
   "execution_count": 21,
   "metadata": {},
   "outputs": [
    {
     "name": "stdout",
     "output_type": "stream",
     "text": [
      "0 0 --> 0\n",
      "1 z + 1 --> z^2 + 1\n",
      "2 z^2 + 1 --> z^4 + 1\n",
      "3 z^3 + z^2 + z + 1 --> z^6 + z^4 + z^2 + 1\n",
      "4 z^4 + 1 --> z^4 + z^3 + z\n",
      "5 z^5 + z^4 + z + 1 --> z^6 + z^5 + z^4 + z\n",
      "6 z^6 + z^4 + z^2 + 1 --> z^7 + z^5 + 1\n",
      "7 z^7 + z^6 + z^5 + z^4 + z^3 + z^2 + z + 1 --> z^4 + z + 1\n",
      "8 z^4 + z^3 + z --> z^6 + z^4 + z^3 + z^2 + z + 1\n",
      "9 z^5 + z^3 + z^2 + z --> z^5 + z^4 + z^3\n",
      "10 z^6 + z^5 + z^4 + z --> z^7 + z^6 + z^4 + z^3\n",
      "11 z^7 + z^4 + z^2 + z --> z^7 + z^4 + z^2 + 1\n",
      "12 z^7 + z^5 + 1 --> z^7 + z^6 + z^5 + z^4 + z^2 + z + 1\n",
      "13 z^7 + z^6 + z^5 + z^4 + z^3 --> z^2 + z\n",
      "14 z^4 + z + 1 --> z^4 + z^3 + z^2 + z\n",
      "15 z^5 + z^4 + z^2 + 1 --> z^6 + z^5 + z^2 + z\n",
      "16 z^6 + z^4 + z^3 + z^2 + z + 1 --> z^7 + z^6 + z^5 + z^2 + 1\n",
      "17 z^7 + z^6 + z^5 + 1 --> z^6 + z^4 + z^3 + z^2\n",
      "18 z^5 + z^4 + z^3 --> z^5 + z^4 + z^2 + z + 1\n",
      "19 z^6 + z^3 --> z^7 + z^6 + z^5 + z^3 + z + 1\n",
      "20 z^7 + z^6 + z^4 + z^3 --> z^6 + z^5 + z^3 + z\n",
      "21 z^6 + z^5 + z^4 + z + 1 --> z^7 + z^6 + z^4 + z^3 + 1\n",
      "22 z^7 + z^4 + z^2 + 1 --> z^7 + z^4\n",
      "23 z^7 + z^5 + z^2 --> z^7 + z^6 + z^5 + z^2 + z\n",
      "24 z^7 + z^6 + z^5 + z^4 + z^2 + z + 1 --> z^6 + z^4 + z + 1\n",
      "25 z --> z^2\n",
      "26 z^2 + z --> z^4 + z^2\n",
      "27 z^3 + z --> z^6 + z^2\n",
      "28 z^4 + z^3 + z^2 + z --> z^6 + z^3 + z^2 + z + 1\n",
      "29 z^5 + z --> z^6 + z^5 + z^3\n",
      "30 z^6 + z^5 + z^2 + z --> z^7 + z^6 + z^4 + z + 1\n",
      "31 z^7 + z^5 + z^3 + z --> z^7 + z^5 + z^4 + z\n",
      "32 z^7 + z^6 + z^5 + z^2 + 1 --> z^6 + z^3 + z^2\n",
      "33 z^5 + z^4 + z^2 --> z^6 + z^5 + z^2 + z + 1\n",
      "34 z^6 + z^4 + z^3 + z^2 --> z^7 + z^6 + z^5\n",
      "35 z^7 + z^6 + z^5 + z^2 --> z^6 + z^3 + z^2 + 1\n",
      "36 z^5 + z^4 + z^2 + z + 1 --> z^6 + z^5 + z\n",
      "37 z^6 + z^4 + z^3 + 1 --> z^7 + z^6 + z^5 + z^4 + 1\n",
      "38 z^7 + z^6 + z^5 + z^3 + z + 1 --> z^4 + z^3\n",
      "39 z^5 + z^2 + z --> z^6 + z^5 + z^4 + z^3\n",
      "40 z^6 + z^5 + z^3 + z --> z^7 + z + 1\n",
      "41 z^7 + z^5 + z^4 + z^3 + z^2 + z --> z^7 + z^5 + z^4 + z^3 + 1\n",
      "42 z^7 + z^6 + z^4 + z^3 + 1 --> z^6 + z^5 + z^3 + z + 1\n",
      "43 z^6 + z^5 + z^4 --> z^7 + z^6 + z^4 + z^3 + z^2\n",
      "44 z^7 + z^4 --> z^7 + 1\n",
      "45 z^7 + z^5 + z^3 + z + 1 --> z^7 + z^5 + z^4 + z + 1\n",
      "46 z^7 + z^6 + z^5 + z^2 + z --> z^6 + z^3 + 1\n",
      "47 z^5 + z^4 + 1 --> z^6 + z^5 + z^4 + z^2 + z\n",
      "48 z^6 + z^4 + z + 1 --> z^7 + z^5 + z^4 + z^2 + 1\n",
      "49 z^7 + z^6 + z^5 + z^4 + z^2 + 1 --> z^6 + z^4 + z^2 + z + 1\n",
      "50 z^2 --> z^4\n",
      "51 z^3 + z^2 --> z^6 + z^4\n",
      "52 z^4 + z^2 --> z^3 + z + 1\n",
      "53 z^5 + z^4 + z^3 + z^2 --> z^5 + z^2 + z + 1\n",
      "54 z^6 + z^2 --> z^7 + z^5 + z^4 + z^3 + z + 1\n",
      "55 z^7 + z^6 + z^3 + z^2 --> z^6 + z^5 + 1\n",
      "56 z^6 + z^3 + z^2 + z + 1 --> z^7 + z^6 + z^5 + z^4 + z^3 + z^2 + z\n",
      "57 z^7 + z^6 + z^4 + 1 --> z^5 + z^3 + z + 1\n",
      "58 z^6 + z^5 + z^3 --> z^7 + z^2 + z + 1\n",
      "59 z^7 + z^5 + z^4 + z^3 --> z^7 + z^5 + z^3 + z^2 + 1\n",
      "60 z^7 + z^6 + z^4 + z + 1 --> z^5 + z^3 + z^2 + z + 1\n",
      "61 z^6 + z^5 + z^3 + z^2 + z --> z^7 + z^4 + z + 1\n",
      "62 z^7 + z^5 + z^4 + z --> z^7 + z^6 + z^5 + z^3 + 1\n",
      "63 z^7 + z^6 + z^3 + z^2 + 1 --> z^6 + z^5\n",
      "64 z^6 + z^3 + z^2 --> z^7 + z^6 + z^5 + z^4 + z^3 + z + 1\n",
      "65 z^7 + z^6 + z^4 + z^2 --> z^5 + z^4 + z^3 + z\n",
      "66 z^6 + z^5 + z^2 + z + 1 --> z^7 + z^6 + z^4 + z\n",
      "67 z^7 + z^5 + z^3 + 1 --> z^7 + z^5 + z^4 + z^2 + z + 1\n",
      "68 z^7 + z^6 + z^5 --> z^6 + z^4 + z^3 + z^2 + 1\n",
      "69 z^5 + z^4 + z^3 + z + 1 --> z^5 + z^4 + z\n",
      "70 z^6 + z^3 + z^2 + 1 --> z^7 + z^6 + z^5 + z^4 + z^3 + z\n",
      "71 z^7 + z^6 + z^4 + z^2 + z + 1 --> z^5 + z^4 + z^3 + z^2 + z + 1\n",
      "72 z^6 + z^5 + z --> z^7 + z^6 + z + 1\n",
      "73 z^7 + z^5 + z^2 + z --> z^7 + z^6 + z^5 + z\n",
      "74 z^7 + z^6 + z^5 + z^4 + 1 --> z^6 + z^2 + z + 1\n",
      "75 z^3 --> z^6\n",
      "76 z^4 + z^3 --> z^6 + z^4 + z^3 + z + 1\n",
      "77 z^5 + z^3 --> z^5 + z^3 + z^2\n",
      "78 z^6 + z^5 + z^4 + z^3 --> z^7 + z^4 + z^3 + z^2\n",
      "79 z^7 + z^3 --> z^7 + z^6 + z^4 + z^3 + z\n",
      "80 z^7 + z + 1 --> z^7 + z^4 + z^3 + z^2 + z + 1\n",
      "81 z^7 + z^4 + z^3 + z^2 + z --> z^7 + z^6 + z^4 + z^2 + 1\n",
      "82 z^7 + z^5 + z^4 + z^3 + 1 --> z^7 + z^5 + z^3 + z^2\n",
      "83 z^7 + z^6 + z^4 --> z^5 + z^3 + z\n",
      "84 z^6 + z^5 + z^3 + z + 1 --> z^7 + z\n",
      "85 z^7 + z^5 + z^4 + z^3 + z^2 + 1 --> z^7 + z^5 + z^4 + z^3 + z^2\n",
      "86 z^7 + z^6 + z^4 + z^3 + z^2 --> z^6 + z^5 + z^4 + z^3 + z\n",
      "87 z^6 + z^5 + z^4 + z^3 + z^2 + z + 1 --> z^7 + z^3 + 1\n",
      "88 z^7 + 1 --> z^7 + z^4 + z^3 + z + 1\n",
      "89 z^7 + z^4 + z^3 --> z^7 + z^6 + 1\n",
      "90 z^7 + z^5 + z^4 + z + 1 --> z^7 + z^6 + z^5 + z^3\n",
      "91 z^7 + z^6 + z^3 + z^2 + z --> z^6 + z^5 + z^2 + 1\n",
      "92 z^6 + z^3 + 1 --> z^7 + z^6 + z^5 + z^3 + z\n",
      "93 z^7 + z^6 + z^4 + z^3 + z + 1 --> z^6 + z^5 + z^3 + z^2 + z + 1\n",
      "94 z^6 + z^5 + z^4 + z^2 + z --> z^7 + z^6 + z^3\n",
      "95 z^7 + z^4 + z^3 + z --> z^7 + z^6 + z^2 + 1\n",
      "96 z^7 + z^5 + z^4 + z^2 + 1 --> z^7 + z^6 + z^5 + z^4 + z^3 + z^2\n",
      "97 z^7 + z^6 + z^2 --> z^5 + 1\n",
      "98 z^6 + z^4 + z^2 + z + 1 --> z^7 + z^5 + z^2 + 1\n",
      "99 z^7 + z^6 + z^5 + z^4 + z^3 + 1 --> z^2 + z + 1\n",
      "100 z^4 --> z^4 + z^3 + z + 1\n",
      "101 z^5 + z^4 --> z^6 + z^5 + z^4 + z^2 + z + 1\n",
      "102 z^6 + z^4 --> z^7 + z^5 + z^4\n",
      "103 z^7 + z^6 + z^5 + z^4 --> z^6 + z^2 + z\n",
      "104 z^3 + z + 1 --> z^6 + z^2 + 1\n",
      "105 z^4 + z^3 + z^2 + 1 --> z^6 + z^3 + z\n",
      "106 z^5 + z^2 + z + 1 --> z^6 + z^5 + z^4 + z^3 + 1\n",
      "107 z^6 + z^5 + z^3 + 1 --> z^7 + z^2 + z\n",
      "108 z^7 + z^5 + z^4 + z^3 + z + 1 --> z^7 + z^5 + z^3\n",
      "109 z^7 + z^6 + z^4 + z^2 + z --> z^5 + z^4 + z^3 + z^2 + z\n",
      "110 z^6 + z^5 + 1 --> z^7 + z^6 + z^2 + z\n",
      "111 z^7 + z^5 + z + 1 --> z^7 + z^6 + z^5 + z^4 + z + 1\n",
      "112 z^7 + z^6 + z^5 + z^4 + z^3 + z^2 + z --> z^4 + z\n",
      "113 z^4 + z^3 + 1 --> z^6 + z^4 + z^3 + z\n",
      "114 z^5 + z^3 + z + 1 --> z^5 + z^3 + 1\n",
      "115 z^6 + z^5 + z^4 + z^3 + z^2 + 1 --> z^7 + z^3 + z^2 + 1\n",
      "116 z^7 + z^2 + z + 1 --> z^7 + z^3 + z^2 + z + 1\n",
      "117 z^7 + z^4 + z --> z^7 + z^2 + 1\n",
      "118 z^7 + z^5 + z^3 + z^2 + 1 --> z^7 + z^5 + z^2 + z + 1\n",
      "119 z^7 + z^6 + z^5 + z^3 + z^2 --> z^3 + z^2 + 1\n",
      "120 z^5 + z^3 + z^2 + z + 1 --> z^5 + z^4 + z^3 + 1\n",
      "121 z^6 + z^5 + z^4 + 1 --> z^7 + z^6 + z^4 + z^3 + z^2 + 1\n",
      "122 z^7 + z^4 + z + 1 --> z^7 + z^2\n",
      "123 z^7 + z^5 + z^3 + z^2 + z --> z^7 + z^5 + z\n",
      "124 z^7 + z^6 + z^5 + z^3 + 1 --> z^4 + z^3 + z^2\n",
      "125 z^5 --> z^6 + z^5 + z^3 + z^2\n",
      "126 z^6 + z^5 --> z^7 + z^6 + z^2 + z + 1\n",
      "127 z^7 + z^5 --> z^7 + z^6 + z^5 + z^4 + z^2 + z\n",
      "128 z^7 + z^6 + z^5 + z^4 + z^3 + z + 1 --> z + 1\n",
      "129 z^4 + z^2 + z --> z^3 + z^2 + z + 1\n",
      "130 z^5 + z^4 + z^3 + z --> z^5 + z^4 + z + 1\n",
      "131 z^6 + z^3 + z^2 + z --> z^7 + z^6 + z^5 + z^4 + z^3 + z^2 + z + 1\n",
      "132 z^7 + z^6 + z^4 + z --> z^5 + z^3 + z^2 + z\n",
      "133 z^6 + z^5 + z^3 + z^2 + 1 --> z^7 + z^4 + z^2 + z\n",
      "134 z^7 + z^5 + z^4 + z^2 + z + 1 --> z^7 + z^6 + z^5 + z^4 + z^3\n",
      "135 z^7 + z^6 + z --> z^5 + z^4 + z^2 + 1\n",
      "136 z^6 + z^4 + z^3 + z^2 + 1 --> z^7 + z^6 + z^5 + 1\n",
      "137 z^7 + z^6 + z^5 + z^2 + z + 1 --> z^6 + z^3\n",
      "138 z^5 + z^4 + z --> z^6 + z^5 + z^4 + z + 1\n",
      "139 z^6 + z^4 + z^2 + z --> z^7 + z^5 + z^2\n",
      "140 z^7 + z^6 + z^5 + z^4 + z^3 + z --> z\n",
      "141 z^4 + z^2 + 1 --> z^3 + z\n",
      "142 z^5 + z^4 + z^3 + z^2 + z + 1 --> z^5 + z\n",
      "143 z^6 + 1 --> z^7 + z^5 + z^3 + z\n",
      "144 z^7 + z^6 + z + 1 --> z^5 + z^4 + z^2\n",
      "145 z^6 + z^4 + z^3 + z^2 + z --> z^7 + z^6 + z^5 + z^2\n",
      "146 z^7 + z^6 + z^5 + z --> z^6 + z^4 + z^3 + 1\n",
      "147 z^5 + z^4 + z^3 + z^2 + 1 --> z^5 + z^2 + z\n",
      "148 z^6 + z^2 + z + 1 --> z^7 + z^5 + z^4 + z^3 + z^2 + z\n",
      "149 z^7 + z^6 + z^3 + 1 --> z^6 + z^5 + z^4\n",
      "150 z^6 --> z^7 + z^5 + z^3 + z + 1\n",
      "151 z^7 + z^6 --> z^5 + z^4 + 1\n",
      "152 z^6 + z^4 + z^3 + z + 1 --> z^7 + z^6 + z^5 + z^4 + z^2 + 1\n",
      "153 z^7 + z^6 + z^5 + z^3 + z^2 + 1 --> z^3 + z^2\n",
      "154 z^5 + z^3 + z^2 --> z^5 + z^4 + z^3 + z^2\n",
      "155 z^6 + z^5 + z^4 + z^2 --> z^7 + z^6 + z^3 + z^2\n",
      "156 z^7 + z^4 + z^3 + z^2 --> z^7 + z^6 + z^4 + 1\n",
      "157 z^7 + z^5 + z^4 + z^3 + z^2 + z + 1 --> z^7 + z^5 + z^4 + z^3\n",
      "158 z^7 + z^6 + z^4 + z^3 + z --> z^6 + z^5 + z^3 + z^2 + z\n",
      "159 z^6 + z^5 + z^4 + z^2 + 1 --> z^7 + z^6 + z^3 + z^2 + 1\n",
      "160 z^7 + z^4 + z^3 + z^2 + z + 1 --> z^7 + z^6 + z^4 + z^2\n",
      "161 z^7 + z^5 + z^4 + z^3 + z --> z^7 + z^5 + z^3 + 1\n",
      "162 z^7 + z^6 + z^4 + z^2 + 1 --> z^5 + z^4 + z^3 + z + 1\n",
      "163 z^6 + z^5 + z^2 --> z^7 + z^6 + z^4 + z^2 + z + 1\n",
      "164 z^7 + z^5 + z^3 + z^2 --> z^7 + z^5 + z^2 + z\n",
      "165 z^7 + z^6 + z^5 + z^3 + z^2 + z + 1 --> z^3\n",
      "166 z^5 + z^3 + z --> z^5 + z^3\n",
      "167 z^6 + z^5 + z^4 + z^3 + z^2 + z --> z^7 + z^3\n",
      "168 z^7 + z --> z^7 + z^4 + z^3 + z^2 + z\n",
      "169 z^7 + z^4 + z^3 + z^2 + 1 --> z^7 + z^6 + z^4\n",
      "170 z^7 + z^5 + z^4 + z^3 + z^2 --> z^7 + z^5 + z^4 + z^3 + z^2 + 1\n",
      "171 z^7 + z^6 + z^4 + z^3 + z^2 + z + 1 --> z^6 + z^5 + z^4 + z^3 + z^2 + z + 1\n",
      "172 z^6 + z^5 + z^4 + z^3 + z --> z^7 + z^4 + z^3\n",
      "173 z^7 + z^3 + z^2 + z --> z^7 + z^6 + z^3 + z^2 + z\n",
      "174 z^7 + z^3 + 1 --> z^7 + z^6 + z^4 + z^3 + z + 1\n",
      "175 z^7 --> z^7 + z^4 + z^3 + z\n",
      "176 z^7 + z^4 + z^3 + z + 1 --> z^7 + z^6 + z^2\n",
      "177 z^7 + z^5 + z^4 + z^2 + z --> z^7 + z^6 + z^5 + z^4 + z^3 + 1\n",
      "178 z^7 + z^6 + 1 --> z^5 + z^4\n",
      "179 z^6 + z^4 + z^3 --> z^7 + z^6 + z^5 + z^4\n",
      "180 z^7 + z^6 + z^5 + z^3 --> z^4 + z^3 + z^2 + 1\n",
      "181 z^5 + z + 1 --> z^6 + z^5 + z^3 + 1\n",
      "182 z^6 + z^5 + z^2 + 1 --> z^7 + z^6 + z^4 + z^2 + z\n",
      "183 z^7 + z^5 + z^3 + z^2 + z + 1 --> z^7 + z^5 + z + 1\n",
      "184 z^7 + z^6 + z^5 + z^3 + z --> z^4 + z^3 + 1\n",
      "185 z^5 + z^2 + 1 --> z^6 + z^5 + z^4 + z^3 + z^2 + 1\n",
      "186 z^6 + z^5 + z^3 + z^2 + z + 1 --> z^7 + z^4 + z\n",
      "187 z^7 + z^5 + z^4 + 1 --> z^7 + z^6 + z^5 + z^3 + z^2\n",
      "188 z^7 + z^6 + z^3 --> z^6 + z^5 + z^4 + 1\n",
      "189 z^6 + z + 1 --> z^7 + z^5 + z^3 + z^2 + z\n",
      "190 z^7 + z^6 + z^2 + 1 --> z^5\n",
      "191 z^6 + z^4 + z^2 --> z^7 + z^5\n",
      "192 z^7 + z^6 + z^5 + z^4 + z^3 + z^2 --> z^4 + z^2 + z\n",
      "193 z^4 + z^3 + z^2 + z + 1 --> z^6 + z^3 + z^2 + z\n",
      "194 z^5 + 1 --> z^6 + z^5 + z^3 + z^2 + 1\n",
      "195 z^6 + z^5 + z + 1 --> z^7 + z^6 + z\n",
      "196 z^7 + z^5 + z^2 + 1 --> z^7 + z^6 + z^5 + z^2 + z + 1\n",
      "197 z^7 + z^6 + z^5 + z^4 + z^2 --> z^6 + z^4 + z^2 + z\n",
      "198 z^2 + z + 1 --> z^4 + z^2 + 1\n",
      "199 z^3 + 1 --> z^6 + 1\n",
      "200 z^4 + z^3 + z + 1 --> z^6 + z^4 + z^3 + z^2 + z\n",
      "201 z^5 + z^3 + z^2 + 1 --> z^5 + z^4 + z^3 + z^2 + 1\n",
      "202 z^6 + z^5 + z^4 + z^2 + z + 1 --> z^7 + z^6 + z^3 + 1\n",
      "203 z^7 + z^4 + z^3 + 1 --> z^7 + z^6\n",
      "204 z^7 + z^5 + z^4 --> z^7 + z^6 + z^5 + z^3 + z^2 + 1\n",
      "205 z^7 + z^6 + z^3 + z + 1 --> z^6 + z^5 + z^4 + z^2\n",
      "206 z^6 + z^2 + z --> z^7 + z^5 + z^4 + z^3 + z^2 + z + 1\n",
      "207 z^7 + z^6 + z^3 + z --> z^6 + z^5 + z^4 + z^2 + 1\n",
      "208 z^6 + z^2 + 1 --> z^7 + z^5 + z^4 + z^3 + z\n",
      "209 z^7 + z^6 + z^3 + z^2 + z + 1 --> z^6 + z^5 + z^2\n",
      "210 z^6 + z^3 + z --> z^7 + z^6 + z^5 + z^3 + z^2 + z + 1\n",
      "211 z^7 + z^6 + z^4 + z^3 + z^2 + z --> z^6 + z^5 + z^4 + z^3 + z^2 + z\n",
      "212 z^6 + z^5 + z^4 + z^3 + 1 --> z^7 + z^4 + z^3 + z^2 + 1\n",
      "213 z^7 + z^3 + z + 1 --> z^7 + z^6 + z^4 + z^3 + z^2 + z + 1\n",
      "214 z^7 + z^2 + z --> z^7 + z^3 + z^2 + z\n",
      "215 z^7 + z^4 + 1 --> z^7\n",
      "216 z^7 + z^5 + z^3 --> z^7 + z^5 + z^4 + z^2 + z\n",
      "217 z^7 + z^6 + z^5 + z + 1 --> z^6 + z^4 + z^3\n",
      "218 z^5 + z^4 + z^3 + z^2 + z --> z^5 + z + 1\n",
      "219 z^6 + z --> z^7 + z^5 + z^3 + z^2 + z + 1\n",
      "220 z^7 + z^6 + z^2 + z --> z^5 + z^2 + 1\n",
      "221 z^6 + z^4 + 1 --> z^7 + z^5 + z^4 + 1\n",
      "222 z^7 + z^6 + z^5 + z^4 + z + 1 --> z^6 + z + 1\n",
      "223 z^3 + z^2 + z --> z^6 + z^4 + z^2\n",
      "224 z^4 + z --> z^4 + z^3 + z^2 + z + 1\n",
      "225 z^5 + z^4 + z^2 + z --> z^6 + z^5 + z + 1\n",
      "226 z^6 + z^4 + z^3 + z --> z^7 + z^6 + z^5 + z^4 + z^2\n",
      "227 z^7 + z^6 + z^5 + z^3 + z^2 + z --> z^3 + 1\n",
      "228 z^5 + z^3 + 1 --> z^5 + z^3 + z^2 + 1\n",
      "229 z^6 + z^5 + z^4 + z^3 + z + 1 --> z^7 + z^4 + z^3 + 1\n",
      "230 z^7 + z^3 + z^2 + 1 --> z^7 + z^6 + z^3 + z + 1\n",
      "231 z^7 + z^3 + z^2 --> z^7 + z^6 + z^3 + z\n",
      "232 z^7 + z^3 + z^2 + z + 1 --> z^7 + z^6 + z^3 + z^2 + z + 1\n",
      "233 z^7 + z^3 + z --> z^7 + z^6 + z^4 + z^3 + z^2 + z\n",
      "234 z^7 + z^2 + 1 --> z^7 + z^3 + z + 1\n",
      "235 z^7 + z^4 + z^2 --> z^7 + z^4 + 1\n",
      "236 z^7 + z^5 + z^2 + z + 1 --> z^7 + z^6 + z^5 + z + 1\n",
      "237 z^7 + z^6 + z^5 + z^4 + z --> z^6 + z\n",
      "238 z^3 + z^2 + 1 --> z^6 + z^4 + 1\n",
      "239 z^4 + z^2 + z + 1 --> z^3 + z^2 + z\n",
      "240 z^5 + z^4 + z^3 + 1 --> z^5 + z^4 + z^2 + z\n",
      "241 z^6 + z^3 + z + 1 --> z^7 + z^6 + z^5 + z^3 + z^2 + z\n",
      "242 z^7 + z^6 + z^4 + z^3 + z^2 + 1 --> z^6 + z^5 + z^4 + z^3 + z + 1\n",
      "243 z^6 + z^5 + z^4 + z^3 + z^2 --> z^7 + z^3 + z^2\n",
      "244 z^7 + z^2 --> z^7 + z^3 + z\n",
      "245 z^7 + z^4 + z^2 + z + 1 --> z^7 + z^4 + z^2\n",
      "246 z^7 + z^5 + z --> z^7 + z^6 + z^5 + z^4 + z\n",
      "247 z^7 + z^6 + z^5 + z^4 + z^3 + z^2 + 1 --> z^4 + z^2 + z + 1\n",
      "248 z^4 + z^3 + z^2 --> z^6 + z^3 + z + 1\n",
      "249 z^5 + z^2 --> z^6 + z^5 + z^4 + z^3 + z^2\n",
      "250 z^6 + z^5 + z^3 + z^2 --> z^7 + z^4 + z^2 + z + 1\n",
      "251 z^7 + z^5 + z^4 + z^2 --> z^7 + z^6 + z^5 + z^4 + z^3 + z^2 + 1\n",
      "252 z^7 + z^6 + z^2 + z + 1 --> z^5 + z^2\n",
      "253 z^6 + z^4 + z --> z^7 + z^5 + z^4 + z^2\n",
      "254 z^7 + z^6 + z^5 + z^4 + z^2 + z --> z^6 + z^4 + z\n",
      "255 1 --> 1\n"
     ]
    }
   ],
   "source": [
    "group = F.list()\n",
    "for i in range(len(group)):\n",
    "    print(i, group[i],\"-->\", ((group[i])^2))"
   ]
  },
  {
   "cell_type": "markdown",
   "metadata": {},
   "source": [
    "z --> z^2\n",
    "\n",
    "z^2 --> z^4\n",
    "\n",
    "z^3 --> z^6\n",
    "\n",
    "z^4 --> z^4 + z^3 + z + 1\n",
    "\n",
    "z^5 --> z^6 + z^5 + z^3 + z^2\n",
    "\n",
    "z^6 --> z^7 + z^5 + z^3 + z + 1\n",
    "\n",
    "z^7 --> z^7 + z^4 + z^3 + z"
   ]
  },
  {
   "cell_type": "code",
   "execution_count": null,
   "metadata": {},
   "outputs": [],
   "source": []
  },
  {
   "cell_type": "code",
   "execution_count": null,
   "metadata": {},
   "outputs": [],
   "source": []
  },
  {
   "cell_type": "markdown",
   "metadata": {},
   "source": [
    "# Const Mult"
   ]
  },
  {
   "cell_type": "code",
   "execution_count": null,
   "metadata": {},
   "outputs": [],
   "source": []
  },
  {
   "cell_type": "code",
   "execution_count": 25,
   "metadata": {},
   "outputs": [],
   "source": [
    "#contoh punya van hoof, circuit 5\n",
    "_.<X> = GF(2)[]\n",
    "H.<x> = GF(2^4, modulus=X^4+X+1)\n",
    "\n",
    "L = x^2+1"
   ]
  },
  {
   "cell_type": "code",
   "execution_count": 39,
   "metadata": {},
   "outputs": [
    {
     "data": {
      "text/plain": [
       "<class 'list'>"
      ]
     },
     "execution_count": 39,
     "metadata": {},
     "output_type": "execute_result"
    }
   ],
   "source": [
    "group = H.list()\n",
    "type(group)"
   ]
  },
  {
   "cell_type": "code",
   "execution_count": 29,
   "metadata": {},
   "outputs": [
    {
     "data": {
      "text/plain": [
       "x^3 + x"
      ]
     },
     "execution_count": 29,
     "metadata": {},
     "output_type": "execute_result"
    }
   ],
   "source": [
    "L*1\n",
    "L*x"
   ]
  },
  {
   "cell_type": "code",
   "execution_count": 19,
   "metadata": {},
   "outputs": [
    {
     "ename": "NameError",
     "evalue": "name 'L' is not defined",
     "output_type": "error",
     "traceback": [
      "\u001b[0;31m---------------------------------------------------------------------------\u001b[0m",
      "\u001b[0;31mNameError\u001b[0m                                 Traceback (most recent call last)",
      "\u001b[0;32m<ipython-input-19-9905cb5ad074>\u001b[0m in \u001b[0;36m<module>\u001b[0;34m\u001b[0m\n\u001b[1;32m      1\u001b[0m \u001b[0mgroup\u001b[0m \u001b[0;34m=\u001b[0m \u001b[0mF\u001b[0m\u001b[0;34m.\u001b[0m\u001b[0mlist\u001b[0m\u001b[0;34m(\u001b[0m\u001b[0;34m)\u001b[0m\u001b[0;34m\u001b[0m\u001b[0;34m\u001b[0m\u001b[0m\n\u001b[1;32m      2\u001b[0m \u001b[0;32mfor\u001b[0m \u001b[0mi\u001b[0m \u001b[0;32min\u001b[0m \u001b[0mrange\u001b[0m\u001b[0;34m(\u001b[0m\u001b[0mlen\u001b[0m\u001b[0;34m(\u001b[0m\u001b[0mgroup\u001b[0m\u001b[0;34m)\u001b[0m\u001b[0;34m)\u001b[0m\u001b[0;34m:\u001b[0m\u001b[0;34m\u001b[0m\u001b[0;34m\u001b[0m\u001b[0m\n\u001b[0;32m----> 3\u001b[0;31m     \u001b[0mprint\u001b[0m\u001b[0;34m(\u001b[0m\u001b[0mi\u001b[0m\u001b[0;34m,\u001b[0m \u001b[0mgroup\u001b[0m\u001b[0;34m[\u001b[0m\u001b[0mi\u001b[0m\u001b[0;34m]\u001b[0m\u001b[0;34m,\u001b[0m\u001b[0;34m\"-->\"\u001b[0m\u001b[0;34m,\u001b[0m \u001b[0;34m(\u001b[0m\u001b[0;34m(\u001b[0m\u001b[0mgroup\u001b[0m\u001b[0;34m[\u001b[0m\u001b[0mi\u001b[0m\u001b[0;34m]\u001b[0m\u001b[0;34m)\u001b[0m\u001b[0;34m*\u001b[0m\u001b[0mL\u001b[0m\u001b[0;34m)\u001b[0m\u001b[0;34m)\u001b[0m\u001b[0;34m\u001b[0m\u001b[0;34m\u001b[0m\u001b[0m\n\u001b[0m",
      "\u001b[0;31mNameError\u001b[0m: name 'L' is not defined"
     ]
    }
   ],
   "source": [
    "for i in range(len(group)):\n",
    "    print(i, group[i],\"-->\", ((group[i])*L))"
   ]
  },
  {
   "cell_type": "code",
   "execution_count": 43,
   "metadata": {},
   "outputs": [
    {
     "name": "stdout",
     "output_type": "stream",
     "text": [
      "0 0 --> 0\n",
      "1 x --> x^3 + x\n",
      "2 x^2 --> x^2 + x + 1\n",
      "3 x^3 --> x^3 + x^2 + x\n",
      "4 x + 1 --> x^3 + x^2 + x + 1\n",
      "5 x^2 + x --> x^3 + x^2 + 1\n",
      "6 x^3 + x^2 --> x^3 + 1\n",
      "7 x^3 + x + 1 --> 1\n",
      "8 x^2 + 1 --> x\n",
      "9 x^3 + x --> x^2\n",
      "10 x^2 + x + 1 --> x^3\n",
      "11 x^3 + x^2 + x --> x + 1\n",
      "12 x^3 + x^2 + x + 1 --> x^2 + x\n",
      "13 x^3 + x^2 + 1 --> x^3 + x^2\n",
      "14 x^3 + 1 --> x^3 + x + 1\n",
      "15 1 --> x^2 + 1\n"
     ]
    }
   ],
   "source": [
    "for i in range(len(group)):\n",
    "    print(i, group[i],\"-->\", (L*(group[i])))"
   ]
  },
  {
   "cell_type": "markdown",
   "metadata": {},
   "source": [
    "##BELOW: untouched /scratch:::"
   ]
  },
  {
   "cell_type": "code",
   "execution_count": 81,
   "metadata": {},
   "outputs": [
    {
     "data": {
      "text/plain": [
       "z^166 + z^163 + z^160 + z^136 + z^135 + z^132 + z^129 + z^11 + z^10 + z^7 + z^4"
      ]
     },
     "execution_count": 81,
     "metadata": {},
     "output_type": "execute_result"
    }
   ],
   "source": [
    "c9 = z^319+z^288 \n",
    "c4 = z^159+z^128\n",
    "\n",
    "#mult sebelum reduction, bisa liat dengan diubah jadi representasi polynom.\n",
    "c9p = c9.polynomial()\n",
    "c4p = c4.polynomial()\n",
    "\n",
    "\n",
    "z4 = z^4\n",
    "z4p = z4.polynomial()\n",
    "c9p*z4p\n",
    "\n",
    "# add1p\n",
    "# c9p*c4p\n",
    "# add1p\n",
    "#add four times?\n",
    "\n"
   ]
  },
  {
   "cell_type": "code",
   "execution_count": null,
   "metadata": {},
   "outputs": [],
   "source": []
  },
  {
   "cell_type": "code",
   "execution_count": 50,
   "metadata": {},
   "outputs": [
    {
     "data": {
      "text/plain": [
       "z^4 + 1"
      ]
     },
     "execution_count": 50,
     "metadata": {},
     "output_type": "execute_result"
    }
   ],
   "source": [
    "#kotretan\n",
    "# (z^9+z^2+1)*z\n",
    "\n",
    "# (z^9+z^5+z^3+z^2+z+1)*z\n",
    "# (z^8+z^5+z^3+z^2+z+1)*z\n",
    "# (z^5+z^3+z^2+z+1)*z\n",
    "# (z^7+z^3+z^2+z+1)*z\n",
    "# (z^4+z^3+z+1)*z\n",
    "(z^7+z^2+1)*z"
   ]
  },
  {
   "cell_type": "code",
   "execution_count": 5,
   "metadata": {},
   "outputs": [
    {
     "data": {
      "text/plain": [
       "z^3 + z"
      ]
     },
     "execution_count": 5,
     "metadata": {},
     "output_type": "execute_result"
    }
   ],
   "source": [
    "#addition\n",
    "(z^3+z^2+1)+(z^2+z+1)"
   ]
  },
  {
   "cell_type": "code",
   "execution_count": 6,
   "metadata": {},
   "outputs": [
    {
     "data": {
      "text/plain": [
       "z^7 + z"
      ]
     },
     "execution_count": 6,
     "metadata": {},
     "output_type": "execute_result"
    }
   ],
   "source": [
    "#addition\n",
    "(z^7+z^2+1)+(z^2+z+1)"
   ]
  },
  {
   "cell_type": "code",
   "execution_count": 38,
   "metadata": {},
   "outputs": [
    {
     "data": {
      "text/plain": [
       "z^7 + z"
      ]
     },
     "execution_count": 38,
     "metadata": {},
     "output_type": "execute_result"
    }
   ],
   "source": [
    "#subtraction\n",
    "(z^7+z^2+1)-(z^2+z+1)"
   ]
  },
  {
   "cell_type": "code",
   "execution_count": 39,
   "metadata": {},
   "outputs": [
    {
     "data": {
      "text/plain": [
       "z^7 + z"
      ]
     },
     "execution_count": 39,
     "metadata": {},
     "output_type": "execute_result"
    }
   ],
   "source": [
    "#subtraction\n",
    "-(z^7+z^2+1)+(z^2+z+1)"
   ]
  },
  {
   "cell_type": "code",
   "execution_count": 40,
   "metadata": {},
   "outputs": [
    {
     "data": {
      "text/plain": [
       "z^4 + 1"
      ]
     },
     "execution_count": 40,
     "metadata": {},
     "output_type": "execute_result"
    }
   ],
   "source": [
    "(z^7+z^2+1)*z"
   ]
  },
  {
   "cell_type": "code",
   "execution_count": 8,
   "metadata": {},
   "outputs": [
    {
     "data": {
      "text/plain": [
       "z^3 + z"
      ]
     },
     "execution_count": 8,
     "metadata": {},
     "output_type": "execute_result"
    }
   ],
   "source": [
    "#subtraction\n",
    "(z^3+z^2+1)-(z^2+z+1)"
   ]
  },
  {
   "cell_type": "code",
   "execution_count": 45,
   "metadata": {},
   "outputs": [
    {
     "data": {
      "text/plain": [
       "z^5 + z^4 + z^2 + z"
      ]
     },
     "execution_count": 45,
     "metadata": {},
     "output_type": "execute_result"
    }
   ],
   "source": [
    "#mult\n",
    "# (z^3+z^2+1)*(z^2+z+1) #ini dia auto hasil reduction.. gimana cara liat sebelum reduction?\n",
    "# working:\n",
    "A = z^7\n",
    "B = z^2\n",
    "\n",
    "# #next trial\n",
    "# A = z^7+z^2+1\n",
    "# B = z^2+z+1\n",
    "\n",
    "A*B"
   ]
  },
  {
   "cell_type": "code",
   "execution_count": 46,
   "metadata": {},
   "outputs": [
    {
     "data": {
      "text/plain": [
       "z^9"
      ]
     },
     "execution_count": 46,
     "metadata": {},
     "output_type": "execute_result"
    }
   ],
   "source": [
    "#mult sebelum reduction, bisa liat dengan diubah jadi representasi polynom.\n",
    "A_poly = A.polynomial()\n",
    "B_poly = B.polynomial()\n",
    "A_poly * B_poly\n",
    "\n",
    "\n",
    "#Source:\n",
    "# #https://ask.sagemath.org/question/38734/pre-reduction-multiplication-result-in-binary-field/\n",
    "# X = Integer(0x009D73616F35F4AB1407D73562C10F);\n",
    "# Y = Integer(0x00A52830277958EE84D1315ED31886);\n",
    "\n",
    "# F.<x> = GF(2)[];\n",
    "# p = x^113 + x^9 + 1;\n",
    "# BF = GF(2^113, 'x', modulus=p);\n",
    "\n",
    "# X_bf = BF._cache.fetch_int(X);\n",
    "# Y_bf = BF._cache.fetch_int(Y);\n",
    "\n",
    "# X_poly = X_bf.polynomial()\n",
    "# Y_poly = Y_bf.polynomial()\n",
    "# X_poly * Y_poly"
   ]
  },
  {
   "cell_type": "code",
   "execution_count": 47,
   "metadata": {},
   "outputs": [
    {
     "data": {
      "text/plain": [
       "z^7 + z^6 + z^5 + 1"
      ]
     },
     "execution_count": 47,
     "metadata": {},
     "output_type": "execute_result"
    }
   ],
   "source": [
    "#inversion\n",
    "(z^3+z^2+1)^-1"
   ]
  },
  {
   "cell_type": "markdown",
   "metadata": {},
   "source": [
    "# GROUP OPERATION"
   ]
  },
  {
   "cell_type": "code",
   "execution_count": 12,
   "metadata": {},
   "outputs": [],
   "source": [
    "#coba ulang pake yg dr certicom\n",
    "#https://www.certicom.com/content/certicom/en/41-an-example-of-an-elliptic-curve-group-over-f2m.html\n",
    "#adopt untuk Guide to ECC h.48 pdf\n",
    "# g = F.gen(1)"
   ]
  },
  {
   "cell_type": "code",
   "execution_count": 13,
   "metadata": {},
   "outputs": [],
   "source": [
    "# ##curve25519\n",
    "# def findBasepoint(prime, A):\n",
    "#        F = GF(prime)\n",
    "#        E = EllipticCurve(F, [0, A, 0, 1, 0])\n",
    "\n",
    "#        for uInt in range(1, 1e3):\n",
    "#          u = F(uInt)\n",
    "#          v2 = u^3 + A*u^2 + u\n",
    "#          if not v2.is_square():\n",
    "#            continue\n",
    "#          v = v2.sqrt()\n",
    "#          point = E(u, v)\n",
    "#          pointOrder = point.order()\n",
    "#          if pointOrder > 8 and pointOrder.is_prime():\n",
    "#             Q=u^3 + A*u^2 + u\n",
    "#             return u, Q, sqrt(Q), point\n",
    "\n",
    "# res=findBasepoint(2^255 - 19, 486662)\n",
    "# res"
   ]
  },
  {
   "cell_type": "code",
   "execution_count": 12,
   "metadata": {},
   "outputs": [
    {
     "name": "stdout",
     "output_type": "stream",
     "text": [
      "Defining z\n"
     ]
    }
   ],
   "source": [
    "F.inject_variables()"
   ]
  },
  {
   "cell_type": "code",
   "execution_count": 13,
   "metadata": {},
   "outputs": [
    {
     "data": {
      "text/plain": [
       "Multivariate Polynomial Ring in x, y over Finite Field in z of size 2^4"
      ]
     },
     "execution_count": 13,
     "metadata": {},
     "output_type": "execute_result"
    }
   ],
   "source": [
    "R.<x,y> = F[]; R #ga nyambung ke yg setelahnya atau ke yg sebeluumnya sih "
   ]
  },
  {
   "cell_type": "code",
   "execution_count": 14,
   "metadata": {},
   "outputs": [
    {
     "data": {
      "text/plain": [
       "Elliptic Curve defined by y^2 + x*y = x^3 + (z+1)*x^2 + 1 over Finite Field in z of size 2^4"
      ]
     },
     "execution_count": 14,
     "metadata": {},
     "output_type": "execute_result"
    }
   ],
   "source": [
    "C = EllipticCurve(y^2+x*y-x^3-z^4*x^2-1) ; C"
   ]
  },
  {
   "cell_type": "code",
   "execution_count": 15,
   "metadata": {},
   "outputs": [
    {
     "data": {
      "text/plain": [
       "[(0 : 1 : 0), (0 : 1 : 1), (1 : z^3 + z^2 : 1), (1 : z^3 + z^2 + 1 : 1), (z^2 + z : z^3 : 1), (z^2 + z : z^3 + z^2 + z : 1), (z^2 + z + 1 : z : 1), (z^2 + z + 1 : z^2 + 1 : 1), (z^3 : z^2 + 1 : 1), (z^3 : z^3 + z^2 + 1 : 1), (z^3 + z : z^2 + z + 1 : 1), (z^3 + z : z^3 + z^2 + 1 : 1), (z^3 + z^2 : z^2 + 1 : 1), (z^3 + z^2 : z^3 + 1 : 1), (z^3 + z^2 + z + 1 : 0 : 1), (z^3 + z^2 + z + 1 : z^3 + z^2 + z + 1 : 1)]"
      ]
     },
     "execution_count": 15,
     "metadata": {},
     "output_type": "execute_result"
    }
   ],
   "source": [
    "C.points()"
   ]
  },
  {
   "cell_type": "code",
   "execution_count": 16,
   "metadata": {},
   "outputs": [
    {
     "data": {
      "text/plain": [
       "16"
      ]
     },
     "execution_count": 16,
     "metadata": {},
     "output_type": "execute_result"
    }
   ],
   "source": [
    "C.order()"
   ]
  },
  {
   "cell_type": "code",
   "execution_count": 19,
   "metadata": {},
   "outputs": [],
   "source": [
    "# https://ask.sagemath.org/question/9976/elliptic-curves/\n",
    "#     ini yg gede banget p^163... real..."
   ]
  },
  {
   "cell_type": "code",
   "execution_count": 20,
   "metadata": {},
   "outputs": [
    {
     "data": {
      "text/plain": [
       "[(0 : 1 : 0),\n",
       " (0 : 1 : 1),\n",
       " (1 : z^5 + z^3 + z^2 : 1),\n",
       " (1 : z^5 + z^3 + z^2 + 1 : 1),\n",
       " (z + 1 : z^6 + z^4 + z^2 + 1 : 1),\n",
       " (z + 1 : z^6 + z^4 + z^2 + z : 1),\n",
       " (z^2 + 1 : z^7 + z^6 + z^5 + z^4 + 1 : 1),\n",
       " (z^2 + 1 : z^7 + z^6 + z^5 + z^4 + z^2 : 1),\n",
       " (z^3 : z^7 + z^6 + z^2 : 1),\n",
       " (z^3 : z^7 + z^6 + z^3 + z^2 : 1),\n",
       " (z^3 + 1 : z^7 + z^6 + z^4 + z^2 + z : 1),\n",
       " (z^3 + 1 : z^7 + z^6 + z^4 + z^3 + z^2 + z + 1 : 1),\n",
       " (z^3 + z^2 : z^6 + z^5 + z^4 + z^2 + z + 1 : 1),\n",
       " (z^3 + z^2 : z^6 + z^5 + z^4 + z^3 + z + 1 : 1),\n",
       " (z^3 + z^2 + 1 : z^6 + z^5 + z^4 + 1 : 1),\n",
       " (z^3 + z^2 + 1 : z^6 + z^5 + z^4 + z^3 + z^2 : 1),\n",
       " (z^3 + z^2 + z : z^5 + z^4 + 1 : 1),\n",
       " (z^3 + z^2 + z : z^5 + z^4 + z^3 + z^2 + z + 1 : 1),\n",
       " (z^4 + 1 : z^6 + z^3 + z^2 : 1),\n",
       " (z^4 + 1 : z^6 + z^4 + z^3 + z^2 + 1 : 1),\n",
       " (z^4 + z : z^6 + z^2 + z : 1),\n",
       " (z^4 + z : z^6 + z^4 + z^2 : 1),\n",
       " (z^4 + z + 1 : z^7 + z^3 + z : 1),\n",
       " (z^4 + z + 1 : z^7 + z^4 + z^3 + 1 : 1),\n",
       " (z^4 + z^2 + z + 1 : z^7 + z^3 + z + 1 : 1),\n",
       " (z^4 + z^2 + z + 1 : z^7 + z^4 + z^3 + z^2 : 1),\n",
       " (z^4 + z^3 : z^7 + z^5 + z^3 : 1),\n",
       " (z^4 + z^3 : z^7 + z^5 + z^4 : 1),\n",
       " (z^4 + z^3 + z : z^6 : 1),\n",
       " (z^4 + z^3 + z : z^6 + z^4 + z^3 + z : 1),\n",
       " (z^4 + z^3 + z^2 : z^7 + z^5 + z^3 + z + 1 : 1),\n",
       " (z^4 + z^3 + z^2 : z^7 + z^5 + z^4 + z^2 + z + 1 : 1),\n",
       " (z^4 + z^3 + z^2 + 1 : z^6 + z^3 + 1 : 1),\n",
       " (z^4 + z^3 + z^2 + 1 : z^6 + z^4 + z^2 : 1),\n",
       " (z^4 + z^3 + z^2 + z : z^5 + z^2 + 1 : 1),\n",
       " (z^4 + z^3 + z^2 + z : z^5 + z^4 + z^3 + z + 1 : 1),\n",
       " (z^4 + z^3 + z^2 + z + 1 : z^6 + z^3 + z + 1 : 1),\n",
       " (z^4 + z^3 + z^2 + z + 1 : z^6 + z^4 + z^2 : 1),\n",
       " (z^5 : z^6 + z^4 + z^3 + z^2 + 1 : 1),\n",
       " (z^5 : z^6 + z^5 + z^4 + z^3 + z^2 + 1 : 1),\n",
       " (z^5 + 1 : z^6 + z^4 + z^3 + z^2 + 1 : 1),\n",
       " (z^5 + 1 : z^6 + z^5 + z^4 + z^3 + z^2 : 1),\n",
       " (z^5 + z^2 + z + 1 : z^7 + z^6 + z^3 + z : 1),\n",
       " (z^5 + z^2 + z + 1 : z^7 + z^6 + z^5 + z^3 + z^2 + 1 : 1),\n",
       " (z^5 + z^3 : z^4 + z^3 + z^2 + z + 1 : 1),\n",
       " (z^5 + z^3 : z^5 + z^4 + z^2 + z + 1 : 1),\n",
       " (z^5 + z^3 + z : z^7 + z^4 : 1),\n",
       " (z^5 + z^3 + z : z^7 + z^5 + z^4 + z^3 + z : 1),\n",
       " (z^5 + z^3 + z^2 : z^7 + z^4 + z^2 : 1),\n",
       " (z^5 + z^3 + z^2 : z^7 + z^5 + z^4 + z^3 : 1),\n",
       " (z^5 + z^3 + z^2 + z + 1 : z^3 + z^2 + 1 : 1),\n",
       " (z^5 + z^3 + z^2 + z + 1 : z^5 + z : 1),\n",
       " (z^5 + z^4 : z^4 + z + 1 : 1),\n",
       " (z^5 + z^4 : z^5 + z + 1 : 1),\n",
       " (z^5 + z^4 + z : z^4 + z^3 + z^2 : 1),\n",
       " (z^5 + z^4 + z : z^5 + z^3 + z^2 + z : 1),\n",
       " (z^5 + z^4 + z + 1 : z^6 + z^4 + z^2 + z + 1 : 1),\n",
       " (z^5 + z^4 + z + 1 : z^6 + z^5 + z^2 : 1),\n",
       " (z^5 + z^4 + z^2 + 1 : z^7 + z^4 + z^3 + z + 1 : 1),\n",
       " (z^5 + z^4 + z^2 + 1 : z^7 + z^5 + z^3 + z^2 + z : 1),\n",
       " (z^5 + z^4 + z^2 + z : z^6 : 1),\n",
       " (z^5 + z^4 + z^2 + z : z^6 + z^5 + z^4 + z^2 + z : 1),\n",
       " (z^5 + z^4 + z^3 + 1 : z^7 + z^6 + z^4 + z^2 + 1 : 1),\n",
       " (z^5 + z^4 + z^3 + 1 : z^7 + z^6 + z^5 + z^3 + z^2 : 1),\n",
       " (z^5 + z^4 + z^3 + z : z^4 + z^3 + z^2 + 1 : 1),\n",
       " (z^5 + z^4 + z^3 + z : z^5 + z^2 + z + 1 : 1),\n",
       " (z^5 + z^4 + z^3 + z + 1 : z^2 + 1 : 1),\n",
       " (z^5 + z^4 + z^3 + z + 1 : z^5 + z^4 + z^3 + z^2 + z : 1),\n",
       " (z^5 + z^4 + z^3 + z^2 : z^6 : 1),\n",
       " (z^5 + z^4 + z^3 + z^2 : z^6 + z^5 + z^4 + z^3 + z^2 : 1),\n",
       " (z^6 : z^3 + z^2 + 1 : 1),\n",
       " (z^6 : z^6 + z^3 + z^2 + 1 : 1),\n",
       " (z^6 + 1 : z + 1 : 1),\n",
       " (z^6 + 1 : z^6 + z : 1),\n",
       " (z^6 + z^2 + z : z^5 + z^4 + z^2 + z + 1 : 1),\n",
       " (z^6 + z^2 + z : z^6 + z^5 + z^4 + 1 : 1),\n",
       " (z^6 + z^3 : z^7 + z^5 + z^2 + z + 1 : 1),\n",
       " (z^6 + z^3 : z^7 + z^6 + z^5 + z^3 + z^2 + z + 1 : 1),\n",
       " (z^6 + z^3 + z : z^5 + z^2 + z : 1),\n",
       " (z^6 + z^3 + z : z^6 + z^5 + z^3 + z^2 : 1),\n",
       " (z^6 + z^3 + z + 1 : z^5 + z^2 : 1),\n",
       " (z^6 + z^3 + z + 1 : z^6 + z^5 + z^3 + z^2 + z + 1 : 1),\n",
       " (z^6 + z^3 + z^2 : z^7 + z^5 + z^2 + 1 : 1),\n",
       " (z^6 + z^3 + z^2 : z^7 + z^6 + z^5 + z^3 + 1 : 1),\n",
       " (z^6 + z^3 + z^2 + z : z^5 + z^3 + z^2 : 1),\n",
       " (z^6 + z^3 + z^2 + z : z^6 + z^5 + z : 1),\n",
       " (z^6 + z^3 + z^2 + z + 1 : z^7 + z^5 + z^3 + z^2 + z : 1),\n",
       " (z^6 + z^3 + z^2 + z + 1 : z^7 + z^6 + z^5 + 1 : 1),\n",
       " (z^6 + z^4 : z^7 + z^5 + z^4 + z^3 + z^2 + z : 1),\n",
       " (z^6 + z^4 : z^7 + z^6 + z^5 + z^3 + z^2 + z : 1),\n",
       " (z^6 + z^4 + 1 : z^7 + z^5 + z^4 + z^3 + z : 1),\n",
       " (z^6 + z^4 + 1 : z^7 + z^6 + z^5 + z^3 + z + 1 : 1),\n",
       " (z^6 + z^4 + z : z^7 + z^5 + z^3 + z : 1),\n",
       " (z^6 + z^4 + z : z^7 + z^6 + z^5 + z^4 + z^3 : 1),\n",
       " (z^6 + z^4 + z^2 : z^4 + z^2 + 1 : 1),\n",
       " (z^6 + z^4 + z^2 : z^6 + 1 : 1),\n",
       " (z^6 + z^4 + z^2 + z + 1 : z^3 + z^2 : 1),\n",
       " (z^6 + z^4 + z^2 + z + 1 : z^6 + z^4 + z^3 + z + 1 : 1),\n",
       " (z^6 + z^4 + z^3 : z^7 + z^5 + z^4 + z^3 + z^2 + 1 : 1),\n",
       " (z^6 + z^4 + z^3 : z^7 + z^6 + z^5 + z^2 + 1 : 1),\n",
       " (z^6 + z^4 + z^3 + z + 1 : z^5 + z^3 + z : 1),\n",
       " (z^6 + z^4 + z^3 + z + 1 : z^6 + z^5 + z^4 + 1 : 1),\n",
       " (z^6 + z^4 + z^3 + z^2 : z^7 + z^4 + z^3 + z : 1),\n",
       " (z^6 + z^4 + z^3 + z^2 : z^7 + z^6 + z^2 + z : 1),\n",
       " (z^6 + z^4 + z^3 + z^2 + 1 : z^4 + z^3 + 1 : 1),\n",
       " (z^6 + z^4 + z^3 + z^2 + 1 : z^6 + z^2 : 1),\n",
       " (z^6 + z^4 + z^3 + z^2 + z + 1 : z^5 + z^3 + z^2 : 1),\n",
       " (z^6 + z^4 + z^3 + z^2 + z + 1 : z^6 + z^5 + z^4 + z + 1 : 1),\n",
       " (z^6 + z^5 + z + 1 : z^7 + z^5 + z : 1),\n",
       " (z^6 + z^5 + z + 1 : z^7 + z^6 + 1 : 1),\n",
       " (z^6 + z^5 + z^2 + z : z^7 + z^4 + z^3 : 1),\n",
       " (z^6 + z^5 + z^2 + z : z^7 + z^6 + z^5 + z^4 + z^3 + z^2 + z : 1),\n",
       " (z^6 + z^5 + z^3 + z : z^7 + z^5 + z^3 + z^2 + z : 1),\n",
       " (z^6 + z^5 + z^3 + z : z^7 + z^6 + z^2 : 1),\n",
       " (z^6 + z^5 + z^3 + z + 1 : z^7 + z^5 + z^4 + z^3 + z : 1),\n",
       " (z^6 + z^5 + z^3 + z + 1 : z^7 + z^6 + z^4 + 1 : 1),\n",
       " (z^6 + z^5 + z^3 + z^2 : z^4 + z^2 + z + 1 : 1),\n",
       " (z^6 + z^5 + z^3 + z^2 : z^6 + z^5 + z^4 + z^3 + z + 1 : 1),\n",
       " (z^6 + z^5 + z^3 + z^2 + 1 : z^2 + z : 1),\n",
       " (z^6 + z^5 + z^3 + z^2 + 1 : z^6 + z^5 + z^3 + z + 1 : 1),\n",
       " (z^6 + z^5 + z^3 + z^2 + z : z^7 + z^4 + z^3 + z^2 + 1 : 1),\n",
       " (z^6 + z^5 + z^3 + z^2 + z : z^7 + z^6 + z^5 + z^4 + z + 1 : 1),\n",
       " (z^6 + z^5 + z^3 + z^2 + z + 1 : z^4 : 1),\n",
       " (z^6 + z^5 + z^3 + z^2 + z + 1 : z^6 + z^5 + z^4 + z^3 + z^2 + z + 1 : 1),\n",
       " (z^6 + z^5 + z^4 : z^3 + z + 1 : 1),\n",
       " (z^6 + z^5 + z^4 : z^6 + z^5 + z^4 + z^3 + z + 1 : 1),\n",
       " (z^6 + z^5 + z^4 + z : z^7 + z^5 + z^4 + z^2 + z : 1),\n",
       " (z^6 + z^5 + z^4 + z : z^7 + z^6 + z^2 : 1),\n",
       " (z^6 + z^5 + z^4 + z + 1 : z^5 + z^4 + z^3 + z : 1),\n",
       " (z^6 + z^5 + z^4 + z + 1 : z^6 + z^3 + 1 : 1),\n",
       " (z^6 + z^5 + z^4 + z^2 + z + 1 : z^5 + z^3 + z^2 + z + 1 : 1),\n",
       " (z^6 + z^5 + z^4 + z^2 + z + 1 : z^6 + z^4 + z^3 : 1),\n",
       " (z^6 + z^5 + z^4 + z^3 + 1 : z^7 + z^5 + z^2 : 1),\n",
       " (z^6 + z^5 + z^4 + z^3 + 1 : z^7 + z^6 + z^4 + z^3 + z^2 + 1 : 1),\n",
       " (z^6 + z^5 + z^4 + z^3 + z : z^7 + z^5 + z^4 + z + 1 : 1),\n",
       " (z^6 + z^5 + z^4 + z^3 + z : z^7 + z^6 + z^3 + 1 : 1),\n",
       " (z^6 + z^5 + z^4 + z^3 + z^2 + z : z^5 + z^4 + z^2 + z + 1 : 1),\n",
       " (z^6 + z^5 + z^4 + z^3 + z^2 + z : z^6 + z^3 + 1 : 1),\n",
       " (z^6 + z^5 + z^4 + z^3 + z^2 + z + 1 : z^3 + z^2 + 1 : 1),\n",
       " (z^6 + z^5 + z^4 + z^3 + z^2 + z + 1 : z^6 + z^5 + z^4 + z : 1),\n",
       " (z^7 : z^4 + z^3 + z^2 + z + 1 : 1),\n",
       " (z^7 : z^7 + z^4 + z^3 + z^2 + z + 1 : 1),\n",
       " (z^7 + 1 : z^6 + z^5 + z : 1),\n",
       " (z^7 + 1 : z^7 + z^6 + z^5 + z + 1 : 1),\n",
       " (z^7 + z : z^6 + z^4 + 1 : 1),\n",
       " (z^7 + z : z^7 + z^6 + z^4 + z + 1 : 1),\n",
       " (z^7 + z + 1 : z^6 + z^3 + z : 1),\n",
       " (z^7 + z + 1 : z^7 + z^6 + z^3 + 1 : 1),\n",
       " (z^7 + z^2 : z^6 + z^5 + z^4 + z^2 + 1 : 1),\n",
       " (z^7 + z^2 : z^7 + z^6 + z^5 + z^4 + 1 : 1),\n",
       " (z^7 + z^2 + 1 : z^3 + z + 1 : 1),\n",
       " (z^7 + z^2 + 1 : z^7 + z^3 + z^2 + z : 1),\n",
       " (z^7 + z^3 : z^5 + z^4 + z^3 + z : 1),\n",
       " (z^7 + z^3 : z^7 + z^5 + z^4 + z : 1),\n",
       " (z^7 + z^3 + 1 : z^4 + z^3 + 1 : 1),\n",
       " (z^7 + z^3 + 1 : z^7 + z^4 : 1),\n",
       " (z^7 + z^3 + z : z^5 + z^4 + z^3 + z^2 + z + 1 : 1),\n",
       " (z^7 + z^3 + z : z^7 + z^5 + z^4 + z^2 + 1 : 1),\n",
       " (z^7 + z^3 + z + 1 : z^5 + z^3 + z^2 + 1 : 1),\n",
       " (z^7 + z^3 + z + 1 : z^7 + z^5 + z^2 + z : 1),\n",
       " (z^7 + z^4 : z^6 + 1 : 1),\n",
       " (z^7 + z^4 : z^7 + z^6 + z^4 + 1 : 1),\n",
       " (z^7 + z^4 + 1 : z^6 + z^5 : 1),\n",
       " (z^7 + z^4 + 1 : z^7 + z^6 + z^5 + z^4 + 1 : 1),\n",
       " (z^7 + z^4 + z : z^6 + z^5 + z^3 + z : 1),\n",
       " (z^7 + z^4 + z : z^7 + z^6 + z^5 + z^4 + z^3 : 1),\n",
       " (z^7 + z^4 + z + 1 : z^5 + z + 1 : 1),\n",
       " (z^7 + z^4 + z + 1 : z^7 + z^5 + z^4 : 1),\n",
       " (z^7 + z^4 + z^2 : z^5 + z^4 + z^3 + z^2 + z + 1 : 1),\n",
       " (z^7 + z^4 + z^2 : z^7 + z^5 + z^3 + z + 1 : 1),\n",
       " (z^7 + z^4 + z^2 + 1 : z^6 + z^5 + z^3 + z + 1 : 1),\n",
       " (z^7 + z^4 + z^2 + 1 : z^7 + z^6 + z^5 + z^4 + z^3 + z^2 + z : 1),\n",
       " (z^7 + z^4 + z^2 + z : z^5 + 1 : 1),\n",
       " (z^7 + z^4 + z^2 + z : z^7 + z^5 + z^4 + z^2 + z + 1 : 1),\n",
       " (z^7 + z^4 + z^2 + z + 1 : z^5 + z^3 + z : 1),\n",
       " (z^7 + z^4 + z^2 + z + 1 : z^7 + z^5 + z^4 + z^3 + z^2 + 1 : 1),\n",
       " (z^7 + z^4 + z^3 : z^5 + z^4 + z + 1 : 1),\n",
       " (z^7 + z^4 + z^3 : z^7 + z^5 + z^3 + z + 1 : 1),\n",
       " (z^7 + z^4 + z^3 + z : z^5 + z^3 + z^2 + 1 : 1),\n",
       " (z^7 + z^4 + z^3 + z : z^7 + z^5 + z^4 + z^2 + z + 1 : 1),\n",
       " (z^7 + z^4 + z^3 + z + 1 : z^5 + z^3 + z + 1 : 1),\n",
       " (z^7 + z^4 + z^3 + z + 1 : z^7 + z^5 + z^4 : 1),\n",
       " (z^7 + z^4 + z^3 + z^2 + 1 : z^6 + z^5 + z^3 : 1),\n",
       " (z^7 + z^4 + z^3 + z^2 + 1 : z^7 + z^6 + z^5 + z^4 + z^2 + 1 : 1),\n",
       " (z^7 + z^4 + z^3 + z^2 + z : z^3 + z^2 : 1),\n",
       " (z^7 + z^4 + z^3 + z^2 + z : z^7 + z^4 + z : 1),\n",
       " (z^7 + z^4 + z^3 + z^2 + z + 1 : z^6 + z + 1 : 1),\n",
       " (z^7 + z^4 + z^3 + z^2 + z + 1 : z^7 + z^6 + z^4 + z^3 + z^2 : 1),\n",
       " (z^7 + z^5 : z^6 + z^2 : 1),\n",
       " (z^7 + z^5 : z^7 + z^6 + z^5 + z^2 : 1),\n",
       " (z^7 + z^5 + z^2 + 1 : z^6 + z^3 + z + 1 : 1),\n",
       " (z^7 + z^5 + z^2 + 1 : z^7 + z^6 + z^5 + z^3 + z^2 + z : 1),\n",
       " (z^7 + z^5 + z^2 + z + 1 : z^6 + z : 1),\n",
       " (z^7 + z^5 + z^2 + z + 1 : z^7 + z^6 + z^5 + z^2 + 1 : 1),\n",
       " (z^7 + z^5 + z^3 + z : z^6 + z^3 + z + 1 : 1),\n",
       " (z^7 + z^5 + z^3 + z : z^7 + z^6 + z^5 + 1 : 1),\n",
       " (z^7 + z^5 + z^3 + z + 1 : z^3 + z^2 + z + 1 : 1),\n",
       " (z^7 + z^5 + z^3 + z + 1 : z^7 + z^5 + z^2 : 1),\n",
       " (z^7 + z^5 + z^3 + z^2 + 1 : z^6 + z^5 + z^4 : 1),\n",
       " (z^7 + z^5 + z^3 + z^2 + 1 : z^7 + z^6 + z^4 + z^3 + z^2 + 1 : 1),\n",
       " (z^7 + z^5 + z^4 : z^6 + z^3 + z^2 : 1),\n",
       " (z^7 + z^5 + z^4 : z^7 + z^6 + z^5 + z^4 + z^3 + z^2 : 1),\n",
       " (z^7 + z^5 + z^4 + 1 : z^6 + z^3 + z^2 : 1),\n",
       " (z^7 + z^5 + z^4 + 1 : z^7 + z^6 + z^5 + z^4 + z^3 + z^2 + 1 : 1),\n",
       " (z^7 + z^5 + z^4 + z : z^5 + z^4 + z^3 + z + 1 : 1),\n",
       " (z^7 + z^5 + z^4 + z : z^7 + z^3 + 1 : 1),\n",
       " (z^7 + z^5 + z^4 + z + 1 : z^5 + z + 1 : 1),\n",
       " (z^7 + z^5 + z^4 + z + 1 : z^7 + z^4 : 1),\n",
       " (z^7 + z^5 + z^4 + z^2 : z^2 + z + 1 : 1),\n",
       " (z^7 + z^5 + z^4 + z^2 : z^7 + z^5 + z^4 + z + 1 : 1),\n",
       " (z^7 + z^5 + z^4 + z^3 : z^4 + z^3 + z^2 + z + 1 : 1),\n",
       " (z^7 + z^5 + z^4 + z^3 : z^7 + z^5 + z^2 + z + 1 : 1),\n",
       " (z^7 + z^5 + z^4 + z^3 + z^2 : z^5 + z^4 + z^3 + z + 1 : 1),\n",
       " (z^7 + z^5 + z^4 + z^3 + z^2 : z^7 + z^2 + z + 1 : 1),\n",
       " (z^7 + z^5 + z^4 + z^3 + z^2 + 1 : z^4 + z^2 + z + 1 : 1),\n",
       " (z^7 + z^5 + z^4 + z^3 + z^2 + 1 : z^7 + z^5 + z^3 + z : 1),\n",
       " (z^7 + z^5 + z^4 + z^3 + z^2 + z + 1 : z^6 + z^5 + z^2 + z + 1 : 1),\n",
       " (z^7 + z^5 + z^4 + z^3 + z^2 + z + 1 : z^7 + z^6 + z^4 + z^3 : 1),\n",
       " (z^7 + z^6 + 1 : z^4 + z^2 + z + 1 : 1),\n",
       " (z^7 + z^6 + 1 : z^7 + z^6 + z^4 + z^2 + z : 1),\n",
       " (z^7 + z^6 + z : z^6 + z^5 + z^2 + z : 1),\n",
       " (z^7 + z^6 + z : z^7 + z^5 + z^2 : 1),\n",
       " (z^7 + z^6 + z^2 : z^4 + z^3 + 1 : 1),\n",
       " (z^7 + z^6 + z^2 : z^7 + z^6 + z^4 + z^3 + z^2 + 1 : 1),\n",
       " (z^7 + z^6 + z^2 + 1 : z^4 + z^3 + z^2 : 1),\n",
       " (z^7 + z^6 + z^2 + 1 : z^7 + z^6 + z^4 + z^3 + 1 : 1),\n",
       " (z^7 + z^6 + z^3 + 1 : z^4 + z^3 + z^2 + 1 : 1),\n",
       " (z^7 + z^6 + z^3 + 1 : z^7 + z^6 + z^4 + z^2 : 1),\n",
       " (z^7 + z^6 + z^4 : z^5 + z^3 : 1),\n",
       " (z^7 + z^6 + z^4 : z^7 + z^6 + z^5 + z^4 + z^3 : 1),\n",
       " (z^7 + z^6 + z^4 + z + 1 : z^6 + z^4 + z^3 + z^2 + z : 1),\n",
       " (z^7 + z^6 + z^4 + z + 1 : z^7 + z^3 + z^2 + 1 : 1),\n",
       " (z^7 + z^6 + z^4 + z^2 : z^6 + 1 : 1),\n",
       " (z^7 + z^6 + z^4 + z^2 : z^7 + z^4 + z^2 + 1 : 1),\n",
       " (z^7 + z^6 + z^4 + z^2 + 1 : z^6 + z^5 + z^4 + z^3 + z : 1),\n",
       " (z^7 + z^6 + z^4 + z^2 + 1 : z^7 + z^5 + z^3 + z^2 + z + 1 : 1),\n",
       " (z^7 + z^6 + z^4 + z^3 : z^3 + z^2 + z : 1),\n",
       " (z^7 + z^6 + z^4 + z^3 : z^7 + z^6 + z^4 + z^2 + z : 1),\n",
       " (z^7 + z^6 + z^4 + z^3 + 1 : z^3 + z^2 : 1),\n",
       " (z^7 + z^6 + z^4 + z^3 + 1 : z^7 + z^6 + z^4 + z^2 + 1 : 1),\n",
       " (z^7 + z^6 + z^4 + z^3 + z : z^5 + z^4 + z^3 + z^2 : 1),\n",
       " (z^7 + z^6 + z^4 + z^3 + z : z^7 + z^6 + z^5 + z^2 + z : 1),\n",
       " (z^7 + z^6 + z^4 + z^3 + z + 1 : z^6 + z^2 + 1 : 1),\n",
       " (z^7 + z^6 + z^4 + z^3 + z + 1 : z^7 + z^4 + z^3 + z^2 + z : 1),\n",
       " (z^7 + z^6 + z^4 + z^3 + z^2 : z^5 + z^3 + z : 1),\n",
       " (z^7 + z^6 + z^4 + z^3 + z^2 : z^7 + z^6 + z^5 + z^4 + z^2 + z : 1),\n",
       " (z^7 + z^6 + z^4 + z^3 + z^2 + z : z^6 + z^5 + z^3 + z^2 + 1 : 1),\n",
       " (z^7 + z^6 + z^4 + z^3 + z^2 + z : z^7 + z^5 + z^4 + z + 1 : 1),\n",
       " (z^7 + z^6 + z^4 + z^3 + z^2 + z + 1 : z^6 + z^5 + z : 1),\n",
       " (z^7 + z^6 + z^4 + z^3 + z^2 + z + 1 : z^7 + z^5 + z^4 + z^3 + z^2 + 1 : 1),\n",
       " (z^7 + z^6 + z^5 : z^6 + z^2 + z + 1 : 1),\n",
       " (z^7 + z^6 + z^5 : z^7 + z^5 + z^2 + z + 1 : 1),\n",
       " (z^7 + z^6 + z^5 + 1 : z^5 + z^3 + 1 : 1),\n",
       " (z^7 + z^6 + z^5 + 1 : z^7 + z^6 + z^3 : 1),\n",
       " (z^7 + z^6 + z^5 + z + 1 : z^4 + z^3 + z^2 + 1 : 1),\n",
       " (z^7 + z^6 + z^5 + z + 1 : z^7 + z^6 + z^5 + z^4 + z^3 + z^2 + z : 1),\n",
       " (z^7 + z^6 + z^5 + z^2 + 1 : z^3 + z + 1 : 1),\n",
       " (z^7 + z^6 + z^5 + z^2 + 1 : z^7 + z^6 + z^5 + z^3 + z^2 + z : 1),\n",
       " (z^7 + z^6 + z^5 + z^2 + z + 1 : z^4 + z^3 + z^2 : 1),\n",
       " (z^7 + z^6 + z^5 + z^2 + z + 1 : z^7 + z^6 + z^5 + z^4 + z^3 + z + 1 : 1),\n",
       " (z^7 + z^6 + z^5 + z^3 : z^6 + z^5 + z^3 + z + 1 : 1),\n",
       " (z^7 + z^6 + z^5 + z^3 : z^7 + z + 1 : 1),\n",
       " (z^7 + z^6 + z^5 + z^3 + 1 : z^5 : 1),\n",
       " (z^7 + z^6 + z^5 + z^3 + 1 : z^7 + z^6 + z^3 + 1 : 1),\n",
       " (z^7 + z^6 + z^5 + z^3 + z + 1 : z^5 + z^4 + z^3 + z : 1),\n",
       " (z^7 + z^6 + z^5 + z^3 + z + 1 : z^7 + z^6 + z^4 + 1 : 1),\n",
       " (z^7 + z^6 + z^5 + z^3 + z^2 : z^6 + z^4 + z^2 + 1 : 1),\n",
       " (z^7 + z^6 + z^5 + z^3 + z^2 : z^7 + z^5 + z^4 + z^3 + 1 : 1),\n",
       " (z^7 + z^6 + z^5 + z^3 + z^2 + 1 : z^6 + z^2 : 1),\n",
       " (z^7 + z^6 + z^5 + z^3 + z^2 + 1 : z^7 + z^5 + z^3 + 1 : 1),\n",
       " (z^7 + z^6 + z^5 + z^3 + z^2 + z : z^4 + z^3 + z^2 + z : 1),\n",
       " (z^7 + z^6 + z^5 + z^3 + z^2 + z : z^7 + z^6 + z^5 + z^4 : 1),\n",
       " (z^7 + z^6 + z^5 + z^3 + z^2 + z + 1 : z^3 + z : 1),\n",
       " (z^7 + z^6 + z^5 + z^3 + z^2 + z + 1 : z^7 + z^6 + z^5 + z^2 + 1 : 1),\n",
       " (z^7 + z^6 + z^5 + z^4 : z^5 + z^2 + 1 : 1),\n",
       " (z^7 + z^6 + z^5 + z^4 : z^7 + z^6 + z^4 + z^2 + 1 : 1),\n",
       " (z^7 + z^6 + z^5 + z^4 + z^2 + 1 : z^4 + z^2 : 1),\n",
       " (z^7 + z^6 + z^5 + z^4 + z^2 + 1 : z^7 + z^6 + z^5 + 1 : 1),\n",
       " (z^7 + z^6 + z^5 + z^4 + z^2 + z : z^6 + z : 1),\n",
       " (z^7 + z^6 + z^5 + z^4 + z^2 + z : z^7 + z^5 + z^4 + z^2 : 1),\n",
       " (z^7 + z^6 + z^5 + z^4 + z^3 + z + 1 : z^5 + z^4 + z^2 + 1 : 1),\n",
       " (z^7 + z^6 + z^5 + z^4 + z^3 + z + 1 : z^7 + z^6 + z^3 + z^2 + z : 1),\n",
       " (z^7 + z^6 + z^5 + z^4 + z^3 + z^2 + 1 : z^6 + z^4 + z^3 + z^2 : 1),\n",
       " (z^7 + z^6 + z^5 + z^4 + z^3 + z^2 + 1 : z^7 + z^5 + 1 : 1),\n",
       " (z^7 + z^6 + z^5 + z^4 + z^3 + z^2 + z : z^5 + z^2 + 1 : 1),\n",
       " (z^7 + z^6 + z^5 + z^4 + z^3 + z^2 + z : z^7 + z^6 + z^4 + z^3 + z + 1 : 1),\n",
       " (z^7 + z^6 + z^5 + z^4 + z^3 + z^2 + z + 1 : z^6 + z^4 + z^2 + 1 : 1),\n",
       " (z^7 + z^6 + z^5 + z^4 + z^3 + z^2 + z + 1 : z^7 + z^5 + z^3 + z : 1)]"
      ]
     },
     "execution_count": 20,
     "metadata": {},
     "output_type": "execute_result"
    }
   ],
   "source": [
    "# G = C.point(()) \n",
    "pts = [p for p in C.points()] #AAAh ada 16 sedangkan di certicom 15, karena 1nya (pts[0]) itu point at infinity!!\n",
    "pts"
   ]
  },
  {
   "cell_type": "code",
   "execution_count": 21,
   "metadata": {},
   "outputs": [
    {
     "data": {
      "text/plain": [
       "(z^6 + z^3 + z^2 + z + 1 : z^7 + z^6 + z^5 + 1 : 1)"
      ]
     },
     "execution_count": 21,
     "metadata": {},
     "output_type": "execute_result"
    }
   ],
   "source": [
    "pts[5]+pts[3]"
   ]
  },
  {
   "cell_type": "code",
   "execution_count": 22,
   "metadata": {},
   "outputs": [
    {
     "data": {
      "text/plain": [
       "((z^7 + z^6 + z^4 + z^3 + z + 1 : z^6 + z^2 + 1 : 1),\n",
       " (z^6 + z^5 + z^3 + z^2 : z^6 + z^5 + z^4 + z^3 + z + 1 : 1))"
      ]
     },
     "execution_count": 22,
     "metadata": {},
     "output_type": "execute_result"
    }
   ],
   "source": [
    "C.gens() #For extension fields, the generator is obtained with the .gen() function. \n",
    "#nilai ini ga berubah2, artinya memang dia ya yg memenuhi?"
   ]
  },
  {
   "cell_type": "code",
   "execution_count": 23,
   "metadata": {},
   "outputs": [
    {
     "data": {
      "text/plain": [
       "(z^6 + z^4 + z^2 + z + 1 : z^3 + z^2 : 1)"
      ]
     },
     "execution_count": 23,
     "metadata": {},
     "output_type": "execute_result"
    }
   ],
   "source": [
    "pts[5]+pts[5] #point addition"
   ]
  },
  {
   "cell_type": "code",
   "execution_count": 24,
   "metadata": {},
   "outputs": [
    {
     "data": {
      "text/plain": [
       "(z^6 + z^4 + z^2 + z + 1 : z^3 + z^2 : 1)"
      ]
     },
     "execution_count": 24,
     "metadata": {},
     "output_type": "execute_result"
    }
   ],
   "source": [
    "2*(pts[5]) #doubling"
   ]
  },
  {
   "cell_type": "code",
   "execution_count": 25,
   "metadata": {},
   "outputs": [
    {
     "data": {
      "text/plain": [
       "((1 : z^5 + z^3 + z^2 : 1), (1 : z^5 + z^3 + z^2 + 1 : 1), (0 : 1 : 0))"
      ]
     },
     "execution_count": 25,
     "metadata": {},
     "output_type": "execute_result"
    }
   ],
   "source": [
    "#misal, titik yg mau ditambah:\n",
    "pts[2], pts[3], pts[2]+pts[3] #ups jadi point at inf, ganti yuuu"
   ]
  },
  {
   "cell_type": "code",
   "execution_count": 26,
   "metadata": {},
   "outputs": [
    {
     "data": {
      "text/plain": [
       "((0 : 1 : 1), (1 : z^5 + z^3 + z^2 : 1), (1 : z^5 + z^3 + z^2 + 1 : 1))"
      ]
     },
     "execution_count": 26,
     "metadata": {},
     "output_type": "execute_result"
    }
   ],
   "source": [
    "pts[1], pts[2], pts[1]+pts[2] # ini enak kayanya bucat diplot di QC? cek requirement \n",
    "#P(x1, y1)= (0,1), Q(x2, y2) = (1, z^3 + z^2), R = (1, z^3 + z^2 + 1) --> so far masih sesuai syarat sih, x1 != x2. Dan yg ditambahin, si const pake yg agak rebek biar ga terlalu trivial.. gt? "
   ]
  },
  {
   "cell_type": "code",
   "execution_count": 27,
   "metadata": {},
   "outputs": [],
   "source": [
    "#fail\n",
    "# plot(pts[1]) #gabisa diplot karena yaa polynom. That's why si certicom dibuat g^0 g^1 dkk, biar representingnya enak!(kayanya)"
   ]
  },
  {
   "cell_type": "code",
   "execution_count": 28,
   "metadata": {},
   "outputs": [
    {
     "data": {
      "text/plain": [
       "(1 : z^5 + z^3 + z^2 : 1)"
      ]
     },
     "execution_count": 28,
     "metadata": {},
     "output_type": "execute_result"
    }
   ],
   "source": [
    "pts[2]"
   ]
  },
  {
   "cell_type": "code",
   "execution_count": 29,
   "metadata": {},
   "outputs": [
    {
     "data": {
      "text/plain": [
       "<class 'sage.schemes.elliptic_curves.ell_point.EllipticCurvePoint_finite_field'>"
      ]
     },
     "execution_count": 29,
     "metadata": {},
     "output_type": "execute_result"
    }
   ],
   "source": [
    "type(pts[2])"
   ]
  },
  {
   "cell_type": "code",
   "execution_count": 30,
   "metadata": {},
   "outputs": [
    {
     "data": {
      "text/plain": [
       "(z^5 + z^3 + z^2 + 1, 0)"
      ]
     },
     "execution_count": 30,
     "metadata": {},
     "output_type": "execute_result"
    }
   ],
   "source": [
    "pts[2][1]+pts[1][1], pts[2][1]+pts[2][1]"
   ]
  },
  {
   "cell_type": "code",
   "execution_count": 31,
   "metadata": {},
   "outputs": [
    {
     "data": {
      "text/plain": [
       "z^5 + z^3 + z^2"
      ]
     },
     "execution_count": 31,
     "metadata": {},
     "output_type": "execute_result"
    }
   ],
   "source": [
    "pts[2][1]"
   ]
  },
  {
   "cell_type": "code",
   "execution_count": 32,
   "metadata": {},
   "outputs": [
    {
     "data": {
      "text/plain": [
       "z^5 + z^3 + z^2"
      ]
     },
     "execution_count": 32,
     "metadata": {},
     "output_type": "execute_result"
    }
   ],
   "source": [
    "pts[2][1]\n"
   ]
  },
  {
   "cell_type": "code",
   "execution_count": 33,
   "metadata": {},
   "outputs": [
    {
     "data": {
      "text/plain": [
       "(z^7 + z^6 + z^3 + 1 : z^7 + z^6 + z^4 + z^2 : 1)"
      ]
     },
     "execution_count": 33,
     "metadata": {},
     "output_type": "execute_result"
    }
   ],
   "source": [
    "C.random_element()"
   ]
  },
  {
   "cell_type": "code",
   "execution_count": 34,
   "metadata": {},
   "outputs": [
    {
     "data": {
      "text/plain": [
       "[(0 : 1 : 0),\n",
       " (0 : 1 : 1),\n",
       " (1 : z^5 + z^3 + z^2 : 1),\n",
       " (1 : z^5 + z^3 + z^2 + 1 : 1),\n",
       " (z + 1 : z^6 + z^4 + z^2 + 1 : 1),\n",
       " (z + 1 : z^6 + z^4 + z^2 + z : 1),\n",
       " (z^2 + 1 : z^7 + z^6 + z^5 + z^4 + 1 : 1),\n",
       " (z^2 + 1 : z^7 + z^6 + z^5 + z^4 + z^2 : 1),\n",
       " (z^3 : z^7 + z^6 + z^2 : 1),\n",
       " (z^3 : z^7 + z^6 + z^3 + z^2 : 1),\n",
       " (z^3 + 1 : z^7 + z^6 + z^4 + z^2 + z : 1),\n",
       " (z^3 + 1 : z^7 + z^6 + z^4 + z^3 + z^2 + z + 1 : 1),\n",
       " (z^3 + z^2 : z^6 + z^5 + z^4 + z^2 + z + 1 : 1),\n",
       " (z^3 + z^2 : z^6 + z^5 + z^4 + z^3 + z + 1 : 1),\n",
       " (z^3 + z^2 + 1 : z^6 + z^5 + z^4 + 1 : 1),\n",
       " (z^3 + z^2 + 1 : z^6 + z^5 + z^4 + z^3 + z^2 : 1),\n",
       " (z^3 + z^2 + z : z^5 + z^4 + 1 : 1),\n",
       " (z^3 + z^2 + z : z^5 + z^4 + z^3 + z^2 + z + 1 : 1),\n",
       " (z^4 + 1 : z^6 + z^3 + z^2 : 1),\n",
       " (z^4 + 1 : z^6 + z^4 + z^3 + z^2 + 1 : 1),\n",
       " (z^4 + z : z^6 + z^2 + z : 1),\n",
       " (z^4 + z : z^6 + z^4 + z^2 : 1),\n",
       " (z^4 + z + 1 : z^7 + z^3 + z : 1),\n",
       " (z^4 + z + 1 : z^7 + z^4 + z^3 + 1 : 1),\n",
       " (z^4 + z^2 + z + 1 : z^7 + z^3 + z + 1 : 1),\n",
       " (z^4 + z^2 + z + 1 : z^7 + z^4 + z^3 + z^2 : 1),\n",
       " (z^4 + z^3 : z^7 + z^5 + z^3 : 1),\n",
       " (z^4 + z^3 : z^7 + z^5 + z^4 : 1),\n",
       " (z^4 + z^3 + z : z^6 : 1),\n",
       " (z^4 + z^3 + z : z^6 + z^4 + z^3 + z : 1),\n",
       " (z^4 + z^3 + z^2 : z^7 + z^5 + z^3 + z + 1 : 1),\n",
       " (z^4 + z^3 + z^2 : z^7 + z^5 + z^4 + z^2 + z + 1 : 1),\n",
       " (z^4 + z^3 + z^2 + 1 : z^6 + z^3 + 1 : 1),\n",
       " (z^4 + z^3 + z^2 + 1 : z^6 + z^4 + z^2 : 1),\n",
       " (z^4 + z^3 + z^2 + z : z^5 + z^2 + 1 : 1),\n",
       " (z^4 + z^3 + z^2 + z : z^5 + z^4 + z^3 + z + 1 : 1),\n",
       " (z^4 + z^3 + z^2 + z + 1 : z^6 + z^3 + z + 1 : 1),\n",
       " (z^4 + z^3 + z^2 + z + 1 : z^6 + z^4 + z^2 : 1),\n",
       " (z^5 : z^6 + z^4 + z^3 + z^2 + 1 : 1),\n",
       " (z^5 : z^6 + z^5 + z^4 + z^3 + z^2 + 1 : 1),\n",
       " (z^5 + 1 : z^6 + z^4 + z^3 + z^2 + 1 : 1),\n",
       " (z^5 + 1 : z^6 + z^5 + z^4 + z^3 + z^2 : 1),\n",
       " (z^5 + z^2 + z + 1 : z^7 + z^6 + z^3 + z : 1),\n",
       " (z^5 + z^2 + z + 1 : z^7 + z^6 + z^5 + z^3 + z^2 + 1 : 1),\n",
       " (z^5 + z^3 : z^4 + z^3 + z^2 + z + 1 : 1),\n",
       " (z^5 + z^3 : z^5 + z^4 + z^2 + z + 1 : 1),\n",
       " (z^5 + z^3 + z : z^7 + z^4 : 1),\n",
       " (z^5 + z^3 + z : z^7 + z^5 + z^4 + z^3 + z : 1),\n",
       " (z^5 + z^3 + z^2 : z^7 + z^4 + z^2 : 1),\n",
       " (z^5 + z^3 + z^2 : z^7 + z^5 + z^4 + z^3 : 1),\n",
       " (z^5 + z^3 + z^2 + z + 1 : z^3 + z^2 + 1 : 1),\n",
       " (z^5 + z^3 + z^2 + z + 1 : z^5 + z : 1),\n",
       " (z^5 + z^4 : z^4 + z + 1 : 1),\n",
       " (z^5 + z^4 : z^5 + z + 1 : 1),\n",
       " (z^5 + z^4 + z : z^4 + z^3 + z^2 : 1),\n",
       " (z^5 + z^4 + z : z^5 + z^3 + z^2 + z : 1),\n",
       " (z^5 + z^4 + z + 1 : z^6 + z^4 + z^2 + z + 1 : 1),\n",
       " (z^5 + z^4 + z + 1 : z^6 + z^5 + z^2 : 1),\n",
       " (z^5 + z^4 + z^2 + 1 : z^7 + z^4 + z^3 + z + 1 : 1),\n",
       " (z^5 + z^4 + z^2 + 1 : z^7 + z^5 + z^3 + z^2 + z : 1),\n",
       " (z^5 + z^4 + z^2 + z : z^6 : 1),\n",
       " (z^5 + z^4 + z^2 + z : z^6 + z^5 + z^4 + z^2 + z : 1),\n",
       " (z^5 + z^4 + z^3 + 1 : z^7 + z^6 + z^4 + z^2 + 1 : 1),\n",
       " (z^5 + z^4 + z^3 + 1 : z^7 + z^6 + z^5 + z^3 + z^2 : 1),\n",
       " (z^5 + z^4 + z^3 + z : z^4 + z^3 + z^2 + 1 : 1),\n",
       " (z^5 + z^4 + z^3 + z : z^5 + z^2 + z + 1 : 1),\n",
       " (z^5 + z^4 + z^3 + z + 1 : z^2 + 1 : 1),\n",
       " (z^5 + z^4 + z^3 + z + 1 : z^5 + z^4 + z^3 + z^2 + z : 1),\n",
       " (z^5 + z^4 + z^3 + z^2 : z^6 : 1),\n",
       " (z^5 + z^4 + z^3 + z^2 : z^6 + z^5 + z^4 + z^3 + z^2 : 1),\n",
       " (z^6 : z^3 + z^2 + 1 : 1),\n",
       " (z^6 : z^6 + z^3 + z^2 + 1 : 1),\n",
       " (z^6 + 1 : z + 1 : 1),\n",
       " (z^6 + 1 : z^6 + z : 1),\n",
       " (z^6 + z^2 + z : z^5 + z^4 + z^2 + z + 1 : 1),\n",
       " (z^6 + z^2 + z : z^6 + z^5 + z^4 + 1 : 1),\n",
       " (z^6 + z^3 : z^7 + z^5 + z^2 + z + 1 : 1),\n",
       " (z^6 + z^3 : z^7 + z^6 + z^5 + z^3 + z^2 + z + 1 : 1),\n",
       " (z^6 + z^3 + z : z^5 + z^2 + z : 1),\n",
       " (z^6 + z^3 + z : z^6 + z^5 + z^3 + z^2 : 1),\n",
       " (z^6 + z^3 + z + 1 : z^5 + z^2 : 1),\n",
       " (z^6 + z^3 + z + 1 : z^6 + z^5 + z^3 + z^2 + z + 1 : 1),\n",
       " (z^6 + z^3 + z^2 : z^7 + z^5 + z^2 + 1 : 1),\n",
       " (z^6 + z^3 + z^2 : z^7 + z^6 + z^5 + z^3 + 1 : 1),\n",
       " (z^6 + z^3 + z^2 + z : z^5 + z^3 + z^2 : 1),\n",
       " (z^6 + z^3 + z^2 + z : z^6 + z^5 + z : 1),\n",
       " (z^6 + z^3 + z^2 + z + 1 : z^7 + z^5 + z^3 + z^2 + z : 1),\n",
       " (z^6 + z^3 + z^2 + z + 1 : z^7 + z^6 + z^5 + 1 : 1),\n",
       " (z^6 + z^4 : z^7 + z^5 + z^4 + z^3 + z^2 + z : 1),\n",
       " (z^6 + z^4 : z^7 + z^6 + z^5 + z^3 + z^2 + z : 1),\n",
       " (z^6 + z^4 + 1 : z^7 + z^5 + z^4 + z^3 + z : 1),\n",
       " (z^6 + z^4 + 1 : z^7 + z^6 + z^5 + z^3 + z + 1 : 1),\n",
       " (z^6 + z^4 + z : z^7 + z^5 + z^3 + z : 1),\n",
       " (z^6 + z^4 + z : z^7 + z^6 + z^5 + z^4 + z^3 : 1),\n",
       " (z^6 + z^4 + z^2 : z^4 + z^2 + 1 : 1),\n",
       " (z^6 + z^4 + z^2 : z^6 + 1 : 1),\n",
       " (z^6 + z^4 + z^2 + z + 1 : z^3 + z^2 : 1),\n",
       " (z^6 + z^4 + z^2 + z + 1 : z^6 + z^4 + z^3 + z + 1 : 1),\n",
       " (z^6 + z^4 + z^3 : z^7 + z^5 + z^4 + z^3 + z^2 + 1 : 1),\n",
       " (z^6 + z^4 + z^3 : z^7 + z^6 + z^5 + z^2 + 1 : 1),\n",
       " (z^6 + z^4 + z^3 + z + 1 : z^5 + z^3 + z : 1),\n",
       " (z^6 + z^4 + z^3 + z + 1 : z^6 + z^5 + z^4 + 1 : 1),\n",
       " (z^6 + z^4 + z^3 + z^2 : z^7 + z^4 + z^3 + z : 1),\n",
       " (z^6 + z^4 + z^3 + z^2 : z^7 + z^6 + z^2 + z : 1),\n",
       " (z^6 + z^4 + z^3 + z^2 + 1 : z^4 + z^3 + 1 : 1),\n",
       " (z^6 + z^4 + z^3 + z^2 + 1 : z^6 + z^2 : 1),\n",
       " (z^6 + z^4 + z^3 + z^2 + z + 1 : z^5 + z^3 + z^2 : 1),\n",
       " (z^6 + z^4 + z^3 + z^2 + z + 1 : z^6 + z^5 + z^4 + z + 1 : 1),\n",
       " (z^6 + z^5 + z + 1 : z^7 + z^5 + z : 1),\n",
       " (z^6 + z^5 + z + 1 : z^7 + z^6 + 1 : 1),\n",
       " (z^6 + z^5 + z^2 + z : z^7 + z^4 + z^3 : 1),\n",
       " (z^6 + z^5 + z^2 + z : z^7 + z^6 + z^5 + z^4 + z^3 + z^2 + z : 1),\n",
       " (z^6 + z^5 + z^3 + z : z^7 + z^5 + z^3 + z^2 + z : 1),\n",
       " (z^6 + z^5 + z^3 + z : z^7 + z^6 + z^2 : 1),\n",
       " (z^6 + z^5 + z^3 + z + 1 : z^7 + z^5 + z^4 + z^3 + z : 1),\n",
       " (z^6 + z^5 + z^3 + z + 1 : z^7 + z^6 + z^4 + 1 : 1),\n",
       " (z^6 + z^5 + z^3 + z^2 : z^4 + z^2 + z + 1 : 1),\n",
       " (z^6 + z^5 + z^3 + z^2 : z^6 + z^5 + z^4 + z^3 + z + 1 : 1),\n",
       " (z^6 + z^5 + z^3 + z^2 + 1 : z^2 + z : 1),\n",
       " (z^6 + z^5 + z^3 + z^2 + 1 : z^6 + z^5 + z^3 + z + 1 : 1),\n",
       " (z^6 + z^5 + z^3 + z^2 + z : z^7 + z^4 + z^3 + z^2 + 1 : 1),\n",
       " (z^6 + z^5 + z^3 + z^2 + z : z^7 + z^6 + z^5 + z^4 + z + 1 : 1),\n",
       " (z^6 + z^5 + z^3 + z^2 + z + 1 : z^4 : 1),\n",
       " (z^6 + z^5 + z^3 + z^2 + z + 1 : z^6 + z^5 + z^4 + z^3 + z^2 + z + 1 : 1),\n",
       " (z^6 + z^5 + z^4 : z^3 + z + 1 : 1),\n",
       " (z^6 + z^5 + z^4 : z^6 + z^5 + z^4 + z^3 + z + 1 : 1),\n",
       " (z^6 + z^5 + z^4 + z : z^7 + z^5 + z^4 + z^2 + z : 1),\n",
       " (z^6 + z^5 + z^4 + z : z^7 + z^6 + z^2 : 1),\n",
       " (z^6 + z^5 + z^4 + z + 1 : z^5 + z^4 + z^3 + z : 1),\n",
       " (z^6 + z^5 + z^4 + z + 1 : z^6 + z^3 + 1 : 1),\n",
       " (z^6 + z^5 + z^4 + z^2 + z + 1 : z^5 + z^3 + z^2 + z + 1 : 1),\n",
       " (z^6 + z^5 + z^4 + z^2 + z + 1 : z^6 + z^4 + z^3 : 1),\n",
       " (z^6 + z^5 + z^4 + z^3 + 1 : z^7 + z^5 + z^2 : 1),\n",
       " (z^6 + z^5 + z^4 + z^3 + 1 : z^7 + z^6 + z^4 + z^3 + z^2 + 1 : 1),\n",
       " (z^6 + z^5 + z^4 + z^3 + z : z^7 + z^5 + z^4 + z + 1 : 1),\n",
       " (z^6 + z^5 + z^4 + z^3 + z : z^7 + z^6 + z^3 + 1 : 1),\n",
       " (z^6 + z^5 + z^4 + z^3 + z^2 + z : z^5 + z^4 + z^2 + z + 1 : 1),\n",
       " (z^6 + z^5 + z^4 + z^3 + z^2 + z : z^6 + z^3 + 1 : 1),\n",
       " (z^6 + z^5 + z^4 + z^3 + z^2 + z + 1 : z^3 + z^2 + 1 : 1),\n",
       " (z^6 + z^5 + z^4 + z^3 + z^2 + z + 1 : z^6 + z^5 + z^4 + z : 1),\n",
       " (z^7 : z^4 + z^3 + z^2 + z + 1 : 1),\n",
       " (z^7 : z^7 + z^4 + z^3 + z^2 + z + 1 : 1),\n",
       " (z^7 + 1 : z^6 + z^5 + z : 1),\n",
       " (z^7 + 1 : z^7 + z^6 + z^5 + z + 1 : 1),\n",
       " (z^7 + z : z^6 + z^4 + 1 : 1),\n",
       " (z^7 + z : z^7 + z^6 + z^4 + z + 1 : 1),\n",
       " (z^7 + z + 1 : z^6 + z^3 + z : 1),\n",
       " (z^7 + z + 1 : z^7 + z^6 + z^3 + 1 : 1),\n",
       " (z^7 + z^2 : z^6 + z^5 + z^4 + z^2 + 1 : 1),\n",
       " (z^7 + z^2 : z^7 + z^6 + z^5 + z^4 + 1 : 1),\n",
       " (z^7 + z^2 + 1 : z^3 + z + 1 : 1),\n",
       " (z^7 + z^2 + 1 : z^7 + z^3 + z^2 + z : 1),\n",
       " (z^7 + z^3 : z^5 + z^4 + z^3 + z : 1),\n",
       " (z^7 + z^3 : z^7 + z^5 + z^4 + z : 1),\n",
       " (z^7 + z^3 + 1 : z^4 + z^3 + 1 : 1),\n",
       " (z^7 + z^3 + 1 : z^7 + z^4 : 1),\n",
       " (z^7 + z^3 + z : z^5 + z^4 + z^3 + z^2 + z + 1 : 1),\n",
       " (z^7 + z^3 + z : z^7 + z^5 + z^4 + z^2 + 1 : 1),\n",
       " (z^7 + z^3 + z + 1 : z^5 + z^3 + z^2 + 1 : 1),\n",
       " (z^7 + z^3 + z + 1 : z^7 + z^5 + z^2 + z : 1),\n",
       " (z^7 + z^4 : z^6 + 1 : 1),\n",
       " (z^7 + z^4 : z^7 + z^6 + z^4 + 1 : 1),\n",
       " (z^7 + z^4 + 1 : z^6 + z^5 : 1),\n",
       " (z^7 + z^4 + 1 : z^7 + z^6 + z^5 + z^4 + 1 : 1),\n",
       " (z^7 + z^4 + z : z^6 + z^5 + z^3 + z : 1),\n",
       " (z^7 + z^4 + z : z^7 + z^6 + z^5 + z^4 + z^3 : 1),\n",
       " (z^7 + z^4 + z + 1 : z^5 + z + 1 : 1),\n",
       " (z^7 + z^4 + z + 1 : z^7 + z^5 + z^4 : 1),\n",
       " (z^7 + z^4 + z^2 : z^5 + z^4 + z^3 + z^2 + z + 1 : 1),\n",
       " (z^7 + z^4 + z^2 : z^7 + z^5 + z^3 + z + 1 : 1),\n",
       " (z^7 + z^4 + z^2 + 1 : z^6 + z^5 + z^3 + z + 1 : 1),\n",
       " (z^7 + z^4 + z^2 + 1 : z^7 + z^6 + z^5 + z^4 + z^3 + z^2 + z : 1),\n",
       " (z^7 + z^4 + z^2 + z : z^5 + 1 : 1),\n",
       " (z^7 + z^4 + z^2 + z : z^7 + z^5 + z^4 + z^2 + z + 1 : 1),\n",
       " (z^7 + z^4 + z^2 + z + 1 : z^5 + z^3 + z : 1),\n",
       " (z^7 + z^4 + z^2 + z + 1 : z^7 + z^5 + z^4 + z^3 + z^2 + 1 : 1),\n",
       " (z^7 + z^4 + z^3 : z^5 + z^4 + z + 1 : 1),\n",
       " (z^7 + z^4 + z^3 : z^7 + z^5 + z^3 + z + 1 : 1),\n",
       " (z^7 + z^4 + z^3 + z : z^5 + z^3 + z^2 + 1 : 1),\n",
       " (z^7 + z^4 + z^3 + z : z^7 + z^5 + z^4 + z^2 + z + 1 : 1),\n",
       " (z^7 + z^4 + z^3 + z + 1 : z^5 + z^3 + z + 1 : 1),\n",
       " (z^7 + z^4 + z^3 + z + 1 : z^7 + z^5 + z^4 : 1),\n",
       " (z^7 + z^4 + z^3 + z^2 + 1 : z^6 + z^5 + z^3 : 1),\n",
       " (z^7 + z^4 + z^3 + z^2 + 1 : z^7 + z^6 + z^5 + z^4 + z^2 + 1 : 1),\n",
       " (z^7 + z^4 + z^3 + z^2 + z : z^3 + z^2 : 1),\n",
       " (z^7 + z^4 + z^3 + z^2 + z : z^7 + z^4 + z : 1),\n",
       " (z^7 + z^4 + z^3 + z^2 + z + 1 : z^6 + z + 1 : 1),\n",
       " (z^7 + z^4 + z^3 + z^2 + z + 1 : z^7 + z^6 + z^4 + z^3 + z^2 : 1),\n",
       " (z^7 + z^5 : z^6 + z^2 : 1),\n",
       " (z^7 + z^5 : z^7 + z^6 + z^5 + z^2 : 1),\n",
       " (z^7 + z^5 + z^2 + 1 : z^6 + z^3 + z + 1 : 1),\n",
       " (z^7 + z^5 + z^2 + 1 : z^7 + z^6 + z^5 + z^3 + z^2 + z : 1),\n",
       " (z^7 + z^5 + z^2 + z + 1 : z^6 + z : 1),\n",
       " (z^7 + z^5 + z^2 + z + 1 : z^7 + z^6 + z^5 + z^2 + 1 : 1),\n",
       " (z^7 + z^5 + z^3 + z : z^6 + z^3 + z + 1 : 1),\n",
       " (z^7 + z^5 + z^3 + z : z^7 + z^6 + z^5 + 1 : 1),\n",
       " (z^7 + z^5 + z^3 + z + 1 : z^3 + z^2 + z + 1 : 1),\n",
       " (z^7 + z^5 + z^3 + z + 1 : z^7 + z^5 + z^2 : 1),\n",
       " (z^7 + z^5 + z^3 + z^2 + 1 : z^6 + z^5 + z^4 : 1),\n",
       " (z^7 + z^5 + z^3 + z^2 + 1 : z^7 + z^6 + z^4 + z^3 + z^2 + 1 : 1),\n",
       " (z^7 + z^5 + z^4 : z^6 + z^3 + z^2 : 1),\n",
       " (z^7 + z^5 + z^4 : z^7 + z^6 + z^5 + z^4 + z^3 + z^2 : 1),\n",
       " (z^7 + z^5 + z^4 + 1 : z^6 + z^3 + z^2 : 1),\n",
       " (z^7 + z^5 + z^4 + 1 : z^7 + z^6 + z^5 + z^4 + z^3 + z^2 + 1 : 1),\n",
       " (z^7 + z^5 + z^4 + z : z^5 + z^4 + z^3 + z + 1 : 1),\n",
       " (z^7 + z^5 + z^4 + z : z^7 + z^3 + 1 : 1),\n",
       " (z^7 + z^5 + z^4 + z + 1 : z^5 + z + 1 : 1),\n",
       " (z^7 + z^5 + z^4 + z + 1 : z^7 + z^4 : 1),\n",
       " (z^7 + z^5 + z^4 + z^2 : z^2 + z + 1 : 1),\n",
       " (z^7 + z^5 + z^4 + z^2 : z^7 + z^5 + z^4 + z + 1 : 1),\n",
       " (z^7 + z^5 + z^4 + z^3 : z^4 + z^3 + z^2 + z + 1 : 1),\n",
       " (z^7 + z^5 + z^4 + z^3 : z^7 + z^5 + z^2 + z + 1 : 1),\n",
       " (z^7 + z^5 + z^4 + z^3 + z^2 : z^5 + z^4 + z^3 + z + 1 : 1),\n",
       " (z^7 + z^5 + z^4 + z^3 + z^2 : z^7 + z^2 + z + 1 : 1),\n",
       " (z^7 + z^5 + z^4 + z^3 + z^2 + 1 : z^4 + z^2 + z + 1 : 1),\n",
       " (z^7 + z^5 + z^4 + z^3 + z^2 + 1 : z^7 + z^5 + z^3 + z : 1),\n",
       " (z^7 + z^5 + z^4 + z^3 + z^2 + z + 1 : z^6 + z^5 + z^2 + z + 1 : 1),\n",
       " (z^7 + z^5 + z^4 + z^3 + z^2 + z + 1 : z^7 + z^6 + z^4 + z^3 : 1),\n",
       " (z^7 + z^6 + 1 : z^4 + z^2 + z + 1 : 1),\n",
       " (z^7 + z^6 + 1 : z^7 + z^6 + z^4 + z^2 + z : 1),\n",
       " (z^7 + z^6 + z : z^6 + z^5 + z^2 + z : 1),\n",
       " (z^7 + z^6 + z : z^7 + z^5 + z^2 : 1),\n",
       " (z^7 + z^6 + z^2 : z^4 + z^3 + 1 : 1),\n",
       " (z^7 + z^6 + z^2 : z^7 + z^6 + z^4 + z^3 + z^2 + 1 : 1),\n",
       " (z^7 + z^6 + z^2 + 1 : z^4 + z^3 + z^2 : 1),\n",
       " (z^7 + z^6 + z^2 + 1 : z^7 + z^6 + z^4 + z^3 + 1 : 1),\n",
       " (z^7 + z^6 + z^3 + 1 : z^4 + z^3 + z^2 + 1 : 1),\n",
       " (z^7 + z^6 + z^3 + 1 : z^7 + z^6 + z^4 + z^2 : 1),\n",
       " (z^7 + z^6 + z^4 : z^5 + z^3 : 1),\n",
       " (z^7 + z^6 + z^4 : z^7 + z^6 + z^5 + z^4 + z^3 : 1),\n",
       " (z^7 + z^6 + z^4 + z + 1 : z^6 + z^4 + z^3 + z^2 + z : 1),\n",
       " (z^7 + z^6 + z^4 + z + 1 : z^7 + z^3 + z^2 + 1 : 1),\n",
       " (z^7 + z^6 + z^4 + z^2 : z^6 + 1 : 1),\n",
       " (z^7 + z^6 + z^4 + z^2 : z^7 + z^4 + z^2 + 1 : 1),\n",
       " (z^7 + z^6 + z^4 + z^2 + 1 : z^6 + z^5 + z^4 + z^3 + z : 1),\n",
       " (z^7 + z^6 + z^4 + z^2 + 1 : z^7 + z^5 + z^3 + z^2 + z + 1 : 1),\n",
       " (z^7 + z^6 + z^4 + z^3 : z^3 + z^2 + z : 1),\n",
       " (z^7 + z^6 + z^4 + z^3 : z^7 + z^6 + z^4 + z^2 + z : 1),\n",
       " (z^7 + z^6 + z^4 + z^3 + 1 : z^3 + z^2 : 1),\n",
       " (z^7 + z^6 + z^4 + z^3 + 1 : z^7 + z^6 + z^4 + z^2 + 1 : 1),\n",
       " (z^7 + z^6 + z^4 + z^3 + z : z^5 + z^4 + z^3 + z^2 : 1),\n",
       " (z^7 + z^6 + z^4 + z^3 + z : z^7 + z^6 + z^5 + z^2 + z : 1),\n",
       " (z^7 + z^6 + z^4 + z^3 + z + 1 : z^6 + z^2 + 1 : 1),\n",
       " (z^7 + z^6 + z^4 + z^3 + z + 1 : z^7 + z^4 + z^3 + z^2 + z : 1),\n",
       " (z^7 + z^6 + z^4 + z^3 + z^2 : z^5 + z^3 + z : 1),\n",
       " (z^7 + z^6 + z^4 + z^3 + z^2 : z^7 + z^6 + z^5 + z^4 + z^2 + z : 1),\n",
       " (z^7 + z^6 + z^4 + z^3 + z^2 + z : z^6 + z^5 + z^3 + z^2 + 1 : 1),\n",
       " (z^7 + z^6 + z^4 + z^3 + z^2 + z : z^7 + z^5 + z^4 + z + 1 : 1),\n",
       " (z^7 + z^6 + z^4 + z^3 + z^2 + z + 1 : z^6 + z^5 + z : 1),\n",
       " (z^7 + z^6 + z^4 + z^3 + z^2 + z + 1 : z^7 + z^5 + z^4 + z^3 + z^2 + 1 : 1),\n",
       " (z^7 + z^6 + z^5 : z^6 + z^2 + z + 1 : 1),\n",
       " (z^7 + z^6 + z^5 : z^7 + z^5 + z^2 + z + 1 : 1),\n",
       " (z^7 + z^6 + z^5 + 1 : z^5 + z^3 + 1 : 1),\n",
       " (z^7 + z^6 + z^5 + 1 : z^7 + z^6 + z^3 : 1),\n",
       " (z^7 + z^6 + z^5 + z + 1 : z^4 + z^3 + z^2 + 1 : 1),\n",
       " (z^7 + z^6 + z^5 + z + 1 : z^7 + z^6 + z^5 + z^4 + z^3 + z^2 + z : 1),\n",
       " (z^7 + z^6 + z^5 + z^2 + 1 : z^3 + z + 1 : 1),\n",
       " (z^7 + z^6 + z^5 + z^2 + 1 : z^7 + z^6 + z^5 + z^3 + z^2 + z : 1),\n",
       " (z^7 + z^6 + z^5 + z^2 + z + 1 : z^4 + z^3 + z^2 : 1),\n",
       " (z^7 + z^6 + z^5 + z^2 + z + 1 : z^7 + z^6 + z^5 + z^4 + z^3 + z + 1 : 1),\n",
       " (z^7 + z^6 + z^5 + z^3 : z^6 + z^5 + z^3 + z + 1 : 1),\n",
       " (z^7 + z^6 + z^5 + z^3 : z^7 + z + 1 : 1),\n",
       " (z^7 + z^6 + z^5 + z^3 + 1 : z^5 : 1),\n",
       " (z^7 + z^6 + z^5 + z^3 + 1 : z^7 + z^6 + z^3 + 1 : 1),\n",
       " (z^7 + z^6 + z^5 + z^3 + z + 1 : z^5 + z^4 + z^3 + z : 1),\n",
       " (z^7 + z^6 + z^5 + z^3 + z + 1 : z^7 + z^6 + z^4 + 1 : 1),\n",
       " (z^7 + z^6 + z^5 + z^3 + z^2 : z^6 + z^4 + z^2 + 1 : 1),\n",
       " (z^7 + z^6 + z^5 + z^3 + z^2 : z^7 + z^5 + z^4 + z^3 + 1 : 1),\n",
       " (z^7 + z^6 + z^5 + z^3 + z^2 + 1 : z^6 + z^2 : 1),\n",
       " (z^7 + z^6 + z^5 + z^3 + z^2 + 1 : z^7 + z^5 + z^3 + 1 : 1),\n",
       " (z^7 + z^6 + z^5 + z^3 + z^2 + z : z^4 + z^3 + z^2 + z : 1),\n",
       " (z^7 + z^6 + z^5 + z^3 + z^2 + z : z^7 + z^6 + z^5 + z^4 : 1),\n",
       " (z^7 + z^6 + z^5 + z^3 + z^2 + z + 1 : z^3 + z : 1),\n",
       " (z^7 + z^6 + z^5 + z^3 + z^2 + z + 1 : z^7 + z^6 + z^5 + z^2 + 1 : 1),\n",
       " (z^7 + z^6 + z^5 + z^4 : z^5 + z^2 + 1 : 1),\n",
       " (z^7 + z^6 + z^5 + z^4 : z^7 + z^6 + z^4 + z^2 + 1 : 1),\n",
       " (z^7 + z^6 + z^5 + z^4 + z^2 + 1 : z^4 + z^2 : 1),\n",
       " (z^7 + z^6 + z^5 + z^4 + z^2 + 1 : z^7 + z^6 + z^5 + 1 : 1),\n",
       " (z^7 + z^6 + z^5 + z^4 + z^2 + z : z^6 + z : 1),\n",
       " (z^7 + z^6 + z^5 + z^4 + z^2 + z : z^7 + z^5 + z^4 + z^2 : 1),\n",
       " (z^7 + z^6 + z^5 + z^4 + z^3 + z + 1 : z^5 + z^4 + z^2 + 1 : 1),\n",
       " (z^7 + z^6 + z^5 + z^4 + z^3 + z + 1 : z^7 + z^6 + z^3 + z^2 + z : 1),\n",
       " (z^7 + z^6 + z^5 + z^4 + z^3 + z^2 + 1 : z^6 + z^4 + z^3 + z^2 : 1),\n",
       " (z^7 + z^6 + z^5 + z^4 + z^3 + z^2 + 1 : z^7 + z^5 + 1 : 1),\n",
       " (z^7 + z^6 + z^5 + z^4 + z^3 + z^2 + z : z^5 + z^2 + 1 : 1),\n",
       " (z^7 + z^6 + z^5 + z^4 + z^3 + z^2 + z : z^7 + z^6 + z^4 + z^3 + z + 1 : 1),\n",
       " (z^7 + z^6 + z^5 + z^4 + z^3 + z^2 + z + 1 : z^6 + z^4 + z^2 + 1 : 1),\n",
       " (z^7 + z^6 + z^5 + z^4 + z^3 + z^2 + z + 1 : z^7 + z^5 + z^3 + z : 1)]"
      ]
     },
     "execution_count": 34,
     "metadata": {},
     "output_type": "execute_result"
    }
   ],
   "source": [
    "list(C)"
   ]
  },
  {
   "cell_type": "code",
   "execution_count": 35,
   "metadata": {},
   "outputs": [
    {
     "data": {
      "text/plain": [
       "z^5 + z^3 + z^2"
      ]
     },
     "execution_count": 35,
     "metadata": {},
     "output_type": "execute_result"
    }
   ],
   "source": [
    "pts[2][1]"
   ]
  },
  {
   "cell_type": "code",
   "execution_count": 36,
   "metadata": {},
   "outputs": [
    {
     "data": {
      "text/plain": [
       "Finite Field in z4 of size 2^4"
      ]
     },
     "execution_count": 36,
     "metadata": {},
     "output_type": "execute_result"
    }
   ],
   "source": [
    "Fq = GF(2^4); Fq"
   ]
  },
  {
   "cell_type": "code",
   "execution_count": 37,
   "metadata": {},
   "outputs": [
    {
     "ename": "NameError",
     "evalue": "name 'c' is not defined",
     "output_type": "error",
     "traceback": [
      "\u001b[0;31m---------------------------------------------------------------------------\u001b[0m",
      "\u001b[0;31mNameError\u001b[0m                                 Traceback (most recent call last)",
      "\u001b[0;32m<ipython-input-37-7fe04e37aedd>\u001b[0m in \u001b[0;36m<module>\u001b[0;34m\u001b[0m\n\u001b[0;32m----> 1\u001b[0;31m \u001b[0mm\u001b[0m \u001b[0;34m=\u001b[0m \u001b[0mc\u001b[0m\u001b[0;34m(\u001b[0m\u001b[0;34m(\u001b[0m\u001b[0;34m)\u001b[0m\u001b[0;34m)\u001b[0m\u001b[0;34m\u001b[0m\u001b[0;34m\u001b[0m\u001b[0m\n\u001b[0m",
      "\u001b[0;31mNameError\u001b[0m: name 'c' is not defined"
     ]
    }
   ],
   "source": [
    "m = c(())"
   ]
  },
  {
   "cell_type": "code",
   "execution_count": null,
   "metadata": {},
   "outputs": [],
   "source": [
    "#https://ask.sagemath.org/question/8736/nist-b-283-elliptic-curve/\n",
    "b =  0x027B680AC8B8596DA5A4AF8A19A0303FCA97FD7645309FA2A581485AF6263E313B79A2F5\n",
    "Z.<x>=GF(2)[]\n",
    "K.<a>=GF(2^283,'a',modulus=x^283 + x^12 + x^7 + x^5 + 1)\n",
    "bb=Z(b.digits(2))\n",
    "E=EllipticCurve(K,[1,1,0,0,bb]) \n",
    "P=E.random_element()\n",
    "print(P[0])\n",
    "print(P[1])\n",
    "print(E.is_on_curve(P[0],P[1]))  # OK\n",
    "\n",
    "# I was not able  to compute the order\n",
    "# print E.order()   exhausts memory and exits\n",
    "\n"
   ]
  },
  {
   "cell_type": "code",
   "execution_count": null,
   "metadata": {},
   "outputs": [],
   "source": [
    "b =  1\n",
    "_.<x>=GF(2)[]\n",
    "K.<a>=GF(2^4,'a',modulus=Z^4+Z+1)\n",
    "bb=Z(b.digits(2))\n",
    "E=EllipticCurve(K,[1,1,0,0,bb]) \n",
    "P=E.random_element()\n",
    "print(P[0])\n",
    "print(P[1])\n",
    "print(E.is_on_curve(P[0],P[1]))\n",
    "      \n",
    "      \n",
    "#       _.<Z> = GF(2)[]\n",
    "# F.<z> = GF(2^4, modulus=Z^4+Z+1)"
   ]
  },
  {
   "cell_type": "code",
   "execution_count": null,
   "metadata": {},
   "outputs": [],
   "source": []
  }
 ],
 "metadata": {
  "kernelspec": {
   "display_name": "SageMath 9.2",
   "language": "sage",
   "name": "sagemath"
  },
  "language_info": {
   "codemirror_mode": {
    "name": "ipython",
    "version": 3
   },
   "file_extension": ".py",
   "mimetype": "text/x-python",
   "name": "python",
   "nbconvert_exporter": "python",
   "pygments_lexer": "ipython3",
   "version": "3.7.7"
  }
 },
 "nbformat": 4,
 "nbformat_minor": 4
}
