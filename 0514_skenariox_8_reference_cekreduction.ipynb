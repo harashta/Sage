{
 "cells": [
  {
   "cell_type": "markdown",
   "metadata": {},
   "source": [
    "# FINITE FIELD ARITHMETIC \n",
    "Paling dasar, sebelum group operation (point addition/point doubling)"
   ]
  },
  {
   "cell_type": "code",
   "execution_count": 16,
   "metadata": {},
   "outputs": [],
   "source": [
    "#adopt untuk Guide to ECC h.48 pdf\n",
    "_.<Z> = GF(2)[]\n",
    "F.<z> = GF(2^8, modulus=Z^8+Z^4+Z^3+Z+1)"
   ]
  },
  {
   "cell_type": "code",
   "execution_count": 2,
   "metadata": {},
   "outputs": [],
   "source": [
    "# #keterangan/ coba coba\n",
    "# F.list()\n",
    "# F.order()\n",
    "# a = F.gen(); a #ini a dijadikan generator?\n",
    "\n",
    "# a, a+a, a+a+a, a+a+a+a, a+0, a+1, a*4 #bisa ngitung banyak sekaligus!"
   ]
  },
  {
   "cell_type": "code",
   "execution_count": 3,
   "metadata": {},
   "outputs": [
    {
     "data": {
      "text/plain": [
       "z^3 + z"
      ]
     },
     "execution_count": 3,
     "metadata": {},
     "output_type": "execute_result"
    }
   ],
   "source": [
    "#addition\n",
    "(z^3+z^2+1)+(z^2+z+1)"
   ]
  },
  {
   "cell_type": "code",
   "execution_count": 4,
   "metadata": {},
   "outputs": [
    {
     "data": {
      "text/plain": [
       "z^3 + z"
      ]
     },
     "execution_count": 4,
     "metadata": {},
     "output_type": "execute_result"
    }
   ],
   "source": [
    "#subtraction\n",
    "(z^3+z^2+1)-(z^2+z+1)"
   ]
  },
  {
   "cell_type": "code",
   "execution_count": 5,
   "metadata": {},
   "outputs": [
    {
     "data": {
      "text/plain": [
       "z^5 + z + 1"
      ]
     },
     "execution_count": 5,
     "metadata": {},
     "output_type": "execute_result"
    }
   ],
   "source": [
    "#mult\n",
    "(z^3+z^2+1)*(z^2+z+1) #ini dia auto hasil reduction.. gimana cara liat sebelum reduction?"
   ]
  },
  {
   "cell_type": "code",
   "execution_count": 6,
   "metadata": {},
   "outputs": [
    {
     "data": {
      "text/plain": [
       "z^5 + z^4 + z^2 + z"
      ]
     },
     "execution_count": 6,
     "metadata": {},
     "output_type": "execute_result"
    }
   ],
   "source": [
    "z^7 * z^2"
   ]
  },
  {
   "cell_type": "code",
   "execution_count": 7,
   "metadata": {},
   "outputs": [
    {
     "data": {
      "text/plain": [
       "z^5 + z + 1"
      ]
     },
     "execution_count": 7,
     "metadata": {},
     "output_type": "execute_result"
    }
   ],
   "source": [
    "#mult sebelum reduction, bisa liat dengan diubah jadi representasi polynom.\n",
    "A = z^3+z^2+1\n",
    "B = z^2+z+1\n",
    "\n",
    "\n",
    "A_poly = A.polynomial()\n",
    "B_poly = B.polynomial()\n",
    "A_poly * B_poly\n",
    "\n",
    "\n",
    "#Source:\n",
    "# #https://ask.sagemath.org/question/38734/pre-reduction-multiplication-result-in-binary-field/\n",
    "# X = Integer(0x009D73616F35F4AB1407D73562C10F);\n",
    "# Y = Integer(0x00A52830277958EE84D1315ED31886);\n",
    "\n",
    "# F.<x> = GF(2)[];\n",
    "# p = x^113 + x^9 + 1;\n",
    "# BF = GF(2^113, 'x', modulus=p);\n",
    "\n",
    "# X_bf = BF._cache.fetch_int(X);\n",
    "# Y_bf = BF._cache.fetch_int(Y);\n",
    "\n",
    "# X_poly = X_bf.polynomial()\n",
    "# Y_poly = Y_bf.polynomial()\n",
    "# X_poly * Y_poly"
   ]
  },
  {
   "cell_type": "code",
   "execution_count": 8,
   "metadata": {},
   "outputs": [
    {
     "data": {
      "text/plain": [
       "z^7 + z^6 + z^5 + 1"
      ]
     },
     "execution_count": 8,
     "metadata": {},
     "output_type": "execute_result"
    }
   ],
   "source": [
    "#inversion\n",
    "(z^3+z^2+1)^-1"
   ]
  },
  {
   "cell_type": "code",
   "execution_count": 9,
   "metadata": {},
   "outputs": [
    {
     "name": "stdout",
     "output_type": "stream",
     "text": [
      "Before reduction =  z^2\n",
      "After reduction =  z^2\n"
     ]
    }
   ],
   "source": [
    "#squaring\n",
    "# A = z^7+z^6+z^5+z^3+z+1\n",
    "# B = z^7+z^6+z^5+z^3+z+1\n",
    "\n",
    "A = z\n",
    "B = z\n",
    "\n",
    "\n",
    "A_poly = A.polynomial()\n",
    "B_poly = B.polynomial()\n",
    "print(\"Before reduction = \", A_poly * B_poly)\n",
    "print(\"After reduction = \", A*B)\n",
    "\n",
    "\n",
    "#Source:\n",
    "# #https://ask.sagemath.org/question/38734/pre-reduction-multiplication-result-in-binary-field/\n",
    "# X = Integer(0x009D73616F35F4AB1407D73562C10F);\n",
    "# Y = Integer(0x00A52830277958EE84D1315ED31886);\n",
    "\n",
    "# F.<x> = GF(2)[];\n",
    "# p = x^113 + x^9 + 1;\n",
    "# BF = GF(2^113, 'x', modulus=p);\n",
    "\n",
    "# X_bf = BF._cache.fetch_int(X);\n",
    "# Y_bf = BF._cache.fetch_int(Y);\n",
    "\n",
    "# X_poly = X_bf.polynomial()\n",
    "# Y_poly = Y_bf.polynomial()\n",
    "# X_poly * Y_poly"
   ]
  },
  {
   "cell_type": "code",
   "execution_count": 10,
   "metadata": {},
   "outputs": [
    {
     "data": {
      "text/plain": [
       "z^4 + z^3 + z + 1"
      ]
     },
     "execution_count": 10,
     "metadata": {},
     "output_type": "execute_result"
    }
   ],
   "source": [
    "z^7*z"
   ]
  },
  {
   "cell_type": "code",
   "execution_count": 11,
   "metadata": {},
   "outputs": [
    {
     "ename": "SyntaxError",
     "evalue": "invalid syntax (<ipython-input-11-e89427214dfe>, line 1)",
     "output_type": "error",
     "traceback": [
      "\u001b[0;36m  File \u001b[0;32m\"<ipython-input-11-e89427214dfe>\"\u001b[0;36m, line \u001b[0;32m1\u001b[0m\n\u001b[0;31m    kotretan hungkul cell ini!\u001b[0m\n\u001b[0m                   ^\u001b[0m\n\u001b[0;31mSyntaxError\u001b[0m\u001b[0;31m:\u001b[0m invalid syntax\n"
     ]
    }
   ],
   "source": [
    "kotretan hungkul cell ini!\n",
    "number_a = [7,6,5,3,1,0]"
   ]
  },
  {
   "cell_type": "code",
   "execution_count": 23,
   "metadata": {},
   "outputs": [
    {
     "name": "stdout",
     "output_type": "stream",
     "text": [
      "[-0.5+0.8660254j -0.5-0.8660254j]\n"
     ]
    },
    {
     "data": {
      "text/plain": [
       "z^7 + z^6 + z^4 + z^3"
      ]
     },
     "execution_count": 23,
     "metadata": {},
     "output_type": "execute_result"
    }
   ],
   "source": [
    "# import numpy library\n",
    "import numpy as np\n",
    "\n",
    "\n",
    "# Enter the coefficients of the poly\n",
    "# in the array\n",
    "# coeff = [4,0,0,1,1]\n",
    "coeff = [1,1,1]\n",
    "print(np.roots(coeff))\n",
    "\n",
    "\n",
    "z^11"
   ]
  },
  {
   "cell_type": "markdown",
   "metadata": {},
   "source": [
    "# GROUP OPERATION (SKIP AJA LANGSUNG KE BAWAHNYA)"
   ]
  },
  {
   "cell_type": "code",
   "execution_count": null,
   "metadata": {},
   "outputs": [],
   "source": [
    "#coba ulang pake yg dr certicom\n",
    "#https://www.certicom.com/content/certicom/en/41-an-example-of-an-elliptic-curve-group-over-f2m.html\n",
    "#adopt untuk Guide to ECC h.48 pdf\n",
    "# g = F.gen(1)"
   ]
  },
  {
   "cell_type": "code",
   "execution_count": null,
   "metadata": {},
   "outputs": [],
   "source": [
    "# ##curve25519\n",
    "# def findBasepoint(prime, A):\n",
    "#        F = GF(prime)\n",
    "#        E = EllipticCurve(F, [0, A, 0, 1, 0])\n",
    "\n",
    "#        for uInt in range(1, 1e3):\n",
    "#          u = F(uInt)\n",
    "#          v2 = u^3 + A*u^2 + u\n",
    "#          if not v2.is_square():\n",
    "#            continue\n",
    "#          v = v2.sqrt()\n",
    "#          point = E(u, v)\n",
    "#          pointOrder = point.order()\n",
    "#          if pointOrder > 8 and pointOrder.is_prime():\n",
    "#             Q=u^3 + A*u^2 + u\n",
    "#             return u, Q, sqrt(Q), point\n",
    "\n",
    "# res=findBasepoint(2^255 - 19, 486662)\n",
    "# res"
   ]
  },
  {
   "cell_type": "code",
   "execution_count": null,
   "metadata": {},
   "outputs": [],
   "source": [
    "F.inject_variables()"
   ]
  },
  {
   "cell_type": "code",
   "execution_count": null,
   "metadata": {},
   "outputs": [],
   "source": [
    "R.<x,y> = F[]; R #ga nyambung ke yg setelahnya atau ke yg sebeluumnya sih"
   ]
  },
  {
   "cell_type": "code",
   "execution_count": null,
   "metadata": {},
   "outputs": [],
   "source": [
    "C = EllipticCurve(y^2+x*y-x^3-x^2-1) ; C #y^2 + xy = x^3 + ax^2 + b, a elemen F_2 ([0,1]) , b elemen F_2^n * (extension field kan ya?) --> misal a = b =1?"
   ]
  },
  {
   "cell_type": "code",
   "execution_count": null,
   "metadata": {},
   "outputs": [],
   "source": [
    "C.points()"
   ]
  },
  {
   "cell_type": "code",
   "execution_count": null,
   "metadata": {},
   "outputs": [],
   "source": [
    "C.order()"
   ]
  },
  {
   "cell_type": "code",
   "execution_count": null,
   "metadata": {},
   "outputs": [],
   "source": [
    "# https://ask.sagemath.org/question/9976/elliptic-curves/\n",
    "#     ini yg gede banget p^163... real..."
   ]
  },
  {
   "cell_type": "code",
   "execution_count": null,
   "metadata": {},
   "outputs": [],
   "source": [
    "# G = C.point(()) \n",
    "pts = [p for p in C.points()] #AAAh ada 16 sedangkan di certicom 15, karena 1nya (pts[0]) itu point at infinity!!\n",
    "# pts\n",
    "# for i in len(pts):\n",
    "#     print(i, pts[i])"
   ]
  },
  {
   "cell_type": "code",
   "execution_count": null,
   "metadata": {},
   "outputs": [],
   "source": [
    "pts[5]+pts[3]"
   ]
  },
  {
   "cell_type": "code",
   "execution_count": null,
   "metadata": {},
   "outputs": [],
   "source": [
    "C.gens() #For extension fields, the generator is obtained with the .gen() function. \n",
    "#nilai ini ga berubah2, artinya memang dia ya yg memenuhi?"
   ]
  },
  {
   "cell_type": "code",
   "execution_count": null,
   "metadata": {},
   "outputs": [],
   "source": [
    "pts[5]+pts[5] #point addition"
   ]
  },
  {
   "cell_type": "code",
   "execution_count": null,
   "metadata": {},
   "outputs": [],
   "source": [
    "2*(pts[5]) #doubling"
   ]
  },
  {
   "cell_type": "code",
   "execution_count": null,
   "metadata": {},
   "outputs": [],
   "source": [
    "#misal, titik yg mau ditambah:\n",
    "pts[2], pts[3], pts[2]+pts[3] #ups jadi point at inf, ganti yuuu"
   ]
  },
  {
   "cell_type": "code",
   "execution_count": null,
   "metadata": {},
   "outputs": [],
   "source": [
    "pts[1], pts[2], pts[1]+pts[2] # ini enak kayanya bucat diplot di QC? cek requirement \n",
    "#P(x1, y1)= (0,1), Q(x2, y2) = (1, z^3 + z^2), R = (1, z^3 + z^2 + 1) --> so far masih sesuai syarat sih, x1 != x2. Dan yg ditambahin, si const pake yg agak rebek biar ga terlalu trivial.. gt? "
   ]
  },
  {
   "cell_type": "code",
   "execution_count": null,
   "metadata": {},
   "outputs": [],
   "source": [
    "#fail\n",
    "# plot(pts[1]) #gabisa diplot karena yaa polynom. That's why si certicom dibuat g^0 g^1 dkk, biar representingnya enak!(kayanya)"
   ]
  },
  {
   "cell_type": "code",
   "execution_count": null,
   "metadata": {},
   "outputs": [],
   "source": [
    "pts[2]"
   ]
  },
  {
   "cell_type": "code",
   "execution_count": null,
   "metadata": {},
   "outputs": [],
   "source": [
    "type(pts[2])"
   ]
  },
  {
   "cell_type": "code",
   "execution_count": null,
   "metadata": {},
   "outputs": [],
   "source": [
    "pts[2][1]+pts[1][1], pts[2][1]+pts[2][1]"
   ]
  },
  {
   "cell_type": "code",
   "execution_count": null,
   "metadata": {},
   "outputs": [],
   "source": [
    "pts[2][1]"
   ]
  },
  {
   "cell_type": "code",
   "execution_count": null,
   "metadata": {},
   "outputs": [],
   "source": [
    "pts[2][1]\n"
   ]
  },
  {
   "cell_type": "code",
   "execution_count": null,
   "metadata": {},
   "outputs": [],
   "source": [
    "C.random_element()"
   ]
  },
  {
   "cell_type": "code",
   "execution_count": null,
   "metadata": {},
   "outputs": [],
   "source": [
    "list(C)"
   ]
  },
  {
   "cell_type": "code",
   "execution_count": null,
   "metadata": {},
   "outputs": [],
   "source": [
    "pts[2][1]"
   ]
  },
  {
   "cell_type": "markdown",
   "metadata": {},
   "source": [
    "# REFERENCE UNTUK QC"
   ]
  },
  {
   "cell_type": "code",
   "execution_count": null,
   "metadata": {},
   "outputs": [],
   "source": [
    "#coba \n",
    "# ala ala standar, a mostly 1 or 0, b mostly 1. Samain aja! h. 286 Guide to ECC (Tabel A.4)\n",
    "\n",
    "\n",
    "# #####################\n",
    "# #Ini sama aj aky yg bawah tp ga nempel akunya, mending cara aku aja\n",
    "# b =  0x1\n",
    "# ZZ.<x>=GF(2)[]\n",
    "# K.<a>=GF(2^8,'x',modulus=x^8+x^4+x^3+x+1)\n",
    "# bb=ZZ(b.digits(2))\n",
    "# E=EllipticCurve(K,[1,1,0,0,bb]) #ininya bener segini? kl ini a nya 0 ya? coba a nya 1? --> gabisa, jadi singular curve....\n",
    "\n",
    "# # P=E.random_element()\n",
    "# # print(P[0])\n",
    "# # print(P[1])\n",
    "# # print(E.is_on_curve(P[0],P[1]))  # OK\n",
    "\n",
    "\n",
    "# ##########################\n",
    "\n",
    "# WORKING!!\n",
    "# GF?\n",
    "F.<x> = GF(2)[]\n",
    "# K.<a> = GF(2**8, name='a', modulus=\"primitive\") #hasilnya: x^8 + x^4 + x^3 + x^2 + 1\n",
    "K.<z> = GF(2**8, name='z', modulus=x^8 + x^4 + x^3 + x + 1) #kita pake yg sesuai Bernstein aja\n",
    "K.inject_variables() #gapake ini jg bisa, tapi ada bahasan di asksage hrs pake ini untuk irred polynom (?) atau apa gt\n",
    "f = K.modulus(); f"
   ]
  },
  {
   "cell_type": "code",
   "execution_count": null,
   "metadata": {},
   "outputs": [],
   "source": [
    "# # EllipticCurve?\n",
    "# y^2 + a_1 xy + a_3 y = x^3 + a_2 x^2 + a_4 x + a_6. #\"EllipticCurve([a1,a2,a3,a4,a6])\" \n",
    "#case binary: y^2 + xy = x^3 +ax^2 + b; a [0,1] pilih 1, b pilih 1 (biasa angka segitu, atau 1nya 0 1nya 1)\n",
    "#jadi case kita [a1=1,a2=a=1,a3=0,a4=0,a6=b=1]\n",
    "E = EllipticCurve(K,[1,1,0,0,1]); E #alhamdulillaah"
   ]
  },
  {
   "cell_type": "code",
   "execution_count": null,
   "metadata": {},
   "outputs": [],
   "source": [
    "E.order()"
   ]
  },
  {
   "cell_type": "code",
   "execution_count": null,
   "metadata": {},
   "outputs": [],
   "source": [
    "print(E.points()[:20])"
   ]
  },
  {
   "cell_type": "code",
   "execution_count": null,
   "metadata": {},
   "outputs": [],
   "source": [
    "E.cardinality() #== # len(C.points()) == jumlah point, including point at inf (O)\n",
    "#case ini sama dengan E.order(), tapi lupa teorinya, mungkin karena cofactor = 1 (?)"
   ]
  },
  {
   "cell_type": "code",
   "execution_count": null,
   "metadata": {},
   "outputs": [],
   "source": [
    "# [ p for p in E.points() if (p.order() < 10) ] #untuk ngelist point2 yang ada, under 10\n",
    "# [ (p.order(), p) for p in E.points() if (p.order() < 10) ] #sekalian di list ordernya\n",
    "# sorted([ (p.order(), p) for p in E.points() if (p.order() < 10) ]) #ordernya versi sorted sekalian\n",
    "\n",
    "sorted([ (p.order(), p) for p in E.points()])"
   ]
  },
  {
   "cell_type": "code",
   "execution_count": null,
   "metadata": {},
   "outputs": [],
   "source": [
    "E.gens() #ini generator point-nya? Ada 2--> gak juga ya, ini cari yg lower order aja (?) #see https://www.johannes-bauer.com/compsci/ecc/\n",
    "\n",
    "#(z^7 + z^6 + z^4 + z^3 + z + 1 : z^7 + z^5 + z : 1) dan\n",
    "#(z^6 + z^5 + z^3 + z^2 : z^6 + z^4 + z^3 + z^2 + 1 : 1)"
   ]
  },
  {
   "cell_type": "code",
   "execution_count": null,
   "metadata": {},
   "outputs": [],
   "source": [
    "# P = E.point((1, z^7 + z^5 + z^4 + z^3 + z^2)) #pilih salah 1 dari point yg atas #orde 4\n",
    "P = E.point((z^7 + z^5 + z^4 + z^3 + z^2 + 1, z^7 + z^5 + z^4 + z^3 + z^2)) #orde 8\n",
    "P.order()"
   ]
  },
  {
   "cell_type": "code",
   "execution_count": null,
   "metadata": {},
   "outputs": [],
   "source": [
    "p = [ P * x for x in range(P.order()) ] #p = pts = point\n",
    "p #len == 8 == order\n",
    "\n",
    "#analisis point2 yg mungkin dipake untuk simulasi\n",
    "# kesimpulan sementara: yg \n",
    "# [(0 : 1 : 0), #O, no\n",
    "#  (z^7 + z^5 + z^4 + z^3 + z^2 + 1 : z^7 + z^5 + z^4 + z^3 + z^2 : 1), #x != y, OK\n",
    "#  (1 : z^7 + z^5 + z^4 + z^3 + z^2 + 1 : 1), #x-nya 1, gapapa?\n",
    "#  (z^7 + z^5 + z^4 + z^3 + z^2 : z^7 + z^5 + z^4 + z^3 + z^2 + 1 : 1), #x != y, tapi cerminan dari poin pertama.. udah rapopo la\n",
    "#  (0 : 1 : 1), # x=0... susah nanti kl ada division dkk (?) gak juga sih kali ya (?)\n",
    "#  (z^7 + z^5 + z^4 + z^3 + z^2 : 1 : 1), #y-nya 1, gapapa?\n",
    "#  (1 : z^7 + z^5 + z^4 + z^3 + z^2 : 1),\n",
    "#  (z^7 + z^5 + z^4 + z^3 + z^2 + 1 : 1 : 1)]"
   ]
  },
  {
   "cell_type": "markdown",
   "metadata": {},
   "source": [
    "yaudah pokoknya poin 1 ke poin lain aja dulu yg dicoba!! BESOK 27 APRIL COBA INI YESSS"
   ]
  },
  {
   "cell_type": "code",
   "execution_count": null,
   "metadata": {},
   "outputs": [],
   "source": [
    "p[1] #ambil ini aja yaa sebagai P1 (x1, y1) = (z^7 + z^5 + z^4 + z^3 + z^2 + 1, z^7 + z^5 + z^4 + z^3 + z^2 )"
   ]
  },
  {
   "cell_type": "code",
   "execution_count": null,
   "metadata": {},
   "outputs": [],
   "source": [
    "p[5] #coba sebagai P2 (x2, y2) = (z^7 + z^5 + z^4 + z^3 + z^2, 1 )"
   ]
  },
  {
   "cell_type": "code",
   "execution_count": null,
   "metadata": {},
   "outputs": [],
   "source": [
    "res = p[1] + p[5]\n",
    "res #ok P3 (x3, y3) = (1 , z^7 + z^5 + z^4 + z^3 + z^2)"
   ]
  },
  {
   "cell_type": "code",
   "execution_count": null,
   "metadata": {},
   "outputs": [],
   "source": [
    "EllipticCurve?\n"
   ]
  },
  {
   "cell_type": "markdown",
   "metadata": {},
   "source": [
    "# CEK CEK PYTHON BIASA"
   ]
  },
  {
   "cell_type": "code",
   "execution_count": null,
   "metadata": {},
   "outputs": [],
   "source": [
    "#tetep pake Sage tapi di level finite field arithmetic (one level lower)\n",
    "P1 = (z^7 + z^5 + z^4 + z^3 + z^2 + 1, z^7 + z^5 + z^4 + z^3 + z^2 )\n",
    "P2 = (z^7 + z^5 + z^4 + z^3 + z^2, 1)\n",
    "\n",
    "x1 = P1[0]\n",
    "y1 = P1[1]\n",
    "\n",
    "x2 = P2[0]\n",
    "y2 = P2[1]"
   ]
  },
  {
   "cell_type": "code",
   "execution_count": null,
   "metadata": {},
   "outputs": [],
   "source": [
    "#ADDITION\n",
    "#x3\n",
    "\n",
    "slope = (y1 + y2) / (x1 + x2)\n",
    "x3 = pow(slope, 2)+ slope + x1 + x2 + 1 # a = 1\n",
    "y3 = (x2 + x3) * slope + x3 + y2\n",
    "print (x3,y3)  #1 z^7 + z^5 + z^4 + z^3 + z^2 --> x3 salah, tapi y3 bener?? --> pake manual (ga pow) pun hasilnya sama!\n",
    "print(res[0] == x3, res[1] == y3) #bandingkan dengan hitung langsung pake Sage, bener!"
   ]
  },
  {
   "cell_type": "code",
   "execution_count": null,
   "metadata": {},
   "outputs": [],
   "source": [
    "#DOUBLING\n",
    "#x3\n",
    "slope = (y1 + y2) / (x1 + x2)\n",
    "x3 = pow(slope, 2)+ slope + 1 # a = 1\n",
    "y3 = pow(x1, 2) + (slope+1)* x3\n",
    "print (x3,y3)  #0 z^7 + z^5 + z^4 + z^3 + z^2 --> --> karena ini doubling...--> pake manual (ga pow) pun hasilnya sama!\n",
    "\n",
    "\n",
    "#x3 tanpa pow\n",
    "# slope = (y1 + y2) / (x1 + x2)\n",
    "# x3 = slope**2+ slope + 1 # a = 1\n",
    "# y3 = x1**2 + (slope+1)* x3\n",
    "# print (x3,y3)  #0 z^7 + z^5 + z^4 + z^3 + z^2 --> karena ini doubling..."
   ]
  },
  {
   "cell_type": "markdown",
   "metadata": {},
   "source": [
    "## Sekarang di run per step/flow (untuk cek correctness"
   ]
  },
  {
   "cell_type": "code",
   "execution_count": null,
   "metadata": {},
   "outputs": [],
   "source": [
    "#ROW 1 (Register x1)\n",
    "step1 = x1+x2\n",
    "\n",
    "step2 = step1\n",
    "\n"
   ]
  },
  {
   "cell_type": "code",
   "execution_count": null,
   "metadata": {},
   "outputs": [],
   "source": [
    "#ROW 3 (Register y1)\n",
    "\n",
    "\n"
   ]
  },
  {
   "cell_type": "code",
   "execution_count": null,
   "metadata": {},
   "outputs": [],
   "source": [
    "#ROW 4 (Register 0)\n",
    "\n",
    "\n",
    "#ROW 2 (qubit q)\n"
   ]
  },
  {
   "cell_type": "code",
   "execution_count": null,
   "metadata": {},
   "outputs": [],
   "source": [
    "#ini ga kepake sih\n",
    "\n",
    "import random\n",
    "deg = 8\n",
    "temp = random.randrange(1,(2**deg))\n",
    "# b = bin(temp)[2:]\n",
    "# b\n",
    "temp"
   ]
  },
  {
   "cell_type": "markdown",
   "metadata": {},
   "source": [
    "## CEK CEK paper ETRI"
   ]
  },
  {
   "cell_type": "code",
   "execution_count": null,
   "metadata": {},
   "outputs": [],
   "source": [
    "# Python program to inverse\n",
    "# a matrix using numpy\n",
    "\n",
    "# Import required package\n",
    "import numpy as np\n",
    "from scipy import linalg\n",
    "\n",
    "# Taking a 8 * 8 matrix\n",
    "A = np.array([[1, 0, 1, 0, 0, 0, 0, 0],  #array diganti jadi matrix, tetep hasilnya sama ternyata\n",
    "            [1, 0, 1, 0, 1, 1, 0, 0],\n",
    "            [1, 1, 0, 1, 0, 0, 1, 0],\n",
    "            [0, 1, 1, 1, 0, 0, 0, 0],\n",
    "            [0, 0, 0, 1, 0, 1, 0, 0],\n",
    "            [1, 0, 0, 0, 0, 0, 1, 0],\n",
    "            [0, 0, 0, 0, 0, 1, 1, 0],\n",
    "            [0, 1, 1, 1, 0, 0, 0, 1]]) #arraynya multiplier ETRI\n",
    "\n",
    "print(A)\n",
    "\n",
    "\n",
    "# Calculating the inverse of the matrix\n",
    "print(np.linalg.inv(A))\n",
    "\n",
    "print(np.linalg.det(A))\n",
    "\n",
    "# -NOTE: HASIL INVERSE MASIH SALAH\n",
    "#     - MAU CEK UNITARY BLM BISA --> di qiskit aja kali ya meh gancang (kok lu mager/reluctant banget sih buat open vscode atau qiskit..)"
   ]
  },
  {
   "cell_type": "code",
   "execution_count": null,
   "metadata": {},
   "outputs": [],
   "source": [
    "bb = np.array([[1],[0], [1], [0], [1], [0], [1], [0]])\n",
    "\n",
    "# bb.dot(A)\n",
    "\n",
    "A.dot(bb)\n",
    "\n",
    "# A.ndim"
   ]
  },
  {
   "cell_type": "code",
   "execution_count": null,
   "metadata": {},
   "outputs": [],
   "source": [
    "bb = np.array([[1],[0], [1], [0]])\n",
    "\n",
    "A = np.array([[1, 0, 0, 0],\n",
    "              [0, 1, 0, 0],\n",
    "              [0, 0, 0, 1],\n",
    "              [0, 0, 1, 0]])\n",
    "\n",
    "A.dot(bb)\n"
   ]
  },
  {
   "cell_type": "code",
   "execution_count": null,
   "metadata": {},
   "outputs": [],
   "source": [
    "#coba CNOT\n",
    "\n",
    "A = np.array([[1, 0, 0, 0],\n",
    "              [0, 1, 0, 0],\n",
    "              [0, 0, 0, 1],\n",
    "              [0, 0, 1, 0]])\n",
    "\n",
    "print(np.linalg.inv(A)) #--> bener.... yg atas kl ada angka 2 nya... ga unitary??\n",
    "\n",
    "\n",
    "apakah matrixnya harus ukuran 16?? kan 2n??\n",
    "\n",
    "itu mappingnya gt ya..\n",
    "EMANG GA UNITARY!! MAKANYA MAU DIBIKIN GIMANA JADI UNITARY!! KAN MODULAR WEEY!!!!!"
   ]
  },
  {
   "cell_type": "markdown",
   "metadata": {},
   "source": [
    "# Cek Reduction, atas lupain dulu la"
   ]
  },
  {
   "cell_type": "code",
   "execution_count": null,
   "metadata": {},
   "outputs": [],
   "source": [
    "#coba dr yg belajar sendiri di buku lain"
   ]
  },
  {
   "cell_type": "code",
   "execution_count": null,
   "metadata": {},
   "outputs": [],
   "source": [
    "_.<Z> = GF(2)[]\n",
    "F.<z> = GF(2^8, modulus=Z^8+Z^4+Z^3+Z+1)"
   ]
  },
  {
   "cell_type": "code",
   "execution_count": null,
   "metadata": {},
   "outputs": [],
   "source": [
    "# #keterangan/ coba coba\n",
    "# F.list()\n",
    "# F.order()\n",
    "# a = F.gen(); a #ini a dijadikan generator?\n",
    "\n",
    "# a, a+a, a+a+a, a+a+a+a, a+0, a+1, a*4 #bisa ngitung banyak sekaligus!"
   ]
  },
  {
   "cell_type": "code",
   "execution_count": null,
   "metadata": {},
   "outputs": [],
   "source": [
    "#mult sebelum reduction, bisa liat dengan diubah jadi representasi polynom.\n",
    "A = z^5+z^2+1\n",
    "B = z^6+z+1\n",
    "\n",
    "A_poly = A.polynomial()\n",
    "B_poly = B.polynomial()\n",
    "C = A_poly * B_poly\n",
    "print(\"Before reduction = \", C)\n",
    "print(\"After reduction = \", A * B)\n",
    "\n",
    "\n",
    "#Source:\n",
    "# #https://ask.sagemath.org/question/38734/pre-reduction-multiplication-result-in-binary-field/\n",
    "# X = Integer(0x009D73616F35F4AB1407D73562C10F);\n",
    "# Y = Integer(0x00A52830277958EE84D1315ED31886);\n",
    "\n",
    "# F.<x> = GF(2)[];\n",
    "# p = x^113 + x^9 + 1;\n",
    "# BF = GF(2^113, 'x', modulus=p);\n",
    "\n",
    "# X_bf = BF._cache.fetch_int(X);\n",
    "# Y_bf = BF._cache.fetch_int(Y);\n",
    "\n",
    "# X_poly = X_bf.polynomial()\n",
    "# Y_poly = Y_bf.polynomial()\n",
    "# X_poly * Y_poly"
   ]
  },
  {
   "cell_type": "code",
   "execution_count": null,
   "metadata": {},
   "outputs": [],
   "source": [
    "#contoh https://crypto.stackexchange.com/questions/40742/how-to-perform-the-modular-reduce-of-rijndaels-finite-field\n",
    "z^13+z^12+z^11+z^10+z^9+z^8+z^6+z^5+z^4+z^3+z^2+z"
   ]
  },
  {
   "cell_type": "code",
   "execution_count": null,
   "metadata": {},
   "outputs": [],
   "source": [
    "a1 = z^11\n",
    "a1"
   ]
  },
  {
   "cell_type": "code",
   "execution_count": null,
   "metadata": {},
   "outputs": [],
   "source": [
    "a2 = z^8\n",
    "a2"
   ]
  },
  {
   "cell_type": "code",
   "execution_count": null,
   "metadata": {},
   "outputs": [],
   "source": [
    "rest = z^5 + z^3 + z^2 + z + 1\n",
    "rest"
   ]
  },
  {
   "cell_type": "code",
   "execution_count": null,
   "metadata": {},
   "outputs": [],
   "source": [
    "rest + a1"
   ]
  },
  {
   "cell_type": "code",
   "execution_count": null,
   "metadata": {},
   "outputs": [],
   "source": [
    "rest + a1 + a2"
   ]
  },
  {
   "cell_type": "code",
   "execution_count": null,
   "metadata": {},
   "outputs": [],
   "source": [
    "#bener.. jadi memang per part di reduce aja... per bagian (oer biji)"
   ]
  },
  {
   "cell_type": "code",
   "execution_count": null,
   "metadata": {},
   "outputs": [],
   "source": [
    "#inversion\n",
    "A^-1"
   ]
  },
  {
   "cell_type": "markdown",
   "metadata": {},
   "source": [
    "# REF AWAL DARI INTERNET"
   ]
  },
  {
   "cell_type": "code",
   "execution_count": null,
   "metadata": {},
   "outputs": [],
   "source": [
    "#salin\n",
    "\n",
    "#https://ask.sagemath.org/question/8736/nist-b-283-elliptic-curve/\n",
    "b =  0x027B680AC8B8596DA5A4AF8A19A0303FCA97FD7645309FA2A581485AF6263E313B79A2F5\n",
    "Z.<x>=GF(2)[]\n",
    "K.<a>=GF(2^283,'a',modulus=x^283 + x^12 + x^7 + x^5 + 1)\n",
    "bb=Z(b.digits(2))\n",
    "E=EllipticCurve(K,[1,1,0,0,bb]) \n",
    "P=E.random_element()\n",
    "print(P[0])\n",
    "print(P[1])\n",
    "print(E.is_on_curve(P[0],P[1]))  # OK\n",
    "\n",
    "# I was not able  to compute the order\n",
    "# print E.order()   exhausts memory and exits\n",
    "\n"
   ]
  },
  {
   "cell_type": "code",
   "execution_count": null,
   "metadata": {},
   "outputs": [],
   "source": []
  },
  {
   "cell_type": "code",
   "execution_count": null,
   "metadata": {},
   "outputs": [],
   "source": []
  }
 ],
 "metadata": {
  "kernelspec": {
   "display_name": "SageMath 9.2",
   "language": "sage",
   "name": "sagemath"
  }
 },
 "nbformat": 4,
 "nbformat_minor": 4
}
