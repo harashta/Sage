{
 "cells": [
  {
   "cell_type": "markdown",
   "metadata": {},
   "source": [
    "# FINITE FIELD ARITHMETIC \n",
    "Paling dasar, sebelum group operation (point addition/point doubling)\n",
    "Mau bikin LUP decomposition (agak kebayang skrg!!)"
   ]
  },
  {
   "cell_type": "markdown",
   "metadata": {},
   "source": [
    "# Check Inversion ala Banegas\n",
    "## First check: Question based on Guide to ECC p48"
   ]
  },
  {
   "cell_type": "code",
   "execution_count": null,
   "metadata": {},
   "outputs": [],
   "source": [
    "_.<Z> = GF(2)[]\n",
    "F.<z> = GF(2^4, modulus=Z^4+Z+1) #this modulus is irreducible\n",
    "(Z^4+Z+1).is_irreducible()"
   ]
  },
  {
   "cell_type": "code",
   "execution_count": null,
   "metadata": {},
   "outputs": [],
   "source": [
    "A = z^3 + z^2 + 1\n",
    "n = 4 #2^n-2\n",
    "inv_A = A^(2^n-2)\n",
    "inv_A, A^(-1)"
   ]
  },
  {
   "cell_type": "code",
   "execution_count": null,
   "metadata": {},
   "outputs": [],
   "source": [
    "Z^10 + Z^8 + Z^5 + Z^4 + 1"
   ]
  },
  {
   "cell_type": "markdown",
   "metadata": {},
   "source": [
    "## Second Check: Real example in Banegas, Circuit 12\n",
    "\n",
    "but n = 10 .. need to tinker irreducible polynom value.. just try lah\n",
    "modulus ga di specify.. coba aja anything irreducible laa\n",
    "\n",
    "from https://www.partow.net/programming/polynomials/index.html#deg10"
   ]
  },
  {
   "cell_type": "code",
   "execution_count": null,
   "metadata": {},
   "outputs": [],
   "source": [
    "_.<Z> = GF(2)[]\n",
    "F.<z> = GF(2^10, modulus=Z^10 + Z^8 + Z^5 + Z^4 + 1) \n",
    "\n",
    "(Z^10 + Z^8 + Z^5 + Z^4 + 1).is_irreducible()"
   ]
  },
  {
   "cell_type": "code",
   "execution_count": 17,
   "metadata": {},
   "outputs": [
    {
     "data": {
      "text/plain": [
       "(z^6 + z^4 + 1, z^7 + z^6 + z^5 + 1)"
      ]
     },
     "execution_count": 17,
     "metadata": {},
     "output_type": "execute_result"
    }
   ],
   "source": [
    "n= 10\n",
    "A = z^3 + z^2 + 1\n",
    "inv_A_via_exp = A^(2^n-2)\n",
    "inv_A_via_exp, A^(-1)\n"
   ]
  },
  {
   "cell_type": "code",
   "execution_count": 18,
   "metadata": {},
   "outputs": [
    {
     "data": {
      "text/plain": [
       "1022"
      ]
     },
     "execution_count": 18,
     "metadata": {},
     "output_type": "execute_result"
    }
   ],
   "source": [
    "2^10-2"
   ]
  },
  {
   "cell_type": "code",
   "execution_count": 19,
   "metadata": {},
   "outputs": [
    {
     "data": {
      "text/plain": [
       "z^7 + z^6 + z^5 + 1"
      ]
     },
     "execution_count": 19,
     "metadata": {},
     "output_type": "execute_result"
    }
   ],
   "source": [
    "A^-1"
   ]
  },
  {
   "cell_type": "code",
   "execution_count": 20,
   "metadata": {},
   "outputs": [
    {
     "data": {
      "text/plain": [
       "z^6 + z^4 + 1"
      ]
     },
     "execution_count": 20,
     "metadata": {},
     "output_type": "execute_result"
    }
   ],
   "source": [
    "A^(2^n-2) #A^1022 == A^-1"
   ]
  },
  {
   "cell_type": "markdown",
   "metadata": {},
   "source": [
    "Try one by one as in circuit12, or no need?"
   ]
  },
  {
   "cell_type": "markdown",
   "metadata": {},
   "source": [
    "## Now for n=8, irreducible adjusted to AES's ip"
   ]
  },
  {
   "cell_type": "code",
   "execution_count": 21,
   "metadata": {},
   "outputs": [
    {
     "data": {
      "text/plain": [
       "(z^7 + z^6 + z^5 + 1, z^7 + z^6 + z^5 + 1)"
      ]
     },
     "execution_count": 21,
     "metadata": {},
     "output_type": "execute_result"
    }
   ],
   "source": [
    "_.<Z> = GF(2)[]\n",
    "F.<z> = GF(2^8, modulus=Z^8+Z^4+Z^3+Z+1)\n",
    "(Z^8+Z^4+Z^3+Z+1).is_irreducible()\n",
    "\n",
    "n= 8\n",
    "A = z^3 + z^2 + 1\n",
    "inv_A_via_exp = A^(2^n-2)\n",
    "inv_A_via_exp, A^(-1)"
   ]
  },
  {
   "cell_type": "code",
   "execution_count": 22,
   "metadata": {},
   "outputs": [
    {
     "data": {
      "text/plain": [
       "254"
      ]
     },
     "execution_count": 22,
     "metadata": {},
     "output_type": "execute_result"
    }
   ],
   "source": [
    "2^8-2"
   ]
  },
  {
   "cell_type": "markdown",
   "metadata": {},
   "source": [
    "for checking pangkat A\n"
   ]
  },
  {
   "cell_type": "code",
   "execution_count": 23,
   "metadata": {},
   "outputs": [
    {
     "data": {
      "text/plain": [
       "z^6 + z^4 + 1"
      ]
     },
     "execution_count": 23,
     "metadata": {},
     "output_type": "execute_result"
    }
   ],
   "source": [
    "A^2 #in matlab, 1125_cekpangkat4viasquaringcascaded.mlx, == sq*input"
   ]
  },
  {
   "cell_type": "code",
   "execution_count": 35,
   "metadata": {},
   "outputs": [
    {
     "data": {
      "text/plain": [
       "z^7 + z^5 + z^4 + 1"
      ]
     },
     "execution_count": 35,
     "metadata": {},
     "output_type": "execute_result"
    }
   ],
   "source": [
    "(A^2)^2"
   ]
  },
  {
   "cell_type": "code",
   "execution_count": 36,
   "metadata": {},
   "outputs": [
    {
     "data": {
      "text/plain": [
       "z^7 + z^5 + z^4 + 1"
      ]
     },
     "execution_count": 36,
     "metadata": {},
     "output_type": "execute_result"
    }
   ],
   "source": [
    "A^4"
   ]
  },
  {
   "cell_type": "code",
   "execution_count": 37,
   "metadata": {},
   "outputs": [
    {
     "data": {
      "text/plain": [
       "z^7 + z^6 + z^5 + z^3 + z^2"
      ]
     },
     "execution_count": 37,
     "metadata": {},
     "output_type": "execute_result"
    }
   ],
   "source": [
    "A^8"
   ]
  },
  {
   "cell_type": "code",
   "execution_count": 41,
   "metadata": {},
   "outputs": [
    {
     "data": {
      "text/plain": [
       "z^3 + z^2 + 1"
      ]
     },
     "execution_count": 41,
     "metadata": {},
     "output_type": "execute_result"
    }
   ],
   "source": [
    "A^16"
   ]
  },
  {
   "cell_type": "code",
   "execution_count": null,
   "metadata": {},
   "outputs": [],
   "source": []
  },
  {
   "cell_type": "code",
   "execution_count": 48,
   "metadata": {},
   "outputs": [
    {
     "data": {
      "text/plain": [
       "1"
      ]
     },
     "execution_count": 48,
     "metadata": {},
     "output_type": "execute_result"
    }
   ],
   "source": [
    "(((((A^15)^2)^2)^2)^2)*A^15 #==A^255"
   ]
  },
  {
   "cell_type": "code",
   "execution_count": 49,
   "metadata": {},
   "outputs": [
    {
     "data": {
      "text/plain": [
       "1"
      ]
     },
     "execution_count": 49,
     "metadata": {},
     "output_type": "execute_result"
    }
   ],
   "source": [
    "((((((((((A^2)*A)^2)*A)^2)*A)^2)^2)^2)^2)*A^15 #==A^255 (15-nya di breakdown) --> SAMA!"
   ]
  },
  {
   "cell_type": "code",
   "execution_count": 32,
   "metadata": {},
   "outputs": [
    {
     "data": {
      "text/plain": [
       "254"
      ]
     },
     "execution_count": 32,
     "metadata": {},
     "output_type": "execute_result"
    }
   ],
   "source": [
    "2^n-2"
   ]
  },
  {
   "cell_type": "code",
   "execution_count": 33,
   "metadata": {},
   "outputs": [
    {
     "data": {
      "text/plain": [
       "z^7 + z^6 + z^5 + 1"
      ]
     },
     "execution_count": 33,
     "metadata": {},
     "output_type": "execute_result"
    }
   ],
   "source": [
    "A^-1"
   ]
  },
  {
   "cell_type": "code",
   "execution_count": 34,
   "metadata": {},
   "outputs": [
    {
     "data": {
      "text/plain": [
       "z^7 + z^6 + z^5 + 1"
      ]
     },
     "execution_count": 34,
     "metadata": {},
     "output_type": "execute_result"
    }
   ],
   "source": [
    "A^(2^n-2) #A^1022 == A^-1"
   ]
  },
  {
   "cell_type": "code",
   "execution_count": 50,
   "metadata": {},
   "outputs": [
    {
     "data": {
      "text/plain": [
       "z^7 + z^6 + z^5 + 1"
      ]
     },
     "execution_count": 50,
     "metadata": {},
     "output_type": "execute_result"
    }
   ],
   "source": [
    "A^254 #2^n-2"
   ]
  },
  {
   "cell_type": "code",
   "execution_count": 61,
   "metadata": {},
   "outputs": [
    {
     "data": {
      "text/plain": [
       "z^3 + z^2 + 1"
      ]
     },
     "execution_count": 61,
     "metadata": {},
     "output_type": "execute_result"
    }
   ],
   "source": [
    "# (((((A^2)*A)^2)*A^2)^2)*A^15 #==A^254\n",
    "# (((A^2)*A)^2)*A*\n",
    "# (((A^15)^2*A)^2*A)^2\n",
    "((((A^2)*A)^2*A)^2*A)^2*A #duh kok masih bingung masangnya..."
   ]
  },
  {
   "cell_type": "markdown",
   "metadata": {},
   "source": [
    "since all the same, just straight to continue masang ini!\n",
    "\n",
    "--> ide paper2: petakan lookup table for squaring??, compare den"
   ]
  },
  {
   "cell_type": "markdown",
   "metadata": {},
   "source": [
    "# AES IP\n"
   ]
  },
  {
   "cell_type": "code",
   "execution_count": null,
   "metadata": {},
   "outputs": [],
   "source": [
    "_.<Z> = GF(2)[]\n",
    "F.<z> = GF(2^8, modulus=Z^8+Z^4+Z^3+Z+1)\n",
    "(Z^8+Z^4+Z^3+Z+1).is_irreducible()"
   ]
  },
  {
   "cell_type": "markdown",
   "metadata": {},
   "source": [
    "# SQUARING"
   ]
  },
  {
   "cell_type": "code",
   "execution_count": null,
   "metadata": {},
   "outputs": [],
   "source": [
    "F.list()"
   ]
  },
  {
   "cell_type": "code",
   "execution_count": null,
   "metadata": {},
   "outputs": [],
   "source": [
    "len(F.list())"
   ]
  },
  {
   "cell_type": "code",
   "execution_count": null,
   "metadata": {},
   "outputs": [],
   "source": [
    "A = 1\n",
    "\n",
    "#squaring == A*A! #== A^2\n",
    "A^2"
   ]
  },
  {
   "cell_type": "code",
   "execution_count": null,
   "metadata": {},
   "outputs": [],
   "source": [
    "A = z\n",
    "\n",
    "#squaring == A*A! #== A^2\n",
    "A^2"
   ]
  },
  {
   "cell_type": "code",
   "execution_count": null,
   "metadata": {},
   "outputs": [],
   "source": [
    "A = z^2\n",
    "\n",
    "#squaring == A*A! #== A^2\n",
    "A^2"
   ]
  },
  {
   "cell_type": "code",
   "execution_count": null,
   "metadata": {},
   "outputs": [],
   "source": [
    "A = z^3\n",
    "\n",
    "#squaring == A*A! #== A^2\n",
    "A^2"
   ]
  },
  {
   "cell_type": "code",
   "execution_count": null,
   "metadata": {},
   "outputs": [],
   "source": [
    "group = F.list()\n",
    "for i in range(len(group)):\n",
    "    print(i, group[i],\"-->\", ((group[i])^2))"
   ]
  },
  {
   "cell_type": "code",
   "execution_count": null,
   "metadata": {},
   "outputs": [],
   "source": [
    "len(group)"
   ]
  },
  {
   "cell_type": "markdown",
   "metadata": {},
   "source": [
    "z --> z^2\n",
    "\n",
    "z^2 --> z^4\n",
    "\n",
    "z^3 --> z^6\n",
    "\n",
    "z^4 --> z^4 + z^3 + z + 1\n",
    "\n",
    "z^5 --> z^6 + z^5 + z^3 + z^2\n",
    "\n",
    "z^6 --> z^7 + z^5 + z^3 + z + 1\n",
    "\n",
    "z^7 --> z^7 + z^4 + z^3 + z"
   ]
  },
  {
   "cell_type": "markdown",
   "metadata": {},
   "source": [
    "# Inversion \n",
    "Circuit 12 Banegas"
   ]
  },
  {
   "cell_type": "code",
   "execution_count": null,
   "metadata": {},
   "outputs": [],
   "source": [
    "#kotretan\n",
    "A = z^6 + z^4 + z^3 + z^2\n",
    "A^-1\n",
    "\n",
    "B = z^2\n",
    "n = 3\n",
    "B^(2^n-2)\n",
    "c = 2^n-3\n",
    "c, 2^c"
   ]
  },
  {
   "cell_type": "code",
   "execution_count": null,
   "metadata": {},
   "outputs": [],
   "source": [
    "n = 10 #2^n-2\n",
    "A = z^3 + z^2 + 1\n",
    "A^(-1)"
   ]
  },
  {
   "cell_type": "code",
   "execution_count": null,
   "metadata": {},
   "outputs": [],
   "source": [
    "inv_A = A^(2^n-2)\n",
    "inv_A"
   ]
  },
  {
   "cell_type": "markdown",
   "metadata": {},
   "source": [
    "# Const Mult"
   ]
  },
  {
   "cell_type": "code",
   "execution_count": null,
   "metadata": {},
   "outputs": [],
   "source": []
  },
  {
   "cell_type": "code",
   "execution_count": null,
   "metadata": {},
   "outputs": [],
   "source": [
    "#contoh punya van hoof, circuit 5\n",
    "_.<X> = GF(2)[]\n",
    "H.<x> = GF(2^4, modulus=X^4+X+1)\n",
    "\n",
    "L = x^2+1"
   ]
  },
  {
   "cell_type": "code",
   "execution_count": null,
   "metadata": {},
   "outputs": [],
   "source": [
    "group = H.list()\n",
    "type(group)"
   ]
  },
  {
   "cell_type": "code",
   "execution_count": null,
   "metadata": {},
   "outputs": [],
   "source": [
    "L*1\n",
    "L*x"
   ]
  },
  {
   "cell_type": "code",
   "execution_count": null,
   "metadata": {},
   "outputs": [],
   "source": [
    "for i in range(len(group)):\n",
    "    print(i, group[i],\"-->\", ((group[i])*L))"
   ]
  },
  {
   "cell_type": "code",
   "execution_count": null,
   "metadata": {},
   "outputs": [],
   "source": [
    "for i in range(len(group)):\n",
    "    print(i, group[i],\"-->\", (L*(group[i])))"
   ]
  },
  {
   "cell_type": "markdown",
   "metadata": {},
   "source": [
    "##BELOW: untouched /scratch:::"
   ]
  },
  {
   "cell_type": "code",
   "execution_count": null,
   "metadata": {},
   "outputs": [],
   "source": [
    "c9 = z^319+z^288 \n",
    "c4 = z^159+z^128\n",
    "\n",
    "#mult sebelum reduction, bisa liat dengan diubah jadi representasi polynom.\n",
    "c9p = c9.polynomial()\n",
    "c4p = c4.polynomial()\n",
    "\n",
    "\n",
    "z4 = z^4\n",
    "z4p = z4.polynomial()\n",
    "c9p*z4p\n",
    "\n",
    "# add1p\n",
    "# c9p*c4p\n",
    "# add1p\n",
    "#add four times?\n",
    "\n"
   ]
  },
  {
   "cell_type": "code",
   "execution_count": null,
   "metadata": {},
   "outputs": [],
   "source": []
  },
  {
   "cell_type": "code",
   "execution_count": null,
   "metadata": {},
   "outputs": [],
   "source": [
    "#kotretan\n",
    "# (z^9+z^2+1)*z\n",
    "\n",
    "# (z^9+z^5+z^3+z^2+z+1)*z\n",
    "# (z^8+z^5+z^3+z^2+z+1)*z\n",
    "# (z^5+z^3+z^2+z+1)*z\n",
    "# (z^7+z^3+z^2+z+1)*z\n",
    "# (z^4+z^3+z+1)*z\n",
    "(z^7+z^2+1)*z"
   ]
  },
  {
   "cell_type": "code",
   "execution_count": null,
   "metadata": {},
   "outputs": [],
   "source": [
    "#addition\n",
    "(z^3+z^2+1)+(z^2+z+1)"
   ]
  },
  {
   "cell_type": "code",
   "execution_count": null,
   "metadata": {},
   "outputs": [],
   "source": [
    "#addition\n",
    "(z^7+z^2+1)+(z^2+z+1)"
   ]
  },
  {
   "cell_type": "code",
   "execution_count": null,
   "metadata": {},
   "outputs": [],
   "source": [
    "#subtraction\n",
    "(z^7+z^2+1)-(z^2+z+1)"
   ]
  },
  {
   "cell_type": "code",
   "execution_count": null,
   "metadata": {},
   "outputs": [],
   "source": [
    "#subtraction\n",
    "-(z^7+z^2+1)+(z^2+z+1)"
   ]
  },
  {
   "cell_type": "code",
   "execution_count": null,
   "metadata": {},
   "outputs": [],
   "source": [
    "(z^7+z^2+1)*z"
   ]
  },
  {
   "cell_type": "code",
   "execution_count": null,
   "metadata": {},
   "outputs": [],
   "source": [
    "#subtraction\n",
    "(z^3+z^2+1)-(z^2+z+1)"
   ]
  },
  {
   "cell_type": "code",
   "execution_count": null,
   "metadata": {},
   "outputs": [],
   "source": [
    "#mult\n",
    "# (z^3+z^2+1)*(z^2+z+1) #ini dia auto hasil reduction.. gimana cara liat sebelum reduction?\n",
    "# working:\n",
    "A = z^7\n",
    "B = z^2\n",
    "\n",
    "# #next trial\n",
    "# A = z^7+z^2+1\n",
    "# B = z^2+z+1\n",
    "\n",
    "A*B"
   ]
  },
  {
   "cell_type": "code",
   "execution_count": null,
   "metadata": {},
   "outputs": [],
   "source": [
    "#mult sebelum reduction, bisa liat dengan diubah jadi representasi polynom.\n",
    "A_poly = A.polynomial()\n",
    "B_poly = B.polynomial()\n",
    "A_poly * B_poly\n",
    "\n",
    "\n",
    "#Source:\n",
    "# #https://ask.sagemath.org/question/38734/pre-reduction-multiplication-result-in-binary-field/\n",
    "# X = Integer(0x009D73616F35F4AB1407D73562C10F);\n",
    "# Y = Integer(0x00A52830277958EE84D1315ED31886);\n",
    "\n",
    "# F.<x> = GF(2)[];\n",
    "# p = x^113 + x^9 + 1;\n",
    "# BF = GF(2^113, 'x', modulus=p);\n",
    "\n",
    "# X_bf = BF._cache.fetch_int(X);\n",
    "# Y_bf = BF._cache.fetch_int(Y);\n",
    "\n",
    "# X_poly = X_bf.polynomial()\n",
    "# Y_poly = Y_bf.polynomial()\n",
    "# X_poly * Y_poly"
   ]
  },
  {
   "cell_type": "code",
   "execution_count": null,
   "metadata": {},
   "outputs": [],
   "source": [
    "#inversion\n",
    "(z^3+z^2+1)^-1"
   ]
  },
  {
   "cell_type": "markdown",
   "metadata": {},
   "source": [
    "# GROUP OPERATION"
   ]
  },
  {
   "cell_type": "code",
   "execution_count": null,
   "metadata": {},
   "outputs": [],
   "source": [
    "#coba ulang pake yg dr certicom\n",
    "#https://www.certicom.com/content/certicom/en/41-an-example-of-an-elliptic-curve-group-over-f2m.html\n",
    "#adopt untuk Guide to ECC h.48 pdf\n",
    "# g = F.gen(1)"
   ]
  },
  {
   "cell_type": "code",
   "execution_count": null,
   "metadata": {},
   "outputs": [],
   "source": [
    "# ##curve25519\n",
    "# def findBasepoint(prime, A):\n",
    "#        F = GF(prime)\n",
    "#        E = EllipticCurve(F, [0, A, 0, 1, 0])\n",
    "\n",
    "#        for uInt in range(1, 1e3):\n",
    "#          u = F(uInt)\n",
    "#          v2 = u^3 + A*u^2 + u\n",
    "#          if not v2.is_square():\n",
    "#            continue\n",
    "#          v = v2.sqrt()\n",
    "#          point = E(u, v)\n",
    "#          pointOrder = point.order()\n",
    "#          if pointOrder > 8 and pointOrder.is_prime():\n",
    "#             Q=u^3 + A*u^2 + u\n",
    "#             return u, Q, sqrt(Q), point\n",
    "\n",
    "# res=findBasepoint(2^255 - 19, 486662)\n",
    "# res"
   ]
  },
  {
   "cell_type": "code",
   "execution_count": null,
   "metadata": {},
   "outputs": [],
   "source": [
    "F.inject_variables()"
   ]
  },
  {
   "cell_type": "code",
   "execution_count": null,
   "metadata": {},
   "outputs": [],
   "source": [
    "R.<x,y> = F[]; R #ga nyambung ke yg setelahnya atau ke yg sebeluumnya sih"
   ]
  },
  {
   "cell_type": "code",
   "execution_count": null,
   "metadata": {},
   "outputs": [],
   "source": [
    "C = EllipticCurve(y^2+x*y-x^3-z^4*x^2-1) ; C"
   ]
  },
  {
   "cell_type": "code",
   "execution_count": null,
   "metadata": {},
   "outputs": [],
   "source": [
    "C.points()"
   ]
  },
  {
   "cell_type": "code",
   "execution_count": null,
   "metadata": {},
   "outputs": [],
   "source": [
    "C.order()"
   ]
  },
  {
   "cell_type": "code",
   "execution_count": null,
   "metadata": {},
   "outputs": [],
   "source": [
    "# https://ask.sagemath.org/question/9976/elliptic-curves/\n",
    "#     ini yg gede banget p^163... real..."
   ]
  },
  {
   "cell_type": "code",
   "execution_count": null,
   "metadata": {},
   "outputs": [],
   "source": [
    "# G = C.point(()) \n",
    "pts = [p for p in C.points()] #AAAh ada 16 sedangkan di certicom 15, karena 1nya (pts[0]) itu point at infinity!!\n",
    "pts"
   ]
  },
  {
   "cell_type": "code",
   "execution_count": null,
   "metadata": {},
   "outputs": [],
   "source": [
    "pts[5]+pts[3]"
   ]
  },
  {
   "cell_type": "code",
   "execution_count": null,
   "metadata": {},
   "outputs": [],
   "source": [
    "C.gens() #For extension fields, the generator is obtained with the .gen() function. \n",
    "#nilai ini ga berubah2, artinya memang dia ya yg memenuhi?"
   ]
  },
  {
   "cell_type": "code",
   "execution_count": null,
   "metadata": {},
   "outputs": [],
   "source": [
    "pts[5]+pts[5] #point addition"
   ]
  },
  {
   "cell_type": "code",
   "execution_count": null,
   "metadata": {},
   "outputs": [],
   "source": [
    "2*(pts[5]) #doubling"
   ]
  },
  {
   "cell_type": "code",
   "execution_count": null,
   "metadata": {},
   "outputs": [],
   "source": [
    "#misal, titik yg mau ditambah:\n",
    "pts[2], pts[3], pts[2]+pts[3] #ups jadi point at inf, ganti yuuu"
   ]
  },
  {
   "cell_type": "code",
   "execution_count": null,
   "metadata": {},
   "outputs": [],
   "source": [
    "pts[1], pts[2], pts[1]+pts[2] # ini enak kayanya bucat diplot di QC? cek requirement \n",
    "#P(x1, y1)= (0,1), Q(x2, y2) = (1, z^3 + z^2), R = (1, z^3 + z^2 + 1) --> so far masih sesuai syarat sih, x1 != x2. Dan yg ditambahin, si const pake yg agak rebek biar ga terlalu trivial.. gt? "
   ]
  },
  {
   "cell_type": "code",
   "execution_count": null,
   "metadata": {},
   "outputs": [],
   "source": [
    "#fail\n",
    "# plot(pts[1]) #gabisa diplot karena yaa polynom. That's why si certicom dibuat g^0 g^1 dkk, biar representingnya enak!(kayanya)"
   ]
  },
  {
   "cell_type": "code",
   "execution_count": null,
   "metadata": {},
   "outputs": [],
   "source": [
    "pts[2]"
   ]
  },
  {
   "cell_type": "code",
   "execution_count": null,
   "metadata": {},
   "outputs": [],
   "source": [
    "type(pts[2])"
   ]
  },
  {
   "cell_type": "code",
   "execution_count": null,
   "metadata": {},
   "outputs": [],
   "source": [
    "pts[2][1]+pts[1][1], pts[2][1]+pts[2][1]"
   ]
  },
  {
   "cell_type": "code",
   "execution_count": null,
   "metadata": {},
   "outputs": [],
   "source": [
    "pts[2][1]"
   ]
  },
  {
   "cell_type": "code",
   "execution_count": null,
   "metadata": {},
   "outputs": [],
   "source": [
    "pts[2][1]\n"
   ]
  },
  {
   "cell_type": "code",
   "execution_count": null,
   "metadata": {},
   "outputs": [],
   "source": [
    "C.random_element()"
   ]
  },
  {
   "cell_type": "code",
   "execution_count": null,
   "metadata": {},
   "outputs": [],
   "source": [
    "list(C)"
   ]
  },
  {
   "cell_type": "code",
   "execution_count": null,
   "metadata": {},
   "outputs": [],
   "source": [
    "pts[2][1]"
   ]
  },
  {
   "cell_type": "code",
   "execution_count": null,
   "metadata": {},
   "outputs": [],
   "source": [
    "Fq = GF(2^4); Fq"
   ]
  },
  {
   "cell_type": "code",
   "execution_count": null,
   "metadata": {},
   "outputs": [],
   "source": [
    "m = c(())"
   ]
  },
  {
   "cell_type": "code",
   "execution_count": null,
   "metadata": {},
   "outputs": [],
   "source": [
    "#https://ask.sagemath.org/question/8736/nist-b-283-elliptic-curve/\n",
    "b =  0x027B680AC8B8596DA5A4AF8A19A0303FCA97FD7645309FA2A581485AF6263E313B79A2F5\n",
    "Z.<x>=GF(2)[]\n",
    "K.<a>=GF(2^283,'a',modulus=x^283 + x^12 + x^7 + x^5 + 1)\n",
    "bb=Z(b.digits(2))\n",
    "E=EllipticCurve(K,[1,1,0,0,bb]) \n",
    "P=E.random_element()\n",
    "print(P[0])\n",
    "print(P[1])\n",
    "print(E.is_on_curve(P[0],P[1]))  # OK\n",
    "\n",
    "# I was not able  to compute the order\n",
    "# print E.order()   exhausts memory and exits\n",
    "\n"
   ]
  },
  {
   "cell_type": "code",
   "execution_count": null,
   "metadata": {},
   "outputs": [],
   "source": [
    "b =  1\n",
    "_.<x>=GF(2)[]\n",
    "K.<a>=GF(2^4,'a',modulus=Z^4+Z+1)\n",
    "bb=Z(b.digits(2))\n",
    "E=EllipticCurve(K,[1,1,0,0,bb]) \n",
    "P=E.random_element()\n",
    "print(P[0])\n",
    "print(P[1])\n",
    "print(E.is_on_curve(P[0],P[1]))\n",
    "      \n",
    "      \n",
    "#       _.<Z> = GF(2)[]\n",
    "# F.<z> = GF(2^4, modulus=Z^4+Z+1)"
   ]
  },
  {
   "cell_type": "code",
   "execution_count": null,
   "metadata": {},
   "outputs": [],
   "source": []
  }
 ],
 "metadata": {
  "kernelspec": {
   "display_name": "SageMath 9.2",
   "language": "sage",
   "name": "sagemath"
  },
  "language_info": {
   "codemirror_mode": {
    "name": "ipython",
    "version": 3
   },
   "file_extension": ".py",
   "mimetype": "text/x-python",
   "name": "python",
   "nbconvert_exporter": "python",
   "pygments_lexer": "ipython3",
   "version": "3.7.7"
  }
 },
 "nbformat": 4,
 "nbformat_minor": 4
}
