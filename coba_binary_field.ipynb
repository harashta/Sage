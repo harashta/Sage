{
 "cells": [
  {
   "cell_type": "code",
   "execution_count": null,
   "metadata": {},
   "outputs": [],
   "source": [
    "F = FiniteField(263)\n",
    "\n",
    "print(F)\n",
    "\n",
    "type(F(200))\n",
    "\n",
    "C = EllipticCurve(F, [ 2, 3 ]) \n",
    "\n",
    "type(C)\n",
    "\n",
    "C\n",
    "\n",
    "print(C.cardinality())                # Count number of points on curve\n",
    "\n",
    "print(C.points()[:4]) \n",
    "\n",
    "G = C.point((200, 39))\n",
    "G\n",
    "\n",
    "\n",
    "G.order()\n",
    "\n",
    "[ p for p in C.points() if (p.order() < 10) ]\n",
    "\n",
    "[ (p.order(), p) for p in C.points() if (p.order() < 10) ]\n",
    "\n",
    "sorted([ (p.order(), p) for p in C.points() if (p.order() < 10) ])\n",
    "\n",
    "H = C.point((126, 76))\n",
    "H.order()\n",
    "\n",
    "pts = [ H * x for x in range(H.order()) ]\n",
    "pts\n",
    "\n",
    "pts[4]\n",
    "\n",
    "\n",
    "plot(pts[4])\n",
    "\n",
    "plot(pts[4]) + plot(pts[5])\n",
    "\n",
    "sum([ plot(p) for p in pts ])\n",
    "\n",
    "plot1 = sum([ plot(p, hue = 0.1) for p in pts ])\n",
    "plot1\n",
    "\n",
    "plot(plot1, aspect_ratio = 1)\n",
    "\n",
    "plot(C, aspect_ratio = 1)\n",
    "\n",
    "pts[4]\n",
    "\n",
    "pts[5]\n",
    "\n",
    "newpoint = pts[4]+pts[5]\n",
    "newpoint\n",
    "\n",
    "plot(newpoint)\n",
    "\n",
    "pts\n",
    "\n",
    "pts[1]+pts[2]\n",
    "\n",
    "pts[2]+pts[3] #AAA tidak selalu ngurut ya?! Pokoknya within this scope, tapi gak selalu ngurut! makanya bukan si 144\n",
    "\n",
    "pts[4]+pts[5]+pts[4]+pts[5] #aah makanya tadi gini hasilnya\n",
    "\n",
    "pts[4]+pts[5]+pts[4] \n",
    "\n",
    "# BESOK MAIN2 BINARY!!\n",
    "\n",
    "EllipticCurve?\n",
    "\n",
    "#https://ask.sagemath.org/question/51429/elliptic-curve-over-16-bit-binary-field/\n",
    "K = GF(2^16); K \n",
    "\n",
    "K.inject_variables()\n",
    "\n",
    "K = EllipticCurve(K, [2, 3*z16^12,1,1,z16]) ; E\n",
    "\n",
    "#E. #press tab for completion [TAB]\n",
    "\n",
    "\n",
    "\n",
    "#https://ask.sagemath.org/question/7563/elliptic-curve-over-binary-field-in-sage/\n",
    "F = GF(2^4, 'g') ; F\n",
    "\n",
    "F.inject_variables()\n",
    "\n",
    "R.<x,y> = F[] ; R\n",
    "\n",
    "C = EllipticCurve(y^2+x*y-x^3-g^3*x^2-(g^3+1)) ; C\n",
    "\n",
    "\n",
    "\n",
    "M.F. would like to thank X for her assistance in reviewing and proofreading the manuscript and discussion to address the reviewer's feedback. stage and respons , and all authors would like to thank the anonymous reviewers for helping enhancing the quality of the paper."
   ]
  },
  {
   "cell_type": "code",
   "execution_count": null,
   "metadata": {},
   "outputs": [],
   "source": [
    "F = FiniteField(2^4); F"
   ]
  },
  {
   "cell_type": "code",
   "execution_count": null,
   "metadata": {},
   "outputs": [],
   "source": [
    "type(F)"
   ]
  },
  {
   "cell_type": "code",
   "execution_count": 2,
   "metadata": {},
   "outputs": [
    {
     "data": {
      "text/plain": [
       "x^7 + x^6 + x^5 + x^4 + x^3 + x^2 + 1"
      ]
     },
     "execution_count": 2,
     "metadata": {},
     "output_type": "execute_result"
    }
   ],
   "source": [
    "# https://stackoverflow.com/questions/24298864/binary-field-inversion-using-sage/24304186\n",
    "_.<X> = GF(2)[]\n",
    "K.<x> = GF(2^8, modulus=X^8+X^4+X^3+X+1)\n",
    "(x^8 + 1)^-1"
   ]
  },
  {
   "cell_type": "markdown",
   "metadata": {},
   "source": [
    "# FINITE FIELD ARITHMETIC \n",
    "Paling dasar, sebelum group operation (point addition/point doubling)"
   ]
  },
  {
   "cell_type": "code",
   "execution_count": 72,
   "metadata": {},
   "outputs": [],
   "source": [
    "#adopt untuk Guide to ECC h.48 pdf\n",
    "_.<Z> = GF(2)[]\n",
    "F.<z> = GF(2^4, modulus=Z^4+Z+1)"
   ]
  },
  {
   "cell_type": "code",
   "execution_count": 162,
   "metadata": {},
   "outputs": [
    {
     "data": {
      "text/plain": [
       "(z, 0, z, 0, z, z + 1, 0)"
      ]
     },
     "execution_count": 162,
     "metadata": {},
     "output_type": "execute_result"
    }
   ],
   "source": [
    "#keterangan/ coba coba\n",
    "F.list()\n",
    "F.order()\n",
    "a = F.gen(); a #ini a dijadikan generator?\n",
    "\n",
    "a, a+a, a+a+a, a+a+a+a, a+0, a+1, a*4 #bisa ngitung banyak sekaligus!"
   ]
  },
  {
   "cell_type": "code",
   "execution_count": 14,
   "metadata": {},
   "outputs": [
    {
     "data": {
      "text/plain": [
       "z^3 + z"
      ]
     },
     "execution_count": 14,
     "metadata": {},
     "output_type": "execute_result"
    }
   ],
   "source": [
    "#addition\n",
    "(z^3+z^2+1)+(z^2+z+1)"
   ]
  },
  {
   "cell_type": "code",
   "execution_count": 5,
   "metadata": {},
   "outputs": [
    {
     "data": {
      "text/plain": [
       "z^3 + z"
      ]
     },
     "execution_count": 5,
     "metadata": {},
     "output_type": "execute_result"
    }
   ],
   "source": [
    "#subtraction\n",
    "(z^3+z^2+1)-(z^2+z+1)"
   ]
  },
  {
   "cell_type": "code",
   "execution_count": 54,
   "metadata": {},
   "outputs": [
    {
     "data": {
      "text/plain": [
       "z^2 + 1"
      ]
     },
     "execution_count": 54,
     "metadata": {},
     "output_type": "execute_result"
    }
   ],
   "source": [
    "#mult\n",
    "(z^3+z^2+1)*(z^2+z+1) #ini dia auto hasil reduction.. gimana cara liat sebelum reduction?"
   ]
  },
  {
   "cell_type": "code",
   "execution_count": 65,
   "metadata": {},
   "outputs": [
    {
     "data": {
      "text/plain": [
       "z^5 + z + 1"
      ]
     },
     "execution_count": 65,
     "metadata": {},
     "output_type": "execute_result"
    }
   ],
   "source": [
    "#mult sebelum reduction, bisa liat dengan diubah jadi representasi polynom.\n",
    "A = z^3+z^2+1\n",
    "B = z^2+z+1\n",
    "\n",
    "\n",
    "A_poly = A.polynomial()\n",
    "B_poly = B.polynomial()\n",
    "A_poly * B_poly\n",
    "\n",
    "\n",
    "#Source:\n",
    "# #https://ask.sagemath.org/question/38734/pre-reduction-multiplication-result-in-binary-field/\n",
    "# X = Integer(0x009D73616F35F4AB1407D73562C10F);\n",
    "# Y = Integer(0x00A52830277958EE84D1315ED31886);\n",
    "\n",
    "# F.<x> = GF(2)[];\n",
    "# p = x^113 + x^9 + 1;\n",
    "# BF = GF(2^113, 'x', modulus=p);\n",
    "\n",
    "# X_bf = BF._cache.fetch_int(X);\n",
    "# Y_bf = BF._cache.fetch_int(Y);\n",
    "\n",
    "# X_poly = X_bf.polynomial()\n",
    "# Y_poly = Y_bf.polynomial()\n",
    "# X_poly * Y_poly"
   ]
  },
  {
   "cell_type": "code",
   "execution_count": 66,
   "metadata": {},
   "outputs": [
    {
     "data": {
      "text/plain": [
       "z^2"
      ]
     },
     "execution_count": 66,
     "metadata": {},
     "output_type": "execute_result"
    }
   ],
   "source": [
    "#inversion\n",
    "(z^3+z^2+1)^-1"
   ]
  },
  {
   "cell_type": "markdown",
   "metadata": {},
   "source": [
    "# GROUP OPERATION"
   ]
  },
  {
   "cell_type": "code",
   "execution_count": 108,
   "metadata": {},
   "outputs": [],
   "source": [
    "#coba ulang pake yg dr certicom\n",
    "#https://www.certicom.com/content/certicom/en/41-an-example-of-an-elliptic-curve-group-over-f2m.html\n",
    "#adopt untuk Guide to ECC h.48 pdf\n",
    "# g = F.gen(1)"
   ]
  },
  {
   "cell_type": "code",
   "execution_count": 63,
   "metadata": {},
   "outputs": [],
   "source": [
    "# ##curve25519\n",
    "# def findBasepoint(prime, A):\n",
    "#        F = GF(prime)\n",
    "#        E = EllipticCurve(F, [0, A, 0, 1, 0])\n",
    "\n",
    "#        for uInt in range(1, 1e3):\n",
    "#          u = F(uInt)\n",
    "#          v2 = u^3 + A*u^2 + u\n",
    "#          if not v2.is_square():\n",
    "#            continue\n",
    "#          v = v2.sqrt()\n",
    "#          point = E(u, v)\n",
    "#          pointOrder = point.order()\n",
    "#          if pointOrder > 8 and pointOrder.is_prime():\n",
    "#             Q=u^3 + A*u^2 + u\n",
    "#             return u, Q, sqrt(Q), point\n",
    "\n",
    "# res=findBasepoint(2^255 - 19, 486662)\n",
    "# res"
   ]
  },
  {
   "cell_type": "code",
   "execution_count": 76,
   "metadata": {},
   "outputs": [
    {
     "name": "stdout",
     "output_type": "stream",
     "text": [
      "Defining z\n"
     ]
    }
   ],
   "source": [
    "F.inject_variables()"
   ]
  },
  {
   "cell_type": "code",
   "execution_count": 77,
   "metadata": {},
   "outputs": [
    {
     "data": {
      "text/plain": [
       "Multivariate Polynomial Ring in x, y over Finite Field in z of size 2^4"
      ]
     },
     "execution_count": 77,
     "metadata": {},
     "output_type": "execute_result"
    }
   ],
   "source": [
    "R.<x,y> = F[]; R #ga nyambung ke yg setelahnya atau ke yg sebeluumnya sih"
   ]
  },
  {
   "cell_type": "code",
   "execution_count": 86,
   "metadata": {},
   "outputs": [
    {
     "data": {
      "text/plain": [
       "Elliptic Curve defined by y^2 + x*y = x^3 + (z+1)*x^2 + 1 over Finite Field in z of size 2^4"
      ]
     },
     "execution_count": 86,
     "metadata": {},
     "output_type": "execute_result"
    }
   ],
   "source": [
    "C = EllipticCurve(y^2+x*y-x^3-z^4*x^2-1) ; C"
   ]
  },
  {
   "cell_type": "code",
   "execution_count": 87,
   "metadata": {},
   "outputs": [
    {
     "data": {
      "text/plain": [
       "[(0 : 1 : 0), (0 : 1 : 1), (1 : z^3 + z^2 : 1), (1 : z^3 + z^2 + 1 : 1), (z^2 + z : z^3 : 1), (z^2 + z : z^3 + z^2 + z : 1), (z^2 + z + 1 : z : 1), (z^2 + z + 1 : z^2 + 1 : 1), (z^3 : z^2 + 1 : 1), (z^3 : z^3 + z^2 + 1 : 1), (z^3 + z : z^2 + z + 1 : 1), (z^3 + z : z^3 + z^2 + 1 : 1), (z^3 + z^2 : z^2 + 1 : 1), (z^3 + z^2 : z^3 + 1 : 1), (z^3 + z^2 + z + 1 : 0 : 1), (z^3 + z^2 + z + 1 : z^3 + z^2 + z + 1 : 1)]"
      ]
     },
     "execution_count": 87,
     "metadata": {},
     "output_type": "execute_result"
    }
   ],
   "source": [
    "C.points()"
   ]
  },
  {
   "cell_type": "code",
   "execution_count": 84,
   "metadata": {},
   "outputs": [
    {
     "data": {
      "text/plain": [
       "16"
      ]
     },
     "execution_count": 84,
     "metadata": {},
     "output_type": "execute_result"
    }
   ],
   "source": [
    "C.order()"
   ]
  },
  {
   "cell_type": "code",
   "execution_count": 110,
   "metadata": {},
   "outputs": [],
   "source": [
    "# https://ask.sagemath.org/question/9976/elliptic-curves/\n",
    "#     ini yg gede banget p^163... real..."
   ]
  },
  {
   "cell_type": "code",
   "execution_count": 96,
   "metadata": {},
   "outputs": [
    {
     "data": {
      "text/plain": [
       "[(0 : 1 : 0),\n",
       " (0 : 1 : 1),\n",
       " (1 : z^3 + z^2 : 1),\n",
       " (1 : z^3 + z^2 + 1 : 1),\n",
       " (z^2 + z : z^3 : 1),\n",
       " (z^2 + z : z^3 + z^2 + z : 1),\n",
       " (z^2 + z + 1 : z : 1),\n",
       " (z^2 + z + 1 : z^2 + 1 : 1),\n",
       " (z^3 : z^2 + 1 : 1),\n",
       " (z^3 : z^3 + z^2 + 1 : 1),\n",
       " (z^3 + z : z^2 + z + 1 : 1),\n",
       " (z^3 + z : z^3 + z^2 + 1 : 1),\n",
       " (z^3 + z^2 : z^2 + 1 : 1),\n",
       " (z^3 + z^2 : z^3 + 1 : 1),\n",
       " (z^3 + z^2 + z + 1 : 0 : 1),\n",
       " (z^3 + z^2 + z + 1 : z^3 + z^2 + z + 1 : 1)]"
      ]
     },
     "execution_count": 96,
     "metadata": {},
     "output_type": "execute_result"
    }
   ],
   "source": [
    "# G = C.point(()) \n",
    "pts = [p for p in C.points()] #AAAh ada 16 sedangkan di certicom 15, karena 1nya (pts[0]) itu point at infinity!!\n",
    "pts"
   ]
  },
  {
   "cell_type": "code",
   "execution_count": 103,
   "metadata": {},
   "outputs": [
    {
     "data": {
      "text/plain": [
       "(z^2 + z : z^3 : 1)"
      ]
     },
     "execution_count": 103,
     "metadata": {},
     "output_type": "execute_result"
    }
   ],
   "source": [
    "pts[5]+pts[3]"
   ]
  },
  {
   "cell_type": "code",
   "execution_count": 178,
   "metadata": {},
   "outputs": [
    {
     "data": {
      "text/plain": [
       "((z^3 : z^3 + z^2 + 1 : 1),)"
      ]
     },
     "execution_count": 178,
     "metadata": {},
     "output_type": "execute_result"
    }
   ],
   "source": [
    "C.gens() #For extension fields, the generator is obtained with the .gen() function. \n",
    "#nilai ini ga berubah2, artinya memang dia ya yg memenuhi?"
   ]
  },
  {
   "cell_type": "code",
   "execution_count": 111,
   "metadata": {},
   "outputs": [
    {
     "data": {
      "text/plain": [
       "(1 : z^3 + z^2 : 1)"
      ]
     },
     "execution_count": 111,
     "metadata": {},
     "output_type": "execute_result"
    }
   ],
   "source": [
    "pts[5]+pts[5] #point addition"
   ]
  },
  {
   "cell_type": "code",
   "execution_count": 112,
   "metadata": {},
   "outputs": [
    {
     "data": {
      "text/plain": [
       "(1 : z^3 + z^2 : 1)"
      ]
     },
     "execution_count": 112,
     "metadata": {},
     "output_type": "execute_result"
    }
   ],
   "source": [
    "2*(pts[5]) #doubling"
   ]
  },
  {
   "cell_type": "code",
   "execution_count": 114,
   "metadata": {},
   "outputs": [
    {
     "data": {
      "text/plain": [
       "((1 : z^3 + z^2 : 1), (1 : z^3 + z^2 + 1 : 1), (0 : 1 : 0))"
      ]
     },
     "execution_count": 114,
     "metadata": {},
     "output_type": "execute_result"
    }
   ],
   "source": [
    "#misal, titik yg mau ditambah:\n",
    "pts[2], pts[3], pts[2]+pts[3] #ups jadi point at inf, ganti yuuu"
   ]
  },
  {
   "cell_type": "code",
   "execution_count": 121,
   "metadata": {},
   "outputs": [
    {
     "data": {
      "text/plain": [
       "((0 : 1 : 1), (1 : z^3 + z^2 : 1), (1 : z^3 + z^2 + 1 : 1))"
      ]
     },
     "execution_count": 121,
     "metadata": {},
     "output_type": "execute_result"
    }
   ],
   "source": [
    "pts[1], pts[2], pts[1]+pts[2] # ini enak kayanya bucat diplot di QC? cek requirement \n",
    "#P(x1, y1)= (0,1), Q(x2, y2) = (1, z^3 + z^2), R = (1, z^3 + z^2 + 1) --> so far masih sesuai syarat sih, x1 != x2. Dan yg ditambahin, si const pake yg agak rebek biar ga terlalu trivial.. gt? "
   ]
  },
  {
   "cell_type": "code",
   "execution_count": 124,
   "metadata": {},
   "outputs": [],
   "source": [
    "#fail\n",
    "# plot(pts[1]) #gabisa diplot karena yaa polynom. That's why si certicom dibuat g^0 g^1 dkk, biar representingnya enak!(kayanya)"
   ]
  },
  {
   "cell_type": "code",
   "execution_count": 125,
   "metadata": {},
   "outputs": [
    {
     "data": {
      "text/plain": [
       "(1 : z^3 + z^2 : 1)"
      ]
     },
     "execution_count": 125,
     "metadata": {},
     "output_type": "execute_result"
    }
   ],
   "source": [
    "pts[2]"
   ]
  },
  {
   "cell_type": "code",
   "execution_count": 126,
   "metadata": {},
   "outputs": [
    {
     "data": {
      "text/plain": [
       "<class 'sage.schemes.elliptic_curves.ell_point.EllipticCurvePoint_finite_field'>"
      ]
     },
     "execution_count": 126,
     "metadata": {},
     "output_type": "execute_result"
    }
   ],
   "source": [
    "type(pts[2])"
   ]
  },
  {
   "cell_type": "code",
   "execution_count": 135,
   "metadata": {},
   "outputs": [
    {
     "data": {
      "text/plain": [
       "(z^3 + z^2 + 1, 0)"
      ]
     },
     "execution_count": 135,
     "metadata": {},
     "output_type": "execute_result"
    }
   ],
   "source": [
    "pts[2][1]+pts[1][1], pts[2][1]+pts[2][1]"
   ]
  },
  {
   "cell_type": "code",
   "execution_count": 137,
   "metadata": {},
   "outputs": [
    {
     "data": {
      "text/plain": [
       "z^3 + z^2"
      ]
     },
     "execution_count": 137,
     "metadata": {},
     "output_type": "execute_result"
    }
   ],
   "source": [
    "pts[2][1]"
   ]
  },
  {
   "cell_type": "code",
   "execution_count": 141,
   "metadata": {},
   "outputs": [
    {
     "data": {
      "text/plain": [
       "z^3 + z^2"
      ]
     },
     "execution_count": 141,
     "metadata": {},
     "output_type": "execute_result"
    }
   ],
   "source": [
    "pts[2][1]\n"
   ]
  },
  {
   "cell_type": "code",
   "execution_count": 144,
   "metadata": {},
   "outputs": [
    {
     "data": {
      "text/plain": [
       "(1 : z^3 + z^2 + 1 : 1)"
      ]
     },
     "execution_count": 144,
     "metadata": {},
     "output_type": "execute_result"
    }
   ],
   "source": [
    "C.random_element()"
   ]
  },
  {
   "cell_type": "code",
   "execution_count": 145,
   "metadata": {},
   "outputs": [
    {
     "data": {
      "text/plain": [
       "[(0 : 1 : 0),\n",
       " (0 : 1 : 1),\n",
       " (1 : z^3 + z^2 : 1),\n",
       " (1 : z^3 + z^2 + 1 : 1),\n",
       " (z^2 + z : z^3 : 1),\n",
       " (z^2 + z : z^3 + z^2 + z : 1),\n",
       " (z^2 + z + 1 : z : 1),\n",
       " (z^2 + z + 1 : z^2 + 1 : 1),\n",
       " (z^3 : z^2 + 1 : 1),\n",
       " (z^3 : z^3 + z^2 + 1 : 1),\n",
       " (z^3 + z : z^2 + z + 1 : 1),\n",
       " (z^3 + z : z^3 + z^2 + 1 : 1),\n",
       " (z^3 + z^2 : z^2 + 1 : 1),\n",
       " (z^3 + z^2 : z^3 + 1 : 1),\n",
       " (z^3 + z^2 + z + 1 : 0 : 1),\n",
       " (z^3 + z^2 + z + 1 : z^3 + z^2 + z + 1 : 1)]"
      ]
     },
     "execution_count": 145,
     "metadata": {},
     "output_type": "execute_result"
    }
   ],
   "source": [
    "list(C)"
   ]
  },
  {
   "cell_type": "code",
   "execution_count": 153,
   "metadata": {},
   "outputs": [
    {
     "ename": "AttributeError",
     "evalue": "'sage.rings.finite_rings.element_givaro.FiniteField_givaroElement' object has no attribute 'ipynb_checkpoints'",
     "output_type": "error",
     "traceback": [
      "\u001b[0;31m---------------------------------------------------------------------------\u001b[0m",
      "\u001b[0;31mAttributeError\u001b[0m                            Traceback (most recent call last)",
      "\u001b[0;32m<ipython-input-153-8c732715d660>\u001b[0m in \u001b[0;36m<module>\u001b[0;34m\u001b[0m\n\u001b[0;32m----> 1\u001b[0;31m \u001b[0mpts\u001b[0m\u001b[0;34m[\u001b[0m\u001b[0mInteger\u001b[0m\u001b[0;34m(\u001b[0m\u001b[0;36m2\u001b[0m\u001b[0;34m)\u001b[0m\u001b[0;34m]\u001b[0m\u001b[0;34m[\u001b[0m\u001b[0mInteger\u001b[0m\u001b[0;34m(\u001b[0m\u001b[0;36m1\u001b[0m\u001b[0;34m)\u001b[0m\u001b[0;34m]\u001b[0m\u001b[0;34m.\u001b[0m\u001b[0mipynb_checkpoints\u001b[0m\u001b[0;34m/\u001b[0m\u001b[0mKleinFourGroup\u001b[0m\u001b[0;34m\u001b[0m\u001b[0;34m\u001b[0m\u001b[0m\n\u001b[0m",
      "\u001b[0;32m/opt/sagemath-9.2/local/lib/python3.7/site-packages/sage/structure/element.pyx\u001b[0m in \u001b[0;36msage.structure.element.Element.__getattr__ (build/cythonized/sage/structure/element.c:4703)\u001b[0;34m()\u001b[0m\n\u001b[1;32m    491\u001b[0m             \u001b[0mAttributeError\u001b[0m\u001b[0;34m:\u001b[0m \u001b[0;34m'LeftZeroSemigroup_with_category.element_class'\u001b[0m \u001b[0mobject\u001b[0m \u001b[0mhas\u001b[0m \u001b[0mno\u001b[0m \u001b[0mattribute\u001b[0m \u001b[0;34m'blah_blah'\u001b[0m\u001b[0;34m\u001b[0m\u001b[0;34m\u001b[0m\u001b[0m\n\u001b[1;32m    492\u001b[0m         \"\"\"\n\u001b[0;32m--> 493\u001b[0;31m         \u001b[0;32mreturn\u001b[0m \u001b[0mself\u001b[0m\u001b[0;34m.\u001b[0m\u001b[0mgetattr_from_category\u001b[0m\u001b[0;34m(\u001b[0m\u001b[0mname\u001b[0m\u001b[0;34m)\u001b[0m\u001b[0;34m\u001b[0m\u001b[0;34m\u001b[0m\u001b[0m\n\u001b[0m\u001b[1;32m    494\u001b[0m \u001b[0;34m\u001b[0m\u001b[0m\n\u001b[1;32m    495\u001b[0m     \u001b[0mcdef\u001b[0m \u001b[0mgetattr_from_category\u001b[0m\u001b[0;34m(\u001b[0m\u001b[0mself\u001b[0m\u001b[0;34m,\u001b[0m \u001b[0mname\u001b[0m\u001b[0;34m)\u001b[0m\u001b[0;34m:\u001b[0m\u001b[0;34m\u001b[0m\u001b[0;34m\u001b[0m\u001b[0m\n",
      "\u001b[0;32m/opt/sagemath-9.2/local/lib/python3.7/site-packages/sage/structure/element.pyx\u001b[0m in \u001b[0;36msage.structure.element.Element.getattr_from_category (build/cythonized/sage/structure/element.c:4815)\u001b[0;34m()\u001b[0m\n\u001b[1;32m    504\u001b[0m         \u001b[0;32melse\u001b[0m\u001b[0;34m:\u001b[0m\u001b[0;34m\u001b[0m\u001b[0;34m\u001b[0m\u001b[0m\n\u001b[1;32m    505\u001b[0m             \u001b[0mcls\u001b[0m \u001b[0;34m=\u001b[0m \u001b[0mP\u001b[0m\u001b[0;34m.\u001b[0m\u001b[0m_abstract_element_class\u001b[0m\u001b[0;34m\u001b[0m\u001b[0;34m\u001b[0m\u001b[0m\n\u001b[0;32m--> 506\u001b[0;31m         \u001b[0;32mreturn\u001b[0m \u001b[0mgetattr_from_other_class\u001b[0m\u001b[0;34m(\u001b[0m\u001b[0mself\u001b[0m\u001b[0;34m,\u001b[0m \u001b[0mcls\u001b[0m\u001b[0;34m,\u001b[0m \u001b[0mname\u001b[0m\u001b[0;34m)\u001b[0m\u001b[0;34m\u001b[0m\u001b[0;34m\u001b[0m\u001b[0m\n\u001b[0m\u001b[1;32m    507\u001b[0m \u001b[0;34m\u001b[0m\u001b[0m\n\u001b[1;32m    508\u001b[0m     \u001b[0;32mdef\u001b[0m \u001b[0m__dir__\u001b[0m\u001b[0;34m(\u001b[0m\u001b[0mself\u001b[0m\u001b[0;34m)\u001b[0m\u001b[0;34m:\u001b[0m\u001b[0;34m\u001b[0m\u001b[0;34m\u001b[0m\u001b[0m\n",
      "\u001b[0;32m/opt/sagemath-9.2/local/lib/python3.7/site-packages/sage/cpython/getattr.pyx\u001b[0m in \u001b[0;36msage.cpython.getattr.getattr_from_other_class (build/cythonized/sage/cpython/getattr.c:2619)\u001b[0;34m()\u001b[0m\n\u001b[1;32m    370\u001b[0m         \u001b[0mdummy_error_message\u001b[0m\u001b[0;34m.\u001b[0m\u001b[0mcls\u001b[0m \u001b[0;34m=\u001b[0m \u001b[0mtype\u001b[0m\u001b[0;34m(\u001b[0m\u001b[0mself\u001b[0m\u001b[0;34m)\u001b[0m\u001b[0;34m\u001b[0m\u001b[0;34m\u001b[0m\u001b[0m\n\u001b[1;32m    371\u001b[0m         \u001b[0mdummy_error_message\u001b[0m\u001b[0;34m.\u001b[0m\u001b[0mname\u001b[0m \u001b[0;34m=\u001b[0m \u001b[0mname\u001b[0m\u001b[0;34m\u001b[0m\u001b[0;34m\u001b[0m\u001b[0m\n\u001b[0;32m--> 372\u001b[0;31m         \u001b[0;32mraise\u001b[0m \u001b[0mAttributeError\u001b[0m\u001b[0;34m(\u001b[0m\u001b[0mdummy_error_message\u001b[0m\u001b[0;34m)\u001b[0m\u001b[0;34m\u001b[0m\u001b[0;34m\u001b[0m\u001b[0m\n\u001b[0m\u001b[1;32m    373\u001b[0m     \u001b[0mattribute\u001b[0m \u001b[0;34m=\u001b[0m \u001b[0;34m<\u001b[0m\u001b[0mobject\u001b[0m\u001b[0;34m>\u001b[0m\u001b[0mattr\u001b[0m\u001b[0;34m\u001b[0m\u001b[0;34m\u001b[0m\u001b[0m\n\u001b[1;32m    374\u001b[0m     \u001b[0;31m# Check for a descriptor (__get__ in Python)\u001b[0m\u001b[0;34m\u001b[0m\u001b[0;34m\u001b[0m\u001b[0;34m\u001b[0m\u001b[0m\n",
      "\u001b[0;31mAttributeError\u001b[0m: 'sage.rings.finite_rings.element_givaro.FiniteField_givaroElement' object has no attribute 'ipynb_checkpoints'"
     ]
    }
   ],
   "source": [
    "pts[2][1]"
   ]
  },
  {
   "cell_type": "code",
   "execution_count": 155,
   "metadata": {},
   "outputs": [
    {
     "data": {
      "text/plain": [
       "Finite Field in z4 of size 2^4"
      ]
     },
     "execution_count": 155,
     "metadata": {},
     "output_type": "execute_result"
    }
   ],
   "source": [
    "Fq = GF(2^4); Fq"
   ]
  },
  {
   "cell_type": "code",
   "execution_count": null,
   "metadata": {},
   "outputs": [],
   "source": [
    "m = c(())"
   ]
  },
  {
   "cell_type": "code",
   "execution_count": 170,
   "metadata": {},
   "outputs": [
    {
     "name": "stdout",
     "output_type": "stream",
     "text": [
      "a^282 + a^281 + a^278 + a^277 + a^274 + a^273 + a^272 + a^271 + a^270 + a^269 + a^268 + a^265 + a^264 + a^260 + a^257 + a^252 + a^251 + a^250 + a^248 + a^245 + a^244 + a^241 + a^240 + a^239 + a^236 + a^234 + a^233 + a^231 + a^230 + a^226 + a^225 + a^224 + a^222 + a^216 + a^214 + a^213 + a^210 + a^209 + a^206 + a^204 + a^203 + a^201 + a^200 + a^199 + a^195 + a^194 + a^192 + a^191 + a^190 + a^189 + a^187 + a^185 + a^184 + a^179 + a^178 + a^177 + a^176 + a^175 + a^172 + a^168 + a^167 + a^166 + a^161 + a^157 + a^156 + a^154 + a^153 + a^152 + a^151 + a^150 + a^146 + a^144 + a^141 + a^137 + a^136 + a^134 + a^132 + a^129 + a^128 + a^123 + a^122 + a^121 + a^120 + a^119 + a^118 + a^116 + a^115 + a^113 + a^112 + a^110 + a^107 + a^106 + a^105 + a^103 + a^102 + a^99 + a^97 + a^96 + a^95 + a^94 + a^93 + a^92 + a^90 + a^89 + a^87 + a^86 + a^82 + a^77 + a^76 + a^75 + a^74 + a^73 + a^72 + a^68 + a^67 + a^65 + a^60 + a^59 + a^58 + a^57 + a^54 + a^51 + a^49 + a^48 + a^47 + a^43 + a^42 + a^40 + a^37 + a^36 + a^34 + a^31 + a^29 + a^28 + a^27 + a^24 + a^18 + a^12 + a^11 + a^10 + a^9 + a^3 + 1\n",
      "a^282 + a^280 + a^275 + a^274 + a^270 + a^269 + a^264 + a^262 + a^261 + a^260 + a^251 + a^250 + a^246 + a^244 + a^243 + a^239 + a^238 + a^236 + a^235 + a^231 + a^229 + a^227 + a^226 + a^225 + a^224 + a^220 + a^217 + a^216 + a^215 + a^214 + a^212 + a^209 + a^208 + a^207 + a^205 + a^204 + a^201 + a^199 + a^198 + a^196 + a^192 + a^190 + a^187 + a^185 + a^184 + a^181 + a^179 + a^178 + a^175 + a^172 + a^171 + a^170 + a^169 + a^168 + a^167 + a^165 + a^162 + a^161 + a^159 + a^158 + a^156 + a^154 + a^153 + a^152 + a^151 + a^150 + a^147 + a^145 + a^144 + a^141 + a^138 + a^137 + a^136 + a^135 + a^130 + a^129 + a^127 + a^125 + a^123 + a^121 + a^120 + a^119 + a^114 + a^113 + a^112 + a^111 + a^107 + a^105 + a^104 + a^96 + a^92 + a^89 + a^88 + a^86 + a^84 + a^82 + a^81 + a^80 + a^79 + a^78 + a^77 + a^75 + a^74 + a^73 + a^72 + a^70 + a^69 + a^66 + a^64 + a^63 + a^60 + a^59 + a^57 + a^56 + a^55 + a^54 + a^53 + a^51 + a^46 + a^44 + a^43 + a^35 + a^34 + a^32 + a^31 + a^30 + a^29 + a^28 + a^27 + a^26 + a^25 + a^20 + a^18 + a^16 + a^14 + a^9 + a^8 + a^7 + a^6 + a^5 + a^4 + a^3 + a^2 + a\n",
      "True\n"
     ]
    }
   ],
   "source": [
    "#https://ask.sagemath.org/question/8736/nist-b-283-elliptic-curve/\n",
    "b =  0x027B680AC8B8596DA5A4AF8A19A0303FCA97FD7645309FA2A581485AF6263E313B79A2F5\n",
    "Z.<x>=GF(2)[]\n",
    "K.<a>=GF(2^283,'a',modulus=x^283 + x^12 + x^7 + x^5 + 1)\n",
    "bb=Z(b.digits(2))\n",
    "E=EllipticCurve(K,[1,1,0,0,bb]) \n",
    "P=E.random_element()\n",
    "print(P[0])\n",
    "print(P[1])\n",
    "print(E.is_on_curve(P[0],P[1]))  # OK\n",
    "\n",
    "# I was not able  to compute the order\n",
    "# print E.order()   exhausts memory and exits\n",
    "\n"
   ]
  },
  {
   "cell_type": "code",
   "execution_count": 177,
   "metadata": {},
   "outputs": [
    {
     "ename": "TypeError",
     "evalue": "other (=Univariate Polynomial Ring in x over Finite Field of size 2 (using GF2X)) must be a free module",
     "output_type": "error",
     "traceback": [
      "\u001b[0;31m---------------------------------------------------------------------------\u001b[0m",
      "\u001b[0;31mTypeError\u001b[0m                                 Traceback (most recent call last)",
      "\u001b[0;32m<ipython-input-177-56de14f9f70c>\u001b[0m in \u001b[0;36m<module>\u001b[0;34m\u001b[0m\n\u001b[1;32m      1\u001b[0m \u001b[0mb\u001b[0m \u001b[0;34m=\u001b[0m  \u001b[0mInteger\u001b[0m\u001b[0;34m(\u001b[0m\u001b[0;36m1\u001b[0m\u001b[0;34m)\u001b[0m\u001b[0;34m\u001b[0m\u001b[0;34m\u001b[0m\u001b[0m\n\u001b[1;32m      2\u001b[0m \u001b[0m_\u001b[0m \u001b[0;34m=\u001b[0m \u001b[0mGF\u001b[0m\u001b[0;34m(\u001b[0m\u001b[0mInteger\u001b[0m\u001b[0;34m(\u001b[0m\u001b[0;36m2\u001b[0m\u001b[0;34m)\u001b[0m\u001b[0;34m)\u001b[0m\u001b[0;34m[\u001b[0m\u001b[0;34m'x'\u001b[0m\u001b[0;34m]\u001b[0m\u001b[0;34m;\u001b[0m \u001b[0;34m(\u001b[0m\u001b[0mx\u001b[0m\u001b[0;34m,\u001b[0m\u001b[0;34m)\u001b[0m \u001b[0;34m=\u001b[0m \u001b[0m_\u001b[0m\u001b[0;34m.\u001b[0m\u001b[0m_first_ngens\u001b[0m\u001b[0;34m(\u001b[0m\u001b[0;36m1\u001b[0m\u001b[0;34m)\u001b[0m\u001b[0;34m\u001b[0m\u001b[0;34m\u001b[0m\u001b[0m\n\u001b[0;32m----> 3\u001b[0;31m \u001b[0mK\u001b[0m \u001b[0;34m=\u001b[0m \u001b[0mGF\u001b[0m\u001b[0;34m(\u001b[0m\u001b[0mInteger\u001b[0m\u001b[0;34m(\u001b[0m\u001b[0;36m2\u001b[0m\u001b[0;34m)\u001b[0m\u001b[0;34m**\u001b[0m\u001b[0mInteger\u001b[0m\u001b[0;34m(\u001b[0m\u001b[0;36m4\u001b[0m\u001b[0;34m)\u001b[0m\u001b[0;34m,\u001b[0m\u001b[0;34m'a'\u001b[0m\u001b[0;34m,\u001b[0m\u001b[0mmodulus\u001b[0m\u001b[0;34m=\u001b[0m\u001b[0mZ\u001b[0m\u001b[0;34m**\u001b[0m\u001b[0mInteger\u001b[0m\u001b[0;34m(\u001b[0m\u001b[0;36m4\u001b[0m\u001b[0;34m)\u001b[0m\u001b[0;34m+\u001b[0m\u001b[0mZ\u001b[0m\u001b[0;34m+\u001b[0m\u001b[0mInteger\u001b[0m\u001b[0;34m(\u001b[0m\u001b[0;36m1\u001b[0m\u001b[0;34m)\u001b[0m\u001b[0;34m,\u001b[0m \u001b[0mnames\u001b[0m\u001b[0;34m=\u001b[0m\u001b[0;34m(\u001b[0m\u001b[0;34m'a'\u001b[0m\u001b[0;34m,\u001b[0m\u001b[0;34m)\u001b[0m\u001b[0;34m)\u001b[0m\u001b[0;34m;\u001b[0m \u001b[0;34m(\u001b[0m\u001b[0ma\u001b[0m\u001b[0;34m,\u001b[0m\u001b[0;34m)\u001b[0m \u001b[0;34m=\u001b[0m \u001b[0mK\u001b[0m\u001b[0;34m.\u001b[0m\u001b[0m_first_ngens\u001b[0m\u001b[0;34m(\u001b[0m\u001b[0;36m1\u001b[0m\u001b[0;34m)\u001b[0m\u001b[0;34m\u001b[0m\u001b[0;34m\u001b[0m\u001b[0m\n\u001b[0m\u001b[1;32m      4\u001b[0m \u001b[0mbb\u001b[0m\u001b[0;34m=\u001b[0m\u001b[0mZ\u001b[0m\u001b[0;34m(\u001b[0m\u001b[0mb\u001b[0m\u001b[0;34m.\u001b[0m\u001b[0mdigits\u001b[0m\u001b[0;34m(\u001b[0m\u001b[0mInteger\u001b[0m\u001b[0;34m(\u001b[0m\u001b[0;36m2\u001b[0m\u001b[0;34m)\u001b[0m\u001b[0;34m)\u001b[0m\u001b[0;34m)\u001b[0m\u001b[0;34m\u001b[0m\u001b[0;34m\u001b[0m\u001b[0m\n\u001b[1;32m      5\u001b[0m \u001b[0mE\u001b[0m\u001b[0;34m=\u001b[0m\u001b[0mEllipticCurve\u001b[0m\u001b[0;34m(\u001b[0m\u001b[0mK\u001b[0m\u001b[0;34m,\u001b[0m\u001b[0;34m[\u001b[0m\u001b[0mInteger\u001b[0m\u001b[0;34m(\u001b[0m\u001b[0;36m1\u001b[0m\u001b[0;34m)\u001b[0m\u001b[0;34m,\u001b[0m\u001b[0mInteger\u001b[0m\u001b[0;34m(\u001b[0m\u001b[0;36m1\u001b[0m\u001b[0;34m)\u001b[0m\u001b[0;34m,\u001b[0m\u001b[0mInteger\u001b[0m\u001b[0;34m(\u001b[0m\u001b[0;36m0\u001b[0m\u001b[0;34m)\u001b[0m\u001b[0;34m,\u001b[0m\u001b[0mInteger\u001b[0m\u001b[0;34m(\u001b[0m\u001b[0;36m0\u001b[0m\u001b[0;34m)\u001b[0m\u001b[0;34m,\u001b[0m\u001b[0mbb\u001b[0m\u001b[0;34m]\u001b[0m\u001b[0;34m)\u001b[0m\u001b[0;34m\u001b[0m\u001b[0;34m\u001b[0m\u001b[0m\n",
      "\u001b[0;32m/opt/sagemath-9.2/local/lib/python3.7/site-packages/sage/modules/free_module.py\u001b[0m in \u001b[0;36m__add__\u001b[0;34m(self, other)\u001b[0m\n\u001b[1;32m   2778\u001b[0m             \u001b[0;32mif\u001b[0m \u001b[0mother\u001b[0m \u001b[0;34m==\u001b[0m \u001b[0;36m0\u001b[0m\u001b[0;34m:\u001b[0m\u001b[0;34m\u001b[0m\u001b[0;34m\u001b[0m\u001b[0m\n\u001b[1;32m   2779\u001b[0m                 \u001b[0;32mreturn\u001b[0m \u001b[0mself\u001b[0m\u001b[0;34m\u001b[0m\u001b[0;34m\u001b[0m\u001b[0m\n\u001b[0;32m-> 2780\u001b[0;31m             \u001b[0;32mraise\u001b[0m \u001b[0mTypeError\u001b[0m\u001b[0;34m(\u001b[0m\u001b[0;34m\"other (=%s) must be a free module\"\u001b[0m\u001b[0;34m%\u001b[0m\u001b[0mother\u001b[0m\u001b[0;34m)\u001b[0m\u001b[0;34m\u001b[0m\u001b[0;34m\u001b[0m\u001b[0m\n\u001b[0m\u001b[1;32m   2781\u001b[0m         \u001b[0;32mif\u001b[0m \u001b[0;32mnot\u001b[0m \u001b[0;34m(\u001b[0m\u001b[0mself\u001b[0m\u001b[0;34m.\u001b[0m\u001b[0mambient_vector_space\u001b[0m\u001b[0;34m(\u001b[0m\u001b[0;34m)\u001b[0m \u001b[0;34m==\u001b[0m \u001b[0mother\u001b[0m\u001b[0;34m.\u001b[0m\u001b[0mambient_vector_space\u001b[0m\u001b[0;34m(\u001b[0m\u001b[0;34m)\u001b[0m\u001b[0;34m)\u001b[0m\u001b[0;34m:\u001b[0m\u001b[0;34m\u001b[0m\u001b[0;34m\u001b[0m\u001b[0m\n\u001b[1;32m   2782\u001b[0m             \u001b[0;32mraise\u001b[0m \u001b[0mTypeError\u001b[0m\u001b[0;34m(\u001b[0m\u001b[0;34m\"ambient vector spaces must be equal\"\u001b[0m\u001b[0;34m)\u001b[0m\u001b[0;34m\u001b[0m\u001b[0;34m\u001b[0m\u001b[0m\n",
      "\u001b[0;31mTypeError\u001b[0m: other (=Univariate Polynomial Ring in x over Finite Field of size 2 (using GF2X)) must be a free module"
     ]
    }
   ],
   "source": [
    "b =  1\n",
    "_.<x>=GF(2)[]\n",
    "K.<a>=GF(2^4,'a',modulus=Z^4+Z+1)\n",
    "bb=Z(b.digits(2))\n",
    "E=EllipticCurve(K,[1,1,0,0,bb]) \n",
    "P=E.random_element()\n",
    "print(P[0])\n",
    "print(P[1])\n",
    "print(E.is_on_curve(P[0],P[1]))\n",
    "      \n",
    "      \n",
    "#       _.<Z> = GF(2)[]\n",
    "# F.<z> = GF(2^4, modulus=Z^4+Z+1)"
   ]
  },
  {
   "cell_type": "code",
   "execution_count": null,
   "metadata": {},
   "outputs": [],
   "source": []
  }
 ],
 "metadata": {
  "kernelspec": {
   "display_name": "SageMath 9.2",
   "language": "sage",
   "name": "sagemath"
  },
  "language_info": {
   "codemirror_mode": {
    "name": "ipython",
    "version": 3
   },
   "file_extension": ".py",
   "mimetype": "text/x-python",
   "name": "python",
   "nbconvert_exporter": "python",
   "pygments_lexer": "ipython3",
   "version": "3.7.7"
  }
 },
 "nbformat": 4,
 "nbformat_minor": 4
}
