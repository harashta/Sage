{
 "cells": [
  {
   "cell_type": "code",
   "execution_count": 5,
   "metadata": {},
   "outputs": [
    {
     "data": {
      "text/plain": [
       "192"
      ]
     },
     "execution_count": 5,
     "metadata": {},
     "output_type": "execute_result"
    }
   ],
   "source": [
    "32*6\n"
   ]
  },
  {
   "cell_type": "code",
   "execution_count": 6,
   "metadata": {},
   "outputs": [
    {
     "data": {
      "text/plain": [
       "31"
      ]
     },
     "execution_count": 6,
     "metadata": {},
     "output_type": "execute_result"
    }
   ],
   "source": [
    "319-288"
   ]
  },
  {
   "cell_type": "code",
   "execution_count": null,
   "metadata": {},
   "outputs": [],
   "source": []
  },
  {
   "cell_type": "code",
   "execution_count": null,
   "metadata": {},
   "outputs": [],
   "source": [
    "n, n_res = 4, 2*n-1 #n, toffoli n^2 = 16\n",
    "# n_res = \n",
    "for i in range(n):\n",
    "    for j in range(n):\n",
    "        print(\"i= {first}, j= {second}, k= {third}\".format(first=i, second=j, third=j+i)) #btw j+i doong ini kayanya pattern!! Bisa buat rumus?? wew... #third=n_res-1-j-i : ini kl mau 0,0,6"
   ]
  },
  {
   "cell_type": "code",
   "execution_count": null,
   "metadata": {},
   "outputs": [],
   "source": []
  },
  {
   "cell_type": "code",
   "execution_count": null,
   "metadata": {},
   "outputs": [],
   "source": [
    "ip = [1,0,0,0,1,1,0,1,1]\n",
    "for i in range(len(ip)-2):\n",
    "    print(i, i+1)\n",
    "print(len(ip)-2,0)\n",
    "len(ip)"
   ]
  },
  {
   "cell_type": "code",
   "execution_count": null,
   "metadata": {},
   "outputs": [],
   "source": [
    "ip = [1,0,0,0,1,1,0,1,1]\n",
    "rev_ip = reversed(ip)\n",
    "# for i in (range(1,len(ip))):\n",
    "# for i in enumerate(ip):\n",
    "# # #     if ip[i]==1:\n",
    "#     print(i)\n",
    "print(rev_ip)"
   ]
  },
  {
   "cell_type": "code",
   "execution_count": 1,
   "metadata": {},
   "outputs": [
    {
     "name": "stdout",
     "output_type": "stream",
     "text": [
      "[1, 2, 3, 4, 5, 6, 7, 0]\n"
     ]
    }
   ],
   "source": [
    "#INI SALAH! malah mundur!! \n",
    "isibox = [0,1,2,3,4,5,6,7]\n",
    "for i in range(len(isibox)-2):\n",
    "    isibox[i],isibox[i+1] = isibox[i+1],isibox[i] \n",
    "#     print(i, i+1)\n",
    "# print(len(isibox)-2,0)\n",
    "isibox[len(isibox)-2],isibox[len(isibox)-1] = isibox[len(isibox)-1],isibox[len(isibox)-2] \n",
    "# len(isibox)\n",
    "print(isibox)\n",
    "# isibox[len(isibox)-1]==isibox[7]\n",
    "# isibox[len(isibox)-2]==isibox[6]\n",
    "#salah approach weyy"
   ]
  },
  {
   "cell_type": "code",
   "execution_count": 11,
   "metadata": {},
   "outputs": [
    {
     "name": "stdout",
     "output_type": "stream",
     "text": [
      "[14, 0, 1, 2, 3, 4, 5, 6, 7, 8, 9, 10, 11, 12, 13]\n"
     ]
    }
   ],
   "source": [
    "#ini yg bener!!\n",
    "index = [0,1,2,3,4,5,6,7,8,9,10,11,12,13,14]\n",
    "index[len(index)-2],index[len(index)-1] = index[len(index)-1],index[len(index)-2] \n",
    "for i in reversed(range(len(index)-2)):\n",
    "    index[i],index[i+1] = index[i+1],index[i] \n",
    "#     print(i, i+1)\n",
    "# print(len(index)-2,0)\n",
    "\n",
    "# len(index)\n",
    "print(index)\n",
    "# index[len(index)-1]==index[7]\n",
    "# index[len(index)-2]==index[6]\n"
   ]
  },
  {
   "cell_type": "code",
   "execution_count": 19,
   "metadata": {},
   "outputs": [
    {
     "data": {
      "text/plain": [
       "[1, 1, 0, 1, 1, 0, 0, 1, 1, 1, 0, 0, 0, 0, 0]"
      ]
     },
     "execution_count": 19,
     "metadata": {},
     "output_type": "execute_result"
    }
   ],
   "source": [
    "#ini yg bener!!\n",
    "isibox = [0]*15\n",
    "isibox[9],isibox[8],isibox[7],isibox[4],isibox[3],isibox[1],isibox[0] = 1,1,1,1,1,1,1\n",
    "# len(isibox)==len(isibox)\n",
    "isibox"
   ]
  },
  {
   "cell_type": "code",
   "execution_count": 86,
   "metadata": {},
   "outputs": [
    {
     "name": "stdout",
     "output_type": "stream",
     "text": [
      "[1, 1, 0, 1, 1, 0, 0, 1, 1, 1, 0, 0, 0, 0, 0]\n",
      "[0, 1, 1, 0, 1, 1, 0, 0, 1, 1, 1, 0, 0, 0, 0]\n",
      "[0, 0, 1, 1, 0, 1, 1, 0, 0, 1, 1, 1, 0, 0, 0]\n",
      "[0, 0, 0, 1, 1, 0, 1, 1, 0, 0, 1, 1, 1, 0, 0]\n",
      "[0, 0, 0, 0, 1, 1, 0, 1, 1, 0, 0, 1, 1, 1, 0]\n",
      "[0, 0, 0, 0, 0, 1, 1, 0, 1, 1, 0, 0, 1, 1, 1]\n",
      "[1, 0, 0, 0, 0, 0, 1, 1, 0, 1, 1, 0, 0, 1, 1]\n"
     ]
    }
   ],
   "source": [
    "#SWAP doang oke nih udah\n",
    "isibox = [0]*15\n",
    "isibox[9],isibox[8],isibox[7],isibox[4],isibox[3],isibox[1],isibox[0] = 1,1,1,1,1,1,1\n",
    "ori = isibox\n",
    "def swap(isibox):\n",
    "    isibox[len(isibox)-2],isibox[len(isibox)-1] = isibox[len(isibox)-1],isibox[len(isibox)-2] \n",
    "    for i in reversed(range(len(isibox)-2)):\n",
    "        isibox[i],isibox[i+1] = isibox[i+1],isibox[i] \n",
    "    return isibox\n",
    "n = 8\n",
    "n_mult = 2*n-1\n",
    "print(ori)\n",
    "for i in range(n, n_mult-1):   \n",
    "    print(swap(isibox))\n",
    "\n",
    "#ternyata... dah bener codingan di qiskitnya...\n"
   ]
  },
  {
   "cell_type": "code",
   "execution_count": 88,
   "metadata": {},
   "outputs": [
    {
     "name": "stdout",
     "output_type": "stream",
     "text": [
      "[1, 1, 0, 1, 1, 0, 0, 1, 1, 1, 0, 0, 0, 0, 0]\n",
      "[0, 1, 1, 0, 1, 1, 0, 0, 1, 1, 1, 0, 0, 0, 0]\n",
      "[0, 0, 1, 1, 0, 1, 1, 0, 0, 1, 1, 1, 0, 0, 0]\n",
      "[0, 0, 0, 1, 1, 0, 1, 1, 0, 0, 1, 1, 1, 0, 0]\n",
      "[0, 0, 0, 0, 1, 1, 0, 1, 1, 0, 0, 1, 1, 1, 0]\n",
      "[0, 0, 0, 0, 0, 1, 1, 0, 1, 1, 0, 0, 1, 1, 1]\n",
      "[1, 1, 0, 1, 1, 0, 1, 1, 0, 1, 1, 0, 0, 1, 1]\n"
     ]
    },
    {
     "data": {
      "text/plain": [
       "[1, 1, 1, 0, 1, 1, 0, 1, 1, 0, 1, 1, 0, 0, 1]"
      ]
     },
     "execution_count": 88,
     "metadata": {},
     "output_type": "execute_result"
    }
   ],
   "source": [
    "#SWAP+XOR #dan bener fungsinya ky yg bawah (di verbose). Tapi masih blm works as a reducer...\n",
    "ip = [8,4,3,1,0]\n",
    "isibox = [0]*15\n",
    "c = [0]*15\n",
    "isibox[9],isibox[8],isibox[7],isibox[4],isibox[3],isibox[1],isibox[0] = 1,1,1,1,1,1,1\n",
    "ori = isibox\n",
    "def swap_xor(isibox):\n",
    "    isibox[len(isibox)-2],isibox[len(isibox)-1] = isibox[len(isibox)-1],isibox[len(isibox)-2] \n",
    "    for i in reversed(range(len(isibox)-2)):\n",
    "        isibox[i],isibox[i+1] = isibox[i+1],isibox[i] \n",
    "    if isibox[0]==1:\n",
    "        for j in reversed(range(len(ip)-2)):\n",
    "            isibox[ip[j+1]]=(isibox[ip[j+1]]^1)\n",
    "    return isibox\n",
    "n = 8\n",
    "n_mult = 2*n-1\n",
    "print(ori)\n",
    "for i in range(n, n_mult-1):   \n",
    "    print(swap_xor(isibox))\n",
    "swap(isibox) \n",
    "#^^atas ini sama dgn action di qiskit.. which is still wrong, hiks\n",
    "    "
   ]
  },
  {
   "cell_type": "code",
   "execution_count": 81,
   "metadata": {},
   "outputs": [
    {
     "name": "stdout",
     "output_type": "stream",
     "text": [
      "[1, 1, 0, 1, 1, 0, 0, 1, 1, 1, 0, 0, 0, 0, 0]\n",
      "[0, 1, 1, 0, 1, 1, 0, 0, 1, 1, 1, 0, 0, 0, 0]\n",
      "[0, 1, 1, 0, 1, 1, 0, 0, 1, 1, 1, 0, 0, 0, 0]\n",
      "---------\n",
      "[0, 0, 1, 1, 0, 1, 1, 0, 0, 1, 1, 1, 0, 0, 0]\n",
      "[0, 0, 1, 1, 0, 1, 1, 0, 0, 1, 1, 1, 0, 0, 0]\n",
      "---------\n",
      "[0, 0, 0, 1, 1, 0, 1, 1, 0, 0, 1, 1, 1, 0, 0]\n",
      "[0, 0, 0, 1, 1, 0, 1, 1, 0, 0, 1, 1, 1, 0, 0]\n",
      "---------\n",
      "[0, 0, 0, 0, 1, 1, 0, 1, 1, 0, 0, 1, 1, 1, 0]\n",
      "[0, 0, 0, 0, 1, 1, 0, 1, 1, 0, 0, 1, 1, 1, 0]\n",
      "---------\n",
      "[0, 0, 0, 0, 0, 1, 1, 0, 1, 1, 0, 0, 1, 1, 1]\n",
      "[0, 0, 0, 0, 0, 1, 1, 0, 1, 1, 0, 0, 1, 1, 1]\n",
      "---------\n",
      "[1, 0, 0, 0, 0, 0, 1, 1, 0, 1, 1, 0, 0, 1, 1]\n",
      "[1, 1, 0, 1, 1, 0, 1, 1, 0, 1, 1, 0, 0, 1, 1]\n",
      "---------\n",
      "[1, 1, 1, 0, 1, 1, 0, 1, 1, 0, 1, 1, 0, 0, 1]\n",
      "[1, 0, 1, 1, 0, 1, 0, 1, 1, 0, 1, 1, 0, 0, 1]\n",
      "---------\n",
      "[1, 1, 0, 1, 1, 0, 1, 0, 1, 1, 0, 1, 1, 0, 0]\n",
      "[1, 0, 0, 0, 0, 0, 1, 0, 1, 1, 0, 1, 1, 0, 0]\n",
      "---------\n",
      "[0, 1, 0, 0, 0, 0, 0, 1, 0, 1, 1, 0, 1, 1, 0]\n",
      "[0, 1, 0, 0, 0, 0, 0, 1, 0, 1, 1, 0, 1, 1, 0]\n",
      "---------\n",
      "[0, 0, 1, 0, 0, 0, 0, 0, 1, 0, 1, 1, 0, 1, 1]\n",
      "[0, 0, 1, 0, 0, 0, 0, 0, 1, 0, 1, 1, 0, 1, 1]\n",
      "---------\n",
      "[1, 0, 0, 1, 0, 0, 0, 0, 0, 1, 0, 1, 1, 0, 1]\n",
      "[1, 1, 0, 0, 1, 0, 0, 0, 0, 1, 0, 1, 1, 0, 1]\n",
      "---------\n",
      "[1, 1, 1, 0, 0, 1, 0, 0, 0, 0, 1, 0, 1, 1, 0]\n",
      "[1, 0, 1, 1, 1, 1, 0, 0, 0, 0, 1, 0, 1, 1, 0]\n",
      "---------\n",
      "[0, 1, 0, 1, 1, 1, 1, 0, 0, 0, 0, 1, 0, 1, 1]\n",
      "[0, 1, 0, 1, 1, 1, 1, 0, 0, 0, 0, 1, 0, 1, 1]\n",
      "---------\n",
      "[1, 0, 1, 0, 1, 1, 1, 1, 0, 0, 0, 0, 1, 0, 1]\n",
      "[1, 1, 1, 1, 0, 1, 1, 1, 0, 0, 0, 0, 1, 0, 1]\n",
      "---------\n",
      "[1, 1, 1, 1, 1, 0, 1, 1, 1, 0, 0, 0, 0, 1, 0]\n",
      "[1, 0, 1, 0, 0, 0, 1, 1, 1, 0, 0, 0, 0, 1, 0]\n",
      "---------\n",
      "[0, 1, 0, 1, 0, 0, 0, 1, 1, 1, 0, 0, 0, 0, 1]\n",
      "[0, 1, 0, 1, 0, 0, 0, 1, 1, 1, 0, 0, 0, 0, 1]\n",
      "---------\n",
      "[1, 0, 1, 0, 1, 0, 0, 0, 1, 1, 1, 0, 0, 0, 0]\n",
      "[1, 1, 1, 1, 0, 0, 0, 0, 1, 1, 1, 0, 0, 0, 0]\n",
      "---------\n",
      "[0, 1, 1, 1, 1, 0, 0, 0, 0, 1, 1, 1, 0, 0, 0]\n",
      "[0, 1, 1, 1, 1, 0, 0, 0, 0, 1, 1, 1, 0, 0, 0]\n",
      "---------\n",
      "[0, 0, 1, 1, 1, 1, 0, 0, 0, 0, 1, 1, 1, 0, 0]\n",
      "[0, 0, 1, 1, 1, 1, 0, 0, 0, 0, 1, 1, 1, 0, 0]\n",
      "---------\n",
      "[0, 0, 0, 1, 1, 1, 1, 0, 0, 0, 0, 1, 1, 1, 0]\n",
      "[0, 0, 0, 1, 1, 1, 1, 0, 0, 0, 0, 1, 1, 1, 0]\n",
      "---------\n",
      "[0, 0, 0, 0, 1, 1, 1, 1, 0, 0, 0, 0, 1, 1, 1]\n",
      "[0, 0, 0, 0, 1, 1, 1, 1, 0, 0, 0, 0, 1, 1, 1]\n",
      "---------\n",
      "[1, 0, 0, 0, 0, 1, 1, 1, 1, 0, 0, 0, 0, 1, 1]\n",
      "[1, 1, 0, 1, 1, 1, 1, 1, 1, 0, 0, 0, 0, 1, 1]\n",
      "---------\n",
      "[1, 1, 1, 0, 1, 1, 1, 1, 1, 1, 0, 0, 0, 0, 1]\n",
      "[1, 0, 1, 1, 0, 1, 1, 1, 1, 1, 0, 0, 0, 0, 1]\n",
      "---------\n",
      "index\n",
      "[0, 1, 2, 3, 4, 5, 6, 7, 8, 9, 10, 11, 12, 13, 14]\n",
      "hasil should be:\n",
      "[1, 0, 0, 0, 0, 1, 1, 1, 0, 0, 0, 0, 0, 0, 0]\n"
     ]
    }
   ],
   "source": [
    "#SWAP+XOR verbose, dah sesuai dengan fungsi atas\n",
    "isibox = [0]*15\n",
    "isibox[9],isibox[8],isibox[7],isibox[4],isibox[3],isibox[1],isibox[0] = 1,1,1,1,1,1,1\n",
    "ori = isibox\n",
    "def swap(isibox):\n",
    "    isibox[len(isibox)-2],isibox[len(isibox)-1] = isibox[len(isibox)-1],isibox[len(isibox)-2] \n",
    "    for i in reversed(range(len(isibox)-2)):\n",
    "        isibox[i],isibox[i+1] = isibox[i+1],isibox[i] \n",
    "    return isibox\n",
    "n = 8\n",
    "n_mult = 2*n-1\n",
    "print(ori)\n",
    "#1\n",
    "print(swap(isibox))\n",
    "if isibox[0]==1:\n",
    "    for j in reversed(range(len(ip)-2)):\n",
    "        isibox[ip[j+1]]=(isibox[ip[j+1]]^1)\n",
    "print(isibox)\n",
    "print(\"---------\")\n",
    "#2\n",
    "print(swap(isibox))\n",
    "if isibox[0]==1:\n",
    "    for j in reversed(range(len(ip)-2)):\n",
    "        isibox[ip[j+1]]=(isibox[ip[j+1]]^1)\n",
    "print(isibox)\n",
    "print(\"---------\")\n",
    "#3\n",
    "print(swap(isibox))\n",
    "if isibox[0]==1:\n",
    "    for j in reversed(range(len(ip)-2)):\n",
    "        isibox[ip[j+1]]=(isibox[ip[j+1]]^1)\n",
    "print(isibox)\n",
    "print(\"---------\")\n",
    "#4\n",
    "print(swap(isibox))\n",
    "if isibox[0]==1:\n",
    "    for j in reversed(range(len(ip)-2)):\n",
    "        isibox[ip[j+1]]=(isibox[ip[j+1]]^1)\n",
    "print(isibox)\n",
    "print(\"---------\")\n",
    "#5\n",
    "print(swap(isibox))\n",
    "if isibox[0]==1:\n",
    "    for j in reversed(range(len(ip)-2)):\n",
    "        isibox[ip[j+1]]=(isibox[ip[j+1]]^1)\n",
    "print(isibox)\n",
    "print(\"---------\")\n",
    "#6\n",
    "print(swap(isibox))\n",
    "if isibox[0]==1: \n",
    "    for j in reversed(range(len(ip)-2)):\n",
    "        isibox[ip[j+1]]=(isibox[ip[j+1]]^1)\n",
    "print(isibox)\n",
    "print(\"---------\") \n",
    "#bener, ke swap di 1, 3, 4\n",
    "#7\n",
    "print(swap(isibox))\n",
    "if isibox[0]==1: \n",
    "    for j in reversed(range(len(ip)-2)):\n",
    "        isibox[ip[j+1]]=(isibox[ip[j+1]]^1)\n",
    "print(isibox)\n",
    "print(\"---------\")\n",
    "#8\n",
    "print(swap(isibox))\n",
    "if isibox[0]==1: \n",
    "    for j in reversed(range(len(ip)-2)):\n",
    "        isibox[ip[j+1]]=(isibox[ip[j+1]]^1)\n",
    "print(isibox)\n",
    "print(\"---------\")\n",
    "#9\n",
    "print(swap(isibox))\n",
    "if isibox[0]==1: \n",
    "    for j in reversed(range(len(ip)-2)):\n",
    "        isibox[ip[j+1]]=(isibox[ip[j+1]]^1)\n",
    "print(isibox)\n",
    "print(\"---------\")\n",
    "#\n",
    "print(swap(isibox))\n",
    "if isibox[0]==1: \n",
    "    for j in reversed(range(len(ip)-2)):\n",
    "        isibox[ip[j+1]]=(isibox[ip[j+1]]^1)\n",
    "print(isibox)\n",
    "print(\"---------\")\n",
    "#\n",
    "print(swap(isibox))\n",
    "if isibox[0]==1: \n",
    "    for j in reversed(range(len(ip)-2)):\n",
    "        isibox[ip[j+1]]=(isibox[ip[j+1]]^1)\n",
    "print(isibox)\n",
    "print(\"---------\")\n",
    "#\n",
    "print(swap(isibox))\n",
    "if isibox[0]==1: \n",
    "    for j in reversed(range(len(ip)-2)):\n",
    "        isibox[ip[j+1]]=(isibox[ip[j+1]]^1)\n",
    "print(isibox)\n",
    "print(\"---------\")\n",
    "#\n",
    "print(swap(isibox))\n",
    "if isibox[0]==1: \n",
    "    for j in reversed(range(len(ip)-2)):\n",
    "        isibox[ip[j+1]]=(isibox[ip[j+1]]^1)\n",
    "print(isibox)\n",
    "print(\"---------\")\n",
    "#\n",
    "print(swap(isibox))\n",
    "if isibox[0]==1: \n",
    "    for j in reversed(range(len(ip)-2)):\n",
    "        isibox[ip[j+1]]=(isibox[ip[j+1]]^1)\n",
    "print(isibox)\n",
    "print(\"---------\")\n",
    "#\n",
    "print(swap(isibox))\n",
    "if isibox[0]==1: \n",
    "    for j in reversed(range(len(ip)-2)):\n",
    "        isibox[ip[j+1]]=(isibox[ip[j+1]]^1)\n",
    "print(isibox)\n",
    "print(\"---------\")\n",
    "#\n",
    "print(swap(isibox))\n",
    "if isibox[0]==1: \n",
    "    for j in reversed(range(len(ip)-2)):\n",
    "        isibox[ip[j+1]]=(isibox[ip[j+1]]^1)\n",
    "print(isibox)\n",
    "print(\"---------\")\n",
    "#\n",
    "print(swap(isibox))\n",
    "if isibox[0]==1: \n",
    "    for j in reversed(range(len(ip)-2)):\n",
    "        isibox[ip[j+1]]=(isibox[ip[j+1]]^1)\n",
    "print(isibox)\n",
    "print(\"---------\")\n",
    "#\n",
    "print(swap(isibox))\n",
    "if isibox[0]==1: \n",
    "    for j in reversed(range(len(ip)-2)):\n",
    "        isibox[ip[j+1]]=(isibox[ip[j+1]]^1)\n",
    "print(isibox)\n",
    "print(\"---------\")\n",
    "#\n",
    "print(swap(isibox))\n",
    "if isibox[0]==1: \n",
    "    for j in reversed(range(len(ip)-2)):\n",
    "        isibox[ip[j+1]]=(isibox[ip[j+1]]^1)\n",
    "print(isibox)\n",
    "print(\"---------\")\n",
    "#\n",
    "print(swap(isibox))\n",
    "if isibox[0]==1: \n",
    "    for j in reversed(range(len(ip)-2)):\n",
    "        isibox[ip[j+1]]=(isibox[ip[j+1]]^1)\n",
    "print(isibox)\n",
    "print(\"---------\")\n",
    "#\n",
    "print(swap(isibox))\n",
    "if isibox[0]==1: \n",
    "    for j in reversed(range(len(ip)-2)):\n",
    "        isibox[ip[j+1]]=(isibox[ip[j+1]]^1)\n",
    "print(isibox)\n",
    "print(\"---------\")\n",
    "#\n",
    "print(swap(isibox))\n",
    "#hasil di sini deket tapi masih salah.. [1, 0, 0, 0, 0, 1, 1, 1, 1, 0, 0, 0, 0, 1, 1]\n",
    "if isibox[0]==1: \n",
    "    for j in reversed(range(len(ip)-2)):\n",
    "        isibox[ip[j+1]]=(isibox[ip[j+1]]^1)\n",
    "print(isibox)\n",
    "print(\"---------\")\n",
    "#\n",
    "print(swap(isibox))\n",
    "if isibox[0]==1: \n",
    "    for j in reversed(range(len(ip)-2)):\n",
    "        isibox[ip[j+1]]=(isibox[ip[j+1]]^1)\n",
    "print(isibox)\n",
    "print(\"---------\")\n",
    "\n",
    "print(\"index\")\n",
    "print([0,1,2,3,4,5,6,7,8,9,10,11,12,13,14])\n",
    "print(\"hasil should be:\")\n",
    "print(hasil)\n",
    "\n",
    "#note: swap_xor persis melakukan ini.. meski hasilnya msh salah, tp sesuai skenario lu"
   ]
  },
  {
   "cell_type": "code",
   "execution_count": 62,
   "metadata": {},
   "outputs": [
    {
     "name": "stdout",
     "output_type": "stream",
     "text": [
      "[1, 0, 0, 0, 0, 1, 1, 1, 0, 0, 0, 0, 0, 0, 0]\n"
     ]
    }
   ],
   "source": [
    "# z^7 + z^6 + z^5 + 1 --> hasil should be\n",
    "# dr blkng\n",
    "hasil = [1,0,0,0,0,1,1,1,0,0,0,0,0,0,0]\n",
    "print(hasil)"
   ]
  },
  {
   "cell_type": "code",
   "execution_count": 17,
   "metadata": {},
   "outputs": [
    {
     "data": {
      "text/plain": [
       "[0, 1, 1, 0]"
      ]
     },
     "execution_count": 17,
     "metadata": {},
     "output_type": "execute_result"
    }
   ],
   "source": [
    "#coba manual dl aja di sini \n",
    "ip = [8,4,3,1,0]\n",
    "\n",
    "c = [0,0,0,0]\n",
    "a = [1,1,0,0]\n",
    "b = [1,0,1,0]\n",
    "for i in range (len(b)):\n",
    "    c[i] = a[i]^b[i]\n",
    "c"
   ]
  },
  {
   "cell_type": "code",
   "execution_count": 106,
   "metadata": {},
   "outputs": [
    {
     "name": "stdout",
     "output_type": "stream",
     "text": [
      "[1, 1, 0, 1, 1, 0, 0, 1, 1, 1, 0, 0, 0, 0, 0]\n",
      "[0, 1, 1, 0, 1, 1, 0, 0, 1, 1, 1, 0, 0, 0, 0]\n",
      "[0, 0, 1, 1, 0, 1, 1, 0, 0, 1, 1, 1, 0, 0, 0]\n",
      "[0, 0, 0, 1, 1, 0, 1, 1, 0, 0, 1, 1, 1, 0, 0]\n",
      "[0, 0, 0, 0, 1, 1, 0, 1, 1, 0, 0, 1, 1, 1, 0]\n",
      "[0, 0, 0, 0, 0, 1, 1, 0, 1, 1, 0, 0, 1, 1, 1]\n",
      "[0, 1, 0, 1, 1, 0, 1, 1, 0, 1, 1, 0, 0, 1, 1]\n"
     ]
    },
    {
     "data": {
      "text/plain": [
       "[1, 0, 1, 0, 1, 1, 0, 1, 1, 0, 1, 1, 0, 0, 1]"
      ]
     },
     "execution_count": 106,
     "metadata": {},
     "output_type": "execute_result"
    }
   ],
   "source": [
    "#skrg coba si index ke 8 dipake juga\n",
    "#SWAP+XOR #dan bener fungsinya ky yg bawah (di verbose). Tapi masih blm works as a reducer...\n",
    "ip = [8,4,3,1,0]\n",
    "isibox = [0]*15\n",
    "c = [0]*15\n",
    "isibox[9],isibox[8],isibox[7],isibox[4],isibox[3],isibox[1],isibox[0] = 1,1,1,1,1,1,1\n",
    "ori = isibox\n",
    "def swap_xor(isibox):\n",
    "    isibox[len(isibox)-2],isibox[len(isibox)-1] = isibox[len(isibox)-1],isibox[len(isibox)-2] \n",
    "    for i in reversed(range(len(isibox)-2)):\n",
    "        isibox[i],isibox[i+1] = isibox[i+1],isibox[i] \n",
    "    if isibox[0]==1:\n",
    "        for j in range(len(ip)-1):\n",
    "            isibox[ip[j+1]]=(isibox[ip[j+1]]^1)\n",
    "    return isibox\n",
    "n = 8\n",
    "n_mult = 2*n-1\n",
    "print(ori)\n",
    "for i in range(n, n_mult-1):   \n",
    "    print(swap_xor(isibox))\n",
    "swap(isibox) \n",
    "#^^atas ini sama dgn action di qiskit.. which is still wrong, hiks\n",
    "    "
   ]
  },
  {
   "cell_type": "code",
   "execution_count": 121,
   "metadata": {},
   "outputs": [
    {
     "name": "stdout",
     "output_type": "stream",
     "text": [
      "[1, 1, 0, 1, 1, 0, 0, 1, 1, 1, 0, 0, 0, 0, 0]\n",
      "[0, 1, 1, 0, 1, 1, 0, 0, 1, 1, 1, 0, 0, 0, 0]\n",
      "[0, 1, 1, 0, 1, 1, 0, 0, 1, 1, 1, 0, 0, 0, 0]\n",
      "---------\n",
      "[0, 0, 1, 1, 0, 1, 1, 0, 0, 1, 1, 1, 0, 0, 0]\n",
      "[0, 0, 1, 1, 0, 1, 1, 0, 0, 1, 1, 1, 0, 0, 0]\n",
      "---------\n",
      "[0, 0, 0, 1, 1, 0, 1, 1, 0, 0, 1, 1, 1, 0, 0]\n",
      "[0, 0, 0, 1, 1, 0, 1, 1, 0, 0, 1, 1, 1, 0, 0]\n",
      "---------\n",
      "[0, 0, 0, 0, 1, 1, 0, 1, 1, 0, 0, 1, 1, 1, 0]\n",
      "[0, 0, 0, 0, 1, 1, 0, 1, 1, 0, 0, 1, 1, 1, 0]\n",
      "---------\n",
      "[0, 0, 0, 0, 0, 1, 1, 0, 1, 1, 0, 0, 1, 1, 1]\n",
      "[0, 0, 0, 0, 0, 1, 1, 0, 1, 1, 0, 0, 1, 1, 1]\n",
      "---------\n",
      "[1, 0, 0, 0, 0, 0, 1, 1, 0, 1, 1, 0, 0, 1, 1]\n",
      "[1, 1, 0, 1, 1, 0, 1, 1, 0, 1, 1, 0, 0, 1, 1]\n",
      "---------\n",
      "[1, 1, 1, 0, 1, 1, 0, 1, 1, 0, 1, 1, 0, 0, 1]\n",
      "1 0 1\n",
      "[1, 0, 1, 1, 0, 1, 0, 1, 1, 0, 1, 1, 0, 0, 1]\n",
      "---------\n",
      "[1, 1, 0, 1, 1, 0, 1, 0, 1, 1, 0, 1, 1, 0, 0]\n",
      "[1, 0, 0, 0, 0, 0, 1, 0, 1, 1, 0, 1, 1, 0, 0]\n",
      "---------\n",
      "index\n",
      "[0, 1, 2, 3, 4, 5, 6, 7, 8, 9, 10, 11, 12, 13, 14]\n",
      "hasil should be:\n",
      "[1, 0, 0, 0, 0, 1, 1, 1, 0, 0, 0, 0, 0, 0, 0]\n"
     ]
    }
   ],
   "source": [
    "#skrg coba si index ke 8 dipake juga, verbose\n",
    "isibox = [0]*15\n",
    "isibox[9],isibox[8],isibox[7],isibox[4],isibox[3],isibox[1],isibox[0] = 1,1,1,1,1,1,1\n",
    "ori = isibox\n",
    "def swap(isibox):\n",
    "    isibox[len(isibox)-2],isibox[len(isibox)-1] = isibox[len(isibox)-1],isibox[len(isibox)-2] \n",
    "    for i in reversed(range(len(isibox)-2)):\n",
    "        isibox[i],isibox[i+1] = isibox[i+1],isibox[i] \n",
    "    return isibox\n",
    "n = 8\n",
    "n_mult = 2*n-1\n",
    "print(ori)\n",
    "#\n",
    "print(swap(isibox))\n",
    "if isibox[0]==1:\n",
    "    for j in (range(len(ip)-1)):\n",
    "        isibox[ip[j+1]]=(isibox[ip[j+1]]^1)\n",
    "print(isibox)\n",
    "print(\"---------\")\n",
    "#\n",
    "print(swap(isibox))\n",
    "if isibox[0]==1:\n",
    "    for j in (range(len(ip)-1)):\n",
    "        isibox[ip[j+1]]=(isibox[ip[j+1]]^1)\n",
    "print(isibox)\n",
    "print(\"---------\")\n",
    "#\n",
    "print(swap(isibox))\n",
    "if isibox[0]==1:\n",
    "    for j in (range(len(ip)-1)):\n",
    "        isibox[ip[j+1]]=(isibox[ip[j+1]]^1)\n",
    "print(isibox)\n",
    "print(\"---------\")\n",
    "#\n",
    "print(swap(isibox))\n",
    "if isibox[0]==1:\n",
    "    for j in (range(len(ip)-1)):\n",
    "        isibox[ip[j+1]]=(isibox[ip[j+1]]^1)\n",
    "print(isibox)\n",
    "print(\"---------\")\n",
    "#\n",
    "print(swap(isibox))\n",
    "if isibox[0]==1:\n",
    "    for j in (range(len(ip)-1)):\n",
    "        isibox[ip[j+1]]=(isibox[ip[j+1]]^1)\n",
    "print(isibox)\n",
    "print(\"---------\")\n",
    "#\n",
    "print(swap(isibox))\n",
    "if isibox[0]==1:\n",
    "    for j in (range(len(ip)-2)):\n",
    "        isibox[ip[j+1]]=(isibox[ip[j+1]]^1)\n",
    "         #print(ip[j+1],isibox[ip[j+1]],isibox[ip[j+1]]^1)\n",
    "print(isibox)\n",
    "print(\"---------\")\n",
    "#\n",
    "print(swap(isibox))\n",
    "if isibox[0]==1:\n",
    "    for j in (range(len(ip)-2)):\n",
    "#         isibox[ip[j+1]]=(isibox[ip[j+1]]^1)\n",
    "    print(ip[j+1],isibox[ip[j+1]],isibox[ip[j+1]]^1)\n",
    "print(isibox)\n",
    "print(\"---------\")\n",
    "#\n",
    "print(swap(isibox))\n",
    "if isibox[0]==1:\n",
    "    for j in (range(len(ip)-2)):\n",
    "        isibox[ip[j+1]]=(isibox[ip[j+1]]^1)\n",
    "#     print(ip[j+1],isibox[ip[j+1]],isibox[ip[j+1]]^1)\n",
    "print(isibox)\n",
    "print(\"---------\")\n",
    "\n",
    "\n",
    "\n",
    "\n",
    "\n",
    "print(\"index\")\n",
    "print([0,1,2,3,4,5,6,7,8,9,10,11,12,13,14])\n",
    "print(\"hasil should be:\")\n",
    "print(hasil)"
   ]
  },
  {
   "cell_type": "code",
   "execution_count": null,
   "metadata": {},
   "outputs": [],
   "source": []
  },
  {
   "cell_type": "code",
   "execution_count": null,
   "metadata": {},
   "outputs": [],
   "source": []
  },
  {
   "cell_type": "code",
   "execution_count": null,
   "metadata": {},
   "outputs": [],
   "source": []
  },
  {
   "cell_type": "code",
   "execution_count": 136,
   "metadata": {},
   "outputs": [
    {
     "data": {
      "text/plain": [
       "15"
      ]
     },
     "execution_count": 136,
     "metadata": {},
     "output_type": "execute_result"
    }
   ],
   "source": []
  },
  {
   "cell_type": "code",
   "execution_count": 137,
   "metadata": {},
   "outputs": [
    {
     "name": "stdout",
     "output_type": "stream",
     "text": [
      "15 6\n",
      "14 5\n",
      "13 4\n",
      "12 3\n",
      "11 2\n",
      "10 1\n",
      "9 0\n"
     ]
    }
   ],
   "source": [
    "m=9\n",
    "n=m-1 #8\n",
    "mn = 2*m -2 #== 2*n = 16, yaitu index 0-15!\n",
    "\n",
    "for i in reversed(range(m,mn)):\n",
    "    print(i, i-m)\n",
    "# for i in range()"
   ]
  },
  {
   "cell_type": "code",
   "execution_count": 139,
   "metadata": {},
   "outputs": [
    {
     "data": {
      "text/plain": [
       "16"
      ]
     },
     "execution_count": 139,
     "metadata": {},
     "output_type": "execute_result"
    }
   ],
   "source": [
    "\n",
    "2*m-2"
   ]
  },
  {
   "cell_type": "code",
   "execution_count": 157,
   "metadata": {},
   "outputs": [],
   "source": [
    "from collections import deque"
   ]
  },
  {
   "cell_type": "code",
   "execution_count": 185,
   "metadata": {},
   "outputs": [
    {
     "name": "stdout",
     "output_type": "stream",
     "text": [
      "--------\n",
      "[0, 1, 2, 3, 4, 5, 6, 7, 8, 9, 10, 11, 12, 13, 14]\n",
      "[9, 10, 11, 12, 13, 14, 0, 1, 2, 3, 4, 5, 6, 7, 8]\n",
      "[6, 7, 8, 9, 10, 11, 12, 13, 14, 0, 1, 2, 3, 4, 5]\n",
      "---------\n"
     ]
    }
   ],
   "source": [
    "m=9\n",
    "n=m-1 #8\n",
    "mn = 2*m -2 #== 2*n = 16, yaitu index 0-15!\n",
    "\n",
    "isibox = [0]*15\n",
    "isibox[9],isibox[8],isibox[7],isibox[4],isibox[3],isibox[1],isibox[0] = 1,1,1,1,1,1,1\n",
    "ori = isibox #len 15\n",
    "ori\n",
    "ip = [8,4,3,1,0]\n",
    "iplong = [1,1,0,1,1,0,0,0,1,0,0,0,0,0,0] #len 15\n",
    "isibox = [0,1,2,3,4,5,6,7,8,9,10,11,12,13,14] #len 15\n",
    "\n",
    "hasil = [1,0,0,0,0,1,1,1,0,0,0,0,0,0,0]\n",
    "# print(\"iplong\")\n",
    "# print(iplong)\n",
    "print(\"--------\")\n",
    "\n",
    "# isibox[len(isibox)-2],isibox[len(isibox)-1] = isibox[len(isibox)-1],isibox[len(isibox)-2] \n",
    "# for i in reversed(range(len(isibox)-2)):\n",
    "#     #Kl geser 1 doang\n",
    "# #     isibox[i],isibox[i+1] = isibox[i+1],isibox[i]\n",
    "#     #geser i-m\n",
    "#     isibox[i],isibox[i-m] = isibox[i-m],isibox[i]\n",
    "\n",
    "print(isibox\n",
    "     )\n",
    "a= deque([0,1,2,3,4,5,6,7,8,9,10,11,12,13,14])\n",
    "a.rotate(6)\n",
    "ar = list(a)\n",
    "print(ar) #--> kita ini, shift 6 places to the right\n",
    "\n",
    "b= deque([0,1,2,3,4,5,6,7,8,9,10,11,12,13,14])\n",
    "b.rotate(-6)\n",
    "bl = list(b)\n",
    "print(bl)\n",
    "# if isibox[0]==1: \n",
    "#     for j in reversed(range(len(ip)-2)):\n",
    "#         isibox[ip[j+1]]=(isibox[ip[j+1]]^1)\n",
    "# print(isibox)\n",
    "print(\"---------\")"
   ]
  },
  {
   "cell_type": "code",
   "execution_count": 196,
   "metadata": {},
   "outputs": [
    {
     "name": "stdout",
     "output_type": "stream",
     "text": [
      "[0, 0, 0, 0, 0, 0, 1, 1, 0, 1, 1, 0, 0, 0, 1]\n",
      "0\n"
     ]
    }
   ],
   "source": [
    "a= deque(iplong)\n",
    "a.rotate(6)\n",
    "f = list(a)\n",
    "print(f)\n",
    "\n",
    "\n",
    "d = hasil\n",
    "print(d[1])\n",
    "\n",
    "# for i in range(f):\n",
    "#     d[i] = int(d[i])^int(f[i])\n",
    "# print(d)\n"
   ]
  },
  {
   "cell_type": "code",
   "execution_count": null,
   "metadata": {},
   "outputs": [],
   "source": []
  },
  {
   "cell_type": "code",
   "execution_count": null,
   "metadata": {},
   "outputs": [],
   "source": []
  },
  {
   "cell_type": "code",
   "execution_count": null,
   "metadata": {},
   "outputs": [],
   "source": []
  },
  {
   "cell_type": "code",
   "execution_count": null,
   "metadata": {},
   "outputs": [],
   "source": [
    "result = ['0', '0', '1', '1', '0', '1', '1', '0'] #5,4,2,1\n",
    "res_polynom = [None] * len(result)\n",
    "for i in range((len(result)-2)):\n",
    "    if result[i] == '1':\n",
    "        res_polynom[i]=('z^'+ str(len(result)-2-i))\n",
    "# #kl mau lebih cepet, yaudah tinggal samain aja semuanya, kita yg nge infer sendiri representasi z^1 dan z^0\n",
    "# if result[len(result)-2] == '1':\n",
    "#     res_polynom[len(result)-2]='z'\n",
    "# if result[len(result)-1] == '1':\n",
    "#     res_polynom[len(result)-1]='1'\n",
    "\n",
    "# '+'.join(res_polynom)\n",
    "\n",
    "clean = [x for x in res_polynom if x is not None]\n",
    "clean\n",
    "\n",
    "# APPEND AJA WOOY AHAHAHAH\n",
    "\n",
    "# LM BENERRRR\n"
   ]
  },
  {
   "cell_type": "code",
   "execution_count": null,
   "metadata": {},
   "outputs": [],
   "source": [
    "%%time\n",
    "result = ['0', '0', '1', '1', '0', '1', '1', '1']\n",
    "res_polynom = []\n",
    "for i in range((len(result))):\n",
    "    if result[i] == '1':\n",
    "        res_polynom.append('z^'+ str(len(result)-1-i))\n",
    "        print(i,len(result)-1-i)\n",
    "#kl mau lebih cepet, yaudah tinggal samain aja semuanya, kita yg nge infer sendiri representasi z^1 dan z^0\n",
    "# if result[len(result)-2] == '1':\n",
    "#     res_polynom[len(result)-2]='z'\n",
    "# if result[len(result)-1] == '1':\n",
    "#     res_polynom[len(result)-1]='1'\n",
    "\n",
    "print(\"Resulting polynomial = \",'+'.join(res_polynom))\n",
    "\n",
    "# clean = [x for x in res_polynom if x is not None]\n",
    "# clean\n",
    "# res_polynom"
   ]
  },
  {
   "cell_type": "code",
   "execution_count": null,
   "metadata": {},
   "outputs": [],
   "source": [
    "%%time\n",
    "result = ['0', '0', '1', '1', '0', '1', '1', '1']\n",
    "res_polynom = []\n",
    "for i in range((len(result)-2)):\n",
    "    if result[i] == '1':\n",
    "        res_polynom.append('z^'+ str(len(result)-1-i))\n",
    "        print(i,len(result)-1-i)\n",
    "#kl mau lebih cepet, yaudah tinggal samain aja semuanya, kita yg nge infer sendiri representasi z^1 dan z^0\n",
    "if result[len(result)-2] == '1':\n",
    "    res_polynom.append('z')\n",
    "if result[len(result)-1] == '1':\n",
    "    res_polynom.append('1')\n",
    "\n",
    "print(\"Resulting polynomial = \",'+'.join(res_polynom))\n",
    "\n",
    "# clean = [x for x in res_polynom if x is not None]\n",
    "# clean\n",
    "res_polynom"
   ]
  },
  {
   "cell_type": "code",
   "execution_count": null,
   "metadata": {},
   "outputs": [],
   "source": [
    "# #contoh2command untuk string joinan\n",
    "# for i in range (1,10):\n",
    "#     string=\"string\"+str(i)\n",
    "#     print(string)\n",
    "    \n",
    "# for i in range (1,10):\n",
    "#     print('string'+\"\".join(map(str,range(10))))\n",
    "    \n",
    "# [\"string\"+str(i) for i in range(11)]    "
   ]
  }
 ],
 "metadata": {
  "kernelspec": {
   "display_name": "Python 3",
   "language": "python",
   "name": "python3"
  },
  "language_info": {
   "codemirror_mode": {
    "name": "ipython",
    "version": 3
   },
   "file_extension": ".py",
   "mimetype": "text/x-python",
   "name": "python",
   "nbconvert_exporter": "python",
   "pygments_lexer": "ipython3",
   "version": "3.7.7"
  }
 },
 "nbformat": 4,
 "nbformat_minor": 4
}
