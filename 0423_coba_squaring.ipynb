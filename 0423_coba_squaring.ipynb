{
 "cells": [
  {
   "cell_type": "markdown",
   "metadata": {},
   "source": [
    "# FINITE FIELD ARITHMETIC \n",
    "Paling dasar, sebelum group operation (point addition/point doubling)"
   ]
  },
  {
   "cell_type": "code",
   "execution_count": 1,
   "metadata": {},
   "outputs": [],
   "source": [
    "_.<Z> = GF(2)[]\n",
    "F.<z> = GF(2^8, modulus=Z^8+Z^4+Z^3+Z+1)"
   ]
  },
  {
   "cell_type": "markdown",
   "metadata": {},
   "source": [
    "# SQUARING"
   ]
  },
  {
   "cell_type": "code",
   "execution_count": 15,
   "metadata": {},
   "outputs": [],
   "source": [
    "#based on h. 52 Guide to ECC"
   ]
  },
  {
   "cell_type": "code",
   "execution_count": 11,
   "metadata": {},
   "outputs": [
    {
     "data": {
      "text/plain": [
       "z^4"
      ]
     },
     "execution_count": 11,
     "metadata": {},
     "output_type": "execute_result"
    }
   ],
   "source": [
    "A = z^9\n",
    "B = z\n",
    "\n",
    "#squaring == A*A! #== A^2\n",
    "# A*A \n",
    "B*B"
   ]
  },
  {
   "cell_type": "code",
   "execution_count": 16,
   "metadata": {},
   "outputs": [
    {
     "name": "stdout",
     "output_type": "stream",
     "text": [
      "z^2\n",
      "z^4\n",
      "z^6\n",
      "z^4 + z^3 + z + 1\n",
      "z^6 + z^5 + z^3 + z^2\n",
      "z^7 + z^5 + z^3 + z + 1\n",
      "z^7 + z^4 + z^3 + z\n",
      "z^6 + z^4 + z^3 + z^2 + z\n",
      "z^6 + z^5 + z + 1\n",
      "z^7 + z^4 + z^2 + z + 1\n"
     ]
    }
   ],
   "source": [
    "sq = 1\n",
    "for i in range(10):\n",
    "    sq = sq*B\n",
    "    print(sq)"
   ]
  },
  {
   "cell_type": "code",
   "execution_count": 81,
   "metadata": {},
   "outputs": [
    {
     "data": {
      "text/plain": [
       "z^166 + z^163 + z^160 + z^136 + z^135 + z^132 + z^129 + z^11 + z^10 + z^7 + z^4"
      ]
     },
     "execution_count": 81,
     "metadata": {},
     "output_type": "execute_result"
    }
   ],
   "source": [
    "c9 = z^319+z^288 \n",
    "c4 = z^159+z^128\n",
    "\n",
    "#mult sebelum reduction, bisa liat dengan diubah jadi representasi polynom.\n",
    "c9p = c9.polynomial()\n",
    "c4p = c4.polynomial()\n",
    "\n",
    "\n",
    "z4 = z^4\n",
    "z4p = z4.polynomial()\n",
    "c9p*z4p\n",
    "\n",
    "# add1p\n",
    "# c9p*c4p\n",
    "# add1p\n",
    "#add four times?\n",
    "\n"
   ]
  },
  {
   "cell_type": "code",
   "execution_count": null,
   "metadata": {},
   "outputs": [],
   "source": []
  },
  {
   "cell_type": "code",
   "execution_count": 50,
   "metadata": {},
   "outputs": [
    {
     "data": {
      "text/plain": [
       "z^4 + 1"
      ]
     },
     "execution_count": 50,
     "metadata": {},
     "output_type": "execute_result"
    }
   ],
   "source": [
    "#kotretan\n",
    "# (z^9+z^2+1)*z\n",
    "\n",
    "# (z^9+z^5+z^3+z^2+z+1)*z\n",
    "# (z^8+z^5+z^3+z^2+z+1)*z\n",
    "# (z^5+z^3+z^2+z+1)*z\n",
    "# (z^7+z^3+z^2+z+1)*z\n",
    "# (z^4+z^3+z+1)*z\n",
    "(z^7+z^2+1)*z"
   ]
  },
  {
   "cell_type": "code",
   "execution_count": 5,
   "metadata": {},
   "outputs": [
    {
     "data": {
      "text/plain": [
       "z^3 + z"
      ]
     },
     "execution_count": 5,
     "metadata": {},
     "output_type": "execute_result"
    }
   ],
   "source": [
    "#addition\n",
    "(z^3+z^2+1)+(z^2+z+1)"
   ]
  },
  {
   "cell_type": "code",
   "execution_count": 6,
   "metadata": {},
   "outputs": [
    {
     "data": {
      "text/plain": [
       "z^7 + z"
      ]
     },
     "execution_count": 6,
     "metadata": {},
     "output_type": "execute_result"
    }
   ],
   "source": [
    "#addition\n",
    "(z^7+z^2+1)+(z^2+z+1)"
   ]
  },
  {
   "cell_type": "code",
   "execution_count": 38,
   "metadata": {},
   "outputs": [
    {
     "data": {
      "text/plain": [
       "z^7 + z"
      ]
     },
     "execution_count": 38,
     "metadata": {},
     "output_type": "execute_result"
    }
   ],
   "source": [
    "#subtraction\n",
    "(z^7+z^2+1)-(z^2+z+1)"
   ]
  },
  {
   "cell_type": "code",
   "execution_count": 39,
   "metadata": {},
   "outputs": [
    {
     "data": {
      "text/plain": [
       "z^7 + z"
      ]
     },
     "execution_count": 39,
     "metadata": {},
     "output_type": "execute_result"
    }
   ],
   "source": [
    "#subtraction\n",
    "-(z^7+z^2+1)+(z^2+z+1)"
   ]
  },
  {
   "cell_type": "code",
   "execution_count": 40,
   "metadata": {},
   "outputs": [
    {
     "data": {
      "text/plain": [
       "z^4 + 1"
      ]
     },
     "execution_count": 40,
     "metadata": {},
     "output_type": "execute_result"
    }
   ],
   "source": [
    "(z^7+z^2+1)*z"
   ]
  },
  {
   "cell_type": "code",
   "execution_count": 8,
   "metadata": {},
   "outputs": [
    {
     "data": {
      "text/plain": [
       "z^3 + z"
      ]
     },
     "execution_count": 8,
     "metadata": {},
     "output_type": "execute_result"
    }
   ],
   "source": [
    "#subtraction\n",
    "(z^3+z^2+1)-(z^2+z+1)"
   ]
  },
  {
   "cell_type": "code",
   "execution_count": 45,
   "metadata": {},
   "outputs": [
    {
     "data": {
      "text/plain": [
       "z^5 + z^4 + z^2 + z"
      ]
     },
     "execution_count": 45,
     "metadata": {},
     "output_type": "execute_result"
    }
   ],
   "source": [
    "#mult\n",
    "# (z^3+z^2+1)*(z^2+z+1) #ini dia auto hasil reduction.. gimana cara liat sebelum reduction?\n",
    "# working:\n",
    "A = z^7\n",
    "B = z^2\n",
    "\n",
    "# #next trial\n",
    "# A = z^7+z^2+1\n",
    "# B = z^2+z+1\n",
    "\n",
    "A*B"
   ]
  },
  {
   "cell_type": "code",
   "execution_count": 46,
   "metadata": {},
   "outputs": [
    {
     "data": {
      "text/plain": [
       "z^9"
      ]
     },
     "execution_count": 46,
     "metadata": {},
     "output_type": "execute_result"
    }
   ],
   "source": [
    "#mult sebelum reduction, bisa liat dengan diubah jadi representasi polynom.\n",
    "A_poly = A.polynomial()\n",
    "B_poly = B.polynomial()\n",
    "A_poly * B_poly\n",
    "\n",
    "\n",
    "#Source:\n",
    "# #https://ask.sagemath.org/question/38734/pre-reduction-multiplication-result-in-binary-field/\n",
    "# X = Integer(0x009D73616F35F4AB1407D73562C10F);\n",
    "# Y = Integer(0x00A52830277958EE84D1315ED31886);\n",
    "\n",
    "# F.<x> = GF(2)[];\n",
    "# p = x^113 + x^9 + 1;\n",
    "# BF = GF(2^113, 'x', modulus=p);\n",
    "\n",
    "# X_bf = BF._cache.fetch_int(X);\n",
    "# Y_bf = BF._cache.fetch_int(Y);\n",
    "\n",
    "# X_poly = X_bf.polynomial()\n",
    "# Y_poly = Y_bf.polynomial()\n",
    "# X_poly * Y_poly"
   ]
  },
  {
   "cell_type": "code",
   "execution_count": 47,
   "metadata": {},
   "outputs": [
    {
     "data": {
      "text/plain": [
       "z^7 + z^6 + z^5 + 1"
      ]
     },
     "execution_count": 47,
     "metadata": {},
     "output_type": "execute_result"
    }
   ],
   "source": [
    "#inversion\n",
    "(z^3+z^2+1)^-1"
   ]
  },
  {
   "cell_type": "markdown",
   "metadata": {},
   "source": [
    "# GROUP OPERATION"
   ]
  },
  {
   "cell_type": "code",
   "execution_count": 12,
   "metadata": {},
   "outputs": [],
   "source": [
    "#coba ulang pake yg dr certicom\n",
    "#https://www.certicom.com/content/certicom/en/41-an-example-of-an-elliptic-curve-group-over-f2m.html\n",
    "#adopt untuk Guide to ECC h.48 pdf\n",
    "# g = F.gen(1)"
   ]
  },
  {
   "cell_type": "code",
   "execution_count": 13,
   "metadata": {},
   "outputs": [],
   "source": [
    "# ##curve25519\n",
    "# def findBasepoint(prime, A):\n",
    "#        F = GF(prime)\n",
    "#        E = EllipticCurve(F, [0, A, 0, 1, 0])\n",
    "\n",
    "#        for uInt in range(1, 1e3):\n",
    "#          u = F(uInt)\n",
    "#          v2 = u^3 + A*u^2 + u\n",
    "#          if not v2.is_square():\n",
    "#            continue\n",
    "#          v = v2.sqrt()\n",
    "#          point = E(u, v)\n",
    "#          pointOrder = point.order()\n",
    "#          if pointOrder > 8 and pointOrder.is_prime():\n",
    "#             Q=u^3 + A*u^2 + u\n",
    "#             return u, Q, sqrt(Q), point\n",
    "\n",
    "# res=findBasepoint(2^255 - 19, 486662)\n",
    "# res"
   ]
  },
  {
   "cell_type": "code",
   "execution_count": 14,
   "metadata": {},
   "outputs": [
    {
     "name": "stdout",
     "output_type": "stream",
     "text": [
      "Defining z\n"
     ]
    }
   ],
   "source": [
    "F.inject_variables()"
   ]
  },
  {
   "cell_type": "code",
   "execution_count": 15,
   "metadata": {},
   "outputs": [
    {
     "data": {
      "text/plain": [
       "Multivariate Polynomial Ring in x, y over Finite Field in z of size 2^8"
      ]
     },
     "execution_count": 15,
     "metadata": {},
     "output_type": "execute_result"
    }
   ],
   "source": [
    "R.<x,y> = F[]; R #ga nyambung ke yg setelahnya atau ke yg sebeluumnya sih"
   ]
  },
  {
   "cell_type": "code",
   "execution_count": 16,
   "metadata": {},
   "outputs": [
    {
     "data": {
      "text/plain": [
       "Elliptic Curve defined by y^2 + x*y = x^3 + z^4*x^2 + 1 over Finite Field in z of size 2^8"
      ]
     },
     "execution_count": 16,
     "metadata": {},
     "output_type": "execute_result"
    }
   ],
   "source": [
    "C = EllipticCurve(y^2+x*y-x^3-z^4*x^2-1) ; C"
   ]
  },
  {
   "cell_type": "code",
   "execution_count": 17,
   "metadata": {},
   "outputs": [
    {
     "data": {
      "text/plain": [
       "[(0 : 1 : 0), (0 : 1 : 1), (1 : z^5 + z^3 + z^2 : 1), (1 : z^5 + z^3 + z^2 + 1 : 1), (z + 1 : z^6 + z^4 + z^2 + 1 : 1), (z + 1 : z^6 + z^4 + z^2 + z : 1), (z^2 + 1 : z^7 + z^6 + z^5 + z^4 + 1 : 1), (z^2 + 1 : z^7 + z^6 + z^5 + z^4 + z^2 : 1), (z^3 : z^7 + z^6 + z^2 : 1), (z^3 : z^7 + z^6 + z^3 + z^2 : 1), (z^3 + 1 : z^7 + z^6 + z^4 + z^2 + z : 1), (z^3 + 1 : z^7 + z^6 + z^4 + z^3 + z^2 + z + 1 : 1), (z^3 + z^2 : z^6 + z^5 + z^4 + z^2 + z + 1 : 1), (z^3 + z^2 : z^6 + z^5 + z^4 + z^3 + z + 1 : 1), (z^3 + z^2 + 1 : z^6 + z^5 + z^4 + 1 : 1), (z^3 + z^2 + 1 : z^6 + z^5 + z^4 + z^3 + z^2 : 1), (z^3 + z^2 + z : z^5 + z^4 + 1 : 1), (z^3 + z^2 + z : z^5 + z^4 + z^3 + z^2 + z + 1 : 1), (z^4 + 1 : z^6 + z^3 + z^2 : 1), (z^4 + 1 : z^6 + z^4 + z^3 + z^2 + 1 : 1), (z^4 + z : z^6 + z^2 + z : 1), (z^4 + z : z^6 + z^4 + z^2 : 1), (z^4 + z + 1 : z^7 + z^3 + z : 1), (z^4 + z + 1 : z^7 + z^4 + z^3 + 1 : 1), (z^4 + z^2 + z + 1 : z^7 + z^3 + z + 1 : 1), (z^4 + z^2 + z + 1 : z^7 + z^4 + z^3 + z^2 : 1), (z^4 + z^3 : z^7 + z^5 + z^3 : 1), (z^4 + z^3 : z^7 + z^5 + z^4 : 1), (z^4 + z^3 + z : z^6 : 1), (z^4 + z^3 + z : z^6 + z^4 + z^3 + z : 1), (z^4 + z^3 + z^2 : z^7 + z^5 + z^3 + z + 1 : 1), (z^4 + z^3 + z^2 : z^7 + z^5 + z^4 + z^2 + z + 1 : 1), (z^4 + z^3 + z^2 + 1 : z^6 + z^3 + 1 : 1), (z^4 + z^3 + z^2 + 1 : z^6 + z^4 + z^2 : 1), (z^4 + z^3 + z^2 + z : z^5 + z^2 + 1 : 1), (z^4 + z^3 + z^2 + z : z^5 + z^4 + z^3 + z + 1 : 1), (z^4 + z^3 + z^2 + z + 1 : z^6 + z^3 + z + 1 : 1), (z^4 + z^3 + z^2 + z + 1 : z^6 + z^4 + z^2 : 1), (z^5 : z^6 + z^4 + z^3 + z^2 + 1 : 1), (z^5 : z^6 + z^5 + z^4 + z^3 + z^2 + 1 : 1), (z^5 + 1 : z^6 + z^4 + z^3 + z^2 + 1 : 1), (z^5 + 1 : z^6 + z^5 + z^4 + z^3 + z^2 : 1), (z^5 + z^2 + z + 1 : z^7 + z^6 + z^3 + z : 1), (z^5 + z^2 + z + 1 : z^7 + z^6 + z^5 + z^3 + z^2 + 1 : 1), (z^5 + z^3 : z^4 + z^3 + z^2 + z + 1 : 1), (z^5 + z^3 : z^5 + z^4 + z^2 + z + 1 : 1), (z^5 + z^3 + z : z^7 + z^4 : 1), (z^5 + z^3 + z : z^7 + z^5 + z^4 + z^3 + z : 1), (z^5 + z^3 + z^2 : z^7 + z^4 + z^2 : 1), (z^5 + z^3 + z^2 : z^7 + z^5 + z^4 + z^3 : 1), (z^5 + z^3 + z^2 + z + 1 : z^3 + z^2 + 1 : 1), (z^5 + z^3 + z^2 + z + 1 : z^5 + z : 1), (z^5 + z^4 : z^4 + z + 1 : 1), (z^5 + z^4 : z^5 + z + 1 : 1), (z^5 + z^4 + z : z^4 + z^3 + z^2 : 1), (z^5 + z^4 + z : z^5 + z^3 + z^2 + z : 1), (z^5 + z^4 + z + 1 : z^6 + z^4 + z^2 + z + 1 : 1), (z^5 + z^4 + z + 1 : z^6 + z^5 + z^2 : 1), (z^5 + z^4 + z^2 + 1 : z^7 + z^4 + z^3 + z + 1 : 1), (z^5 + z^4 + z^2 + 1 : z^7 + z^5 + z^3 + z^2 + z : 1), (z^5 + z^4 + z^2 + z : z^6 : 1), (z^5 + z^4 + z^2 + z : z^6 + z^5 + z^4 + z^2 + z : 1), (z^5 + z^4 + z^3 + 1 : z^7 + z^6 + z^4 + z^2 + 1 : 1), (z^5 + z^4 + z^3 + 1 : z^7 + z^6 + z^5 + z^3 + z^2 : 1), (z^5 + z^4 + z^3 + z : z^4 + z^3 + z^2 + 1 : 1), (z^5 + z^4 + z^3 + z : z^5 + z^2 + z + 1 : 1), (z^5 + z^4 + z^3 + z + 1 : z^2 + 1 : 1), (z^5 + z^4 + z^3 + z + 1 : z^5 + z^4 + z^3 + z^2 + z : 1), (z^5 + z^4 + z^3 + z^2 : z^6 : 1), (z^5 + z^4 + z^3 + z^2 : z^6 + z^5 + z^4 + z^3 + z^2 : 1), (z^6 : z^3 + z^2 + 1 : 1), (z^6 : z^6 + z^3 + z^2 + 1 : 1), (z^6 + 1 : z + 1 : 1), (z^6 + 1 : z^6 + z : 1), (z^6 + z^2 + z : z^5 + z^4 + z^2 + z + 1 : 1), (z^6 + z^2 + z : z^6 + z^5 + z^4 + 1 : 1), (z^6 + z^3 : z^7 + z^5 + z^2 + z + 1 : 1), (z^6 + z^3 : z^7 + z^6 + z^5 + z^3 + z^2 + z + 1 : 1), (z^6 + z^3 + z : z^5 + z^2 + z : 1), (z^6 + z^3 + z : z^6 + z^5 + z^3 + z^2 : 1), (z^6 + z^3 + z + 1 : z^5 + z^2 : 1), (z^6 + z^3 + z + 1 : z^6 + z^5 + z^3 + z^2 + z + 1 : 1), (z^6 + z^3 + z^2 : z^7 + z^5 + z^2 + 1 : 1), (z^6 + z^3 + z^2 : z^7 + z^6 + z^5 + z^3 + 1 : 1), (z^6 + z^3 + z^2 + z : z^5 + z^3 + z^2 : 1), (z^6 + z^3 + z^2 + z : z^6 + z^5 + z : 1), (z^6 + z^3 + z^2 + z + 1 : z^7 + z^5 + z^3 + z^2 + z : 1), (z^6 + z^3 + z^2 + z + 1 : z^7 + z^6 + z^5 + 1 : 1), (z^6 + z^4 : z^7 + z^5 + z^4 + z^3 + z^2 + z : 1), (z^6 + z^4 : z^7 + z^6 + z^5 + z^3 + z^2 + z : 1), (z^6 + z^4 + 1 : z^7 + z^5 + z^4 + z^3 + z : 1), (z^6 + z^4 + 1 : z^7 + z^6 + z^5 + z^3 + z + 1 : 1), (z^6 + z^4 + z : z^7 + z^5 + z^3 + z : 1), (z^6 + z^4 + z : z^7 + z^6 + z^5 + z^4 + z^3 : 1), (z^6 + z^4 + z^2 : z^4 + z^2 + 1 : 1), (z^6 + z^4 + z^2 : z^6 + 1 : 1), (z^6 + z^4 + z^2 + z + 1 : z^3 + z^2 : 1), (z^6 + z^4 + z^2 + z + 1 : z^6 + z^4 + z^3 + z + 1 : 1), (z^6 + z^4 + z^3 : z^7 + z^5 + z^4 + z^3 + z^2 + 1 : 1), (z^6 + z^4 + z^3 : z^7 + z^6 + z^5 + z^2 + 1 : 1), (z^6 + z^4 + z^3 + z + 1 : z^5 + z^3 + z : 1), (z^6 + z^4 + z^3 + z + 1 : z^6 + z^5 + z^4 + 1 : 1), (z^6 + z^4 + z^3 + z^2 : z^7 + z^4 + z^3 + z : 1), (z^6 + z^4 + z^3 + z^2 : z^7 + z^6 + z^2 + z : 1), (z^6 + z^4 + z^3 + z^2 + 1 : z^4 + z^3 + 1 : 1), (z^6 + z^4 + z^3 + z^2 + 1 : z^6 + z^2 : 1), (z^6 + z^4 + z^3 + z^2 + z + 1 : z^5 + z^3 + z^2 : 1), (z^6 + z^4 + z^3 + z^2 + z + 1 : z^6 + z^5 + z^4 + z + 1 : 1), (z^6 + z^5 + z + 1 : z^7 + z^5 + z : 1), (z^6 + z^5 + z + 1 : z^7 + z^6 + 1 : 1), (z^6 + z^5 + z^2 + z : z^7 + z^4 + z^3 : 1), (z^6 + z^5 + z^2 + z : z^7 + z^6 + z^5 + z^4 + z^3 + z^2 + z : 1), (z^6 + z^5 + z^3 + z : z^7 + z^5 + z^3 + z^2 + z : 1), (z^6 + z^5 + z^3 + z : z^7 + z^6 + z^2 : 1), (z^6 + z^5 + z^3 + z + 1 : z^7 + z^5 + z^4 + z^3 + z : 1), (z^6 + z^5 + z^3 + z + 1 : z^7 + z^6 + z^4 + 1 : 1), (z^6 + z^5 + z^3 + z^2 : z^4 + z^2 + z + 1 : 1), (z^6 + z^5 + z^3 + z^2 : z^6 + z^5 + z^4 + z^3 + z + 1 : 1), (z^6 + z^5 + z^3 + z^2 + 1 : z^2 + z : 1), (z^6 + z^5 + z^3 + z^2 + 1 : z^6 + z^5 + z^3 + z + 1 : 1), (z^6 + z^5 + z^3 + z^2 + z : z^7 + z^4 + z^3 + z^2 + 1 : 1), (z^6 + z^5 + z^3 + z^2 + z : z^7 + z^6 + z^5 + z^4 + z + 1 : 1), (z^6 + z^5 + z^3 + z^2 + z + 1 : z^4 : 1), (z^6 + z^5 + z^3 + z^2 + z + 1 : z^6 + z^5 + z^4 + z^3 + z^2 + z + 1 : 1), (z^6 + z^5 + z^4 : z^3 + z + 1 : 1), (z^6 + z^5 + z^4 : z^6 + z^5 + z^4 + z^3 + z + 1 : 1), (z^6 + z^5 + z^4 + z : z^7 + z^5 + z^4 + z^2 + z : 1), (z^6 + z^5 + z^4 + z : z^7 + z^6 + z^2 : 1), (z^6 + z^5 + z^4 + z + 1 : z^5 + z^4 + z^3 + z : 1), (z^6 + z^5 + z^4 + z + 1 : z^6 + z^3 + 1 : 1), (z^6 + z^5 + z^4 + z^2 + z + 1 : z^5 + z^3 + z^2 + z + 1 : 1), (z^6 + z^5 + z^4 + z^2 + z + 1 : z^6 + z^4 + z^3 : 1), (z^6 + z^5 + z^4 + z^3 + 1 : z^7 + z^5 + z^2 : 1), (z^6 + z^5 + z^4 + z^3 + 1 : z^7 + z^6 + z^4 + z^3 + z^2 + 1 : 1), (z^6 + z^5 + z^4 + z^3 + z : z^7 + z^5 + z^4 + z + 1 : 1), (z^6 + z^5 + z^4 + z^3 + z : z^7 + z^6 + z^3 + 1 : 1), (z^6 + z^5 + z^4 + z^3 + z^2 + z : z^5 + z^4 + z^2 + z + 1 : 1), (z^6 + z^5 + z^4 + z^3 + z^2 + z : z^6 + z^3 + 1 : 1), (z^6 + z^5 + z^4 + z^3 + z^2 + z + 1 : z^3 + z^2 + 1 : 1), (z^6 + z^5 + z^4 + z^3 + z^2 + z + 1 : z^6 + z^5 + z^4 + z : 1), (z^7 : z^4 + z^3 + z^2 + z + 1 : 1), (z^7 : z^7 + z^4 + z^3 + z^2 + z + 1 : 1), (z^7 + 1 : z^6 + z^5 + z : 1), (z^7 + 1 : z^7 + z^6 + z^5 + z + 1 : 1), (z^7 + z : z^6 + z^4 + 1 : 1), (z^7 + z : z^7 + z^6 + z^4 + z + 1 : 1), (z^7 + z + 1 : z^6 + z^3 + z : 1), (z^7 + z + 1 : z^7 + z^6 + z^3 + 1 : 1), (z^7 + z^2 : z^6 + z^5 + z^4 + z^2 + 1 : 1), (z^7 + z^2 : z^7 + z^6 + z^5 + z^4 + 1 : 1), (z^7 + z^2 + 1 : z^3 + z + 1 : 1), (z^7 + z^2 + 1 : z^7 + z^3 + z^2 + z : 1), (z^7 + z^3 : z^5 + z^4 + z^3 + z : 1), (z^7 + z^3 : z^7 + z^5 + z^4 + z : 1), (z^7 + z^3 + 1 : z^4 + z^3 + 1 : 1), (z^7 + z^3 + 1 : z^7 + z^4 : 1), (z^7 + z^3 + z : z^5 + z^4 + z^3 + z^2 + z + 1 : 1), (z^7 + z^3 + z : z^7 + z^5 + z^4 + z^2 + 1 : 1), (z^7 + z^3 + z + 1 : z^5 + z^3 + z^2 + 1 : 1), (z^7 + z^3 + z + 1 : z^7 + z^5 + z^2 + z : 1), (z^7 + z^4 : z^6 + 1 : 1), (z^7 + z^4 : z^7 + z^6 + z^4 + 1 : 1), (z^7 + z^4 + 1 : z^6 + z^5 : 1), (z^7 + z^4 + 1 : z^7 + z^6 + z^5 + z^4 + 1 : 1), (z^7 + z^4 + z : z^6 + z^5 + z^3 + z : 1), (z^7 + z^4 + z : z^7 + z^6 + z^5 + z^4 + z^3 : 1), (z^7 + z^4 + z + 1 : z^5 + z + 1 : 1), (z^7 + z^4 + z + 1 : z^7 + z^5 + z^4 : 1), (z^7 + z^4 + z^2 : z^5 + z^4 + z^3 + z^2 + z + 1 : 1), (z^7 + z^4 + z^2 : z^7 + z^5 + z^3 + z + 1 : 1), (z^7 + z^4 + z^2 + 1 : z^6 + z^5 + z^3 + z + 1 : 1), (z^7 + z^4 + z^2 + 1 : z^7 + z^6 + z^5 + z^4 + z^3 + z^2 + z : 1), (z^7 + z^4 + z^2 + z : z^5 + 1 : 1), (z^7 + z^4 + z^2 + z : z^7 + z^5 + z^4 + z^2 + z + 1 : 1), (z^7 + z^4 + z^2 + z + 1 : z^5 + z^3 + z : 1), (z^7 + z^4 + z^2 + z + 1 : z^7 + z^5 + z^4 + z^3 + z^2 + 1 : 1), (z^7 + z^4 + z^3 : z^5 + z^4 + z + 1 : 1), (z^7 + z^4 + z^3 : z^7 + z^5 + z^3 + z + 1 : 1), (z^7 + z^4 + z^3 + z : z^5 + z^3 + z^2 + 1 : 1), (z^7 + z^4 + z^3 + z : z^7 + z^5 + z^4 + z^2 + z + 1 : 1), (z^7 + z^4 + z^3 + z + 1 : z^5 + z^3 + z + 1 : 1), (z^7 + z^4 + z^3 + z + 1 : z^7 + z^5 + z^4 : 1), (z^7 + z^4 + z^3 + z^2 + 1 : z^6 + z^5 + z^3 : 1), (z^7 + z^4 + z^3 + z^2 + 1 : z^7 + z^6 + z^5 + z^4 + z^2 + 1 : 1), (z^7 + z^4 + z^3 + z^2 + z : z^3 + z^2 : 1), (z^7 + z^4 + z^3 + z^2 + z : z^7 + z^4 + z : 1), (z^7 + z^4 + z^3 + z^2 + z + 1 : z^6 + z + 1 : 1), (z^7 + z^4 + z^3 + z^2 + z + 1 : z^7 + z^6 + z^4 + z^3 + z^2 : 1), (z^7 + z^5 : z^6 + z^2 : 1), (z^7 + z^5 : z^7 + z^6 + z^5 + z^2 : 1), (z^7 + z^5 + z^2 + 1 : z^6 + z^3 + z + 1 : 1), (z^7 + z^5 + z^2 + 1 : z^7 + z^6 + z^5 + z^3 + z^2 + z : 1), (z^7 + z^5 + z^2 + z + 1 : z^6 + z : 1), (z^7 + z^5 + z^2 + z + 1 : z^7 + z^6 + z^5 + z^2 + 1 : 1), (z^7 + z^5 + z^3 + z : z^6 + z^3 + z + 1 : 1), (z^7 + z^5 + z^3 + z : z^7 + z^6 + z^5 + 1 : 1), (z^7 + z^5 + z^3 + z + 1 : z^3 + z^2 + z + 1 : 1), (z^7 + z^5 + z^3 + z + 1 : z^7 + z^5 + z^2 : 1), (z^7 + z^5 + z^3 + z^2 + 1 : z^6 + z^5 + z^4 : 1), (z^7 + z^5 + z^3 + z^2 + 1 : z^7 + z^6 + z^4 + z^3 + z^2 + 1 : 1), (z^7 + z^5 + z^4 : z^6 + z^3 + z^2 : 1), (z^7 + z^5 + z^4 : z^7 + z^6 + z^5 + z^4 + z^3 + z^2 : 1), (z^7 + z^5 + z^4 + 1 : z^6 + z^3 + z^2 : 1), (z^7 + z^5 + z^4 + 1 : z^7 + z^6 + z^5 + z^4 + z^3 + z^2 + 1 : 1), (z^7 + z^5 + z^4 + z : z^5 + z^4 + z^3 + z + 1 : 1), (z^7 + z^5 + z^4 + z : z^7 + z^3 + 1 : 1), (z^7 + z^5 + z^4 + z + 1 : z^5 + z + 1 : 1), (z^7 + z^5 + z^4 + z + 1 : z^7 + z^4 : 1), (z^7 + z^5 + z^4 + z^2 : z^2 + z + 1 : 1), (z^7 + z^5 + z^4 + z^2 : z^7 + z^5 + z^4 + z + 1 : 1), (z^7 + z^5 + z^4 + z^3 : z^4 + z^3 + z^2 + z + 1 : 1), (z^7 + z^5 + z^4 + z^3 : z^7 + z^5 + z^2 + z + 1 : 1), (z^7 + z^5 + z^4 + z^3 + z^2 : z^5 + z^4 + z^3 + z + 1 : 1), (z^7 + z^5 + z^4 + z^3 + z^2 : z^7 + z^2 + z + 1 : 1), (z^7 + z^5 + z^4 + z^3 + z^2 + 1 : z^4 + z^2 + z + 1 : 1), (z^7 + z^5 + z^4 + z^3 + z^2 + 1 : z^7 + z^5 + z^3 + z : 1), (z^7 + z^5 + z^4 + z^3 + z^2 + z + 1 : z^6 + z^5 + z^2 + z + 1 : 1), (z^7 + z^5 + z^4 + z^3 + z^2 + z + 1 : z^7 + z^6 + z^4 + z^3 : 1), (z^7 + z^6 + 1 : z^4 + z^2 + z + 1 : 1), (z^7 + z^6 + 1 : z^7 + z^6 + z^4 + z^2 + z : 1), (z^7 + z^6 + z : z^6 + z^5 + z^2 + z : 1), (z^7 + z^6 + z : z^7 + z^5 + z^2 : 1), (z^7 + z^6 + z^2 : z^4 + z^3 + 1 : 1), (z^7 + z^6 + z^2 : z^7 + z^6 + z^4 + z^3 + z^2 + 1 : 1), (z^7 + z^6 + z^2 + 1 : z^4 + z^3 + z^2 : 1), (z^7 + z^6 + z^2 + 1 : z^7 + z^6 + z^4 + z^3 + 1 : 1), (z^7 + z^6 + z^3 + 1 : z^4 + z^3 + z^2 + 1 : 1), (z^7 + z^6 + z^3 + 1 : z^7 + z^6 + z^4 + z^2 : 1), (z^7 + z^6 + z^4 : z^5 + z^3 : 1), (z^7 + z^6 + z^4 : z^7 + z^6 + z^5 + z^4 + z^3 : 1), (z^7 + z^6 + z^4 + z + 1 : z^6 + z^4 + z^3 + z^2 + z : 1), (z^7 + z^6 + z^4 + z + 1 : z^7 + z^3 + z^2 + 1 : 1), (z^7 + z^6 + z^4 + z^2 : z^6 + 1 : 1), (z^7 + z^6 + z^4 + z^2 : z^7 + z^4 + z^2 + 1 : 1), (z^7 + z^6 + z^4 + z^2 + 1 : z^6 + z^5 + z^4 + z^3 + z : 1), (z^7 + z^6 + z^4 + z^2 + 1 : z^7 + z^5 + z^3 + z^2 + z + 1 : 1), (z^7 + z^6 + z^4 + z^3 : z^3 + z^2 + z : 1), (z^7 + z^6 + z^4 + z^3 : z^7 + z^6 + z^4 + z^2 + z : 1), (z^7 + z^6 + z^4 + z^3 + 1 : z^3 + z^2 : 1), (z^7 + z^6 + z^4 + z^3 + 1 : z^7 + z^6 + z^4 + z^2 + 1 : 1), (z^7 + z^6 + z^4 + z^3 + z : z^5 + z^4 + z^3 + z^2 : 1), (z^7 + z^6 + z^4 + z^3 + z : z^7 + z^6 + z^5 + z^2 + z : 1), (z^7 + z^6 + z^4 + z^3 + z + 1 : z^6 + z^2 + 1 : 1), (z^7 + z^6 + z^4 + z^3 + z + 1 : z^7 + z^4 + z^3 + z^2 + z : 1), (z^7 + z^6 + z^4 + z^3 + z^2 : z^5 + z^3 + z : 1), (z^7 + z^6 + z^4 + z^3 + z^2 : z^7 + z^6 + z^5 + z^4 + z^2 + z : 1), (z^7 + z^6 + z^4 + z^3 + z^2 + z : z^6 + z^5 + z^3 + z^2 + 1 : 1), (z^7 + z^6 + z^4 + z^3 + z^2 + z : z^7 + z^5 + z^4 + z + 1 : 1), (z^7 + z^6 + z^4 + z^3 + z^2 + z + 1 : z^6 + z^5 + z : 1), (z^7 + z^6 + z^4 + z^3 + z^2 + z + 1 : z^7 + z^5 + z^4 + z^3 + z^2 + 1 : 1), (z^7 + z^6 + z^5 : z^6 + z^2 + z + 1 : 1), (z^7 + z^6 + z^5 : z^7 + z^5 + z^2 + z + 1 : 1), (z^7 + z^6 + z^5 + 1 : z^5 + z^3 + 1 : 1), (z^7 + z^6 + z^5 + 1 : z^7 + z^6 + z^3 : 1), (z^7 + z^6 + z^5 + z + 1 : z^4 + z^3 + z^2 + 1 : 1), (z^7 + z^6 + z^5 + z + 1 : z^7 + z^6 + z^5 + z^4 + z^3 + z^2 + z : 1), (z^7 + z^6 + z^5 + z^2 + 1 : z^3 + z + 1 : 1), (z^7 + z^6 + z^5 + z^2 + 1 : z^7 + z^6 + z^5 + z^3 + z^2 + z : 1), (z^7 + z^6 + z^5 + z^2 + z + 1 : z^4 + z^3 + z^2 : 1), (z^7 + z^6 + z^5 + z^2 + z + 1 : z^7 + z^6 + z^5 + z^4 + z^3 + z + 1 : 1), (z^7 + z^6 + z^5 + z^3 : z^6 + z^5 + z^3 + z + 1 : 1), (z^7 + z^6 + z^5 + z^3 : z^7 + z + 1 : 1), (z^7 + z^6 + z^5 + z^3 + 1 : z^5 : 1), (z^7 + z^6 + z^5 + z^3 + 1 : z^7 + z^6 + z^3 + 1 : 1), (z^7 + z^6 + z^5 + z^3 + z + 1 : z^5 + z^4 + z^3 + z : 1), (z^7 + z^6 + z^5 + z^3 + z + 1 : z^7 + z^6 + z^4 + 1 : 1), (z^7 + z^6 + z^5 + z^3 + z^2 : z^6 + z^4 + z^2 + 1 : 1), (z^7 + z^6 + z^5 + z^3 + z^2 : z^7 + z^5 + z^4 + z^3 + 1 : 1), (z^7 + z^6 + z^5 + z^3 + z^2 + 1 : z^6 + z^2 : 1), (z^7 + z^6 + z^5 + z^3 + z^2 + 1 : z^7 + z^5 + z^3 + 1 : 1), (z^7 + z^6 + z^5 + z^3 + z^2 + z : z^4 + z^3 + z^2 + z : 1), (z^7 + z^6 + z^5 + z^3 + z^2 + z : z^7 + z^6 + z^5 + z^4 : 1), (z^7 + z^6 + z^5 + z^3 + z^2 + z + 1 : z^3 + z : 1), (z^7 + z^6 + z^5 + z^3 + z^2 + z + 1 : z^7 + z^6 + z^5 + z^2 + 1 : 1), (z^7 + z^6 + z^5 + z^4 : z^5 + z^2 + 1 : 1), (z^7 + z^6 + z^5 + z^4 : z^7 + z^6 + z^4 + z^2 + 1 : 1), (z^7 + z^6 + z^5 + z^4 + z^2 + 1 : z^4 + z^2 : 1), (z^7 + z^6 + z^5 + z^4 + z^2 + 1 : z^7 + z^6 + z^5 + 1 : 1), (z^7 + z^6 + z^5 + z^4 + z^2 + z : z^6 + z : 1), (z^7 + z^6 + z^5 + z^4 + z^2 + z : z^7 + z^5 + z^4 + z^2 : 1), (z^7 + z^6 + z^5 + z^4 + z^3 + z + 1 : z^5 + z^4 + z^2 + 1 : 1), (z^7 + z^6 + z^5 + z^4 + z^3 + z + 1 : z^7 + z^6 + z^3 + z^2 + z : 1), (z^7 + z^6 + z^5 + z^4 + z^3 + z^2 + 1 : z^6 + z^4 + z^3 + z^2 : 1), (z^7 + z^6 + z^5 + z^4 + z^3 + z^2 + 1 : z^7 + z^5 + 1 : 1), (z^7 + z^6 + z^5 + z^4 + z^3 + z^2 + z : z^5 + z^2 + 1 : 1), (z^7 + z^6 + z^5 + z^4 + z^3 + z^2 + z : z^7 + z^6 + z^4 + z^3 + z + 1 : 1), (z^7 + z^6 + z^5 + z^4 + z^3 + z^2 + z + 1 : z^6 + z^4 + z^2 + 1 : 1), (z^7 + z^6 + z^5 + z^4 + z^3 + z^2 + z + 1 : z^7 + z^5 + z^3 + z : 1)]"
      ]
     },
     "execution_count": 17,
     "metadata": {},
     "output_type": "execute_result"
    }
   ],
   "source": [
    "C.points()"
   ]
  },
  {
   "cell_type": "code",
   "execution_count": 18,
   "metadata": {},
   "outputs": [
    {
     "data": {
      "text/plain": [
       "288"
      ]
     },
     "execution_count": 18,
     "metadata": {},
     "output_type": "execute_result"
    }
   ],
   "source": [
    "C.order()"
   ]
  },
  {
   "cell_type": "code",
   "execution_count": 19,
   "metadata": {},
   "outputs": [],
   "source": [
    "# https://ask.sagemath.org/question/9976/elliptic-curves/\n",
    "#     ini yg gede banget p^163... real..."
   ]
  },
  {
   "cell_type": "code",
   "execution_count": 20,
   "metadata": {},
   "outputs": [
    {
     "data": {
      "text/plain": [
       "[(0 : 1 : 0),\n",
       " (0 : 1 : 1),\n",
       " (1 : z^5 + z^3 + z^2 : 1),\n",
       " (1 : z^5 + z^3 + z^2 + 1 : 1),\n",
       " (z + 1 : z^6 + z^4 + z^2 + 1 : 1),\n",
       " (z + 1 : z^6 + z^4 + z^2 + z : 1),\n",
       " (z^2 + 1 : z^7 + z^6 + z^5 + z^4 + 1 : 1),\n",
       " (z^2 + 1 : z^7 + z^6 + z^5 + z^4 + z^2 : 1),\n",
       " (z^3 : z^7 + z^6 + z^2 : 1),\n",
       " (z^3 : z^7 + z^6 + z^3 + z^2 : 1),\n",
       " (z^3 + 1 : z^7 + z^6 + z^4 + z^2 + z : 1),\n",
       " (z^3 + 1 : z^7 + z^6 + z^4 + z^3 + z^2 + z + 1 : 1),\n",
       " (z^3 + z^2 : z^6 + z^5 + z^4 + z^2 + z + 1 : 1),\n",
       " (z^3 + z^2 : z^6 + z^5 + z^4 + z^3 + z + 1 : 1),\n",
       " (z^3 + z^2 + 1 : z^6 + z^5 + z^4 + 1 : 1),\n",
       " (z^3 + z^2 + 1 : z^6 + z^5 + z^4 + z^3 + z^2 : 1),\n",
       " (z^3 + z^2 + z : z^5 + z^4 + 1 : 1),\n",
       " (z^3 + z^2 + z : z^5 + z^4 + z^3 + z^2 + z + 1 : 1),\n",
       " (z^4 + 1 : z^6 + z^3 + z^2 : 1),\n",
       " (z^4 + 1 : z^6 + z^4 + z^3 + z^2 + 1 : 1),\n",
       " (z^4 + z : z^6 + z^2 + z : 1),\n",
       " (z^4 + z : z^6 + z^4 + z^2 : 1),\n",
       " (z^4 + z + 1 : z^7 + z^3 + z : 1),\n",
       " (z^4 + z + 1 : z^7 + z^4 + z^3 + 1 : 1),\n",
       " (z^4 + z^2 + z + 1 : z^7 + z^3 + z + 1 : 1),\n",
       " (z^4 + z^2 + z + 1 : z^7 + z^4 + z^3 + z^2 : 1),\n",
       " (z^4 + z^3 : z^7 + z^5 + z^3 : 1),\n",
       " (z^4 + z^3 : z^7 + z^5 + z^4 : 1),\n",
       " (z^4 + z^3 + z : z^6 : 1),\n",
       " (z^4 + z^3 + z : z^6 + z^4 + z^3 + z : 1),\n",
       " (z^4 + z^3 + z^2 : z^7 + z^5 + z^3 + z + 1 : 1),\n",
       " (z^4 + z^3 + z^2 : z^7 + z^5 + z^4 + z^2 + z + 1 : 1),\n",
       " (z^4 + z^3 + z^2 + 1 : z^6 + z^3 + 1 : 1),\n",
       " (z^4 + z^3 + z^2 + 1 : z^6 + z^4 + z^2 : 1),\n",
       " (z^4 + z^3 + z^2 + z : z^5 + z^2 + 1 : 1),\n",
       " (z^4 + z^3 + z^2 + z : z^5 + z^4 + z^3 + z + 1 : 1),\n",
       " (z^4 + z^3 + z^2 + z + 1 : z^6 + z^3 + z + 1 : 1),\n",
       " (z^4 + z^3 + z^2 + z + 1 : z^6 + z^4 + z^2 : 1),\n",
       " (z^5 : z^6 + z^4 + z^3 + z^2 + 1 : 1),\n",
       " (z^5 : z^6 + z^5 + z^4 + z^3 + z^2 + 1 : 1),\n",
       " (z^5 + 1 : z^6 + z^4 + z^3 + z^2 + 1 : 1),\n",
       " (z^5 + 1 : z^6 + z^5 + z^4 + z^3 + z^2 : 1),\n",
       " (z^5 + z^2 + z + 1 : z^7 + z^6 + z^3 + z : 1),\n",
       " (z^5 + z^2 + z + 1 : z^7 + z^6 + z^5 + z^3 + z^2 + 1 : 1),\n",
       " (z^5 + z^3 : z^4 + z^3 + z^2 + z + 1 : 1),\n",
       " (z^5 + z^3 : z^5 + z^4 + z^2 + z + 1 : 1),\n",
       " (z^5 + z^3 + z : z^7 + z^4 : 1),\n",
       " (z^5 + z^3 + z : z^7 + z^5 + z^4 + z^3 + z : 1),\n",
       " (z^5 + z^3 + z^2 : z^7 + z^4 + z^2 : 1),\n",
       " (z^5 + z^3 + z^2 : z^7 + z^5 + z^4 + z^3 : 1),\n",
       " (z^5 + z^3 + z^2 + z + 1 : z^3 + z^2 + 1 : 1),\n",
       " (z^5 + z^3 + z^2 + z + 1 : z^5 + z : 1),\n",
       " (z^5 + z^4 : z^4 + z + 1 : 1),\n",
       " (z^5 + z^4 : z^5 + z + 1 : 1),\n",
       " (z^5 + z^4 + z : z^4 + z^3 + z^2 : 1),\n",
       " (z^5 + z^4 + z : z^5 + z^3 + z^2 + z : 1),\n",
       " (z^5 + z^4 + z + 1 : z^6 + z^4 + z^2 + z + 1 : 1),\n",
       " (z^5 + z^4 + z + 1 : z^6 + z^5 + z^2 : 1),\n",
       " (z^5 + z^4 + z^2 + 1 : z^7 + z^4 + z^3 + z + 1 : 1),\n",
       " (z^5 + z^4 + z^2 + 1 : z^7 + z^5 + z^3 + z^2 + z : 1),\n",
       " (z^5 + z^4 + z^2 + z : z^6 : 1),\n",
       " (z^5 + z^4 + z^2 + z : z^6 + z^5 + z^4 + z^2 + z : 1),\n",
       " (z^5 + z^4 + z^3 + 1 : z^7 + z^6 + z^4 + z^2 + 1 : 1),\n",
       " (z^5 + z^4 + z^3 + 1 : z^7 + z^6 + z^5 + z^3 + z^2 : 1),\n",
       " (z^5 + z^4 + z^3 + z : z^4 + z^3 + z^2 + 1 : 1),\n",
       " (z^5 + z^4 + z^3 + z : z^5 + z^2 + z + 1 : 1),\n",
       " (z^5 + z^4 + z^3 + z + 1 : z^2 + 1 : 1),\n",
       " (z^5 + z^4 + z^3 + z + 1 : z^5 + z^4 + z^3 + z^2 + z : 1),\n",
       " (z^5 + z^4 + z^3 + z^2 : z^6 : 1),\n",
       " (z^5 + z^4 + z^3 + z^2 : z^6 + z^5 + z^4 + z^3 + z^2 : 1),\n",
       " (z^6 : z^3 + z^2 + 1 : 1),\n",
       " (z^6 : z^6 + z^3 + z^2 + 1 : 1),\n",
       " (z^6 + 1 : z + 1 : 1),\n",
       " (z^6 + 1 : z^6 + z : 1),\n",
       " (z^6 + z^2 + z : z^5 + z^4 + z^2 + z + 1 : 1),\n",
       " (z^6 + z^2 + z : z^6 + z^5 + z^4 + 1 : 1),\n",
       " (z^6 + z^3 : z^7 + z^5 + z^2 + z + 1 : 1),\n",
       " (z^6 + z^3 : z^7 + z^6 + z^5 + z^3 + z^2 + z + 1 : 1),\n",
       " (z^6 + z^3 + z : z^5 + z^2 + z : 1),\n",
       " (z^6 + z^3 + z : z^6 + z^5 + z^3 + z^2 : 1),\n",
       " (z^6 + z^3 + z + 1 : z^5 + z^2 : 1),\n",
       " (z^6 + z^3 + z + 1 : z^6 + z^5 + z^3 + z^2 + z + 1 : 1),\n",
       " (z^6 + z^3 + z^2 : z^7 + z^5 + z^2 + 1 : 1),\n",
       " (z^6 + z^3 + z^2 : z^7 + z^6 + z^5 + z^3 + 1 : 1),\n",
       " (z^6 + z^3 + z^2 + z : z^5 + z^3 + z^2 : 1),\n",
       " (z^6 + z^3 + z^2 + z : z^6 + z^5 + z : 1),\n",
       " (z^6 + z^3 + z^2 + z + 1 : z^7 + z^5 + z^3 + z^2 + z : 1),\n",
       " (z^6 + z^3 + z^2 + z + 1 : z^7 + z^6 + z^5 + 1 : 1),\n",
       " (z^6 + z^4 : z^7 + z^5 + z^4 + z^3 + z^2 + z : 1),\n",
       " (z^6 + z^4 : z^7 + z^6 + z^5 + z^3 + z^2 + z : 1),\n",
       " (z^6 + z^4 + 1 : z^7 + z^5 + z^4 + z^3 + z : 1),\n",
       " (z^6 + z^4 + 1 : z^7 + z^6 + z^5 + z^3 + z + 1 : 1),\n",
       " (z^6 + z^4 + z : z^7 + z^5 + z^3 + z : 1),\n",
       " (z^6 + z^4 + z : z^7 + z^6 + z^5 + z^4 + z^3 : 1),\n",
       " (z^6 + z^4 + z^2 : z^4 + z^2 + 1 : 1),\n",
       " (z^6 + z^4 + z^2 : z^6 + 1 : 1),\n",
       " (z^6 + z^4 + z^2 + z + 1 : z^3 + z^2 : 1),\n",
       " (z^6 + z^4 + z^2 + z + 1 : z^6 + z^4 + z^3 + z + 1 : 1),\n",
       " (z^6 + z^4 + z^3 : z^7 + z^5 + z^4 + z^3 + z^2 + 1 : 1),\n",
       " (z^6 + z^4 + z^3 : z^7 + z^6 + z^5 + z^2 + 1 : 1),\n",
       " (z^6 + z^4 + z^3 + z + 1 : z^5 + z^3 + z : 1),\n",
       " (z^6 + z^4 + z^3 + z + 1 : z^6 + z^5 + z^4 + 1 : 1),\n",
       " (z^6 + z^4 + z^3 + z^2 : z^7 + z^4 + z^3 + z : 1),\n",
       " (z^6 + z^4 + z^3 + z^2 : z^7 + z^6 + z^2 + z : 1),\n",
       " (z^6 + z^4 + z^3 + z^2 + 1 : z^4 + z^3 + 1 : 1),\n",
       " (z^6 + z^4 + z^3 + z^2 + 1 : z^6 + z^2 : 1),\n",
       " (z^6 + z^4 + z^3 + z^2 + z + 1 : z^5 + z^3 + z^2 : 1),\n",
       " (z^6 + z^4 + z^3 + z^2 + z + 1 : z^6 + z^5 + z^4 + z + 1 : 1),\n",
       " (z^6 + z^5 + z + 1 : z^7 + z^5 + z : 1),\n",
       " (z^6 + z^5 + z + 1 : z^7 + z^6 + 1 : 1),\n",
       " (z^6 + z^5 + z^2 + z : z^7 + z^4 + z^3 : 1),\n",
       " (z^6 + z^5 + z^2 + z : z^7 + z^6 + z^5 + z^4 + z^3 + z^2 + z : 1),\n",
       " (z^6 + z^5 + z^3 + z : z^7 + z^5 + z^3 + z^2 + z : 1),\n",
       " (z^6 + z^5 + z^3 + z : z^7 + z^6 + z^2 : 1),\n",
       " (z^6 + z^5 + z^3 + z + 1 : z^7 + z^5 + z^4 + z^3 + z : 1),\n",
       " (z^6 + z^5 + z^3 + z + 1 : z^7 + z^6 + z^4 + 1 : 1),\n",
       " (z^6 + z^5 + z^3 + z^2 : z^4 + z^2 + z + 1 : 1),\n",
       " (z^6 + z^5 + z^3 + z^2 : z^6 + z^5 + z^4 + z^3 + z + 1 : 1),\n",
       " (z^6 + z^5 + z^3 + z^2 + 1 : z^2 + z : 1),\n",
       " (z^6 + z^5 + z^3 + z^2 + 1 : z^6 + z^5 + z^3 + z + 1 : 1),\n",
       " (z^6 + z^5 + z^3 + z^2 + z : z^7 + z^4 + z^3 + z^2 + 1 : 1),\n",
       " (z^6 + z^5 + z^3 + z^2 + z : z^7 + z^6 + z^5 + z^4 + z + 1 : 1),\n",
       " (z^6 + z^5 + z^3 + z^2 + z + 1 : z^4 : 1),\n",
       " (z^6 + z^5 + z^3 + z^2 + z + 1 : z^6 + z^5 + z^4 + z^3 + z^2 + z + 1 : 1),\n",
       " (z^6 + z^5 + z^4 : z^3 + z + 1 : 1),\n",
       " (z^6 + z^5 + z^4 : z^6 + z^5 + z^4 + z^3 + z + 1 : 1),\n",
       " (z^6 + z^5 + z^4 + z : z^7 + z^5 + z^4 + z^2 + z : 1),\n",
       " (z^6 + z^5 + z^4 + z : z^7 + z^6 + z^2 : 1),\n",
       " (z^6 + z^5 + z^4 + z + 1 : z^5 + z^4 + z^3 + z : 1),\n",
       " (z^6 + z^5 + z^4 + z + 1 : z^6 + z^3 + 1 : 1),\n",
       " (z^6 + z^5 + z^4 + z^2 + z + 1 : z^5 + z^3 + z^2 + z + 1 : 1),\n",
       " (z^6 + z^5 + z^4 + z^2 + z + 1 : z^6 + z^4 + z^3 : 1),\n",
       " (z^6 + z^5 + z^4 + z^3 + 1 : z^7 + z^5 + z^2 : 1),\n",
       " (z^6 + z^5 + z^4 + z^3 + 1 : z^7 + z^6 + z^4 + z^3 + z^2 + 1 : 1),\n",
       " (z^6 + z^5 + z^4 + z^3 + z : z^7 + z^5 + z^4 + z + 1 : 1),\n",
       " (z^6 + z^5 + z^4 + z^3 + z : z^7 + z^6 + z^3 + 1 : 1),\n",
       " (z^6 + z^5 + z^4 + z^3 + z^2 + z : z^5 + z^4 + z^2 + z + 1 : 1),\n",
       " (z^6 + z^5 + z^4 + z^3 + z^2 + z : z^6 + z^3 + 1 : 1),\n",
       " (z^6 + z^5 + z^4 + z^3 + z^2 + z + 1 : z^3 + z^2 + 1 : 1),\n",
       " (z^6 + z^5 + z^4 + z^3 + z^2 + z + 1 : z^6 + z^5 + z^4 + z : 1),\n",
       " (z^7 : z^4 + z^3 + z^2 + z + 1 : 1),\n",
       " (z^7 : z^7 + z^4 + z^3 + z^2 + z + 1 : 1),\n",
       " (z^7 + 1 : z^6 + z^5 + z : 1),\n",
       " (z^7 + 1 : z^7 + z^6 + z^5 + z + 1 : 1),\n",
       " (z^7 + z : z^6 + z^4 + 1 : 1),\n",
       " (z^7 + z : z^7 + z^6 + z^4 + z + 1 : 1),\n",
       " (z^7 + z + 1 : z^6 + z^3 + z : 1),\n",
       " (z^7 + z + 1 : z^7 + z^6 + z^3 + 1 : 1),\n",
       " (z^7 + z^2 : z^6 + z^5 + z^4 + z^2 + 1 : 1),\n",
       " (z^7 + z^2 : z^7 + z^6 + z^5 + z^4 + 1 : 1),\n",
       " (z^7 + z^2 + 1 : z^3 + z + 1 : 1),\n",
       " (z^7 + z^2 + 1 : z^7 + z^3 + z^2 + z : 1),\n",
       " (z^7 + z^3 : z^5 + z^4 + z^3 + z : 1),\n",
       " (z^7 + z^3 : z^7 + z^5 + z^4 + z : 1),\n",
       " (z^7 + z^3 + 1 : z^4 + z^3 + 1 : 1),\n",
       " (z^7 + z^3 + 1 : z^7 + z^4 : 1),\n",
       " (z^7 + z^3 + z : z^5 + z^4 + z^3 + z^2 + z + 1 : 1),\n",
       " (z^7 + z^3 + z : z^7 + z^5 + z^4 + z^2 + 1 : 1),\n",
       " (z^7 + z^3 + z + 1 : z^5 + z^3 + z^2 + 1 : 1),\n",
       " (z^7 + z^3 + z + 1 : z^7 + z^5 + z^2 + z : 1),\n",
       " (z^7 + z^4 : z^6 + 1 : 1),\n",
       " (z^7 + z^4 : z^7 + z^6 + z^4 + 1 : 1),\n",
       " (z^7 + z^4 + 1 : z^6 + z^5 : 1),\n",
       " (z^7 + z^4 + 1 : z^7 + z^6 + z^5 + z^4 + 1 : 1),\n",
       " (z^7 + z^4 + z : z^6 + z^5 + z^3 + z : 1),\n",
       " (z^7 + z^4 + z : z^7 + z^6 + z^5 + z^4 + z^3 : 1),\n",
       " (z^7 + z^4 + z + 1 : z^5 + z + 1 : 1),\n",
       " (z^7 + z^4 + z + 1 : z^7 + z^5 + z^4 : 1),\n",
       " (z^7 + z^4 + z^2 : z^5 + z^4 + z^3 + z^2 + z + 1 : 1),\n",
       " (z^7 + z^4 + z^2 : z^7 + z^5 + z^3 + z + 1 : 1),\n",
       " (z^7 + z^4 + z^2 + 1 : z^6 + z^5 + z^3 + z + 1 : 1),\n",
       " (z^7 + z^4 + z^2 + 1 : z^7 + z^6 + z^5 + z^4 + z^3 + z^2 + z : 1),\n",
       " (z^7 + z^4 + z^2 + z : z^5 + 1 : 1),\n",
       " (z^7 + z^4 + z^2 + z : z^7 + z^5 + z^4 + z^2 + z + 1 : 1),\n",
       " (z^7 + z^4 + z^2 + z + 1 : z^5 + z^3 + z : 1),\n",
       " (z^7 + z^4 + z^2 + z + 1 : z^7 + z^5 + z^4 + z^3 + z^2 + 1 : 1),\n",
       " (z^7 + z^4 + z^3 : z^5 + z^4 + z + 1 : 1),\n",
       " (z^7 + z^4 + z^3 : z^7 + z^5 + z^3 + z + 1 : 1),\n",
       " (z^7 + z^4 + z^3 + z : z^5 + z^3 + z^2 + 1 : 1),\n",
       " (z^7 + z^4 + z^3 + z : z^7 + z^5 + z^4 + z^2 + z + 1 : 1),\n",
       " (z^7 + z^4 + z^3 + z + 1 : z^5 + z^3 + z + 1 : 1),\n",
       " (z^7 + z^4 + z^3 + z + 1 : z^7 + z^5 + z^4 : 1),\n",
       " (z^7 + z^4 + z^3 + z^2 + 1 : z^6 + z^5 + z^3 : 1),\n",
       " (z^7 + z^4 + z^3 + z^2 + 1 : z^7 + z^6 + z^5 + z^4 + z^2 + 1 : 1),\n",
       " (z^7 + z^4 + z^3 + z^2 + z : z^3 + z^2 : 1),\n",
       " (z^7 + z^4 + z^3 + z^2 + z : z^7 + z^4 + z : 1),\n",
       " (z^7 + z^4 + z^3 + z^2 + z + 1 : z^6 + z + 1 : 1),\n",
       " (z^7 + z^4 + z^3 + z^2 + z + 1 : z^7 + z^6 + z^4 + z^3 + z^2 : 1),\n",
       " (z^7 + z^5 : z^6 + z^2 : 1),\n",
       " (z^7 + z^5 : z^7 + z^6 + z^5 + z^2 : 1),\n",
       " (z^7 + z^5 + z^2 + 1 : z^6 + z^3 + z + 1 : 1),\n",
       " (z^7 + z^5 + z^2 + 1 : z^7 + z^6 + z^5 + z^3 + z^2 + z : 1),\n",
       " (z^7 + z^5 + z^2 + z + 1 : z^6 + z : 1),\n",
       " (z^7 + z^5 + z^2 + z + 1 : z^7 + z^6 + z^5 + z^2 + 1 : 1),\n",
       " (z^7 + z^5 + z^3 + z : z^6 + z^3 + z + 1 : 1),\n",
       " (z^7 + z^5 + z^3 + z : z^7 + z^6 + z^5 + 1 : 1),\n",
       " (z^7 + z^5 + z^3 + z + 1 : z^3 + z^2 + z + 1 : 1),\n",
       " (z^7 + z^5 + z^3 + z + 1 : z^7 + z^5 + z^2 : 1),\n",
       " (z^7 + z^5 + z^3 + z^2 + 1 : z^6 + z^5 + z^4 : 1),\n",
       " (z^7 + z^5 + z^3 + z^2 + 1 : z^7 + z^6 + z^4 + z^3 + z^2 + 1 : 1),\n",
       " (z^7 + z^5 + z^4 : z^6 + z^3 + z^2 : 1),\n",
       " (z^7 + z^5 + z^4 : z^7 + z^6 + z^5 + z^4 + z^3 + z^2 : 1),\n",
       " (z^7 + z^5 + z^4 + 1 : z^6 + z^3 + z^2 : 1),\n",
       " (z^7 + z^5 + z^4 + 1 : z^7 + z^6 + z^5 + z^4 + z^3 + z^2 + 1 : 1),\n",
       " (z^7 + z^5 + z^4 + z : z^5 + z^4 + z^3 + z + 1 : 1),\n",
       " (z^7 + z^5 + z^4 + z : z^7 + z^3 + 1 : 1),\n",
       " (z^7 + z^5 + z^4 + z + 1 : z^5 + z + 1 : 1),\n",
       " (z^7 + z^5 + z^4 + z + 1 : z^7 + z^4 : 1),\n",
       " (z^7 + z^5 + z^4 + z^2 : z^2 + z + 1 : 1),\n",
       " (z^7 + z^5 + z^4 + z^2 : z^7 + z^5 + z^4 + z + 1 : 1),\n",
       " (z^7 + z^5 + z^4 + z^3 : z^4 + z^3 + z^2 + z + 1 : 1),\n",
       " (z^7 + z^5 + z^4 + z^3 : z^7 + z^5 + z^2 + z + 1 : 1),\n",
       " (z^7 + z^5 + z^4 + z^3 + z^2 : z^5 + z^4 + z^3 + z + 1 : 1),\n",
       " (z^7 + z^5 + z^4 + z^3 + z^2 : z^7 + z^2 + z + 1 : 1),\n",
       " (z^7 + z^5 + z^4 + z^3 + z^2 + 1 : z^4 + z^2 + z + 1 : 1),\n",
       " (z^7 + z^5 + z^4 + z^3 + z^2 + 1 : z^7 + z^5 + z^3 + z : 1),\n",
       " (z^7 + z^5 + z^4 + z^3 + z^2 + z + 1 : z^6 + z^5 + z^2 + z + 1 : 1),\n",
       " (z^7 + z^5 + z^4 + z^3 + z^2 + z + 1 : z^7 + z^6 + z^4 + z^3 : 1),\n",
       " (z^7 + z^6 + 1 : z^4 + z^2 + z + 1 : 1),\n",
       " (z^7 + z^6 + 1 : z^7 + z^6 + z^4 + z^2 + z : 1),\n",
       " (z^7 + z^6 + z : z^6 + z^5 + z^2 + z : 1),\n",
       " (z^7 + z^6 + z : z^7 + z^5 + z^2 : 1),\n",
       " (z^7 + z^6 + z^2 : z^4 + z^3 + 1 : 1),\n",
       " (z^7 + z^6 + z^2 : z^7 + z^6 + z^4 + z^3 + z^2 + 1 : 1),\n",
       " (z^7 + z^6 + z^2 + 1 : z^4 + z^3 + z^2 : 1),\n",
       " (z^7 + z^6 + z^2 + 1 : z^7 + z^6 + z^4 + z^3 + 1 : 1),\n",
       " (z^7 + z^6 + z^3 + 1 : z^4 + z^3 + z^2 + 1 : 1),\n",
       " (z^7 + z^6 + z^3 + 1 : z^7 + z^6 + z^4 + z^2 : 1),\n",
       " (z^7 + z^6 + z^4 : z^5 + z^3 : 1),\n",
       " (z^7 + z^6 + z^4 : z^7 + z^6 + z^5 + z^4 + z^3 : 1),\n",
       " (z^7 + z^6 + z^4 + z + 1 : z^6 + z^4 + z^3 + z^2 + z : 1),\n",
       " (z^7 + z^6 + z^4 + z + 1 : z^7 + z^3 + z^2 + 1 : 1),\n",
       " (z^7 + z^6 + z^4 + z^2 : z^6 + 1 : 1),\n",
       " (z^7 + z^6 + z^4 + z^2 : z^7 + z^4 + z^2 + 1 : 1),\n",
       " (z^7 + z^6 + z^4 + z^2 + 1 : z^6 + z^5 + z^4 + z^3 + z : 1),\n",
       " (z^7 + z^6 + z^4 + z^2 + 1 : z^7 + z^5 + z^3 + z^2 + z + 1 : 1),\n",
       " (z^7 + z^6 + z^4 + z^3 : z^3 + z^2 + z : 1),\n",
       " (z^7 + z^6 + z^4 + z^3 : z^7 + z^6 + z^4 + z^2 + z : 1),\n",
       " (z^7 + z^6 + z^4 + z^3 + 1 : z^3 + z^2 : 1),\n",
       " (z^7 + z^6 + z^4 + z^3 + 1 : z^7 + z^6 + z^4 + z^2 + 1 : 1),\n",
       " (z^7 + z^6 + z^4 + z^3 + z : z^5 + z^4 + z^3 + z^2 : 1),\n",
       " (z^7 + z^6 + z^4 + z^3 + z : z^7 + z^6 + z^5 + z^2 + z : 1),\n",
       " (z^7 + z^6 + z^4 + z^3 + z + 1 : z^6 + z^2 + 1 : 1),\n",
       " (z^7 + z^6 + z^4 + z^3 + z + 1 : z^7 + z^4 + z^3 + z^2 + z : 1),\n",
       " (z^7 + z^6 + z^4 + z^3 + z^2 : z^5 + z^3 + z : 1),\n",
       " (z^7 + z^6 + z^4 + z^3 + z^2 : z^7 + z^6 + z^5 + z^4 + z^2 + z : 1),\n",
       " (z^7 + z^6 + z^4 + z^3 + z^2 + z : z^6 + z^5 + z^3 + z^2 + 1 : 1),\n",
       " (z^7 + z^6 + z^4 + z^3 + z^2 + z : z^7 + z^5 + z^4 + z + 1 : 1),\n",
       " (z^7 + z^6 + z^4 + z^3 + z^2 + z + 1 : z^6 + z^5 + z : 1),\n",
       " (z^7 + z^6 + z^4 + z^3 + z^2 + z + 1 : z^7 + z^5 + z^4 + z^3 + z^2 + 1 : 1),\n",
       " (z^7 + z^6 + z^5 : z^6 + z^2 + z + 1 : 1),\n",
       " (z^7 + z^6 + z^5 : z^7 + z^5 + z^2 + z + 1 : 1),\n",
       " (z^7 + z^6 + z^5 + 1 : z^5 + z^3 + 1 : 1),\n",
       " (z^7 + z^6 + z^5 + 1 : z^7 + z^6 + z^3 : 1),\n",
       " (z^7 + z^6 + z^5 + z + 1 : z^4 + z^3 + z^2 + 1 : 1),\n",
       " (z^7 + z^6 + z^5 + z + 1 : z^7 + z^6 + z^5 + z^4 + z^3 + z^2 + z : 1),\n",
       " (z^7 + z^6 + z^5 + z^2 + 1 : z^3 + z + 1 : 1),\n",
       " (z^7 + z^6 + z^5 + z^2 + 1 : z^7 + z^6 + z^5 + z^3 + z^2 + z : 1),\n",
       " (z^7 + z^6 + z^5 + z^2 + z + 1 : z^4 + z^3 + z^2 : 1),\n",
       " (z^7 + z^6 + z^5 + z^2 + z + 1 : z^7 + z^6 + z^5 + z^4 + z^3 + z + 1 : 1),\n",
       " (z^7 + z^6 + z^5 + z^3 : z^6 + z^5 + z^3 + z + 1 : 1),\n",
       " (z^7 + z^6 + z^5 + z^3 : z^7 + z + 1 : 1),\n",
       " (z^7 + z^6 + z^5 + z^3 + 1 : z^5 : 1),\n",
       " (z^7 + z^6 + z^5 + z^3 + 1 : z^7 + z^6 + z^3 + 1 : 1),\n",
       " (z^7 + z^6 + z^5 + z^3 + z + 1 : z^5 + z^4 + z^3 + z : 1),\n",
       " (z^7 + z^6 + z^5 + z^3 + z + 1 : z^7 + z^6 + z^4 + 1 : 1),\n",
       " (z^7 + z^6 + z^5 + z^3 + z^2 : z^6 + z^4 + z^2 + 1 : 1),\n",
       " (z^7 + z^6 + z^5 + z^3 + z^2 : z^7 + z^5 + z^4 + z^3 + 1 : 1),\n",
       " (z^7 + z^6 + z^5 + z^3 + z^2 + 1 : z^6 + z^2 : 1),\n",
       " (z^7 + z^6 + z^5 + z^3 + z^2 + 1 : z^7 + z^5 + z^3 + 1 : 1),\n",
       " (z^7 + z^6 + z^5 + z^3 + z^2 + z : z^4 + z^3 + z^2 + z : 1),\n",
       " (z^7 + z^6 + z^5 + z^3 + z^2 + z : z^7 + z^6 + z^5 + z^4 : 1),\n",
       " (z^7 + z^6 + z^5 + z^3 + z^2 + z + 1 : z^3 + z : 1),\n",
       " (z^7 + z^6 + z^5 + z^3 + z^2 + z + 1 : z^7 + z^6 + z^5 + z^2 + 1 : 1),\n",
       " (z^7 + z^6 + z^5 + z^4 : z^5 + z^2 + 1 : 1),\n",
       " (z^7 + z^6 + z^5 + z^4 : z^7 + z^6 + z^4 + z^2 + 1 : 1),\n",
       " (z^7 + z^6 + z^5 + z^4 + z^2 + 1 : z^4 + z^2 : 1),\n",
       " (z^7 + z^6 + z^5 + z^4 + z^2 + 1 : z^7 + z^6 + z^5 + 1 : 1),\n",
       " (z^7 + z^6 + z^5 + z^4 + z^2 + z : z^6 + z : 1),\n",
       " (z^7 + z^6 + z^5 + z^4 + z^2 + z : z^7 + z^5 + z^4 + z^2 : 1),\n",
       " (z^7 + z^6 + z^5 + z^4 + z^3 + z + 1 : z^5 + z^4 + z^2 + 1 : 1),\n",
       " (z^7 + z^6 + z^5 + z^4 + z^3 + z + 1 : z^7 + z^6 + z^3 + z^2 + z : 1),\n",
       " (z^7 + z^6 + z^5 + z^4 + z^3 + z^2 + 1 : z^6 + z^4 + z^3 + z^2 : 1),\n",
       " (z^7 + z^6 + z^5 + z^4 + z^3 + z^2 + 1 : z^7 + z^5 + 1 : 1),\n",
       " (z^7 + z^6 + z^5 + z^4 + z^3 + z^2 + z : z^5 + z^2 + 1 : 1),\n",
       " (z^7 + z^6 + z^5 + z^4 + z^3 + z^2 + z : z^7 + z^6 + z^4 + z^3 + z + 1 : 1),\n",
       " (z^7 + z^6 + z^5 + z^4 + z^3 + z^2 + z + 1 : z^6 + z^4 + z^2 + 1 : 1),\n",
       " (z^7 + z^6 + z^5 + z^4 + z^3 + z^2 + z + 1 : z^7 + z^5 + z^3 + z : 1)]"
      ]
     },
     "execution_count": 20,
     "metadata": {},
     "output_type": "execute_result"
    }
   ],
   "source": [
    "# G = C.point(()) \n",
    "pts = [p for p in C.points()] #AAAh ada 16 sedangkan di certicom 15, karena 1nya (pts[0]) itu point at infinity!!\n",
    "pts"
   ]
  },
  {
   "cell_type": "code",
   "execution_count": 21,
   "metadata": {},
   "outputs": [
    {
     "data": {
      "text/plain": [
       "(z^6 + z^3 + z^2 + z + 1 : z^7 + z^6 + z^5 + 1 : 1)"
      ]
     },
     "execution_count": 21,
     "metadata": {},
     "output_type": "execute_result"
    }
   ],
   "source": [
    "pts[5]+pts[3]"
   ]
  },
  {
   "cell_type": "code",
   "execution_count": 22,
   "metadata": {},
   "outputs": [
    {
     "data": {
      "text/plain": [
       "((z^7 + z^6 + z^4 + z^3 + z + 1 : z^6 + z^2 + 1 : 1),\n",
       " (z^6 + z^5 + z^3 + z^2 : z^6 + z^5 + z^4 + z^3 + z + 1 : 1))"
      ]
     },
     "execution_count": 22,
     "metadata": {},
     "output_type": "execute_result"
    }
   ],
   "source": [
    "C.gens() #For extension fields, the generator is obtained with the .gen() function. \n",
    "#nilai ini ga berubah2, artinya memang dia ya yg memenuhi?"
   ]
  },
  {
   "cell_type": "code",
   "execution_count": 23,
   "metadata": {},
   "outputs": [
    {
     "data": {
      "text/plain": [
       "(z^6 + z^4 + z^2 + z + 1 : z^3 + z^2 : 1)"
      ]
     },
     "execution_count": 23,
     "metadata": {},
     "output_type": "execute_result"
    }
   ],
   "source": [
    "pts[5]+pts[5] #point addition"
   ]
  },
  {
   "cell_type": "code",
   "execution_count": 24,
   "metadata": {},
   "outputs": [
    {
     "data": {
      "text/plain": [
       "(z^6 + z^4 + z^2 + z + 1 : z^3 + z^2 : 1)"
      ]
     },
     "execution_count": 24,
     "metadata": {},
     "output_type": "execute_result"
    }
   ],
   "source": [
    "2*(pts[5]) #doubling"
   ]
  },
  {
   "cell_type": "code",
   "execution_count": 25,
   "metadata": {},
   "outputs": [
    {
     "data": {
      "text/plain": [
       "((1 : z^5 + z^3 + z^2 : 1), (1 : z^5 + z^3 + z^2 + 1 : 1), (0 : 1 : 0))"
      ]
     },
     "execution_count": 25,
     "metadata": {},
     "output_type": "execute_result"
    }
   ],
   "source": [
    "#misal, titik yg mau ditambah:\n",
    "pts[2], pts[3], pts[2]+pts[3] #ups jadi point at inf, ganti yuuu"
   ]
  },
  {
   "cell_type": "code",
   "execution_count": 26,
   "metadata": {},
   "outputs": [
    {
     "data": {
      "text/plain": [
       "((0 : 1 : 1), (1 : z^5 + z^3 + z^2 : 1), (1 : z^5 + z^3 + z^2 + 1 : 1))"
      ]
     },
     "execution_count": 26,
     "metadata": {},
     "output_type": "execute_result"
    }
   ],
   "source": [
    "pts[1], pts[2], pts[1]+pts[2] # ini enak kayanya bucat diplot di QC? cek requirement \n",
    "#P(x1, y1)= (0,1), Q(x2, y2) = (1, z^3 + z^2), R = (1, z^3 + z^2 + 1) --> so far masih sesuai syarat sih, x1 != x2. Dan yg ditambahin, si const pake yg agak rebek biar ga terlalu trivial.. gt? "
   ]
  },
  {
   "cell_type": "code",
   "execution_count": 27,
   "metadata": {},
   "outputs": [],
   "source": [
    "#fail\n",
    "# plot(pts[1]) #gabisa diplot karena yaa polynom. That's why si certicom dibuat g^0 g^1 dkk, biar representingnya enak!(kayanya)"
   ]
  },
  {
   "cell_type": "code",
   "execution_count": 28,
   "metadata": {},
   "outputs": [
    {
     "data": {
      "text/plain": [
       "(1 : z^5 + z^3 + z^2 : 1)"
      ]
     },
     "execution_count": 28,
     "metadata": {},
     "output_type": "execute_result"
    }
   ],
   "source": [
    "pts[2]"
   ]
  },
  {
   "cell_type": "code",
   "execution_count": 29,
   "metadata": {},
   "outputs": [
    {
     "data": {
      "text/plain": [
       "<class 'sage.schemes.elliptic_curves.ell_point.EllipticCurvePoint_finite_field'>"
      ]
     },
     "execution_count": 29,
     "metadata": {},
     "output_type": "execute_result"
    }
   ],
   "source": [
    "type(pts[2])"
   ]
  },
  {
   "cell_type": "code",
   "execution_count": 30,
   "metadata": {},
   "outputs": [
    {
     "data": {
      "text/plain": [
       "(z^5 + z^3 + z^2 + 1, 0)"
      ]
     },
     "execution_count": 30,
     "metadata": {},
     "output_type": "execute_result"
    }
   ],
   "source": [
    "pts[2][1]+pts[1][1], pts[2][1]+pts[2][1]"
   ]
  },
  {
   "cell_type": "code",
   "execution_count": 31,
   "metadata": {},
   "outputs": [
    {
     "data": {
      "text/plain": [
       "z^5 + z^3 + z^2"
      ]
     },
     "execution_count": 31,
     "metadata": {},
     "output_type": "execute_result"
    }
   ],
   "source": [
    "pts[2][1]"
   ]
  },
  {
   "cell_type": "code",
   "execution_count": 32,
   "metadata": {},
   "outputs": [
    {
     "data": {
      "text/plain": [
       "z^5 + z^3 + z^2"
      ]
     },
     "execution_count": 32,
     "metadata": {},
     "output_type": "execute_result"
    }
   ],
   "source": [
    "pts[2][1]\n"
   ]
  },
  {
   "cell_type": "code",
   "execution_count": 33,
   "metadata": {},
   "outputs": [
    {
     "data": {
      "text/plain": [
       "(z^7 + z^6 + z^3 + 1 : z^7 + z^6 + z^4 + z^2 : 1)"
      ]
     },
     "execution_count": 33,
     "metadata": {},
     "output_type": "execute_result"
    }
   ],
   "source": [
    "C.random_element()"
   ]
  },
  {
   "cell_type": "code",
   "execution_count": 34,
   "metadata": {},
   "outputs": [
    {
     "data": {
      "text/plain": [
       "[(0 : 1 : 0),\n",
       " (0 : 1 : 1),\n",
       " (1 : z^5 + z^3 + z^2 : 1),\n",
       " (1 : z^5 + z^3 + z^2 + 1 : 1),\n",
       " (z + 1 : z^6 + z^4 + z^2 + 1 : 1),\n",
       " (z + 1 : z^6 + z^4 + z^2 + z : 1),\n",
       " (z^2 + 1 : z^7 + z^6 + z^5 + z^4 + 1 : 1),\n",
       " (z^2 + 1 : z^7 + z^6 + z^5 + z^4 + z^2 : 1),\n",
       " (z^3 : z^7 + z^6 + z^2 : 1),\n",
       " (z^3 : z^7 + z^6 + z^3 + z^2 : 1),\n",
       " (z^3 + 1 : z^7 + z^6 + z^4 + z^2 + z : 1),\n",
       " (z^3 + 1 : z^7 + z^6 + z^4 + z^3 + z^2 + z + 1 : 1),\n",
       " (z^3 + z^2 : z^6 + z^5 + z^4 + z^2 + z + 1 : 1),\n",
       " (z^3 + z^2 : z^6 + z^5 + z^4 + z^3 + z + 1 : 1),\n",
       " (z^3 + z^2 + 1 : z^6 + z^5 + z^4 + 1 : 1),\n",
       " (z^3 + z^2 + 1 : z^6 + z^5 + z^4 + z^3 + z^2 : 1),\n",
       " (z^3 + z^2 + z : z^5 + z^4 + 1 : 1),\n",
       " (z^3 + z^2 + z : z^5 + z^4 + z^3 + z^2 + z + 1 : 1),\n",
       " (z^4 + 1 : z^6 + z^3 + z^2 : 1),\n",
       " (z^4 + 1 : z^6 + z^4 + z^3 + z^2 + 1 : 1),\n",
       " (z^4 + z : z^6 + z^2 + z : 1),\n",
       " (z^4 + z : z^6 + z^4 + z^2 : 1),\n",
       " (z^4 + z + 1 : z^7 + z^3 + z : 1),\n",
       " (z^4 + z + 1 : z^7 + z^4 + z^3 + 1 : 1),\n",
       " (z^4 + z^2 + z + 1 : z^7 + z^3 + z + 1 : 1),\n",
       " (z^4 + z^2 + z + 1 : z^7 + z^4 + z^3 + z^2 : 1),\n",
       " (z^4 + z^3 : z^7 + z^5 + z^3 : 1),\n",
       " (z^4 + z^3 : z^7 + z^5 + z^4 : 1),\n",
       " (z^4 + z^3 + z : z^6 : 1),\n",
       " (z^4 + z^3 + z : z^6 + z^4 + z^3 + z : 1),\n",
       " (z^4 + z^3 + z^2 : z^7 + z^5 + z^3 + z + 1 : 1),\n",
       " (z^4 + z^3 + z^2 : z^7 + z^5 + z^4 + z^2 + z + 1 : 1),\n",
       " (z^4 + z^3 + z^2 + 1 : z^6 + z^3 + 1 : 1),\n",
       " (z^4 + z^3 + z^2 + 1 : z^6 + z^4 + z^2 : 1),\n",
       " (z^4 + z^3 + z^2 + z : z^5 + z^2 + 1 : 1),\n",
       " (z^4 + z^3 + z^2 + z : z^5 + z^4 + z^3 + z + 1 : 1),\n",
       " (z^4 + z^3 + z^2 + z + 1 : z^6 + z^3 + z + 1 : 1),\n",
       " (z^4 + z^3 + z^2 + z + 1 : z^6 + z^4 + z^2 : 1),\n",
       " (z^5 : z^6 + z^4 + z^3 + z^2 + 1 : 1),\n",
       " (z^5 : z^6 + z^5 + z^4 + z^3 + z^2 + 1 : 1),\n",
       " (z^5 + 1 : z^6 + z^4 + z^3 + z^2 + 1 : 1),\n",
       " (z^5 + 1 : z^6 + z^5 + z^4 + z^3 + z^2 : 1),\n",
       " (z^5 + z^2 + z + 1 : z^7 + z^6 + z^3 + z : 1),\n",
       " (z^5 + z^2 + z + 1 : z^7 + z^6 + z^5 + z^3 + z^2 + 1 : 1),\n",
       " (z^5 + z^3 : z^4 + z^3 + z^2 + z + 1 : 1),\n",
       " (z^5 + z^3 : z^5 + z^4 + z^2 + z + 1 : 1),\n",
       " (z^5 + z^3 + z : z^7 + z^4 : 1),\n",
       " (z^5 + z^3 + z : z^7 + z^5 + z^4 + z^3 + z : 1),\n",
       " (z^5 + z^3 + z^2 : z^7 + z^4 + z^2 : 1),\n",
       " (z^5 + z^3 + z^2 : z^7 + z^5 + z^4 + z^3 : 1),\n",
       " (z^5 + z^3 + z^2 + z + 1 : z^3 + z^2 + 1 : 1),\n",
       " (z^5 + z^3 + z^2 + z + 1 : z^5 + z : 1),\n",
       " (z^5 + z^4 : z^4 + z + 1 : 1),\n",
       " (z^5 + z^4 : z^5 + z + 1 : 1),\n",
       " (z^5 + z^4 + z : z^4 + z^3 + z^2 : 1),\n",
       " (z^5 + z^4 + z : z^5 + z^3 + z^2 + z : 1),\n",
       " (z^5 + z^4 + z + 1 : z^6 + z^4 + z^2 + z + 1 : 1),\n",
       " (z^5 + z^4 + z + 1 : z^6 + z^5 + z^2 : 1),\n",
       " (z^5 + z^4 + z^2 + 1 : z^7 + z^4 + z^3 + z + 1 : 1),\n",
       " (z^5 + z^4 + z^2 + 1 : z^7 + z^5 + z^3 + z^2 + z : 1),\n",
       " (z^5 + z^4 + z^2 + z : z^6 : 1),\n",
       " (z^5 + z^4 + z^2 + z : z^6 + z^5 + z^4 + z^2 + z : 1),\n",
       " (z^5 + z^4 + z^3 + 1 : z^7 + z^6 + z^4 + z^2 + 1 : 1),\n",
       " (z^5 + z^4 + z^3 + 1 : z^7 + z^6 + z^5 + z^3 + z^2 : 1),\n",
       " (z^5 + z^4 + z^3 + z : z^4 + z^3 + z^2 + 1 : 1),\n",
       " (z^5 + z^4 + z^3 + z : z^5 + z^2 + z + 1 : 1),\n",
       " (z^5 + z^4 + z^3 + z + 1 : z^2 + 1 : 1),\n",
       " (z^5 + z^4 + z^3 + z + 1 : z^5 + z^4 + z^3 + z^2 + z : 1),\n",
       " (z^5 + z^4 + z^3 + z^2 : z^6 : 1),\n",
       " (z^5 + z^4 + z^3 + z^2 : z^6 + z^5 + z^4 + z^3 + z^2 : 1),\n",
       " (z^6 : z^3 + z^2 + 1 : 1),\n",
       " (z^6 : z^6 + z^3 + z^2 + 1 : 1),\n",
       " (z^6 + 1 : z + 1 : 1),\n",
       " (z^6 + 1 : z^6 + z : 1),\n",
       " (z^6 + z^2 + z : z^5 + z^4 + z^2 + z + 1 : 1),\n",
       " (z^6 + z^2 + z : z^6 + z^5 + z^4 + 1 : 1),\n",
       " (z^6 + z^3 : z^7 + z^5 + z^2 + z + 1 : 1),\n",
       " (z^6 + z^3 : z^7 + z^6 + z^5 + z^3 + z^2 + z + 1 : 1),\n",
       " (z^6 + z^3 + z : z^5 + z^2 + z : 1),\n",
       " (z^6 + z^3 + z : z^6 + z^5 + z^3 + z^2 : 1),\n",
       " (z^6 + z^3 + z + 1 : z^5 + z^2 : 1),\n",
       " (z^6 + z^3 + z + 1 : z^6 + z^5 + z^3 + z^2 + z + 1 : 1),\n",
       " (z^6 + z^3 + z^2 : z^7 + z^5 + z^2 + 1 : 1),\n",
       " (z^6 + z^3 + z^2 : z^7 + z^6 + z^5 + z^3 + 1 : 1),\n",
       " (z^6 + z^3 + z^2 + z : z^5 + z^3 + z^2 : 1),\n",
       " (z^6 + z^3 + z^2 + z : z^6 + z^5 + z : 1),\n",
       " (z^6 + z^3 + z^2 + z + 1 : z^7 + z^5 + z^3 + z^2 + z : 1),\n",
       " (z^6 + z^3 + z^2 + z + 1 : z^7 + z^6 + z^5 + 1 : 1),\n",
       " (z^6 + z^4 : z^7 + z^5 + z^4 + z^3 + z^2 + z : 1),\n",
       " (z^6 + z^4 : z^7 + z^6 + z^5 + z^3 + z^2 + z : 1),\n",
       " (z^6 + z^4 + 1 : z^7 + z^5 + z^4 + z^3 + z : 1),\n",
       " (z^6 + z^4 + 1 : z^7 + z^6 + z^5 + z^3 + z + 1 : 1),\n",
       " (z^6 + z^4 + z : z^7 + z^5 + z^3 + z : 1),\n",
       " (z^6 + z^4 + z : z^7 + z^6 + z^5 + z^4 + z^3 : 1),\n",
       " (z^6 + z^4 + z^2 : z^4 + z^2 + 1 : 1),\n",
       " (z^6 + z^4 + z^2 : z^6 + 1 : 1),\n",
       " (z^6 + z^4 + z^2 + z + 1 : z^3 + z^2 : 1),\n",
       " (z^6 + z^4 + z^2 + z + 1 : z^6 + z^4 + z^3 + z + 1 : 1),\n",
       " (z^6 + z^4 + z^3 : z^7 + z^5 + z^4 + z^3 + z^2 + 1 : 1),\n",
       " (z^6 + z^4 + z^3 : z^7 + z^6 + z^5 + z^2 + 1 : 1),\n",
       " (z^6 + z^4 + z^3 + z + 1 : z^5 + z^3 + z : 1),\n",
       " (z^6 + z^4 + z^3 + z + 1 : z^6 + z^5 + z^4 + 1 : 1),\n",
       " (z^6 + z^4 + z^3 + z^2 : z^7 + z^4 + z^3 + z : 1),\n",
       " (z^6 + z^4 + z^3 + z^2 : z^7 + z^6 + z^2 + z : 1),\n",
       " (z^6 + z^4 + z^3 + z^2 + 1 : z^4 + z^3 + 1 : 1),\n",
       " (z^6 + z^4 + z^3 + z^2 + 1 : z^6 + z^2 : 1),\n",
       " (z^6 + z^4 + z^3 + z^2 + z + 1 : z^5 + z^3 + z^2 : 1),\n",
       " (z^6 + z^4 + z^3 + z^2 + z + 1 : z^6 + z^5 + z^4 + z + 1 : 1),\n",
       " (z^6 + z^5 + z + 1 : z^7 + z^5 + z : 1),\n",
       " (z^6 + z^5 + z + 1 : z^7 + z^6 + 1 : 1),\n",
       " (z^6 + z^5 + z^2 + z : z^7 + z^4 + z^3 : 1),\n",
       " (z^6 + z^5 + z^2 + z : z^7 + z^6 + z^5 + z^4 + z^3 + z^2 + z : 1),\n",
       " (z^6 + z^5 + z^3 + z : z^7 + z^5 + z^3 + z^2 + z : 1),\n",
       " (z^6 + z^5 + z^3 + z : z^7 + z^6 + z^2 : 1),\n",
       " (z^6 + z^5 + z^3 + z + 1 : z^7 + z^5 + z^4 + z^3 + z : 1),\n",
       " (z^6 + z^5 + z^3 + z + 1 : z^7 + z^6 + z^4 + 1 : 1),\n",
       " (z^6 + z^5 + z^3 + z^2 : z^4 + z^2 + z + 1 : 1),\n",
       " (z^6 + z^5 + z^3 + z^2 : z^6 + z^5 + z^4 + z^3 + z + 1 : 1),\n",
       " (z^6 + z^5 + z^3 + z^2 + 1 : z^2 + z : 1),\n",
       " (z^6 + z^5 + z^3 + z^2 + 1 : z^6 + z^5 + z^3 + z + 1 : 1),\n",
       " (z^6 + z^5 + z^3 + z^2 + z : z^7 + z^4 + z^3 + z^2 + 1 : 1),\n",
       " (z^6 + z^5 + z^3 + z^2 + z : z^7 + z^6 + z^5 + z^4 + z + 1 : 1),\n",
       " (z^6 + z^5 + z^3 + z^2 + z + 1 : z^4 : 1),\n",
       " (z^6 + z^5 + z^3 + z^2 + z + 1 : z^6 + z^5 + z^4 + z^3 + z^2 + z + 1 : 1),\n",
       " (z^6 + z^5 + z^4 : z^3 + z + 1 : 1),\n",
       " (z^6 + z^5 + z^4 : z^6 + z^5 + z^4 + z^3 + z + 1 : 1),\n",
       " (z^6 + z^5 + z^4 + z : z^7 + z^5 + z^4 + z^2 + z : 1),\n",
       " (z^6 + z^5 + z^4 + z : z^7 + z^6 + z^2 : 1),\n",
       " (z^6 + z^5 + z^4 + z + 1 : z^5 + z^4 + z^3 + z : 1),\n",
       " (z^6 + z^5 + z^4 + z + 1 : z^6 + z^3 + 1 : 1),\n",
       " (z^6 + z^5 + z^4 + z^2 + z + 1 : z^5 + z^3 + z^2 + z + 1 : 1),\n",
       " (z^6 + z^5 + z^4 + z^2 + z + 1 : z^6 + z^4 + z^3 : 1),\n",
       " (z^6 + z^5 + z^4 + z^3 + 1 : z^7 + z^5 + z^2 : 1),\n",
       " (z^6 + z^5 + z^4 + z^3 + 1 : z^7 + z^6 + z^4 + z^3 + z^2 + 1 : 1),\n",
       " (z^6 + z^5 + z^4 + z^3 + z : z^7 + z^5 + z^4 + z + 1 : 1),\n",
       " (z^6 + z^5 + z^4 + z^3 + z : z^7 + z^6 + z^3 + 1 : 1),\n",
       " (z^6 + z^5 + z^4 + z^3 + z^2 + z : z^5 + z^4 + z^2 + z + 1 : 1),\n",
       " (z^6 + z^5 + z^4 + z^3 + z^2 + z : z^6 + z^3 + 1 : 1),\n",
       " (z^6 + z^5 + z^4 + z^3 + z^2 + z + 1 : z^3 + z^2 + 1 : 1),\n",
       " (z^6 + z^5 + z^4 + z^3 + z^2 + z + 1 : z^6 + z^5 + z^4 + z : 1),\n",
       " (z^7 : z^4 + z^3 + z^2 + z + 1 : 1),\n",
       " (z^7 : z^7 + z^4 + z^3 + z^2 + z + 1 : 1),\n",
       " (z^7 + 1 : z^6 + z^5 + z : 1),\n",
       " (z^7 + 1 : z^7 + z^6 + z^5 + z + 1 : 1),\n",
       " (z^7 + z : z^6 + z^4 + 1 : 1),\n",
       " (z^7 + z : z^7 + z^6 + z^4 + z + 1 : 1),\n",
       " (z^7 + z + 1 : z^6 + z^3 + z : 1),\n",
       " (z^7 + z + 1 : z^7 + z^6 + z^3 + 1 : 1),\n",
       " (z^7 + z^2 : z^6 + z^5 + z^4 + z^2 + 1 : 1),\n",
       " (z^7 + z^2 : z^7 + z^6 + z^5 + z^4 + 1 : 1),\n",
       " (z^7 + z^2 + 1 : z^3 + z + 1 : 1),\n",
       " (z^7 + z^2 + 1 : z^7 + z^3 + z^2 + z : 1),\n",
       " (z^7 + z^3 : z^5 + z^4 + z^3 + z : 1),\n",
       " (z^7 + z^3 : z^7 + z^5 + z^4 + z : 1),\n",
       " (z^7 + z^3 + 1 : z^4 + z^3 + 1 : 1),\n",
       " (z^7 + z^3 + 1 : z^7 + z^4 : 1),\n",
       " (z^7 + z^3 + z : z^5 + z^4 + z^3 + z^2 + z + 1 : 1),\n",
       " (z^7 + z^3 + z : z^7 + z^5 + z^4 + z^2 + 1 : 1),\n",
       " (z^7 + z^3 + z + 1 : z^5 + z^3 + z^2 + 1 : 1),\n",
       " (z^7 + z^3 + z + 1 : z^7 + z^5 + z^2 + z : 1),\n",
       " (z^7 + z^4 : z^6 + 1 : 1),\n",
       " (z^7 + z^4 : z^7 + z^6 + z^4 + 1 : 1),\n",
       " (z^7 + z^4 + 1 : z^6 + z^5 : 1),\n",
       " (z^7 + z^4 + 1 : z^7 + z^6 + z^5 + z^4 + 1 : 1),\n",
       " (z^7 + z^4 + z : z^6 + z^5 + z^3 + z : 1),\n",
       " (z^7 + z^4 + z : z^7 + z^6 + z^5 + z^4 + z^3 : 1),\n",
       " (z^7 + z^4 + z + 1 : z^5 + z + 1 : 1),\n",
       " (z^7 + z^4 + z + 1 : z^7 + z^5 + z^4 : 1),\n",
       " (z^7 + z^4 + z^2 : z^5 + z^4 + z^3 + z^2 + z + 1 : 1),\n",
       " (z^7 + z^4 + z^2 : z^7 + z^5 + z^3 + z + 1 : 1),\n",
       " (z^7 + z^4 + z^2 + 1 : z^6 + z^5 + z^3 + z + 1 : 1),\n",
       " (z^7 + z^4 + z^2 + 1 : z^7 + z^6 + z^5 + z^4 + z^3 + z^2 + z : 1),\n",
       " (z^7 + z^4 + z^2 + z : z^5 + 1 : 1),\n",
       " (z^7 + z^4 + z^2 + z : z^7 + z^5 + z^4 + z^2 + z + 1 : 1),\n",
       " (z^7 + z^4 + z^2 + z + 1 : z^5 + z^3 + z : 1),\n",
       " (z^7 + z^4 + z^2 + z + 1 : z^7 + z^5 + z^4 + z^3 + z^2 + 1 : 1),\n",
       " (z^7 + z^4 + z^3 : z^5 + z^4 + z + 1 : 1),\n",
       " (z^7 + z^4 + z^3 : z^7 + z^5 + z^3 + z + 1 : 1),\n",
       " (z^7 + z^4 + z^3 + z : z^5 + z^3 + z^2 + 1 : 1),\n",
       " (z^7 + z^4 + z^3 + z : z^7 + z^5 + z^4 + z^2 + z + 1 : 1),\n",
       " (z^7 + z^4 + z^3 + z + 1 : z^5 + z^3 + z + 1 : 1),\n",
       " (z^7 + z^4 + z^3 + z + 1 : z^7 + z^5 + z^4 : 1),\n",
       " (z^7 + z^4 + z^3 + z^2 + 1 : z^6 + z^5 + z^3 : 1),\n",
       " (z^7 + z^4 + z^3 + z^2 + 1 : z^7 + z^6 + z^5 + z^4 + z^2 + 1 : 1),\n",
       " (z^7 + z^4 + z^3 + z^2 + z : z^3 + z^2 : 1),\n",
       " (z^7 + z^4 + z^3 + z^2 + z : z^7 + z^4 + z : 1),\n",
       " (z^7 + z^4 + z^3 + z^2 + z + 1 : z^6 + z + 1 : 1),\n",
       " (z^7 + z^4 + z^3 + z^2 + z + 1 : z^7 + z^6 + z^4 + z^3 + z^2 : 1),\n",
       " (z^7 + z^5 : z^6 + z^2 : 1),\n",
       " (z^7 + z^5 : z^7 + z^6 + z^5 + z^2 : 1),\n",
       " (z^7 + z^5 + z^2 + 1 : z^6 + z^3 + z + 1 : 1),\n",
       " (z^7 + z^5 + z^2 + 1 : z^7 + z^6 + z^5 + z^3 + z^2 + z : 1),\n",
       " (z^7 + z^5 + z^2 + z + 1 : z^6 + z : 1),\n",
       " (z^7 + z^5 + z^2 + z + 1 : z^7 + z^6 + z^5 + z^2 + 1 : 1),\n",
       " (z^7 + z^5 + z^3 + z : z^6 + z^3 + z + 1 : 1),\n",
       " (z^7 + z^5 + z^3 + z : z^7 + z^6 + z^5 + 1 : 1),\n",
       " (z^7 + z^5 + z^3 + z + 1 : z^3 + z^2 + z + 1 : 1),\n",
       " (z^7 + z^5 + z^3 + z + 1 : z^7 + z^5 + z^2 : 1),\n",
       " (z^7 + z^5 + z^3 + z^2 + 1 : z^6 + z^5 + z^4 : 1),\n",
       " (z^7 + z^5 + z^3 + z^2 + 1 : z^7 + z^6 + z^4 + z^3 + z^2 + 1 : 1),\n",
       " (z^7 + z^5 + z^4 : z^6 + z^3 + z^2 : 1),\n",
       " (z^7 + z^5 + z^4 : z^7 + z^6 + z^5 + z^4 + z^3 + z^2 : 1),\n",
       " (z^7 + z^5 + z^4 + 1 : z^6 + z^3 + z^2 : 1),\n",
       " (z^7 + z^5 + z^4 + 1 : z^7 + z^6 + z^5 + z^4 + z^3 + z^2 + 1 : 1),\n",
       " (z^7 + z^5 + z^4 + z : z^5 + z^4 + z^3 + z + 1 : 1),\n",
       " (z^7 + z^5 + z^4 + z : z^7 + z^3 + 1 : 1),\n",
       " (z^7 + z^5 + z^4 + z + 1 : z^5 + z + 1 : 1),\n",
       " (z^7 + z^5 + z^4 + z + 1 : z^7 + z^4 : 1),\n",
       " (z^7 + z^5 + z^4 + z^2 : z^2 + z + 1 : 1),\n",
       " (z^7 + z^5 + z^4 + z^2 : z^7 + z^5 + z^4 + z + 1 : 1),\n",
       " (z^7 + z^5 + z^4 + z^3 : z^4 + z^3 + z^2 + z + 1 : 1),\n",
       " (z^7 + z^5 + z^4 + z^3 : z^7 + z^5 + z^2 + z + 1 : 1),\n",
       " (z^7 + z^5 + z^4 + z^3 + z^2 : z^5 + z^4 + z^3 + z + 1 : 1),\n",
       " (z^7 + z^5 + z^4 + z^3 + z^2 : z^7 + z^2 + z + 1 : 1),\n",
       " (z^7 + z^5 + z^4 + z^3 + z^2 + 1 : z^4 + z^2 + z + 1 : 1),\n",
       " (z^7 + z^5 + z^4 + z^3 + z^2 + 1 : z^7 + z^5 + z^3 + z : 1),\n",
       " (z^7 + z^5 + z^4 + z^3 + z^2 + z + 1 : z^6 + z^5 + z^2 + z + 1 : 1),\n",
       " (z^7 + z^5 + z^4 + z^3 + z^2 + z + 1 : z^7 + z^6 + z^4 + z^3 : 1),\n",
       " (z^7 + z^6 + 1 : z^4 + z^2 + z + 1 : 1),\n",
       " (z^7 + z^6 + 1 : z^7 + z^6 + z^4 + z^2 + z : 1),\n",
       " (z^7 + z^6 + z : z^6 + z^5 + z^2 + z : 1),\n",
       " (z^7 + z^6 + z : z^7 + z^5 + z^2 : 1),\n",
       " (z^7 + z^6 + z^2 : z^4 + z^3 + 1 : 1),\n",
       " (z^7 + z^6 + z^2 : z^7 + z^6 + z^4 + z^3 + z^2 + 1 : 1),\n",
       " (z^7 + z^6 + z^2 + 1 : z^4 + z^3 + z^2 : 1),\n",
       " (z^7 + z^6 + z^2 + 1 : z^7 + z^6 + z^4 + z^3 + 1 : 1),\n",
       " (z^7 + z^6 + z^3 + 1 : z^4 + z^3 + z^2 + 1 : 1),\n",
       " (z^7 + z^6 + z^3 + 1 : z^7 + z^6 + z^4 + z^2 : 1),\n",
       " (z^7 + z^6 + z^4 : z^5 + z^3 : 1),\n",
       " (z^7 + z^6 + z^4 : z^7 + z^6 + z^5 + z^4 + z^3 : 1),\n",
       " (z^7 + z^6 + z^4 + z + 1 : z^6 + z^4 + z^3 + z^2 + z : 1),\n",
       " (z^7 + z^6 + z^4 + z + 1 : z^7 + z^3 + z^2 + 1 : 1),\n",
       " (z^7 + z^6 + z^4 + z^2 : z^6 + 1 : 1),\n",
       " (z^7 + z^6 + z^4 + z^2 : z^7 + z^4 + z^2 + 1 : 1),\n",
       " (z^7 + z^6 + z^4 + z^2 + 1 : z^6 + z^5 + z^4 + z^3 + z : 1),\n",
       " (z^7 + z^6 + z^4 + z^2 + 1 : z^7 + z^5 + z^3 + z^2 + z + 1 : 1),\n",
       " (z^7 + z^6 + z^4 + z^3 : z^3 + z^2 + z : 1),\n",
       " (z^7 + z^6 + z^4 + z^3 : z^7 + z^6 + z^4 + z^2 + z : 1),\n",
       " (z^7 + z^6 + z^4 + z^3 + 1 : z^3 + z^2 : 1),\n",
       " (z^7 + z^6 + z^4 + z^3 + 1 : z^7 + z^6 + z^4 + z^2 + 1 : 1),\n",
       " (z^7 + z^6 + z^4 + z^3 + z : z^5 + z^4 + z^3 + z^2 : 1),\n",
       " (z^7 + z^6 + z^4 + z^3 + z : z^7 + z^6 + z^5 + z^2 + z : 1),\n",
       " (z^7 + z^6 + z^4 + z^3 + z + 1 : z^6 + z^2 + 1 : 1),\n",
       " (z^7 + z^6 + z^4 + z^3 + z + 1 : z^7 + z^4 + z^3 + z^2 + z : 1),\n",
       " (z^7 + z^6 + z^4 + z^3 + z^2 : z^5 + z^3 + z : 1),\n",
       " (z^7 + z^6 + z^4 + z^3 + z^2 : z^7 + z^6 + z^5 + z^4 + z^2 + z : 1),\n",
       " (z^7 + z^6 + z^4 + z^3 + z^2 + z : z^6 + z^5 + z^3 + z^2 + 1 : 1),\n",
       " (z^7 + z^6 + z^4 + z^3 + z^2 + z : z^7 + z^5 + z^4 + z + 1 : 1),\n",
       " (z^7 + z^6 + z^4 + z^3 + z^2 + z + 1 : z^6 + z^5 + z : 1),\n",
       " (z^7 + z^6 + z^4 + z^3 + z^2 + z + 1 : z^7 + z^5 + z^4 + z^3 + z^2 + 1 : 1),\n",
       " (z^7 + z^6 + z^5 : z^6 + z^2 + z + 1 : 1),\n",
       " (z^7 + z^6 + z^5 : z^7 + z^5 + z^2 + z + 1 : 1),\n",
       " (z^7 + z^6 + z^5 + 1 : z^5 + z^3 + 1 : 1),\n",
       " (z^7 + z^6 + z^5 + 1 : z^7 + z^6 + z^3 : 1),\n",
       " (z^7 + z^6 + z^5 + z + 1 : z^4 + z^3 + z^2 + 1 : 1),\n",
       " (z^7 + z^6 + z^5 + z + 1 : z^7 + z^6 + z^5 + z^4 + z^3 + z^2 + z : 1),\n",
       " (z^7 + z^6 + z^5 + z^2 + 1 : z^3 + z + 1 : 1),\n",
       " (z^7 + z^6 + z^5 + z^2 + 1 : z^7 + z^6 + z^5 + z^3 + z^2 + z : 1),\n",
       " (z^7 + z^6 + z^5 + z^2 + z + 1 : z^4 + z^3 + z^2 : 1),\n",
       " (z^7 + z^6 + z^5 + z^2 + z + 1 : z^7 + z^6 + z^5 + z^4 + z^3 + z + 1 : 1),\n",
       " (z^7 + z^6 + z^5 + z^3 : z^6 + z^5 + z^3 + z + 1 : 1),\n",
       " (z^7 + z^6 + z^5 + z^3 : z^7 + z + 1 : 1),\n",
       " (z^7 + z^6 + z^5 + z^3 + 1 : z^5 : 1),\n",
       " (z^7 + z^6 + z^5 + z^3 + 1 : z^7 + z^6 + z^3 + 1 : 1),\n",
       " (z^7 + z^6 + z^5 + z^3 + z + 1 : z^5 + z^4 + z^3 + z : 1),\n",
       " (z^7 + z^6 + z^5 + z^3 + z + 1 : z^7 + z^6 + z^4 + 1 : 1),\n",
       " (z^7 + z^6 + z^5 + z^3 + z^2 : z^6 + z^4 + z^2 + 1 : 1),\n",
       " (z^7 + z^6 + z^5 + z^3 + z^2 : z^7 + z^5 + z^4 + z^3 + 1 : 1),\n",
       " (z^7 + z^6 + z^5 + z^3 + z^2 + 1 : z^6 + z^2 : 1),\n",
       " (z^7 + z^6 + z^5 + z^3 + z^2 + 1 : z^7 + z^5 + z^3 + 1 : 1),\n",
       " (z^7 + z^6 + z^5 + z^3 + z^2 + z : z^4 + z^3 + z^2 + z : 1),\n",
       " (z^7 + z^6 + z^5 + z^3 + z^2 + z : z^7 + z^6 + z^5 + z^4 : 1),\n",
       " (z^7 + z^6 + z^5 + z^3 + z^2 + z + 1 : z^3 + z : 1),\n",
       " (z^7 + z^6 + z^5 + z^3 + z^2 + z + 1 : z^7 + z^6 + z^5 + z^2 + 1 : 1),\n",
       " (z^7 + z^6 + z^5 + z^4 : z^5 + z^2 + 1 : 1),\n",
       " (z^7 + z^6 + z^5 + z^4 : z^7 + z^6 + z^4 + z^2 + 1 : 1),\n",
       " (z^7 + z^6 + z^5 + z^4 + z^2 + 1 : z^4 + z^2 : 1),\n",
       " (z^7 + z^6 + z^5 + z^4 + z^2 + 1 : z^7 + z^6 + z^5 + 1 : 1),\n",
       " (z^7 + z^6 + z^5 + z^4 + z^2 + z : z^6 + z : 1),\n",
       " (z^7 + z^6 + z^5 + z^4 + z^2 + z : z^7 + z^5 + z^4 + z^2 : 1),\n",
       " (z^7 + z^6 + z^5 + z^4 + z^3 + z + 1 : z^5 + z^4 + z^2 + 1 : 1),\n",
       " (z^7 + z^6 + z^5 + z^4 + z^3 + z + 1 : z^7 + z^6 + z^3 + z^2 + z : 1),\n",
       " (z^7 + z^6 + z^5 + z^4 + z^3 + z^2 + 1 : z^6 + z^4 + z^3 + z^2 : 1),\n",
       " (z^7 + z^6 + z^5 + z^4 + z^3 + z^2 + 1 : z^7 + z^5 + 1 : 1),\n",
       " (z^7 + z^6 + z^5 + z^4 + z^3 + z^2 + z : z^5 + z^2 + 1 : 1),\n",
       " (z^7 + z^6 + z^5 + z^4 + z^3 + z^2 + z : z^7 + z^6 + z^4 + z^3 + z + 1 : 1),\n",
       " (z^7 + z^6 + z^5 + z^4 + z^3 + z^2 + z + 1 : z^6 + z^4 + z^2 + 1 : 1),\n",
       " (z^7 + z^6 + z^5 + z^4 + z^3 + z^2 + z + 1 : z^7 + z^5 + z^3 + z : 1)]"
      ]
     },
     "execution_count": 34,
     "metadata": {},
     "output_type": "execute_result"
    }
   ],
   "source": [
    "list(C)"
   ]
  },
  {
   "cell_type": "code",
   "execution_count": 35,
   "metadata": {},
   "outputs": [
    {
     "data": {
      "text/plain": [
       "z^5 + z^3 + z^2"
      ]
     },
     "execution_count": 35,
     "metadata": {},
     "output_type": "execute_result"
    }
   ],
   "source": [
    "pts[2][1]"
   ]
  },
  {
   "cell_type": "code",
   "execution_count": 36,
   "metadata": {},
   "outputs": [
    {
     "data": {
      "text/plain": [
       "Finite Field in z4 of size 2^4"
      ]
     },
     "execution_count": 36,
     "metadata": {},
     "output_type": "execute_result"
    }
   ],
   "source": [
    "Fq = GF(2^4); Fq"
   ]
  },
  {
   "cell_type": "code",
   "execution_count": 37,
   "metadata": {},
   "outputs": [
    {
     "ename": "NameError",
     "evalue": "name 'c' is not defined",
     "output_type": "error",
     "traceback": [
      "\u001b[0;31m---------------------------------------------------------------------------\u001b[0m",
      "\u001b[0;31mNameError\u001b[0m                                 Traceback (most recent call last)",
      "\u001b[0;32m<ipython-input-37-7fe04e37aedd>\u001b[0m in \u001b[0;36m<module>\u001b[0;34m\u001b[0m\n\u001b[0;32m----> 1\u001b[0;31m \u001b[0mm\u001b[0m \u001b[0;34m=\u001b[0m \u001b[0mc\u001b[0m\u001b[0;34m(\u001b[0m\u001b[0;34m(\u001b[0m\u001b[0;34m)\u001b[0m\u001b[0;34m)\u001b[0m\u001b[0;34m\u001b[0m\u001b[0;34m\u001b[0m\u001b[0m\n\u001b[0m",
      "\u001b[0;31mNameError\u001b[0m: name 'c' is not defined"
     ]
    }
   ],
   "source": [
    "m = c(())"
   ]
  },
  {
   "cell_type": "code",
   "execution_count": null,
   "metadata": {},
   "outputs": [],
   "source": [
    "#https://ask.sagemath.org/question/8736/nist-b-283-elliptic-curve/\n",
    "b =  0x027B680AC8B8596DA5A4AF8A19A0303FCA97FD7645309FA2A581485AF6263E313B79A2F5\n",
    "Z.<x>=GF(2)[]\n",
    "K.<a>=GF(2^283,'a',modulus=x^283 + x^12 + x^7 + x^5 + 1)\n",
    "bb=Z(b.digits(2))\n",
    "E=EllipticCurve(K,[1,1,0,0,bb]) \n",
    "P=E.random_element()\n",
    "print(P[0])\n",
    "print(P[1])\n",
    "print(E.is_on_curve(P[0],P[1]))  # OK\n",
    "\n",
    "# I was not able  to compute the order\n",
    "# print E.order()   exhausts memory and exits\n",
    "\n"
   ]
  },
  {
   "cell_type": "code",
   "execution_count": null,
   "metadata": {},
   "outputs": [],
   "source": [
    "b =  1\n",
    "_.<x>=GF(2)[]\n",
    "K.<a>=GF(2^4,'a',modulus=Z^4+Z+1)\n",
    "bb=Z(b.digits(2))\n",
    "E=EllipticCurve(K,[1,1,0,0,bb]) \n",
    "P=E.random_element()\n",
    "print(P[0])\n",
    "print(P[1])\n",
    "print(E.is_on_curve(P[0],P[1]))\n",
    "      \n",
    "      \n",
    "#       _.<Z> = GF(2)[]\n",
    "# F.<z> = GF(2^4, modulus=Z^4+Z+1)"
   ]
  },
  {
   "cell_type": "code",
   "execution_count": null,
   "metadata": {},
   "outputs": [],
   "source": []
  }
 ],
 "metadata": {
  "kernelspec": {
   "display_name": "SageMath 9.2",
   "language": "sage",
   "name": "sagemath"
  },
  "language_info": {
   "codemirror_mode": {
    "name": "ipython",
    "version": 3
   },
   "file_extension": ".py",
   "mimetype": "text/x-python",
   "name": "python",
   "nbconvert_exporter": "python",
   "pygments_lexer": "ipython3",
   "version": "3.7.7"
  }
 },
 "nbformat": 4,
 "nbformat_minor": 4
}
